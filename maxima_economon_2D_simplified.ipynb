{
 "cells": [
  {
   "cell_type": "markdown",
   "metadata": {},
   "source": [
    "# Derivation of euler equations in primitive form\n",
    "Derivation of the Weiss and Smith preconditioning using the simplification of Economon.\n",
    "We are following the 1D derivation of maxima_weiss_smith_1D here and extend it to 2D"
   ]
  },
  {
   "cell_type": "code",
   "execution_count": 1,
   "metadata": {},
   "outputs": [
    {
     "data": {
      "text/latex": [
       "\\[\\tag{${\\it \\%o}_{0}$}\\mathbf{done}\\]"
      ],
      "text/plain": [
       "(%o0)                                done"
      ],
      "text/x-maxima": [
       "done"
      ]
     },
     "execution_count": 1,
     "metadata": {},
     "output_type": "execute_result"
    }
   ],
   "source": [
    "kill(all);"
   ]
  },
  {
   "cell_type": "markdown",
   "metadata": {},
   "source": [
    "# Analysis of the Euler Equations\n",
    "## 1. conservative form\n",
    "\n",
    "\n",
    "    \n",
    "\n",
    "We want to solve the PDE:\n",
    "\n",
    "$$ \\frac{\\partial U}{\\partial t} + \\frac{\\partial F(U)}{\\partial x} + \\frac{\\partial G(U)}{\\partial y} = 0$$\n"
   ]
  },
  {
   "cell_type": "markdown",
   "metadata": {},
   "source": [
    "    \n",
    "For the 2D problem we have the following definitions:\n",
    "\n",
    "\n",
    "$$\n",
    "U = \\left\\{\n",
    "    \\begin{array}\\\\\n",
    "        \\rho               &  \\\\\n",
    "        \\rho u        &  \\\\\n",
    "        \\rho v        &  \\\\\n",
    "        \\rho c_p T & \n",
    "    \\end{array}\n",
    "\\right\\}\n",
    "$$\n",
    "\n",
    "\n",
    "$$\n",
    "F = \\left\\{\n",
    "    \\begin{array}\\\\\n",
    "        \\rho  u                  &  \\\\\n",
    "        p+\\rho u^2               &  \\\\\n",
    "        \\rho  u  v          &  \\\\\n",
    "        (\\rho c_p T ) u & \n",
    "    \\end{array}\n",
    "\\right\\}\n",
    "$$\n",
    "\n",
    "\n",
    "$$\n",
    "G = \\left\\{\n",
    "    \\begin{array}\\\\\n",
    "        \\rho  v          &  \\\\\n",
    "        \\rho u v & \\\\\n",
    "        p+\\rho v^2               &  \\\\\n",
    "        (\\rho c_p T ) v & \n",
    "    \\end{array}\n",
    "\\right\\}\n",
    "$$\n",
    "\n",
    "Note that we have neglected the pressure term in the convective flux of the Euler equations"
   ]
  },
  {
   "cell_type": "code",
   "execution_count": 2,
   "metadata": {},
   "outputs": [
    {
     "data": {
      "text/latex": [
       "\\[\\tag{${\\it \\%o}_{1}$}\\left[ U_{1}=\\rho , U_{2}=\\rho\\,u , U_{3}=\\rho\\,v , U_{4}=E\\,\\rho \\right] \\]"
      ],
      "text/plain": [
       "(%o1)           [U1 = rho, U2 = rho u, U3 = rho v, U4 = E rho]"
      ],
      "text/x-maxima": [
       "[U1 = rho,U2 = rho*u,U3 = rho*v,U4 = E*rho]"
      ]
     },
     "execution_count": 2,
     "metadata": {},
     "output_type": "execute_result"
    },
    {
     "data": {
      "text/latex": [
       "\\[\\tag{${\\it \\%o}_{2}$}\\begin{pmatrix}\\rho\\,u & \\rho\\,u^2+p & \\rho\\,u\\,v & E\\,\\rho\\,u \\\\ \\end{pmatrix}\\]"
      ],
      "text/plain": [
       "(%o2)               [             2                       ]\n",
       "                    [ rho u  rho u  + p  rho u v  E rho u ]"
      ],
      "text/x-maxima": [
       "matrix([rho*u,rho*u^2+p,rho*u*v,E*rho*u])"
      ]
     },
     "execution_count": 2,
     "metadata": {},
     "output_type": "execute_result"
    },
    {
     "data": {
      "text/latex": [
       "\\[\\tag{${\\it \\%o}_{3}$}\\begin{pmatrix}\\rho\\,v & \\rho\\,u\\,v & \\rho\\,v^2+p & E\\,\\rho\\,v \\\\ \\end{pmatrix}\\]"
      ],
      "text/plain": [
       "(%o3)               [                      2              ]\n",
       "                    [ rho v  rho u v  rho v  + p  E rho v ]"
      ],
      "text/x-maxima": [
       "matrix([rho*v,rho*u*v,rho*v^2+p,E*rho*v])"
      ]
     },
     "execution_count": 2,
     "metadata": {},
     "output_type": "execute_result"
    }
   ],
   "source": [
    "consSystem : [U1=rho,U2=rho*u, U3=rho*v, U4=rho*E];\n",
    "\n",
    "F:ratsimp((matrix([rho*u,rho*u*u+p,rho*u*v,u*(rho*E) ])));\n",
    "    \n",
    "G:ratsimp((matrix([rho*v,rho*u*v,rho*v*v+p,v*(rho*E) ])));"
   ]
  },
  {
   "cell_type": "markdown",
   "metadata": {},
   "source": [
    "The internal energy follows from the relationships : \n",
    "    \n",
    "$$E = H - \\frac{p}{\\rho} = e + q$$\n",
    "$$H = h + q = c_pT + q$$\n",
    "    \n",
    "$$E = c_pT + q - \\frac{p}{\\rho}$$\n",
    "    "
   ]
  },
  {
   "cell_type": "markdown",
   "metadata": {},
   "source": [
    "    \n",
    "The pressure follows from the pressure definition: $p = \\rho R T$ and $R = c_p-c_v = c_p \\frac{\\gamma-1}{\\gamma}$\n",
    "    \n"
   ]
  },
  {
   "cell_type": "code",
   "execution_count": 3,
   "metadata": {},
   "outputs": [
    {
     "data": {
      "text/latex": [
       "\\[\\tag{${\\it \\%o}_{4}$}T\\,{\\it cp}\\]"
      ],
      "text/plain": [
       "(%o4)                                T cp"
      ],
      "text/x-maxima": [
       "T*cp"
      ]
     },
     "execution_count": 3,
     "metadata": {},
     "output_type": "execute_result"
    }
   ],
   "source": [
    "E : cp*T;"
   ]
  },
  {
   "cell_type": "code",
   "execution_count": 4,
   "metadata": {},
   "outputs": [
    {
     "data": {
      "text/latex": [
       "\\[\\tag{${\\it \\%o}_{5}$}R\\,T\\,\\rho\\]"
      ],
      "text/plain": [
       "(%o5)                               R T rho"
      ],
      "text/x-maxima": [
       "R*T*rho"
      ]
     },
     "execution_count": 4,
     "metadata": {},
     "output_type": "execute_result"
    }
   ],
   "source": [
    "p : rho*R*T;"
   ]
  },
  {
   "cell_type": "code",
   "execution_count": 5,
   "metadata": {},
   "outputs": [
    {
     "data": {
      "text/latex": [
       "\\[\\tag{${\\it \\%o}_{6}$}{\\it cp}-{\\it cv}\\]"
      ],
      "text/plain": [
       "(%o6)                               cp - cv"
      ],
      "text/x-maxima": [
       "cp-cv"
      ]
     },
     "execution_count": 5,
     "metadata": {},
     "output_type": "execute_result"
    },
    {
     "data": {
      "text/latex": [
       "\\[\\tag{${\\it \\%o}_{7}$}\\frac{{\\it cp}}{\\gamma}\\]"
      ],
      "text/plain": [
       "                                      cp\n",
       "(%o7)                                -----\n",
       "                                     gamma"
      ],
      "text/x-maxima": [
       "cp/gamma"
      ]
     },
     "execution_count": 5,
     "metadata": {},
     "output_type": "execute_result"
    },
    {
     "data": {
      "text/latex": [
       "\\[\\tag{${\\it \\%o}_{8}$}{\\it cp}-\\frac{{\\it cp}}{\\gamma}\\]"
      ],
      "text/plain": [
       "                                        cp\n",
       "(%o8)                             cp - -----\n",
       "                                       gamma"
      ],
      "text/x-maxima": [
       "cp-cp/gamma"
      ]
     },
     "execution_count": 5,
     "metadata": {},
     "output_type": "execute_result"
    },
    {
     "data": {
      "text/latex": [
       "\\[\\tag{${\\it \\%o}_{9}$}\\frac{T\\,{\\it cp}\\,\\rho\\,\\left(\\gamma-1\\right)}{\\gamma}\\]"
      ],
      "text/plain": [
       "                             T cp rho (gamma - 1)\n",
       "(%o9)                        --------------------\n",
       "                                    gamma"
      ],
      "text/x-maxima": [
       "(T*cp*rho*(gamma-1))/gamma"
      ]
     },
     "execution_count": 5,
     "metadata": {},
     "output_type": "execute_result"
    }
   ],
   "source": [
    "R : cp-cv;\n",
    "/* gamma = cp/cv */\n",
    "cv : cp/gamma;\n",
    "\n",
    "R : ev(R,nouns);\n",
    "\n",
    "factor(ratsimp(ev(p,nouns)));"
   ]
  },
  {
   "cell_type": "markdown",
   "metadata": {},
   "source": [
    "    \n",
    "We now map the conservative variables to $(\\rho,u,v,T)$\n",
    "    \n"
   ]
  },
  {
   "cell_type": "markdown",
   "metadata": {},
   "source": [
    "# 4. Preconditioning matrix $\\Gamma$\n",
    "\n",
    "The above shows how the conversion from conservative to primitive variables work. Note that in the paper of Weiss and Smith, the derivatives of density with respect to temperature and pressure are kept.\n",
    "\n",
    "Note that $P=\\rho R T$, and $\\rho=\\frac{P}{RT}$, so the derivative is:\n",
    "\n",
    "$$ \\frac{\\partial \\rho}{\\partial p} = \\frac{1}{RT} $$\n",
    "\n",
    "And since $c^2 = \\gamma R T$, we have:\n",
    "\n",
    "$$ \\frac{\\partial \\rho}{\\partial p} = \\frac{\\gamma}{c^2} $$\n",
    "\n",
    "For derivative wrt temperarure we have :\n",
    "    \n"
   ]
  },
  {
   "cell_type": "code",
   "execution_count": 6,
   "metadata": {},
   "outputs": [
    {
     "data": {
      "text/latex": [
       "\\[\\tag{${\\it \\%o}_{10}$}\\mathbf{done}\\]"
      ],
      "text/plain": [
       "(%o10)                               done"
      ],
      "text/x-maxima": [
       "done"
      ]
     },
     "execution_count": 6,
     "metadata": {},
     "output_type": "execute_result"
    },
    {
     "data": {
      "text/latex": [
       "\\[\\tag{${\\it \\%o}_{11}$}-\\frac{\\rho}{T}\\]"
      ],
      "text/plain": [
       "                                       rho\n",
       "(%o11)                               - ---\n",
       "                                        T"
      ],
      "text/x-maxima": [
       "-rho/T"
      ]
     },
     "execution_count": 6,
     "metadata": {},
     "output_type": "execute_result"
    },
    {
     "data": {
      "text/latex": [
       "\\[\\tag{${\\it \\%o}_{12}$}\\frac{1}{T\\,\\left({\\it cp}-\\frac{{\\it cp}}{\\gamma}\\right)}\\]"
      ],
      "text/plain": [
       "                                      1\n",
       "(%o12)                          --------------\n",
       "                                         cp\n",
       "                                T (cp - -----)\n",
       "                                        gamma"
      ],
      "text/x-maxima": [
       "1/(T*(cp-cp/gamma))"
      ]
     },
     "execution_count": 6,
     "metadata": {},
     "output_type": "execute_result"
    }
   ],
   "source": [
    "kill(p);\n",
    "subst(p=rho*R*T,diff(p/(R*T),T));\n",
    "diff(p/(R*T),p);"
   ]
  },
  {
   "cell_type": "markdown",
   "metadata": {},
   "source": [
    "So we have:\n",
    "$$ \\frac{\\partial \\rho}{\\partial T} = -\\frac{\\rho}{T} $$\n",
    "$$ \\frac{\\partial \\rho}{\\partial p} = \\frac{1}{RT} $$\n",
    "\n",
    "We can substitute these into the matrix M above to get the result from Weiss and Smith:\n",
    "    \n"
   ]
  },
  {
   "cell_type": "code",
   "execution_count": 7,
   "metadata": {},
   "outputs": [
    {
     "data": {
      "text/latex": [
       "\\[\\tag{${\\it \\%o}_{13}$}\\left[ \\rho\\left(p , T\\right) \\right] \\]"
      ],
      "text/plain": [
       "(%o13)                            [rho(p, T)]"
      ],
      "text/x-maxima": [
       "[rho(p,T)]"
      ]
     },
     "execution_count": 7,
     "metadata": {},
     "output_type": "execute_result"
    }
   ],
   "source": [
    "depends(rho,[p,T]);"
   ]
  },
  {
   "cell_type": "markdown",
   "metadata": {},
   "source": [
    "\n",
    "Now we compute the transformation matrix $M = \\frac{\\partial U}{\\partial V}$, equation (7) in the paper of Economon, or below eq. 2 in Weiss and Smith:\n"
   ]
  },
  {
   "cell_type": "code",
   "execution_count": 8,
   "metadata": {},
   "outputs": [
    {
     "data": {
      "text/latex": [
       "\\[\\tag{${\\it \\%o}_{14}$}\\begin{pmatrix}\\rho & \\rho\\,u & \\rho\\,v & T\\,{\\it cp}\\,\\rho \\\\ \\end{pmatrix}\\]"
      ],
      "text/plain": [
       "(%o14)                  [ rho  rho u  rho v  T cp rho ]"
      ],
      "text/x-maxima": [
       "matrix([rho,rho*u,rho*v,T*cp*rho])"
      ]
     },
     "execution_count": 8,
     "metadata": {},
     "output_type": "execute_result"
    },
    {
     "data": {
      "text/latex": [
       "\\[\\tag{${\\it \\%o}_{15}$}\\begin{pmatrix}p & u & v & T \\\\ \\end{pmatrix}\\]"
      ],
      "text/plain": [
       "(%o15)                          [ p  u  v  T ]"
      ],
      "text/x-maxima": [
       "matrix([p,u,v,T])"
      ]
     },
     "execution_count": 8,
     "metadata": {},
     "output_type": "execute_result"
    },
    {
     "data": {
      "text/latex": [
       "\\[\\tag{${\\it \\%o}_{16}$}\\begin{pmatrix}\\frac{d}{d\\,p}\\,\\rho & 0 & 0 & \\frac{d}{d\\,T}\\,\\rho \\\\ \\frac{d}{d\\,p}\\,\\rho\\,u & \\rho & 0 & \\frac{d}{d\\,T}\\,\\rho\\,u \\\\ \\frac{d}{d\\,p}\\,\\rho\\,v & 0 & \\rho & \\frac{d}{d\\,T}\\,\\rho\\,v \\\\ T\\,{\\it cp}\\,\\left(\\frac{d}{d\\,p}\\,\\rho\\right) & 0 & 0 & T\\,{\\it cp}\\,\\left(\\frac{d}{d\\,T}\\,\\rho\\right)+{\\it cp}\\,\\rho \\\\ \\end{pmatrix}\\]"
      ],
      "text/plain": [
       "                  [   drho                      drho        ]\n",
       "                  [   ----      0    0          ----        ]\n",
       "                  [    dp                        dT         ]\n",
       "                  [                                         ]\n",
       "                  [  drho                      drho         ]\n",
       "                  [  ---- u    rho   0         ---- u       ]\n",
       "                  [   dp                        dT          ]\n",
       "(%o16)            [                                         ]\n",
       "                  [  drho                      drho         ]\n",
       "                  [  ---- v     0   rho        ---- v       ]\n",
       "                  [   dp                        dT          ]\n",
       "                  [                                         ]\n",
       "                  [      drho                 drho          ]\n",
       "                  [ T cp ----   0    0   T cp ---- + cp rho ]\n",
       "                  [       dp                   dT           ]"
      ],
      "text/x-maxima": [
       "matrix(['diff(rho,p,1),0,0,'diff(rho,T,1)],\n",
       "       ['diff(rho,p,1)*u,rho,0,'diff(rho,T,1)*u],\n",
       "       ['diff(rho,p,1)*v,0,rho,'diff(rho,T,1)*v],\n",
       "       [T*cp*'diff(rho,p,1),0,0,T*cp*'diff(rho,T,1)+cp*rho])"
      ]
     },
     "execution_count": 8,
     "metadata": {},
     "output_type": "execute_result"
    }
   ],
   "source": [
    "U:matrix([rho,rho*u,rho*v,rho*E]);\n",
    "V:matrix([p,u,v,T]);\n",
    "\n",
    "/* *we directly convert from conservative variables to primitive variables */\n",
    "dUdV : ratsimp(jacobian(args(U)[1],args(V)[1]));"
   ]
  },
  {
   "cell_type": "markdown",
   "metadata": {},
   "source": [
    "We see that we have recovered the result of Economon."
   ]
  },
  {
   "cell_type": "markdown",
   "metadata": {},
   "source": [
    "Note that $p=\\rho R T$, and $\\frac{a^2}{\\gamma} = \\frac{p}{\\rho}$, so:\n",
    "$$RT = \\frac{a^2}{\\gamma}$$\n",
    "\n",
    "and with $\\frac{c_p}{c_v}=\\gamma$ and  $R = c_p - c_v = c_p(1-\\frac{1}{\\gamma})$:\n",
    "$$T = \\frac{a^2}{\\gamma}\\frac{1}{c_p(1-\\frac{1}{\\gamma})},$$\n",
    "and finally:\n",
    "\n",
    "$$ T = \\frac{a^2}{ c_p (\\gamma - 1)}$$"
   ]
  },
  {
   "cell_type": "code",
   "execution_count": 9,
   "metadata": {},
   "outputs": [
    {
     "data": {
      "text/latex": [
       "\\[\\tag{${\\it \\%o}_{17}$}\\begin{pmatrix}\\frac{1}{T\\,\\left({\\it cp}-\\frac{{\\it cp}}{\\gamma}\\right)} & 0 & 0 & -\\frac{\\rho}{T} \\\\ \\frac{u}{T\\,\\left({\\it cp}-\\frac{{\\it cp}}{\\gamma}\\right)} & \\rho & 0 & -\\frac{\\rho\\,u}{T} \\\\ \\frac{v}{T\\,\\left({\\it cp}-\\frac{{\\it cp}}{\\gamma}\\right)} & 0 & \\rho & -\\frac{\\rho\\,v}{T} \\\\ \\frac{{\\it cp}}{{\\it cp}-\\frac{{\\it cp}}{\\gamma}} & 0 & 0 & 0 \\\\ \\end{pmatrix}\\]"
      ],
      "text/plain": [
       "                     [       1                      rho  ]\n",
       "                     [ --------------   0    0    - ---  ]\n",
       "                     [          cp                   T   ]\n",
       "                     [ T (cp - -----)                    ]\n",
       "                     [         gamma                     ]\n",
       "                     [                                   ]\n",
       "                     [       u                     rho u ]\n",
       "                     [ --------------  rho   0   - ----- ]\n",
       "                     [          cp                   T   ]\n",
       "                     [ T (cp - -----)                    ]\n",
       "                     [         gamma                     ]\n",
       "(%o17)               [                                   ]\n",
       "                     [       v                     rho v ]\n",
       "                     [ --------------   0   rho  - ----- ]\n",
       "                     [          cp                   T   ]\n",
       "                     [ T (cp - -----)                    ]\n",
       "                     [         gamma                     ]\n",
       "                     [                                   ]\n",
       "                     [       cp                          ]\n",
       "                     [   ----------     0    0      0    ]\n",
       "                     [         cp                        ]\n",
       "                     [   cp - -----                      ]\n",
       "                     [        gamma                      ]"
      ],
      "text/x-maxima": [
       "matrix([1/(T*(cp-cp/gamma)),0,0,-rho/T],\n",
       "       [u/(T*(cp-cp/gamma)),rho,0,-(rho*u)/T],\n",
       "       [v/(T*(cp-cp/gamma)),0,rho,-(rho*v)/T],[cp/(cp-cp/gamma),0,0,0])"
      ]
     },
     "execution_count": 9,
     "metadata": {},
     "output_type": "execute_result"
    },
    {
     "data": {
      "text/latex": [
       "\\[\\tag{${\\it \\%o}_{18}$}\\begin{pmatrix}\\frac{\\gamma}{c^2} & 0 & 0 & -\\frac{{\\it cp}\\,\\rho\\,\\gamma-{\\it cp}\\,\\rho}{c^2} \\\\ \\frac{u\\,\\gamma}{c^2} & \\rho & 0 & -\\frac{{\\it cp}\\,\\rho\\,u\\,\\gamma-{\\it cp}\\,\\rho\\,u}{c^2} \\\\ \\frac{v\\,\\gamma}{c^2} & 0 & \\rho & -\\frac{{\\it cp}\\,\\rho\\,v\\,\\gamma-{\\it cp}\\,\\rho\\,v}{c^2} \\\\ \\frac{\\gamma}{\\gamma-1} & 0 & 0 & 0 \\\\ \\end{pmatrix}\\]"
      ],
      "text/plain": [
       "             [   gamma                  cp rho gamma - cp rho   ]\n",
       "             [   -----     0    0     - ---------------------   ]\n",
       "             [     2                              2             ]\n",
       "             [    c                              c              ]\n",
       "             [                                                  ]\n",
       "             [  u gamma               cp rho u gamma - cp rho u ]\n",
       "             [  -------   rho   0   - ------------------------- ]\n",
       "             [     2                              2             ]\n",
       "(%o18)       [    c                              c              ]\n",
       "             [                                                  ]\n",
       "             [  v gamma               cp rho v gamma - cp rho v ]\n",
       "             [  -------    0   rho  - ------------------------- ]\n",
       "             [     2                              2             ]\n",
       "             [    c                              c              ]\n",
       "             [                                                  ]\n",
       "             [   gamma                                          ]\n",
       "             [ ---------   0    0                0              ]\n",
       "             [ gamma - 1                                        ]"
      ],
      "text/x-maxima": [
       "matrix([gamma/c^2,0,0,-(cp*rho*gamma-cp*rho)/c^2],\n",
       "       [(u*gamma)/c^2,rho,0,-(cp*rho*u*gamma-cp*rho*u)/c^2],\n",
       "       [(v*gamma)/c^2,0,rho,-(cp*rho*v*gamma-cp*rho*v)/c^2],\n",
       "       [gamma/(gamma-1),0,0,0])"
      ]
     },
     "execution_count": 9,
     "metadata": {},
     "output_type": "execute_result"
    }
   ],
   "source": [
    "dUdV2 : subst([diff(rho,T)=-rho/T,diff(rho,p)=1/(R*T)],dUdV);\n",
    "dUdV2 : ratsimp(subst([T=c*c/(cp*(gamma-1))],dUdV2));"
   ]
  },
  {
   "cell_type": "markdown",
   "metadata": {},
   "source": [
    "Note that the flux is $\\frac{\\partial F(V)}{\\partial x}$, with $V=(p,u,v,T)$ and because we have defined the derivative of density with respect to pressure and temperature, we can obtain the transformation into quasilinear form directly using:\n",
    "$$\\frac{\\partial F(V)}{\\partial x} = \\frac{\\partial F}{\\partial V}\\frac{\\partial V}{\\partial x}$$"
   ]
  },
  {
   "cell_type": "code",
   "execution_count": 11,
   "metadata": {},
   "outputs": [
    {
     "data": {
      "text/latex": [
       "\\[\\tag{${\\it \\%o}_{20}$}\\begin{pmatrix}\\rho\\,u & \\rho\\,u^2+p & \\rho\\,u\\,v & T\\,{\\it cp}\\,\\rho\\,u \\\\ \\end{pmatrix}\\]"
      ],
      "text/plain": [
       "(%o20)            [             2                          ]\n",
       "                  [ rho u  rho u  + p  rho u v  T cp rho u ]"
      ],
      "text/x-maxima": [
       "matrix([rho*u,rho*u^2+p,rho*u*v,T*cp*rho*u])"
      ]
     },
     "execution_count": 11,
     "metadata": {},
     "output_type": "execute_result"
    },
    {
     "data": {
      "text/latex": [
       "\\[\\tag{${\\it \\%o}_{21}$}\\begin{pmatrix}\\rho\\,v & \\rho\\,u\\,v & \\rho\\,v^2+p & T\\,{\\it cp}\\,\\rho\\,v \\\\ \\end{pmatrix}\\]"
      ],
      "text/plain": [
       "(%o21)            [                      2                 ]\n",
       "                  [ rho v  rho u v  rho v  + p  T cp rho v ]"
      ],
      "text/x-maxima": [
       "matrix([rho*v,rho*u*v,rho*v^2+p,T*cp*rho*v])"
      ]
     },
     "execution_count": 11,
     "metadata": {},
     "output_type": "execute_result"
    }
   ],
   "source": [
    "ev(F,nouns);\n",
    "ev(G,nouns);"
   ]
  },
  {
   "cell_type": "markdown",
   "metadata": {},
   "source": [
    "and its Jacobian with respect to $V=(\\rho, u,v, T)$ can be determined directly (because we also have the derivative of H(T) defined):"
   ]
  },
  {
   "cell_type": "code",
   "execution_count": 12,
   "metadata": {},
   "outputs": [
    {
     "data": {
      "text/latex": [
       "\\[\\tag{${\\it \\%o}_{22}$}\\begin{pmatrix}p & u & v & T \\\\ \\end{pmatrix}\\]"
      ],
      "text/plain": [
       "(%o22)                          [ p  u  v  T ]"
      ],
      "text/x-maxima": [
       "matrix([p,u,v,T])"
      ]
     },
     "execution_count": 12,
     "metadata": {},
     "output_type": "execute_result"
    }
   ],
   "source": [
    "V;"
   ]
  },
  {
   "cell_type": "code",
   "execution_count": 13,
   "metadata": {},
   "outputs": [
    {
     "data": {
      "text/latex": [
       "\\[\\tag{${\\it \\%o}_{23}$}\\begin{pmatrix}\\frac{d}{d\\,p}\\,\\rho\\,u & \\rho & 0 & \\frac{d}{d\\,T}\\,\\rho\\,u \\\\ \\frac{d}{d\\,p}\\,\\rho\\,u^2+1 & 2\\,\\rho\\,u & 0 & \\frac{d}{d\\,T}\\,\\rho\\,u^2 \\\\ \\frac{d}{d\\,p}\\,\\rho\\,u\\,v & \\rho\\,v & \\rho\\,u & \\frac{d}{d\\,T}\\,\\rho\\,u\\,v \\\\ T\\,{\\it cp}\\,\\left(\\frac{d}{d\\,p}\\,\\rho\\right)\\,u & T\\,{\\it cp}\\,\\rho & 0 & \\left(T\\,{\\it cp}\\,\\left(\\frac{d}{d\\,T}\\,\\rho\\right)+{\\it cp}\\,\\rho\\right)\\,u \\\\ \\end{pmatrix}\\]"
      ],
      "text/plain": [
       "           [   drho                                drho           ]\n",
       "           [   ---- u       rho       0            ---- u         ]\n",
       "           [    dp                                  dT            ]\n",
       "           [                                                      ]\n",
       "           [ drho  2                              drho  2         ]\n",
       "           [ ---- u  + 1  2 rho u     0           ---- u          ]\n",
       "           [  dp                                   dT             ]\n",
       "(%o23)     [                                                      ]\n",
       "           [  drho                                drho            ]\n",
       "           [  ---- u v     rho v    rho u         ---- u v        ]\n",
       "           [   dp                                  dT             ]\n",
       "           [                                                      ]\n",
       "           [      drho                           drho             ]\n",
       "           [ T cp ---- u  T cp rho    0    (T cp ---- + cp rho) u ]\n",
       "           [       dp                             dT              ]"
      ],
      "text/x-maxima": [
       "matrix(['diff(rho,p,1)*u,rho,0,'diff(rho,T,1)*u],\n",
       "       ['diff(rho,p,1)*u^2+1,2*rho*u,0,'diff(rho,T,1)*u^2],\n",
       "       ['diff(rho,p,1)*u*v,rho*v,rho*u,'diff(rho,T,1)*u*v],\n",
       "       [T*cp*'diff(rho,p,1)*u,T*cp*rho,0,(T*cp*'diff(rho,T,1)+cp*rho)*u])"
      ]
     },
     "execution_count": 13,
     "metadata": {},
     "output_type": "execute_result"
    },
    {
     "data": {
      "text/latex": [
       "\\[\\tag{${\\it \\%o}_{24}$}\\begin{pmatrix}\\frac{d}{d\\,p}\\,\\rho\\,v & 0 & \\rho & \\frac{d}{d\\,T}\\,\\rho\\,v \\\\ \\frac{d}{d\\,p}\\,\\rho\\,u\\,v & \\rho\\,v & \\rho\\,u & \\frac{d}{d\\,T}\\,\\rho\\,u\\,v \\\\ \\frac{d}{d\\,p}\\,\\rho\\,v^2+1 & 0 & 2\\,\\rho\\,v & \\frac{d}{d\\,T}\\,\\rho\\,v^2 \\\\ T\\,{\\it cp}\\,\\left(\\frac{d}{d\\,p}\\,\\rho\\right)\\,v & 0 & T\\,{\\it cp}\\,\\rho & \\left(T\\,{\\it cp}\\,\\left(\\frac{d}{d\\,T}\\,\\rho\\right)+{\\it cp}\\,\\rho\\right)\\,v \\\\ \\end{pmatrix}\\]"
      ],
      "text/plain": [
       "           [   drho                                drho           ]\n",
       "           [   ---- v       0      rho             ---- v         ]\n",
       "           [    dp                                  dT            ]\n",
       "           [                                                      ]\n",
       "           [  drho                                drho            ]\n",
       "           [  ---- u v    rho v   rho u           ---- u v        ]\n",
       "           [   dp                                  dT             ]\n",
       "(%o24)     [                                                      ]\n",
       "           [ drho  2                              drho  2         ]\n",
       "           [ ---- v  + 1    0    2 rho v          ---- v          ]\n",
       "           [  dp                                   dT             ]\n",
       "           [                                                      ]\n",
       "           [      drho                           drho             ]\n",
       "           [ T cp ---- v    0    T cp rho  (T cp ---- + cp rho) v ]\n",
       "           [       dp                             dT              ]"
      ],
      "text/x-maxima": [
       "matrix(['diff(rho,p,1)*v,0,rho,'diff(rho,T,1)*v],\n",
       "       ['diff(rho,p,1)*u*v,rho*v,rho*u,'diff(rho,T,1)*u*v],\n",
       "       ['diff(rho,p,1)*v^2+1,0,2*rho*v,'diff(rho,T,1)*v^2],\n",
       "       [T*cp*'diff(rho,p,1)*v,0,T*cp*rho,(T*cp*'diff(rho,T,1)+cp*rho)*v])"
      ]
     },
     "execution_count": 13,
     "metadata": {},
     "output_type": "execute_result"
    }
   ],
   "source": [
    "dFdV : ratsimp(ev(jacobian(args(F)[1],args(V)[1]),nouns));\n",
    "dGdV : ratsimp(ev(jacobian(args(G)[1],args(V)[1]),nouns));"
   ]
  },
  {
   "cell_type": "code",
   "execution_count": 14,
   "metadata": {},
   "outputs": [
    {
     "data": {
      "text/latex": [
       "\\[\\tag{${\\it \\%o}_{25}$}\\begin{pmatrix}\\frac{u}{T\\,\\left({\\it cp}-\\frac{{\\it cp}}{\\gamma}\\right)} & \\rho & 0 & -\\frac{\\rho\\,u}{T} \\\\ \\frac{u^2}{T\\,\\left({\\it cp}-\\frac{{\\it cp}}{\\gamma}\\right)}+1 & 2\\,\\rho\\,u & 0 & -\\frac{\\rho\\,u^2}{T} \\\\ \\frac{u\\,v}{T\\,\\left({\\it cp}-\\frac{{\\it cp}}{\\gamma}\\right)} & \\rho\\,v & \\rho\\,u & -\\frac{\\rho\\,u\\,v}{T} \\\\ \\frac{{\\it cp}\\,u}{{\\it cp}-\\frac{{\\it cp}}{\\gamma}} & T\\,{\\it cp}\\,\\rho & 0 & 0 \\\\ \\end{pmatrix}\\]"
      ],
      "text/plain": [
       "              [         u                               rho u  ]\n",
       "              [   --------------      rho       0     - -----  ]\n",
       "              [            cp                             T    ]\n",
       "              [   T (cp - -----)                               ]\n",
       "              [           gamma                                ]\n",
       "              [                                                ]\n",
       "              [        2                                    2  ]\n",
       "              [       u                                rho u   ]\n",
       "              [ -------------- + 1  2 rho u     0    - ------  ]\n",
       "              [          cp                              T     ]\n",
       "              [ T (cp - -----)                                 ]\n",
       "(%o25)        [         gamma                                  ]\n",
       "              [                                                ]\n",
       "              [        u v                             rho u v ]\n",
       "              [   --------------     rho v    rho u  - ------- ]\n",
       "              [            cp                             T    ]\n",
       "              [   T (cp - -----)                               ]\n",
       "              [           gamma                                ]\n",
       "              [                                                ]\n",
       "              [        cp u                                    ]\n",
       "              [     ----------      T cp rho    0        0     ]\n",
       "              [           cp                                   ]\n",
       "              [     cp - -----                                 ]\n",
       "              [          gamma                                 ]"
      ],
      "text/x-maxima": [
       "matrix([u/(T*(cp-cp/gamma)),rho,0,-(rho*u)/T],\n",
       "       [u^2/(T*(cp-cp/gamma))+1,2*rho*u,0,-(rho*u^2)/T],\n",
       "       [(u*v)/(T*(cp-cp/gamma)),rho*v,rho*u,-(rho*u*v)/T],\n",
       "       [(cp*u)/(cp-cp/gamma),T*cp*rho,0,0])"
      ]
     },
     "execution_count": 14,
     "metadata": {},
     "output_type": "execute_result"
    },
    {
     "data": {
      "text/latex": [
       "\\[\\tag{${\\it \\%o}_{26}$}\\begin{pmatrix}\\frac{u\\,\\gamma}{c^2} & \\rho & 0 & -\\frac{{\\it cp}\\,\\rho\\,u\\,\\gamma-{\\it cp}\\,\\rho\\,u}{c^2} \\\\ \\frac{u^2\\,\\gamma+c^2}{c^2} & 2\\,\\rho\\,u & 0 & -\\frac{{\\it cp}\\,\\rho\\,u^2\\,\\gamma-{\\it cp}\\,\\rho\\,u^2}{c^2} \\\\ \\frac{u\\,v\\,\\gamma}{c^2} & \\rho\\,v & \\rho\\,u & -\\frac{{\\it cp}\\,\\rho\\,u\\,v\\,\\gamma-{\\it cp}\\,\\rho\\,u\\,v}{c^2} \\\\ \\frac{u\\,\\gamma}{\\gamma-1} & \\frac{c^2\\,\\rho}{\\gamma-1} & 0 & 0 \\\\ \\end{pmatrix}\\]"
      ],
      "text/plain": [
       "       [    u gamma                           cp rho u gamma - cp rho u   ]\n",
       "       [    -------        rho       0      - -------------------------   ]\n",
       "       [       2                                          2               ]\n",
       "       [      c                                          c                ]\n",
       "       [                                                                  ]\n",
       "       [  2          2                               2                 2  ]\n",
       "       [ u  gamma + c                        cp rho u  gamma - cp rho u   ]\n",
       "       [ -------------   2 rho u     0     - ---------------------------  ]\n",
       "       [       2                                          2               ]\n",
       "(%o26) [      c                                          c                ]\n",
       "       [                                                                  ]\n",
       "       [   u v gamma                        cp rho u v gamma - cp rho u v ]\n",
       "       [   ---------      rho v    rho u  - ----------------------------- ]\n",
       "       [       2                                          2               ]\n",
       "       [      c                                          c                ]\n",
       "       [                                                                  ]\n",
       "       [                  2                                               ]\n",
       "       [    u gamma      c  rho                                           ]\n",
       "       [   ---------    ---------    0                   0                ]\n",
       "       [   gamma - 1    gamma - 1                                         ]"
      ],
      "text/x-maxima": [
       "matrix([(u*gamma)/c^2,rho,0,-(cp*rho*u*gamma-cp*rho*u)/c^2],\n",
       "       [(u^2*gamma+c^2)/c^2,2*rho*u,0,-(cp*rho*u^2*gamma-cp*rho*u^2)/c^2],\n",
       "       [(u*v*gamma)/c^2,rho*v,rho*u,-(cp*rho*u*v*gamma-cp*rho*u*v)/c^2],\n",
       "       [(u*gamma)/(gamma-1),(c^2*rho)/(gamma-1),0,0])"
      ]
     },
     "execution_count": 14,
     "metadata": {},
     "output_type": "execute_result"
    },
    {
     "data": {
      "text/latex": [
       "\\[\\tag{${\\it \\%o}_{27}$}\\begin{pmatrix}\\frac{v}{T\\,\\left({\\it cp}-\\frac{{\\it cp}}{\\gamma}\\right)} & 0 & \\rho & -\\frac{\\rho\\,v}{T} \\\\ \\frac{u\\,v}{T\\,\\left({\\it cp}-\\frac{{\\it cp}}{\\gamma}\\right)} & \\rho\\,v & \\rho\\,u & -\\frac{\\rho\\,u\\,v}{T} \\\\ \\frac{v^2}{T\\,\\left({\\it cp}-\\frac{{\\it cp}}{\\gamma}\\right)}+1 & 0 & 2\\,\\rho\\,v & -\\frac{\\rho\\,v^2}{T} \\\\ \\frac{{\\it cp}\\,v}{{\\it cp}-\\frac{{\\it cp}}{\\gamma}} & 0 & T\\,{\\it cp}\\,\\rho & 0 \\\\ \\end{pmatrix}\\]"
      ],
      "text/plain": [
       "              [         v                               rho v  ]\n",
       "              [   --------------      0      rho      - -----  ]\n",
       "              [            cp                             T    ]\n",
       "              [   T (cp - -----)                               ]\n",
       "              [           gamma                                ]\n",
       "              [                                                ]\n",
       "              [        u v                             rho u v ]\n",
       "              [   --------------    rho v   rho u    - ------- ]\n",
       "              [            cp                             T    ]\n",
       "              [   T (cp - -----)                               ]\n",
       "              [           gamma                                ]\n",
       "(%o27)        [                                                ]\n",
       "              [        2                                    2  ]\n",
       "              [       v                                rho v   ]\n",
       "              [ -------------- + 1    0    2 rho v   - ------  ]\n",
       "              [          cp                              T     ]\n",
       "              [ T (cp - -----)                                 ]\n",
       "              [         gamma                                  ]\n",
       "              [                                                ]\n",
       "              [        cp v                                    ]\n",
       "              [     ----------        0    T cp rho      0     ]\n",
       "              [           cp                                   ]\n",
       "              [     cp - -----                                 ]\n",
       "              [          gamma                                 ]"
      ],
      "text/x-maxima": [
       "matrix([v/(T*(cp-cp/gamma)),0,rho,-(rho*v)/T],\n",
       "       [(u*v)/(T*(cp-cp/gamma)),rho*v,rho*u,-(rho*u*v)/T],\n",
       "       [v^2/(T*(cp-cp/gamma))+1,0,2*rho*v,-(rho*v^2)/T],\n",
       "       [(cp*v)/(cp-cp/gamma),0,T*cp*rho,0])"
      ]
     },
     "execution_count": 14,
     "metadata": {},
     "output_type": "execute_result"
    },
    {
     "data": {
      "text/latex": [
       "\\[\\tag{${\\it \\%o}_{28}$}\\begin{pmatrix}\\frac{v\\,\\gamma}{c^2} & 0 & \\rho & -\\frac{{\\it cp}\\,\\rho\\,v\\,\\gamma-{\\it cp}\\,\\rho\\,v}{c^2} \\\\ \\frac{u\\,v\\,\\gamma}{c^2} & \\rho\\,v & \\rho\\,u & -\\frac{{\\it cp}\\,\\rho\\,u\\,v\\,\\gamma-{\\it cp}\\,\\rho\\,u\\,v}{c^2} \\\\ \\frac{v^2\\,\\gamma+c^2}{c^2} & 0 & 2\\,\\rho\\,v & -\\frac{{\\it cp}\\,\\rho\\,v^2\\,\\gamma-{\\it cp}\\,\\rho\\,v^2}{c^2} \\\\ \\frac{v\\,\\gamma}{\\gamma-1} & 0 & \\frac{c^2\\,\\rho}{\\gamma-1} & 0 \\\\ \\end{pmatrix}\\]"
      ],
      "text/plain": [
       "       [    v gamma                           cp rho v gamma - cp rho v   ]\n",
       "       [    -------       0       rho       - -------------------------   ]\n",
       "       [       2                                          2               ]\n",
       "       [      c                                          c                ]\n",
       "       [                                                                  ]\n",
       "       [   u v gamma                        cp rho u v gamma - cp rho u v ]\n",
       "       [   ---------    rho v    rho u    - ----------------------------- ]\n",
       "       [       2                                          2               ]\n",
       "       [      c                                          c                ]\n",
       "(%o28) [                                                                  ]\n",
       "       [  2          2                               2                 2  ]\n",
       "       [ v  gamma + c                        cp rho v  gamma - cp rho v   ]\n",
       "       [ -------------    0     2 rho v    - ---------------------------  ]\n",
       "       [       2                                          2               ]\n",
       "       [      c                                          c                ]\n",
       "       [                                                                  ]\n",
       "       [                         2                                        ]\n",
       "       [    v gamma             c  rho                                    ]\n",
       "       [   ---------      0    ---------                 0                ]\n",
       "       [   gamma - 1           gamma - 1                                  ]"
      ],
      "text/x-maxima": [
       "matrix([(v*gamma)/c^2,0,rho,-(cp*rho*v*gamma-cp*rho*v)/c^2],\n",
       "       [(u*v*gamma)/c^2,rho*v,rho*u,-(cp*rho*u*v*gamma-cp*rho*u*v)/c^2],\n",
       "       [(v^2*gamma+c^2)/c^2,0,2*rho*v,-(cp*rho*v^2*gamma-cp*rho*v^2)/c^2],\n",
       "       [(v*gamma)/(gamma-1),0,(c^2*rho)/(gamma-1),0])"
      ]
     },
     "execution_count": 14,
     "metadata": {},
     "output_type": "execute_result"
    }
   ],
   "source": [
    "dFdV2 : subst([diff(rho,T)=-rho/T,diff(rho,p)=1/(R*T)],dFdV);\n",
    "dFdV2 : ratsimp(subst([T=c*c/(cp*(gamma-1))],dFdV2));\n",
    "dGdV2 : subst([diff(rho,T)=-rho/T,diff(rho,p)=1/(R*T)],dGdV);\n",
    "dGdV2 : ratsimp(subst([T=c*c/(cp*(gamma-1))],dGdV2));"
   ]
  },
  {
   "cell_type": "markdown",
   "metadata": {},
   "source": [
    "### We can now write the pde in primitive variables $V$ as:\n",
    "$$\\frac{\\partial U}{\\partial t} + \\frac{\\partial F}{\\partial x}+ \\frac{\\partial G}{\\partial y} =0$$\n",
    "\n",
    "$$\\frac{\\partial U}{\\partial V} \\frac{\\partial V}{\\partial t} + \\frac{\\partial F}{\\partial V}\\frac{\\partial V}{\\partial x}+ \\frac{\\partial G}{\\partial V}\\frac{\\partial V}{\\partial y}=0$$\n",
    "\n",
    "$$ \\frac{\\partial V}{\\partial t} + [\\frac{\\partial U}{\\partial V}]^{-1} \\frac{\\partial F}{\\partial V}\\frac{\\partial V}{\\partial x}+ [\\frac{\\partial U}{\\partial V}]^{-1} \\frac{\\partial G}{\\partial V}\\frac{\\partial V}{\\partial y}=0$$\n"
   ]
  },
  {
   "cell_type": "code",
   "execution_count": 15,
   "metadata": {},
   "outputs": [
    {
     "data": {
      "text/latex": [
       "\\[\\tag{${\\it \\%o}_{29}$}\\begin{pmatrix}0 & 0 & 0 & \\frac{\\gamma-1}{\\gamma} \\\\ -\\frac{u}{\\rho} & \\frac{1}{\\rho} & 0 & 0 \\\\ -\\frac{v}{\\rho} & 0 & \\frac{1}{\\rho} & 0 \\\\ -\\frac{c^2}{{\\it cp}\\,\\rho\\,\\gamma-{\\it cp}\\,\\rho} & 0 & 0 & \\frac{1}{{\\it cp}\\,\\rho} \\\\ \\end{pmatrix}\\]"
      ],
      "text/plain": [
       "               [                                    gamma - 1 ]\n",
       "               [            0              0    0   --------- ]\n",
       "               [                                      gamma   ]\n",
       "               [                                              ]\n",
       "               [             u             1                  ]\n",
       "               [          - ---           ---   0       0     ]\n",
       "               [            rho           rho                 ]\n",
       "(%o29)         [                                              ]\n",
       "               [             v                  1             ]\n",
       "               [          - ---            0   ---      0     ]\n",
       "               [            rho                rho            ]\n",
       "               [                                              ]\n",
       "               [             2                                ]\n",
       "               [            c                          1      ]\n",
       "               [ - ---------------------   0    0    ------   ]\n",
       "               [   cp rho gamma - cp rho             cp rho   ]"
      ],
      "text/x-maxima": [
       "matrix([0,0,0,(gamma-1)/gamma],[-u/rho,1/rho,0,0],[-v/rho,0,1/rho,0],\n",
       "       [-c^2/(cp*rho*gamma-cp*rho),0,0,1/(cp*rho)])"
      ]
     },
     "execution_count": 15,
     "metadata": {},
     "output_type": "execute_result"
    }
   ],
   "source": [
    "ratsimp(invert(dUdV2));"
   ]
  },
  {
   "cell_type": "code",
   "execution_count": 16,
   "metadata": {},
   "outputs": [
    {
     "data": {
      "text/latex": [
       "\\[\\tag{${\\it \\%o}_{30}$}\\begin{pmatrix}u & \\frac{c^2\\,\\rho}{\\gamma} & 0 & 0 \\\\ \\frac{1}{\\rho} & u & 0 & 0 \\\\ 0 & 0 & u & 0 \\\\ 0 & 0 & 0 & u \\\\ \\end{pmatrix}\\]"
      ],
      "text/plain": [
       "                             [       2           ]\n",
       "                             [      c  rho       ]\n",
       "                             [  u   ------  0  0 ]\n",
       "                             [      gamma        ]\n",
       "                             [                   ]\n",
       "(%o30)                       [  1                ]\n",
       "                             [ ---    u     0  0 ]\n",
       "                             [ rho               ]\n",
       "                             [                   ]\n",
       "                             [  0     0     u  0 ]\n",
       "                             [                   ]\n",
       "                             [  0     0     0  u ]"
      ],
      "text/x-maxima": [
       "matrix([u,(c^2*rho)/gamma,0,0],[1/rho,u,0,0],[0,0,u,0],[0,0,0,u])"
      ]
     },
     "execution_count": 16,
     "metadata": {},
     "output_type": "execute_result"
    }
   ],
   "source": [
    "Ac : ratsimp(invert(dUdV2).dFdV2);"
   ]
  },
  {
   "cell_type": "code",
   "execution_count": 17,
   "metadata": {},
   "outputs": [
    {
     "data": {
      "text/latex": [
       "\\[\\tag{${\\it \\%o}_{31}$}\\left[ \\left[ u-\\frac{c}{\\sqrt{\\gamma}} , \\frac{c}{\\sqrt{\\gamma}}+u , u \\right]  , \\left[ 1 , 1 , 2 \\right]  \\right] \\]"
      ],
      "text/plain": [
       "                         c            c\n",
       "(%o31)        [[u - -----------, ----------- + u, u], [1, 1, 2]]\n",
       "                    sqrt(gamma)  sqrt(gamma)"
      ],
      "text/x-maxima": [
       "[[u-c/sqrt(gamma),c/sqrt(gamma)+u,u],[1,1,2]]"
      ]
     },
     "execution_count": 17,
     "metadata": {},
     "output_type": "execute_result"
    }
   ],
   "source": [
    "ratexpand(eigenvalues(Ac));"
   ]
  },
  {
   "cell_type": "code",
   "execution_count": 18,
   "metadata": {},
   "outputs": [
    {
     "data": {
      "text/latex": [
       "\\[\\tag{${\\it \\%o}_{32}$}\\begin{pmatrix}v & 0 & \\frac{c^2\\,\\rho}{\\gamma} & 0 \\\\ 0 & v & 0 & 0 \\\\ \\frac{1}{\\rho} & 0 & v & 0 \\\\ 0 & 0 & 0 & v \\\\ \\end{pmatrix}\\]"
      ],
      "text/plain": [
       "                             [          2        ]\n",
       "                             [         c  rho    ]\n",
       "                             [  v   0  ------  0 ]\n",
       "                             [         gamma     ]\n",
       "                             [                   ]\n",
       "(%o32)                       [  0   v    0     0 ]\n",
       "                             [                   ]\n",
       "                             [  1                ]\n",
       "                             [ ---  0    v     0 ]\n",
       "                             [ rho               ]\n",
       "                             [                   ]\n",
       "                             [  0   0    0     v ]"
      ],
      "text/x-maxima": [
       "matrix([v,0,(c^2*rho)/gamma,0],[0,v,0,0],[1/rho,0,v,0],[0,0,0,v])"
      ]
     },
     "execution_count": 18,
     "metadata": {},
     "output_type": "execute_result"
    },
    {
     "data": {
      "text/latex": [
       "\\[\\tag{${\\it \\%o}_{33}$}\\left[ \\left[ v-\\frac{c}{\\sqrt{\\gamma}} , \\frac{c}{\\sqrt{\\gamma}}+v , v \\right]  , \\left[ 1 , 1 , 2 \\right]  \\right] \\]"
      ],
      "text/plain": [
       "                         c            c\n",
       "(%o33)        [[v - -----------, ----------- + v, v], [1, 1, 2]]\n",
       "                    sqrt(gamma)  sqrt(gamma)"
      ],
      "text/x-maxima": [
       "[[v-c/sqrt(gamma),c/sqrt(gamma)+v,v],[1,1,2]]"
      ]
     },
     "execution_count": 18,
     "metadata": {},
     "output_type": "execute_result"
    }
   ],
   "source": [
    "Bc : ratsimp(invert(dUdV2).dGdV2);\n",
    "ratexpand(eigenvalues(Bc));"
   ]
  },
  {
   "cell_type": "markdown",
   "metadata": {},
   "source": [
    "We now the different eigenvalues of the quasilinear non-conservative system of Euler equations."
   ]
  },
  {
   "cell_type": "markdown",
   "metadata": {},
   "source": [
    "We have recovered the results of Economon (2018)"
   ]
  },
  {
   "cell_type": "markdown",
   "metadata": {},
   "source": [
    "We replace the term $\\frac{\\partial \\rho}{\\partial p} = \\frac{1}{b^2}$"
   ]
  },
  {
   "cell_type": "code",
   "execution_count": 19,
   "metadata": {},
   "outputs": [
    {
     "data": {
      "text/latex": [
       "\\[\\tag{${\\it \\%o}_{34}$}\\begin{pmatrix}\\frac{1}{b^2} & 0 & 0 & \\frac{d}{d\\,T}\\,\\rho \\\\ \\frac{u}{b^2} & \\rho & 0 & \\frac{d}{d\\,T}\\,\\rho\\,u \\\\ \\frac{v}{b^2} & 0 & \\rho & \\frac{d}{d\\,T}\\,\\rho\\,v \\\\ \\frac{T\\,{\\it cp}}{b^2} & 0 & 0 & T\\,{\\it cp}\\,\\left(\\frac{d}{d\\,T}\\,\\rho\\right)+{\\it cp}\\,\\rho \\\\ \\end{pmatrix}\\]"
      ],
      "text/plain": [
       "                    [  1                     drho        ]\n",
       "                    [  --    0    0          ----        ]\n",
       "                    [   2                     dT         ]\n",
       "                    [  b                                 ]\n",
       "                    [                                    ]\n",
       "                    [  u                    drho         ]\n",
       "                    [  --   rho   0         ---- u       ]\n",
       "                    [   2                    dT          ]\n",
       "                    [  b                                 ]\n",
       "(%o34)              [                                    ]\n",
       "                    [  v                    drho         ]\n",
       "                    [  --    0   rho        ---- v       ]\n",
       "                    [   2                    dT          ]\n",
       "                    [  b                                 ]\n",
       "                    [                                    ]\n",
       "                    [ T cp                 drho          ]\n",
       "                    [ ----   0    0   T cp ---- + cp rho ]\n",
       "                    [   2                   dT           ]\n",
       "                    [  b                                 ]"
      ],
      "text/x-maxima": [
       "matrix([1/b^2,0,0,'diff(rho,T,1)],[u/b^2,rho,0,'diff(rho,T,1)*u],\n",
       "       [v/b^2,0,rho,'diff(rho,T,1)*v],\n",
       "       [(T*cp)/b^2,0,0,T*cp*'diff(rho,T,1)+cp*rho])"
      ]
     },
     "execution_count": 19,
     "metadata": {},
     "output_type": "execute_result"
    },
    {
     "data": {
      "text/latex": [
       "\\[\\tag{${\\it \\%o}_{35}$}\\begin{pmatrix}\\frac{u}{b^2} & \\rho & 0 & \\frac{d}{d\\,T}\\,\\rho\\,u \\\\ \\frac{u^2}{b^2}+1 & 2\\,\\rho\\,u & 0 & \\frac{d}{d\\,T}\\,\\rho\\,u^2 \\\\ \\frac{u\\,v}{b^2} & \\rho\\,v & \\rho\\,u & \\frac{d}{d\\,T}\\,\\rho\\,u\\,v \\\\ \\frac{T\\,{\\it cp}\\,u}{b^2} & T\\,{\\it cp}\\,\\rho & 0 & \\left(T\\,{\\it cp}\\,\\left(\\frac{d}{d\\,T}\\,\\rho\\right)+{\\it cp}\\,\\rho\\right)\\,u \\\\ \\end{pmatrix}\\]"
      ],
      "text/plain": [
       "              [   u                              drho           ]\n",
       "              [   --      rho       0            ---- u         ]\n",
       "              [    2                              dT            ]\n",
       "              [   b                                             ]\n",
       "              [                                                 ]\n",
       "              [  2                                              ]\n",
       "              [ u                               drho  2         ]\n",
       "              [ -- + 1  2 rho u     0           ---- u          ]\n",
       "              [  2                               dT             ]\n",
       "(%o35)        [ b                                               ]\n",
       "              [                                                 ]\n",
       "              [  u v                            drho            ]\n",
       "              [  ---     rho v    rho u         ---- u v        ]\n",
       "              [   2                              dT             ]\n",
       "              [  b                                              ]\n",
       "              [                                                 ]\n",
       "              [ T cp u                         drho             ]\n",
       "              [ ------  T cp rho    0    (T cp ---- + cp rho) u ]\n",
       "              [    2                            dT              ]\n",
       "              [   b                                             ]"
      ],
      "text/x-maxima": [
       "matrix([u/b^2,rho,0,'diff(rho,T,1)*u],\n",
       "       [u^2/b^2+1,2*rho*u,0,'diff(rho,T,1)*u^2],\n",
       "       [(u*v)/b^2,rho*v,rho*u,'diff(rho,T,1)*u*v],\n",
       "       [(T*cp*u)/b^2,T*cp*rho,0,(T*cp*'diff(rho,T,1)+cp*rho)*u])"
      ]
     },
     "execution_count": 19,
     "metadata": {},
     "output_type": "execute_result"
    },
    {
     "data": {
      "text/latex": [
       "\\[\\tag{${\\it \\%o}_{36}$}\\begin{pmatrix}\\frac{v}{b^2} & 0 & \\rho & \\frac{d}{d\\,T}\\,\\rho\\,v \\\\ \\frac{u\\,v}{b^2} & \\rho\\,v & \\rho\\,u & \\frac{d}{d\\,T}\\,\\rho\\,u\\,v \\\\ \\frac{v^2}{b^2}+1 & 0 & 2\\,\\rho\\,v & \\frac{d}{d\\,T}\\,\\rho\\,v^2 \\\\ \\frac{T\\,{\\it cp}\\,v}{b^2} & 0 & T\\,{\\it cp}\\,\\rho & \\left(T\\,{\\it cp}\\,\\left(\\frac{d}{d\\,T}\\,\\rho\\right)+{\\it cp}\\,\\rho\\right)\\,v \\\\ \\end{pmatrix}\\]"
      ],
      "text/plain": [
       "              [   v                              drho           ]\n",
       "              [   --      0      rho             ---- v         ]\n",
       "              [    2                              dT            ]\n",
       "              [   b                                             ]\n",
       "              [                                                 ]\n",
       "              [  u v                            drho            ]\n",
       "              [  ---    rho v   rho u           ---- u v        ]\n",
       "              [   2                              dT             ]\n",
       "              [  b                                              ]\n",
       "(%o36)        [                                                 ]\n",
       "              [  2                                              ]\n",
       "              [ v                               drho  2         ]\n",
       "              [ -- + 1    0    2 rho v          ---- v          ]\n",
       "              [  2                               dT             ]\n",
       "              [ b                                               ]\n",
       "              [                                                 ]\n",
       "              [ T cp v                         drho             ]\n",
       "              [ ------    0    T cp rho  (T cp ---- + cp rho) v ]\n",
       "              [    2                            dT              ]\n",
       "              [   b                                             ]"
      ],
      "text/x-maxima": [
       "matrix([v/b^2,0,rho,'diff(rho,T,1)*v],\n",
       "       [(u*v)/b^2,rho*v,rho*u,'diff(rho,T,1)*u*v],\n",
       "       [v^2/b^2+1,0,2*rho*v,'diff(rho,T,1)*v^2],\n",
       "       [(T*cp*v)/b^2,0,T*cp*rho,(T*cp*'diff(rho,T,1)+cp*rho)*v])"
      ]
     },
     "execution_count": 19,
     "metadata": {},
     "output_type": "execute_result"
    }
   ],
   "source": [
    "Gamma : subst(diff(rho,p)=1/b^2,dUdV);\n",
    "dFdV : subst(diff(rho,p)=1/b^2,dFdV);\n",
    "dGdV : subst(diff(rho,p)=1/b^2,dGdV);"
   ]
  },
  {
   "cell_type": "code",
   "execution_count": 20,
   "metadata": {},
   "outputs": [
    {
     "data": {
      "text/latex": [
       "\\[\\tag{${\\it \\%o}_{37}$}\\begin{pmatrix}\\frac{T\\,b^2\\,\\left(\\frac{d}{d\\,T}\\,\\rho\\right)+b^2\\,\\rho}{\\rho} & 0 & 0 & -\\frac{b^2\\,\\left(\\frac{d}{d\\,T}\\,\\rho\\right)}{{\\it cp}\\,\\rho} \\\\ -\\frac{u}{\\rho} & \\frac{1}{\\rho} & 0 & 0 \\\\ -\\frac{v}{\\rho} & 0 & \\frac{1}{\\rho} & 0 \\\\ -\\frac{T}{\\rho} & 0 & 0 & \\frac{1}{{\\it cp}\\,\\rho} \\\\ \\end{pmatrix}\\]"
      ],
      "text/plain": [
       "                  [    2 drho    2                   2 drho ]\n",
       "                  [ T b  ---- + b  rho              b  ---- ]\n",
       "                  [       dT                            dT  ]\n",
       "                  [ ------------------   0    0   - ------- ]\n",
       "                  [        rho                      cp rho  ]\n",
       "                  [                                         ]\n",
       "                  [          u           1                  ]\n",
       "                  [       - ---         ---   0       0     ]\n",
       "(%o37)            [         rho         rho                 ]\n",
       "                  [                                         ]\n",
       "                  [          v                1             ]\n",
       "                  [       - ---          0   ---      0     ]\n",
       "                  [         rho              rho            ]\n",
       "                  [                                         ]\n",
       "                  [          T                       1      ]\n",
       "                  [       - ---          0    0    ------   ]\n",
       "                  [         rho                    cp rho   ]"
      ],
      "text/x-maxima": [
       "matrix([(T*b^2*'diff(rho,T,1)+b^2*rho)/rho,0,0,\n",
       "        -(b^2*'diff(rho,T,1))/(cp*rho)],[-u/rho,1/rho,0,0],[-v/rho,0,1/rho,0],\n",
       "       [-T/rho,0,0,1/(cp*rho)])"
      ]
     },
     "execution_count": 20,
     "metadata": {},
     "output_type": "execute_result"
    }
   ],
   "source": [
    "invGamma : ratsimp(invert(Gamma));"
   ]
  },
  {
   "cell_type": "markdown",
   "metadata": {},
   "source": [
    "We can now construct the convective flux Jacobian $A_\\Gamma^c$, this is use in the FDS numerical scheme in Economon's AIAA 2018 paper, eq. (28):"
   ]
  },
  {
   "cell_type": "code",
   "execution_count": 21,
   "metadata": {},
   "outputs": [
    {
     "data": {
      "text/latex": [
       "\\[\\tag{${\\it \\%o}_{38}$}\\begin{pmatrix}u & b^2\\,\\rho & 0 & 0 \\\\ \\frac{1}{\\rho} & u & 0 & 0 \\\\ 0 & 0 & u & 0 \\\\ 0 & 0 & 0 & u \\\\ \\end{pmatrix}\\]"
      ],
      "text/plain": [
       "                             [       2           ]\n",
       "                             [  u   b  rho  0  0 ]\n",
       "                             [                   ]\n",
       "                             [  1                ]\n",
       "(%o38)                       [ ---    u     0  0 ]\n",
       "                             [ rho               ]\n",
       "                             [                   ]\n",
       "                             [  0     0     u  0 ]\n",
       "                             [                   ]\n",
       "                             [  0     0     0  u ]"
      ],
      "text/x-maxima": [
       "matrix([u,b^2*rho,0,0],[1/rho,u,0,0],[0,0,u,0],[0,0,0,u])"
      ]
     },
     "execution_count": 21,
     "metadata": {},
     "output_type": "execute_result"
    }
   ],
   "source": [
    "Ac : ratsimp(invGamma.dFdV);"
   ]
  },
  {
   "cell_type": "code",
   "execution_count": 22,
   "metadata": {},
   "outputs": [
    {
     "data": {
      "text/latex": [
       "\\[\\tag{${\\it \\%o}_{39}$}\\left[ \\left[ \\left[ u-b , u+b , u \\right]  , \\left[ 1 , 1 , 2 \\right]  \\right]  , \\left[ \\left[ \\left[ 1 , -\\frac{1}{b\\,\\rho} , 0 , 0 \\right]  \\right]  , \\left[ \\left[ 1 , \\frac{1}{b\\,\\rho} , 0 , 0 \\right]  \\right]  , \\left[ \\left[ 0 , 0 , 1 , 0 \\right]  , \\left[ 0 , 0 , 0 , 1 \\right]  \\right]  \\right]  \\right] \\]"
      ],
      "text/plain": [
       "(%o39) [[[u - b, u + b, u], [1, 1, 2]], \n",
       "                1                   1\n",
       "      [[[1, - -----, 0, 0]], [[1, -----, 0, 0]], [[0, 0, 1, 0], [0, 0, 0, 1]]]]\n",
       "              b rho               b rho"
      ],
      "text/x-maxima": [
       "[[[u-b,u+b,u],[1,1,2]],\n",
       " [[[1,-1/(b*rho),0,0]],[[1,1/(b*rho),0,0]],[[0,0,1,0],[0,0,0,1]]]]"
      ]
     },
     "execution_count": 22,
     "metadata": {},
     "output_type": "execute_result"
    }
   ],
   "source": [
    "eigenvectors(Ac);"
   ]
  },
  {
   "cell_type": "code",
   "execution_count": 24,
   "metadata": {},
   "outputs": [
    {
     "data": {
      "text/latex": [
       "\\[\\tag{${\\it \\%o}_{41}$}\\left[ \\left[ u-b , u+b , u \\right]  , \\left[ 1 , 1 , 2 \\right]  \\right] \\]"
      ],
      "text/plain": [
       "(%o41)                  [[u - b, u + b, u], [1, 1, 2]]"
      ],
      "text/x-maxima": [
       "[[u-b,u+b,u],[1,1,2]]"
      ]
     },
     "execution_count": 24,
     "metadata": {},
     "output_type": "execute_result"
    }
   ],
   "source": [
    "lambdaA : ratsimp(eigenvalues(Ac));"
   ]
  },
  {
   "cell_type": "markdown",
   "metadata": {},
   "source": [
    "### We see that when we replace all derivatives $\\frac{\\partial \\rho}{\\partial p}$ by $\\frac{1}{b^2}$, the simple eigenvalues $(u,u-b,u+b)$ are obtained, as in the paper of Economon."
   ]
  },
  {
   "cell_type": "code",
   "execution_count": 27,
   "metadata": {},
   "outputs": [
    {
     "data": {
      "text/latex": [
       "\\[\\tag{${\\it \\%o}_{48}$}\\begin{pmatrix}v & 0 & b^2\\,\\rho & 0 \\\\ 0 & v & 0 & 0 \\\\ \\frac{1}{\\rho} & 0 & v & 0 \\\\ 0 & 0 & 0 & v \\\\ \\end{pmatrix}\\]"
      ],
      "text/plain": [
       "                             [          2        ]\n",
       "                             [  v   0  b  rho  0 ]\n",
       "                             [                   ]\n",
       "                             [  0   v    0     0 ]\n",
       "(%o48)                       [                   ]\n",
       "                             [  1                ]\n",
       "                             [ ---  0    v     0 ]\n",
       "                             [ rho               ]\n",
       "                             [                   ]\n",
       "                             [  0   0    0     v ]"
      ],
      "text/x-maxima": [
       "matrix([v,0,b^2*rho,0],[0,v,0,0],[1/rho,0,v,0],[0,0,0,v])"
      ]
     },
     "execution_count": 27,
     "metadata": {},
     "output_type": "execute_result"
    },
    {
     "data": {
      "text/latex": [
       "\\[\\tag{${\\it \\%o}_{49}$}\\left[ \\left[ \\left[ v-b , v+b , v \\right]  , \\left[ 1 , 1 , 2 \\right]  \\right]  , \\left[ \\left[ \\left[ 1 , 0 , -\\frac{1}{b\\,\\rho} , 0 \\right]  \\right]  , \\left[ \\left[ 1 , 0 , \\frac{1}{b\\,\\rho} , 0 \\right]  \\right]  , \\left[ \\left[ 0 , 1 , 0 , 0 \\right]  , \\left[ 0 , 0 , 0 , 1 \\right]  \\right]  \\right]  \\right] \\]"
      ],
      "text/plain": [
       "(%o49) [[[v - b, v + b, v], [1, 1, 2]], \n",
       "                   1                   1\n",
       "      [[[1, 0, - -----, 0]], [[1, 0, -----, 0]], [[0, 1, 0, 0], [0, 0, 0, 1]]]]\n",
       "                 b rho               b rho"
      ],
      "text/x-maxima": [
       "[[[v-b,v+b,v],[1,1,2]],\n",
       " [[[1,0,-1/(b*rho),0]],[[1,0,1/(b*rho),0]],[[0,1,0,0],[0,0,0,1]]]]"
      ]
     },
     "execution_count": 27,
     "metadata": {},
     "output_type": "execute_result"
    },
    {
     "data": {
      "text/latex": [
       "\\[\\tag{${\\it \\%o}_{50}$}\\left[ \\left[ v-b , v+b , v \\right]  , \\left[ 1 , 1 , 2 \\right]  \\right] \\]"
      ],
      "text/plain": [
       "(%o50)                  [[v - b, v + b, v], [1, 1, 2]]"
      ],
      "text/x-maxima": [
       "[[v-b,v+b,v],[1,1,2]]"
      ]
     },
     "execution_count": 27,
     "metadata": {},
     "output_type": "execute_result"
    }
   ],
   "source": [
    "Bc : ratsimp(invGamma.dGdV);\n",
    "eigenvectors(Bc);\n",
    "lambdaB : ratsimp(eigenvalues(Bc));"
   ]
  },
  {
   "cell_type": "code",
   "execution_count": 28,
   "metadata": {},
   "outputs": [
    {
     "data": {
      "text/latex": [
       "\\[\\tag{${\\it \\%o}_{51}$}\\begin{pmatrix}{\\it ny}\\,v+{\\it nx}\\,u & b^2\\,{\\it nx}\\,\\rho & b^2\\,{\\it ny}\\,\\rho & 0 \\\\ \\frac{{\\it nx}}{\\rho} & {\\it ny}\\,v+{\\it nx}\\,u & 0 & 0 \\\\ \\frac{{\\it ny}}{\\rho} & 0 & {\\it ny}\\,v+{\\it nx}\\,u & 0 \\\\ 0 & 0 & 0 & {\\it ny}\\,v+{\\it nx}\\,u \\\\ \\end{pmatrix}\\]"
      ],
      "text/plain": [
       "            [                2            2                      ]\n",
       "            [ ny v + nx u   b  nx rho    b  ny rho        0      ]\n",
       "            [                                                    ]\n",
       "            [     nx                                             ]\n",
       "            [     ---      ny v + nx u       0            0      ]\n",
       "(%o51)      [     rho                                            ]\n",
       "            [                                                    ]\n",
       "            [     ny                                             ]\n",
       "            [     ---           0       ny v + nx u       0      ]\n",
       "            [     rho                                            ]\n",
       "            [                                                    ]\n",
       "            [      0            0            0       ny v + nx u ]"
      ],
      "text/x-maxima": [
       "matrix([ny*v+nx*u,b^2*nx*rho,b^2*ny*rho,0],[nx/rho,ny*v+nx*u,0,0],\n",
       "       [ny/rho,0,ny*v+nx*u,0],[0,0,0,ny*v+nx*u])"
      ]
     },
     "execution_count": 28,
     "metadata": {},
     "output_type": "execute_result"
    }
   ],
   "source": [
    "A : ratsimp(Ac*nx+Bc*ny);"
   ]
  },
  {
   "cell_type": "code",
   "execution_count": 29,
   "metadata": {},
   "outputs": [
    {
     "data": {
      "text/latex": [
       "\\[\\tag{${\\it \\%o}_{52}$}\\left[ \\left[ {\\it ny}\\,v+{\\it nx}\\,u-b\\,\\sqrt{{\\it ny}^2+{\\it nx}^2} , {\\it ny}\\,v+{\\it nx}\\,u+b\\,\\sqrt{{\\it ny}^2+{\\it nx}^2} , {\\it ny}\\,v+{\\it nx}\\,u \\right]  , \\left[ 1 , 1 , 2 \\right]  \\right] \\]"
      ],
      "text/plain": [
       "                                2     2                          2     2\n",
       "(%o52) [[ny v + nx u - b sqrt(ny  + nx ), ny v + nx u + b sqrt(ny  + nx ), \n",
       "                                                       ny v + nx u], [1, 1, 2]]"
      ],
      "text/x-maxima": [
       "[[ny*v+nx*u-b*sqrt(ny^2+nx^2),ny*v+nx*u+b*sqrt(ny^2+nx^2),ny*v+nx*u],[1,1,2]]"
      ]
     },
     "execution_count": 29,
     "metadata": {},
     "output_type": "execute_result"
    }
   ],
   "source": [
    "lambda : eigenvalues(A);"
   ]
  },
  {
   "cell_type": "markdown",
   "metadata": {},
   "source": [
    "We now want to decompose the matrix into $A = P\\cdot \\overline{\\overline\\lambda} \\cdot P^{-1}$"
   ]
  },
  {
   "cell_type": "code",
   "execution_count": 42,
   "metadata": {},
   "outputs": [
    {
     "data": {
      "text/latex": [
       "\\[\\tag{${\\it \\%o}_{71}$}\\left[ \\left[ \\left[ {\\it ny}\\,v+{\\it nx}\\,u-b\\,\\sqrt{{\\it ny}^2+{\\it nx}^2} , {\\it ny}\\,v+{\\it nx}\\,u+b\\,\\sqrt{{\\it ny}^2+{\\it nx}^2} , {\\it ny}\\,v+{\\it nx}\\,u \\right]  , \\left[ 1 , 1 , 2 \\right]  \\right]  , \\left[ \\left[ \\left[ 1 , -\\frac{{\\it nx}\\,\\sqrt{{\\it ny}^2+{\\it nx}^2}}{\\left(b\\,{\\it ny}^2+b\\,{\\it nx}^2\\right)\\,\\rho} , -\\frac{{\\it ny}\\,\\sqrt{{\\it ny}^2+{\\it nx}^2}}{\\left(b\\,{\\it ny}^2+b\\,{\\it nx}^2\\right)\\,\\rho} , 0 \\right]  \\right]  , \\left[ \\left[ 1 , \\frac{{\\it nx}\\,\\sqrt{{\\it ny}^2+{\\it nx}^2}}{\\left(b\\,{\\it ny}^2+b\\,{\\it nx}^2\\right)\\,\\rho} , \\frac{{\\it ny}\\,\\sqrt{{\\it ny}^2+{\\it nx}^2}}{\\left(b\\,{\\it ny}^2+b\\,{\\it nx}^2\\right)\\,\\rho} , 0 \\right]  \\right]  , \\left[ \\left[ 0 , 1 , -\\frac{{\\it nx}}{{\\it ny}} , 0 \\right]  , \\left[ 0 , 0 , 0 , 1 \\right]  \\right]  \\right]  \\right] \\]"
      ],
      "text/plain": [
       "                                 2     2                          2     2\n",
       "(%o71) [[[ny v + nx u - b sqrt(ny  + nx ), ny v + nx u + b sqrt(ny  + nx ), \n",
       "                                            2     2                2     2\n",
       "                                  nx sqrt(ny  + nx )     ny sqrt(ny  + nx )\n",
       "ny v + nx u], [1, 1, 2]], [[[1, - -------------------, - -------------------, \n",
       "                                       2       2              2       2\n",
       "                                  (b ny  + b nx ) rho    (b ny  + b nx ) rho\n",
       "                    2     2              2     2\n",
       "          nx sqrt(ny  + nx )   ny sqrt(ny  + nx )\n",
       "0]], [[1, -------------------, -------------------, 0]], \n",
       "               2       2            2       2\n",
       "          (b ny  + b nx ) rho  (b ny  + b nx ) rho\n",
       "          nx\n",
       "[[0, 1, - --, 0], [0, 0, 0, 1]]]]\n",
       "          ny"
      ],
      "text/x-maxima": [
       "[[[ny*v+nx*u-b*sqrt(ny^2+nx^2),ny*v+nx*u+b*sqrt(ny^2+nx^2),ny*v+nx*u],\n",
       "  [1,1,2]],\n",
       " [[[1,-(nx*sqrt(ny^2+nx^2))/((b*ny^2+b*nx^2)*rho),\n",
       "    -(ny*sqrt(ny^2+nx^2))/((b*ny^2+b*nx^2)*rho),0]],\n",
       "  [[1,(nx*sqrt(ny^2+nx^2))/((b*ny^2+b*nx^2)*rho),\n",
       "    (ny*sqrt(ny^2+nx^2))/((b*ny^2+b*nx^2)*rho),0]],\n",
       "  [[0,1,-nx/ny,0],[0,0,0,1]]]]"
      ]
     },
     "execution_count": 42,
     "metadata": {},
     "output_type": "execute_result"
    },
    {
     "data": {
      "text/latex": [
       "\\[\\tag{${\\it \\%o}_{72}$}\\left[ \\left[ \\left[ 1 , -\\frac{{\\it nx}\\,\\sqrt{{\\it ny}^2+{\\it nx}^2}}{\\left(b\\,{\\it ny}^2+b\\,{\\it nx}^2\\right)\\,\\rho} , -\\frac{{\\it ny}\\,\\sqrt{{\\it ny}^2+{\\it nx}^2}}{\\left(b\\,{\\it ny}^2+b\\,{\\it nx}^2\\right)\\,\\rho} , 0 \\right]  \\right]  , \\left[ \\left[ 1 , \\frac{{\\it nx}\\,\\sqrt{{\\it ny}^2+{\\it nx}^2}}{\\left(b\\,{\\it ny}^2+b\\,{\\it nx}^2\\right)\\,\\rho} , \\frac{{\\it ny}\\,\\sqrt{{\\it ny}^2+{\\it nx}^2}}{\\left(b\\,{\\it ny}^2+b\\,{\\it nx}^2\\right)\\,\\rho} , 0 \\right]  \\right]  , \\left[ \\left[ 0 , 1 , -\\frac{{\\it nx}}{{\\it ny}} , 0 \\right]  , \\left[ 0 , 0 , 0 , 1 \\right]  \\right]  \\right] \\]"
      ],
      "text/plain": [
       "                         2     2                2     2\n",
       "               nx sqrt(ny  + nx )     ny sqrt(ny  + nx )\n",
       "(%o72) [[[1, - -------------------, - -------------------, 0]], \n",
       "                    2       2              2       2\n",
       "               (b ny  + b nx ) rho    (b ny  + b nx ) rho\n",
       "               2     2              2     2\n",
       "     nx sqrt(ny  + nx )   ny sqrt(ny  + nx )\n",
       "[[1, -------------------, -------------------, 0]], \n",
       "          2       2            2       2\n",
       "     (b ny  + b nx ) rho  (b ny  + b nx ) rho\n",
       "          nx\n",
       "[[0, 1, - --, 0], [0, 0, 0, 1]]]\n",
       "          ny"
      ],
      "text/x-maxima": [
       "[[[1,-(nx*sqrt(ny^2+nx^2))/((b*ny^2+b*nx^2)*rho),\n",
       "   -(ny*sqrt(ny^2+nx^2))/((b*ny^2+b*nx^2)*rho),0]],\n",
       " [[1,(nx*sqrt(ny^2+nx^2))/((b*ny^2+b*nx^2)*rho),\n",
       "   (ny*sqrt(ny^2+nx^2))/((b*ny^2+b*nx^2)*rho),0]],[[0,1,-nx/ny,0],[0,0,0,1]]]"
      ]
     },
     "execution_count": 42,
     "metadata": {},
     "output_type": "execute_result"
    }
   ],
   "source": [
    "V : eigenvectors(A);\n",
    "P : V[2];"
   ]
  },
  {
   "cell_type": "code",
   "execution_count": 49,
   "metadata": {},
   "outputs": [
    {
     "data": {
      "text/latex": [
       "\\[\\tag{${\\it \\%o}_{79}$}\\left[ \\left[ \\left[ 1 , -\\frac{{\\it nx}\\,\\sqrt{{\\it ny}^2+{\\it nx}^2}}{\\left(b\\,{\\it ny}^2+b\\,{\\it nx}^2\\right)\\,\\rho} , -\\frac{{\\it ny}\\,\\sqrt{{\\it ny}^2+{\\it nx}^2}}{\\left(b\\,{\\it ny}^2+b\\,{\\it nx}^2\\right)\\,\\rho} , 0 \\right]  \\right]  , \\left[ \\left[ 1 , \\frac{{\\it nx}\\,\\sqrt{{\\it ny}^2+{\\it nx}^2}}{\\left(b\\,{\\it ny}^2+b\\,{\\it nx}^2\\right)\\,\\rho} , \\frac{{\\it ny}\\,\\sqrt{{\\it ny}^2+{\\it nx}^2}}{\\left(b\\,{\\it ny}^2+b\\,{\\it nx}^2\\right)\\,\\rho} , 0 \\right]  \\right]  , \\left[ \\left[ 0 , 1 , -\\frac{{\\it nx}}{{\\it ny}} , 0 \\right]  , \\left[ 0 , 0 , 0 , 1 \\right]  \\right]  \\right] \\]"
      ],
      "text/plain": [
       "                         2     2                2     2\n",
       "               nx sqrt(ny  + nx )     ny sqrt(ny  + nx )\n",
       "(%o79) [[[1, - -------------------, - -------------------, 0]], \n",
       "                    2       2              2       2\n",
       "               (b ny  + b nx ) rho    (b ny  + b nx ) rho\n",
       "               2     2              2     2\n",
       "     nx sqrt(ny  + nx )   ny sqrt(ny  + nx )\n",
       "[[1, -------------------, -------------------, 0]], \n",
       "          2       2            2       2\n",
       "     (b ny  + b nx ) rho  (b ny  + b nx ) rho\n",
       "          nx\n",
       "[[0, 1, - --, 0], [0, 0, 0, 1]]]\n",
       "          ny"
      ],
      "text/x-maxima": [
       "[[[1,-(nx*sqrt(ny^2+nx^2))/((b*ny^2+b*nx^2)*rho),\n",
       "   -(ny*sqrt(ny^2+nx^2))/((b*ny^2+b*nx^2)*rho),0]],\n",
       " [[1,(nx*sqrt(ny^2+nx^2))/((b*ny^2+b*nx^2)*rho),\n",
       "   (ny*sqrt(ny^2+nx^2))/((b*ny^2+b*nx^2)*rho),0]],[[0,1,-nx/ny,0],[0,0,0,1]]]"
      ]
     },
     "execution_count": 49,
     "metadata": {},
     "output_type": "execute_result"
    }
   ],
   "source": [
    "ratsimp(P);"
   ]
  },
  {
   "cell_type": "code",
   "execution_count": 43,
   "metadata": {},
   "outputs": [
    {
     "data": {
      "text/latex": [
       "\\[\\tag{${\\it \\%o}_{73}$}\\mathbf{done}\\]"
      ],
      "text/plain": [
       "(%o73)                               done"
      ],
      "text/x-maxima": [
       "done"
      ]
     },
     "execution_count": 43,
     "metadata": {},
     "output_type": "execute_result"
    },
    {
     "name": "stdout",
     "output_type": "stream",
     "text": [
      "\n",
      "[[ny*v+nx*u-b*sqrt(ny^2+nx^2),ny*v+nx*u+b*sqrt(ny^2+nx^2),ny*v+nx*u],[1,1,2]]$\n"
     ]
    }
   ],
   "source": [
    "grind(lambda);"
   ]
  },
  {
   "cell_type": "code",
   "execution_count": 62,
   "metadata": {},
   "outputs": [
    {
     "data": {
      "text/latex": [
       "\\[\\tag{${\\it \\%o}_{91}$}\\begin{pmatrix}\\lambda_{1} & 0 & 0 & 0 \\\\ 0 & \\lambda_{2} & 0 & 0 \\\\ 0 & 0 & \\lambda_{3} & 0 \\\\ 0 & 0 & 0 & \\lambda_{4} \\\\ \\end{pmatrix}\\]"
      ],
      "text/plain": [
       "                  [ lambda_1     0         0         0     ]\n",
       "                  [                                        ]\n",
       "                  [    0      lambda_2     0         0     ]\n",
       "(%o91)            [                                        ]\n",
       "                  [    0         0      lambda_3     0     ]\n",
       "                  [                                        ]\n",
       "                  [    0         0         0      lambda_4 ]"
      ],
      "text/x-maxima": [
       "matrix([lambda_1,0,0,0],[0,lambda_2,0,0],[0,0,lambda_3,0],[0,0,0,lambda_4])"
      ]
     },
     "execution_count": 62,
     "metadata": {},
     "output_type": "execute_result"
    },
    {
     "data": {
      "text/latex": [
       "\\[\\tag{${\\it \\%o}_{92}$}\\begin{pmatrix}{\\it ny}\\,v+{\\it nx}\\,u-b\\,\\sqrt{{\\it ny}^2+{\\it nx}^2} & 0 & 0 & 0 \\\\ 0 & {\\it ny}\\,v+{\\it nx}\\,u+b\\,\\sqrt{{\\it ny}^2+{\\it nx}^2} & 0 & 0 \\\\ 0 & 0 & {\\it ny}\\,v+{\\it nx}\\,u & 0 \\\\ 0 & 0 & 0 & {\\it ny}\\,v+{\\it nx}\\,u \\\\ \\end{pmatrix}\\]"
      ],
      "text/plain": [
       "                [                        2     2  ]\n",
       "                [ ny v + nx u - b sqrt(ny  + nx ) ]\n",
       "                [                                 ]\n",
       "(%o92)  Col 1 = [                0                ]\n",
       "                [                                 ]\n",
       "                [                0                ]\n",
       "                [                                 ]\n",
       "                [                0                ]\n",
       "         [                0                ]         [      0      ]\n",
       "         [                                 ]         [             ]\n",
       "         [                        2     2  ]         [      0      ]\n",
       " Col 2 = [ ny v + nx u + b sqrt(ny  + nx ) ] Col 3 = [             ]\n",
       "         [                                 ]         [ ny v + nx u ]\n",
       "         [                0                ]         [             ]\n",
       "         [                                 ]         [      0      ]\n",
       "         [                0                ]\n",
       "         [      0      ]\n",
       "         [             ]\n",
       "         [      0      ]\n",
       " Col 4 = [             ]\n",
       "         [      0      ]\n",
       "         [             ]\n",
       "         [ ny v + nx u ]"
      ],
      "text/x-maxima": [
       "matrix([ny*v+nx*u-b*sqrt(ny^2+nx^2),0,0,0],\n",
       "       [0,ny*v+nx*u+b*sqrt(ny^2+nx^2),0,0],[0,0,ny*v+nx*u,0],\n",
       "       [0,0,0,ny*v+nx*u])"
      ]
     },
     "execution_count": 62,
     "metadata": {},
     "output_type": "execute_result"
    }
   ],
   "source": [
    "lambda_s : matrix([lambda_1,0,0,0],[0,lambda_2,0,0],[0,0,lambda_3,0],[0,0,0,lambda_4]);\n",
    "lambda : matrix([ny*v+nx*u-b*sqrt(ny^2+nx^2),0,0,0],[0,ny*v+nx*u+b*sqrt(ny^2+nx^2),0,0],[0,0,ny*v+nx*u,0],[0,0,0,ny*v+nx*u]);"
   ]
  },
  {
   "cell_type": "code",
   "execution_count": 46,
   "metadata": {},
   "outputs": [
    {
     "data": {
      "text/latex": [
       "\\[\\tag{${\\it \\%o}_{75}$}\\mathbf{done}\\]"
      ],
      "text/plain": [
       "(%o75)                               done"
      ],
      "text/x-maxima": [
       "done"
      ]
     },
     "execution_count": 46,
     "metadata": {},
     "output_type": "execute_result"
    },
    {
     "name": "stdout",
     "output_type": "stream",
     "text": [
      "\n",
      "[[[1,-(nx*sqrt(ny^2+nx^2))/((b*ny^2+b*nx^2)*rho),\n",
      "   -(ny*sqrt(ny^2+nx^2))/((b*ny^2+b*nx^2)*rho),0]],\n",
      " [[1,(nx*sqrt(ny^2+nx^2))/((b*ny^2+b*nx^2)*rho),\n",
      "   (ny*sqrt(ny^2+nx^2))/((b*ny^2+b*nx^2)*rho),0]],[[0,1,-nx/ny,0],[0,0,0,1]]]$\n"
     ]
    }
   ],
   "source": [
    "grind(P);"
   ]
  },
  {
   "cell_type": "code",
   "execution_count": 59,
   "metadata": {},
   "outputs": [
    {
     "data": {
      "text/latex": [
       "\\[\\tag{${\\it \\%o}_{88}$}\\begin{pmatrix}1 & -\\frac{{\\it nx}\\,\\sqrt{{\\it ny}^2+{\\it nx}^2}}{\\left(b\\,{\\it ny}^2+b\\,{\\it nx}^2\\right)\\,\\rho} & -\\frac{{\\it ny}\\,\\sqrt{{\\it ny}^2+{\\it nx}^2}}{\\left(b\\,{\\it ny}^2+b\\,{\\it nx}^2\\right)\\,\\rho} & 0 \\\\ 1 & \\frac{{\\it nx}\\,\\sqrt{{\\it ny}^2+{\\it nx}^2}}{\\left(b\\,{\\it ny}^2+b\\,{\\it nx}^2\\right)\\,\\rho} & \\frac{{\\it ny}\\,\\sqrt{{\\it ny}^2+{\\it nx}^2}}{\\left(b\\,{\\it ny}^2+b\\,{\\it nx}^2\\right)\\,\\rho} & 0 \\\\ 0 & 1 & -\\frac{{\\it nx}}{{\\it ny}} & 0 \\\\ 0 & 0 & 0 & 1 \\\\ \\end{pmatrix}\\]"
      ],
      "text/plain": [
       "            [                2     2                2     2      ]\n",
       "            [      nx sqrt(ny  + nx )     ny sqrt(ny  + nx )     ]\n",
       "            [ 1  - -------------------  - -------------------  0 ]\n",
       "            [           2       2              2       2         ]\n",
       "            [      (b ny  + b nx ) rho    (b ny  + b nx ) rho    ]\n",
       "            [                                                    ]\n",
       "            [               2     2                2     2       ]\n",
       "            [     nx sqrt(ny  + nx )     ny sqrt(ny  + nx )      ]\n",
       "(%o88)      [ 1   -------------------    -------------------   0 ]\n",
       "            [          2       2              2       2          ]\n",
       "            [     (b ny  + b nx ) rho    (b ny  + b nx ) rho     ]\n",
       "            [                                                    ]\n",
       "            [                                     nx             ]\n",
       "            [ 0            1                    - --           0 ]\n",
       "            [                                     ny             ]\n",
       "            [                                                    ]\n",
       "            [ 0            0                      0            1 ]"
      ],
      "text/x-maxima": [
       "matrix([1,-(nx*sqrt(ny^2+nx^2))/((b*ny^2+b*nx^2)*rho),\n",
       "        -(ny*sqrt(ny^2+nx^2))/((b*ny^2+b*nx^2)*rho),0],\n",
       "       [1,(nx*sqrt(ny^2+nx^2))/((b*ny^2+b*nx^2)*rho),\n",
       "        (ny*sqrt(ny^2+nx^2))/((b*ny^2+b*nx^2)*rho),0],[0,1,-nx/ny,0],\n",
       "       [0,0,0,1])"
      ]
     },
     "execution_count": 59,
     "metadata": {},
     "output_type": "execute_result"
    },
    {
     "data": {
      "text/latex": [
       "\\[\\tag{${\\it \\%o}_{89}$}\\begin{pmatrix}1 & 1 & 0 & 0 \\\\ -\\frac{{\\it nx}\\,\\sqrt{{\\it ny}^2+{\\it nx}^2}}{\\left(b\\,{\\it ny}^2+b\\,{\\it nx}^2\\right)\\,\\rho} & \\frac{{\\it nx}\\,\\sqrt{{\\it ny}^2+{\\it nx}^2}}{\\left(b\\,{\\it ny}^2+b\\,{\\it nx}^2\\right)\\,\\rho} & 1 & 0 \\\\ -\\frac{{\\it ny}\\,\\sqrt{{\\it ny}^2+{\\it nx}^2}}{\\left(b\\,{\\it ny}^2+b\\,{\\it nx}^2\\right)\\,\\rho} & \\frac{{\\it ny}\\,\\sqrt{{\\it ny}^2+{\\it nx}^2}}{\\left(b\\,{\\it ny}^2+b\\,{\\it nx}^2\\right)\\,\\rho} & -\\frac{{\\it nx}}{{\\it ny}} & 0 \\\\ 0 & 0 & 0 & 1 \\\\ \\end{pmatrix}\\]"
      ],
      "text/plain": [
       "            [           1                     1            0    0 ]\n",
       "            [                                                     ]\n",
       "            [             2     2              2     2            ]\n",
       "            [   nx sqrt(ny  + nx )   nx sqrt(ny  + nx )           ]\n",
       "            [ - -------------------  -------------------   1    0 ]\n",
       "            [        2       2            2       2               ]\n",
       "            [   (b ny  + b nx ) rho  (b ny  + b nx ) rho          ]\n",
       "(%o89)      [                                                     ]\n",
       "            [             2     2              2     2            ]\n",
       "            [   ny sqrt(ny  + nx )   ny sqrt(ny  + nx )     nx    ]\n",
       "            [ - -------------------  -------------------  - --  0 ]\n",
       "            [        2       2            2       2         ny    ]\n",
       "            [   (b ny  + b nx ) rho  (b ny  + b nx ) rho          ]\n",
       "            [                                                     ]\n",
       "            [           0                     0            0    1 ]"
      ],
      "text/x-maxima": [
       "matrix([1,1,0,0],\n",
       "       [-(nx*sqrt(ny^2+nx^2))/((b*ny^2+b*nx^2)*rho),\n",
       "        (nx*sqrt(ny^2+nx^2))/((b*ny^2+b*nx^2)*rho),1,0],\n",
       "       [-(ny*sqrt(ny^2+nx^2))/((b*ny^2+b*nx^2)*rho),\n",
       "        (ny*sqrt(ny^2+nx^2))/((b*ny^2+b*nx^2)*rho),-nx/ny,0],[0,0,0,1])"
      ]
     },
     "execution_count": 59,
     "metadata": {},
     "output_type": "execute_result"
    }
   ],
   "source": [
    "P : matrix([1,-(nx*sqrt(ny^2+nx^2))/((b*ny^2+b*nx^2)*rho),\n",
    "   -(ny*sqrt(ny^2+nx^2))/((b*ny^2+b*nx^2)*rho),0],[1,(nx*sqrt(ny^2+nx^2))/((b*ny^2+b*nx^2)*rho),\n",
    "   (ny*sqrt(ny^2+nx^2))/((b*ny^2+b*nx^2)*rho),0],[0,1,-nx/ny,0],[0,0,0,1]);\n",
    "   P : transpose(P);"
   ]
  },
  {
   "cell_type": "code",
   "execution_count": 61,
   "metadata": {},
   "outputs": [
    {
     "data": {
      "text/latex": [
       "\\[\\tag{${\\it \\%o}_{90}$}\\begin{pmatrix}{\\it ny}\\,v+{\\it nx}\\,u & b^2\\,{\\it nx}\\,\\rho & b^2\\,{\\it ny}\\,\\rho & 0 \\\\ \\frac{{\\it nx}}{\\rho} & {\\it ny}\\,v+{\\it nx}\\,u & 0 & 0 \\\\ \\frac{{\\it ny}}{\\rho} & 0 & {\\it ny}\\,v+{\\it nx}\\,u & 0 \\\\ 0 & 0 & 0 & {\\it ny}\\,v+{\\it nx}\\,u \\\\ \\end{pmatrix}\\]"
      ],
      "text/plain": [
       "            [                2            2                      ]\n",
       "            [ ny v + nx u   b  nx rho    b  ny rho        0      ]\n",
       "            [                                                    ]\n",
       "            [     nx                                             ]\n",
       "            [     ---      ny v + nx u       0            0      ]\n",
       "(%o90)      [     rho                                            ]\n",
       "            [                                                    ]\n",
       "            [     ny                                             ]\n",
       "            [     ---           0       ny v + nx u       0      ]\n",
       "            [     rho                                            ]\n",
       "            [                                                    ]\n",
       "            [      0            0            0       ny v + nx u ]"
      ],
      "text/x-maxima": [
       "matrix([ny*v+nx*u,b^2*nx*rho,b^2*ny*rho,0],[nx/rho,ny*v+nx*u,0,0],\n",
       "       [ny/rho,0,ny*v+nx*u,0],[0,0,0,ny*v+nx*u])"
      ]
     },
     "execution_count": 61,
     "metadata": {},
     "output_type": "execute_result"
    }
   ],
   "source": [
    "ratsimp(P.lambda.invert(P));"
   ]
  },
  {
   "cell_type": "code",
   "execution_count": 53,
   "metadata": {},
   "outputs": [
    {
     "data": {
      "text/latex": [
       "\\[\\tag{${\\it \\%o}_{84}$}\\begin{pmatrix}{\\it ny}\\,v+{\\it nx}\\,u & b^2\\,{\\it nx}\\,\\rho & b^2\\,{\\it ny}\\,\\rho & 0 \\\\ \\frac{{\\it nx}}{\\rho} & {\\it ny}\\,v+{\\it nx}\\,u & 0 & 0 \\\\ \\frac{{\\it ny}}{\\rho} & 0 & {\\it ny}\\,v+{\\it nx}\\,u & 0 \\\\ 0 & 0 & 0 & {\\it ny}\\,v+{\\it nx}\\,u \\\\ \\end{pmatrix}\\]"
      ],
      "text/plain": [
       "            [                2            2                      ]\n",
       "            [ ny v + nx u   b  nx rho    b  ny rho        0      ]\n",
       "            [                                                    ]\n",
       "            [     nx                                             ]\n",
       "            [     ---      ny v + nx u       0            0      ]\n",
       "(%o84)      [     rho                                            ]\n",
       "            [                                                    ]\n",
       "            [     ny                                             ]\n",
       "            [     ---           0       ny v + nx u       0      ]\n",
       "            [     rho                                            ]\n",
       "            [                                                    ]\n",
       "            [      0            0            0       ny v + nx u ]"
      ],
      "text/x-maxima": [
       "matrix([ny*v+nx*u,b^2*nx*rho,b^2*ny*rho,0],[nx/rho,ny*v+nx*u,0,0],\n",
       "       [ny/rho,0,ny*v+nx*u,0],[0,0,0,ny*v+nx*u])"
      ]
     },
     "execution_count": 53,
     "metadata": {},
     "output_type": "execute_result"
    }
   ],
   "source": [
    "A;"
   ]
  },
  {
   "cell_type": "code",
   "execution_count": 63,
   "metadata": {},
   "outputs": [
    {
     "data": {
      "text/latex": [
       "\\[\\tag{${\\it \\%o}_{93}$}\\begin{pmatrix}\\frac{\\lambda_{2}+\\lambda_{1}}{2} & \\frac{\\left(b\\,\\lambda_{2}-b\\,\\lambda_{1}\\right)\\,{\\it nx}\\,\\sqrt{{\\it ny}^2+{\\it nx}^2}\\,\\rho}{2\\,{\\it ny}^2+2\\,{\\it nx}^2} & \\frac{\\left(b\\,\\lambda_{2}-b\\,\\lambda_{1}\\right)\\,{\\it ny}\\,\\sqrt{{\\it ny}^2+{\\it nx}^2}\\,\\rho}{2\\,{\\it ny}^2+2\\,{\\it nx}^2} & 0 \\\\ \\frac{\\left(\\lambda_{2}-\\lambda_{1}\\right)\\,{\\it nx}\\,\\sqrt{{\\it ny}^2+{\\it nx}^2}}{\\left(2\\,b\\,{\\it ny}^2+2\\,b\\,{\\it nx}^2\\right)\\,\\rho} & \\frac{2\\,\\lambda_{3}\\,{\\it ny}^2+\\left(\\lambda_{2}+\\lambda_{1}\\right)\\,{\\it nx}^2}{2\\,{\\it ny}^2+2\\,{\\it nx}^2} & -\\frac{\\left(2\\,\\lambda_{3}-\\lambda_{2}-\\lambda_{1}\\right)\\,{\\it nx}\\,{\\it ny}}{2\\,{\\it ny}^2+2\\,{\\it nx}^2} & 0 \\\\ \\frac{\\left(\\lambda_{2}-\\lambda_{1}\\right)\\,{\\it ny}\\,\\sqrt{{\\it ny}^2+{\\it nx}^2}}{\\left(2\\,b\\,{\\it ny}^2+2\\,b\\,{\\it nx}^2\\right)\\,\\rho} & -\\frac{\\left(2\\,\\lambda_{3}-\\lambda_{2}-\\lambda_{1}\\right)\\,{\\it nx}\\,{\\it ny}}{2\\,{\\it ny}^2+2\\,{\\it nx}^2} & \\frac{\\left(\\lambda_{2}+\\lambda_{1}\\right)\\,{\\it ny}^2+2\\,\\lambda_{3}\\,{\\it nx}^2}{2\\,{\\it ny}^2+2\\,{\\it nx}^2} & 0 \\\\ 0 & 0 & 0 & \\lambda_{4} \\\\ \\end{pmatrix}\\]"
      ],
      "text/plain": [
       "                [           lambda_2 + lambda_1            ]\n",
       "                [           -------------------            ]\n",
       "                [                    2                     ]\n",
       "                [                                          ]\n",
       "                [                                 2     2  ]\n",
       "                [ (lambda_2 - lambda_1) nx sqrt(ny  + nx ) ]\n",
       "                [ ---------------------------------------- ]\n",
       "                [                2         2               ]\n",
       "(%o93)  Col 1 = [         (2 b ny  + 2 b nx ) rho          ]\n",
       "                [                                          ]\n",
       "                [                                 2     2  ]\n",
       "                [ (lambda_2 - lambda_1) ny sqrt(ny  + nx ) ]\n",
       "                [ ---------------------------------------- ]\n",
       "                [                2         2               ]\n",
       "                [         (2 b ny  + 2 b nx ) rho          ]\n",
       "                [                                          ]\n",
       "                [                    0                     ]\n",
       "         [                                     2     2      ]\n",
       "         [ (b lambda_2 - b lambda_1) nx sqrt(ny  + nx ) rho ]\n",
       "         [ ------------------------------------------------ ]\n",
       "         [                      2       2                   ]\n",
       "         [                  2 ny  + 2 nx                    ]\n",
       "         [                                                  ]\n",
       "         [                 2                           2    ]\n",
       "         [    2 lambda_3 ny  + (lambda_2 + lambda_1) nx     ]\n",
       " Col 2 = [    ------------------------------------------    ]\n",
       "         [                      2       2                   ]\n",
       "         [                  2 ny  + 2 nx                    ]\n",
       "         [                                                  ]\n",
       "         [      (2 lambda_3 - lambda_2 - lambda_1) nx ny    ]\n",
       "         [    - ----------------------------------------    ]\n",
       "         [                       2       2                  ]\n",
       "         [                   2 ny  + 2 nx                   ]\n",
       "         [                                                  ]\n",
       "         [                        0                         ]\n",
       "         [                                     2     2      ]\n",
       "         [ (b lambda_2 - b lambda_1) ny sqrt(ny  + nx ) rho ]\n",
       "         [ ------------------------------------------------ ]\n",
       "         [                      2       2                   ]\n",
       "         [                  2 ny  + 2 nx                    ]\n",
       "         [                                                  ]\n",
       "         [      (2 lambda_3 - lambda_2 - lambda_1) nx ny    ]\n",
       "         [    - ----------------------------------------    ]\n",
       " Col 3 = [                       2       2                  ]\n",
       "         [                   2 ny  + 2 nx                   ]\n",
       "         [                                                  ]\n",
       "         [                            2                2    ]\n",
       "         [    (lambda_2 + lambda_1) ny  + 2 lambda_3 nx     ]\n",
       "         [    ------------------------------------------    ]\n",
       "         [                      2       2                   ]\n",
       "         [                  2 ny  + 2 nx                    ]\n",
       "         [                                                  ]\n",
       "         [                        0                         ]\n",
       "         [    0     ]\n",
       "         [          ]\n",
       "         [    0     ]\n",
       " Col 4 = [          ]\n",
       "         [    0     ]\n",
       "         [          ]\n",
       "         [ lambda_4 ]"
      ],
      "text/x-maxima": [
       "matrix([(lambda_2+lambda_1)/2,\n",
       "        ((b*lambda_2-b*lambda_1)*nx*sqrt(ny^2+nx^2)*rho)/(2*ny^2+2*nx^2),\n",
       "        ((b*lambda_2-b*lambda_1)*ny*sqrt(ny^2+nx^2)*rho)/(2*ny^2+2*nx^2),0],\n",
       "       [((lambda_2-lambda_1)*nx*sqrt(ny^2+nx^2))/((2*b*ny^2+2*b*nx^2)*rho),\n",
       "        (2*lambda_3*ny^2+(lambda_2+lambda_1)*nx^2)/(2*ny^2+2*nx^2),\n",
       "        -((2*lambda_3-lambda_2-lambda_1)*nx*ny)/(2*ny^2+2*nx^2),0],\n",
       "       [((lambda_2-lambda_1)*ny*sqrt(ny^2+nx^2))/((2*b*ny^2+2*b*nx^2)*rho),\n",
       "        -((2*lambda_3-lambda_2-lambda_1)*nx*ny)/(2*ny^2+2*nx^2),\n",
       "        ((lambda_2+lambda_1)*ny^2+2*lambda_3*nx^2)/(2*ny^2+2*nx^2),0],\n",
       "       [0,0,0,lambda_4])"
      ]
     },
     "execution_count": 63,
     "metadata": {},
     "output_type": "execute_result"
    }
   ],
   "source": [
    "ratsimp(P.lambda_s.invert(P));"
   ]
  },
  {
   "cell_type": "markdown",
   "metadata": {},
   "source": [
    "And we have retrieved the final scaling matrix for the Flux Difference Splitting"
   ]
  },
  {
   "cell_type": "code",
   "execution_count": null,
   "metadata": {},
   "outputs": [],
   "source": []
  },
  {
   "cell_type": "code",
   "execution_count": null,
   "metadata": {},
   "outputs": [],
   "source": []
  },
  {
   "cell_type": "code",
   "execution_count": 45,
   "metadata": {},
   "outputs": [
    {
     "data": {
      "text/latex": [
       "\\[\\tag{${\\it \\%o}_{83}$}\\begin{pmatrix}\\vartheta & 0 & 0 & \\frac{d}{d\\,T}\\,\\rho \\\\ \\vartheta\\,u & \\rho & 0 & \\frac{d}{d\\,T}\\,\\rho\\,u \\\\ \\vartheta\\,v & 0 & \\rho & \\frac{d}{d\\,T}\\,\\rho\\,v \\\\ H\\,\\vartheta-1 & \\rho\\,u & \\rho\\,v & H\\,\\left(\\frac{d}{d\\,T}\\,\\rho\\right)+{\\it cp}\\,\\rho \\\\ \\end{pmatrix}\\]"
      ],
      "text/plain": [
       "                [                                 drho       ]\n",
       "                [    theta       0      0         ----       ]\n",
       "                [                                  dT        ]\n",
       "                [                                            ]\n",
       "                [                                drho        ]\n",
       "                [   theta u     rho     0        ---- u      ]\n",
       "                [                                 dT         ]\n",
       "(%o83)          [                                            ]\n",
       "                [                                drho        ]\n",
       "                [   theta v      0     rho       ---- v      ]\n",
       "                [                                 dT         ]\n",
       "                [                                            ]\n",
       "                [                              drho          ]\n",
       "                [ H theta - 1  rho u  rho v  H ---- + cp rho ]\n",
       "                [                               dT           ]"
      ],
      "text/x-maxima": [
       "matrix([theta,0,0,'diff(rho,T,1)],[theta*u,rho,0,'diff(rho,T,1)*u],\n",
       "       [theta*v,0,rho,'diff(rho,T,1)*v],\n",
       "       [H*theta-1,rho*u,rho*v,H*'diff(rho,T,1)+cp*rho])"
      ]
     },
     "execution_count": 45,
     "metadata": {},
     "output_type": "execute_result"
    }
   ],
   "source": [
    "Gamma : subst(diff(rho,p)=theta,dWdQ);"
   ]
  },
  {
   "cell_type": "markdown",
   "metadata": {},
   "source": [
    "This is the convective matrix for the quasilinear system with primitive variables $V$."
   ]
  },
  {
   "cell_type": "code",
   "execution_count": 46,
   "metadata": {},
   "outputs": [
    {
     "data": {
      "text/latex": [
       "\\[\\tag{${\\it \\%o}_{84}$}\\begin{pmatrix}\\frac{\\left(v^2+u^2\\right)\\,\\gamma-v^2-u^2}{2} & u-u\\,\\gamma & v-v\\,\\gamma & \\gamma-1 \\\\ -\\frac{u}{\\rho} & \\frac{1}{\\rho} & 0 & 0 \\\\ -\\frac{v}{\\rho} & 0 & \\frac{1}{\\rho} & 0 \\\\ \\frac{\\left(v^2+u^2\\right)\\,\\gamma^2+\\left(-v^2-u^2\\right)\\,\\gamma-2\\,c^2}{2\\,{\\it cp}\\,\\rho\\,\\gamma-2\\,{\\it cp}\\,\\rho} & -\\frac{u\\,\\gamma}{{\\it cp}\\,\\rho} & -\\frac{v\\,\\gamma}{{\\it cp}\\,\\rho} & \\frac{\\gamma}{{\\it cp}\\,\\rho} \\\\ \\end{pmatrix}\\]"
      ],
      "text/plain": [
       "                [             2    2           2    2           ]\n",
       "                [           (v  + u ) gamma - v  - u            ]\n",
       "                [           -------------------------           ]\n",
       "                [                       2                       ]\n",
       "                [                                               ]\n",
       "                [                        u                      ]\n",
       "                [                     - ---                     ]\n",
       "                [                       rho                     ]\n",
       "(%o84)  Col 1 = [                                               ]\n",
       "                [                        v                      ]\n",
       "                [                     - ---                     ]\n",
       "                [                       rho                     ]\n",
       "                [                                               ]\n",
       "                [   2    2       2        2     2             2 ]\n",
       "                [ (v  + u ) gamma  + ((- v ) - u ) gamma - 2 c  ]\n",
       "                [ --------------------------------------------- ]\n",
       "                [           2 cp rho gamma - 2 cp rho           ]\n",
       "                  [ u - u gamma ]         [ v - v gamma ]\n",
       "                  [             ]         [             ]         [ gamma - 1 ]\n",
       "                  [      1      ]         [      0      ]         [           ]\n",
       "                  [     ---     ]         [             ]         [     0     ]\n",
       "                  [     rho     ]         [      1      ]         [           ]\n",
       "          Col 2 = [             ] Col 3 = [     ---     ] Col 4 = [     0     ]\n",
       "                  [      0      ]         [     rho     ]         [           ]\n",
       "                  [             ]         [             ]         [  gamma    ]\n",
       "                  [    u gamma  ]         [    v gamma  ]         [  ------   ]\n",
       "                  [  - -------  ]         [  - -------  ]         [  cp rho   ]\n",
       "                  [    cp rho   ]         [    cp rho   ]"
      ],
      "text/x-maxima": [
       "matrix([((v^2+u^2)*gamma-v^2-u^2)/2,u-u*gamma,v-v*gamma,gamma-1],\n",
       "       [-u/rho,1/rho,0,0],[-v/rho,0,1/rho,0],\n",
       "       [((v^2+u^2)*gamma^2+((-v^2)-u^2)*gamma-2*c^2)\n",
       "         /(2*cp*rho*gamma-2*cp*rho),-(u*gamma)/(cp*rho),-(v*gamma)/(cp*rho),\n",
       "        gamma/(cp*rho)])"
      ]
     },
     "execution_count": 46,
     "metadata": {},
     "output_type": "execute_result"
    }
   ],
   "source": [
    "inv_dUdV : ratsimp(invert(M));"
   ]
  },
  {
   "cell_type": "code",
   "execution_count": 47,
   "metadata": {},
   "outputs": [
    {
     "data": {
      "text/latex": [
       "\\[\\tag{${\\it \\%o}_{85}$}\\begin{pmatrix}-\\frac{\\left(\\frac{d}{d\\,p}\\,\\rho\\,u\\,v^2+\\frac{d}{d\\,p}\\,\\rho\\,u^3+\\left(2-2\\,H\\,\\left(\\frac{d}{d\\,p}\\,\\rho\\right)\\right)\\,u\\right)\\,\\gamma-\\frac{d}{d\\,p}\\,\\rho\\,u\\,v^2-\\frac{d}{d\\,p}\\,\\rho\\,u^3+\\left(2\\,H\\,\\left(\\frac{d}{d\\,p}\\,\\rho\\right)-2\\right)\\,u}{2} & -\\frac{\\left(\\rho\\,v^2+\\rho\\,u^2-2\\,H\\,\\rho\\right)\\,\\gamma-\\rho\\,v^2-\\rho\\,u^2+2\\,H\\,\\rho}{2} & 0 & -\\frac{\\left(\\frac{d}{d\\,T}\\,\\rho\\,u\\,v^2+\\frac{d}{d\\,T}\\,\\rho\\,u^3+\\left(-2\\,H\\,\\left(\\frac{d}{d\\,T}\\,\\rho\\right)-2\\,{\\it cp}\\,\\rho\\right)\\,u\\right)\\,\\gamma-\\frac{d}{d\\,T}\\,\\rho\\,u\\,v^2-\\frac{d}{d\\,T}\\,\\rho\\,u^3+\\left(2\\,H\\,\\left(\\frac{d}{d\\,T}\\,\\rho\\right)+2\\,{\\it cp}\\,\\rho\\right)\\,u}{2} \\\\ \\frac{1}{\\rho} & u & 0 & 0 \\\\ 0 & 0 & u & 0 \\\\ -\\frac{\\left(\\frac{d}{d\\,p}\\,\\rho\\,u\\,v^2+\\frac{d}{d\\,p}\\,\\rho\\,u^3+\\left(2-2\\,H\\,\\left(\\frac{d}{d\\,p}\\,\\rho\\right)\\right)\\,u\\right)\\,\\gamma^2+\\left(-\\frac{d}{d\\,p}\\,\\rho\\,u\\,v^2-\\frac{d}{d\\,p}\\,\\rho\\,u^3+\\left(2\\,H\\,\\left(\\frac{d}{d\\,p}\\,\\rho\\right)-2\\right)\\,u\\right)\\,\\gamma+2\\,c^2\\,\\left(\\frac{d}{d\\,p}\\,\\rho\\right)\\,u}{2\\,{\\it cp}\\,\\rho\\,\\gamma-2\\,{\\it cp}\\,\\rho} & -\\frac{\\left(v^2+u^2-2\\,H\\right)\\,\\gamma^2+\\left(-v^2-u^2+2\\,H\\right)\\,\\gamma+2\\,c^2}{2\\,{\\it cp}\\,\\gamma-2\\,{\\it cp}} & 0 & -\\frac{\\left(\\frac{d}{d\\,T}\\,\\rho\\,u\\,v^2+\\frac{d}{d\\,T}\\,\\rho\\,u^3+\\left(-2\\,H\\,\\left(\\frac{d}{d\\,T}\\,\\rho\\right)-2\\,{\\it cp}\\,\\rho\\right)\\,u\\right)\\,\\gamma^2+\\left(-\\frac{d}{d\\,T}\\,\\rho\\,u\\,v^2-\\frac{d}{d\\,T}\\,\\rho\\,u^3+\\left(2\\,H\\,\\left(\\frac{d}{d\\,T}\\,\\rho\\right)+2\\,{\\it cp}\\,\\rho\\right)\\,u\\right)\\,\\gamma+2\\,c^2\\,\\left(\\frac{d}{d\\,T}\\,\\rho\\right)\\,u}{2\\,{\\it cp}\\,\\rho\\,\\gamma-2\\,{\\it cp}\\,\\rho} \\\\ \\end{pmatrix}\\]"
      ],
      "text/plain": [
       "                   drho    2   drho  3            drho             drho    2\n",
       "(%o85) matrix([- ((---- u v  + ---- u  + (2 - 2 H ----) u) gamma - ---- u v\n",
       "                    dp          dp                 dp               dp\n",
       "   drho  3        drho\n",
       " - ---- u  + (2 H ---- - 2) u)/2, \n",
       "    dp             dp\n",
       "        2        2                         2        2\n",
       "  (rho v  + rho u  - 2 H rho) gamma - rho v  - rho u  + 2 H rho\n",
       "- -------------------------------------------------------------, 0, \n",
       "                                2\n",
       "    drho    2   drho  3           drho                         drho    2\n",
       "- ((---- u v  + ---- u  + ((- 2 H ----) - 2 cp rho) u) gamma - ---- u v\n",
       "     dT          dT                dT                           dT\n",
       "   drho  3        drho                      1\n",
       " - ---- u  + (2 H ---- + 2 cp rho) u)/2], [---, u, 0, 0], [0, 0, u, 0], \n",
       "    dT             dT                      rho\n",
       "     drho    2   drho  3            drho          2\n",
       "[- ((---- u v  + ---- u  + (2 - 2 H ----) u) gamma\n",
       "      dp          dp                 dp\n",
       "       drho    2    drho  3        drho                    2 drho\n",
       " + ((- ---- u v ) - ---- u  + (2 H ---- - 2) u) gamma + 2 c  ---- u)\n",
       "        dp           dp             dp                        dp\n",
       "/(2 cp rho gamma - 2 cp rho), \n",
       "    2    2             2        2     2                   2\n",
       "  (v  + u  - 2 H) gamma  + ((- v ) - u  + 2 H) gamma + 2 c\n",
       "- ---------------------------------------------------------, 0, \n",
       "                      2 cp gamma - 2 cp\n",
       "    drho    2   drho  3           drho                      2\n",
       "- ((---- u v  + ---- u  + ((- 2 H ----) - 2 cp rho) u) gamma\n",
       "     dT          dT                dT\n",
       "       drho    2    drho  3        drho                           2 drho\n",
       " + ((- ---- u v ) - ---- u  + (2 H ---- + 2 cp rho) u) gamma + 2 c  ---- u)\n",
       "        dT           dT             dT                               dT\n",
       "/(2 cp rho gamma - 2 cp rho)])"
      ],
      "text/x-maxima": [
       "matrix([-(('diff(rho,p,1)*u*v^2+'diff(rho,p,1)*u^3+(2-2*H*'diff(rho,p,1))*u)\n",
       "         *gamma\n",
       "         -'diff(rho,p,1)*u*v^2-'diff(rho,p,1)*u^3+(2*H*'diff(rho,p,1)-2)*u)\n",
       "         /2,-((rho*v^2+rho*u^2-2*H*rho)*gamma-rho*v^2-rho*u^2+2*H*rho)/2,0,\n",
       "        -(('diff(rho,T,1)*u*v^2+'diff(rho,T,1)*u^3\n",
       "                               +((-2*H*'diff(rho,T,1))-2*cp*rho)*u)\n",
       "         *gamma\n",
       "         -'diff(rho,T,1)*u*v^2-'diff(rho,T,1)*u^3\n",
       "         +(2*H*'diff(rho,T,1)+2*cp*rho)*u)\n",
       "         /2],[1/rho,u,0,0],[0,0,u,0],\n",
       "       [-(('diff(rho,p,1)*u*v^2+'diff(rho,p,1)*u^3+(2-2*H*'diff(rho,p,1))*u)\n",
       "         *gamma^2\n",
       "         +((-'diff(rho,p,1)*u*v^2)-'diff(rho,p,1)*u^3\n",
       "                                  +(2*H*'diff(rho,p,1)-2)*u)\n",
       "          *gamma+2*c^2*'diff(rho,p,1)*u)\n",
       "         /(2*cp*rho*gamma-2*cp*rho),\n",
       "        -((v^2+u^2-2*H)*gamma^2+((-v^2)-u^2+2*H)*gamma+2*c^2)\n",
       "         /(2*cp*gamma-2*cp),0,\n",
       "        -(('diff(rho,T,1)*u*v^2+'diff(rho,T,1)*u^3\n",
       "                               +((-2*H*'diff(rho,T,1))-2*cp*rho)*u)\n",
       "         *gamma^2\n",
       "         +((-'diff(rho,T,1)*u*v^2)-'diff(rho,T,1)*u^3\n",
       "                                  +(2*H*'diff(rho,T,1)+2*cp*rho)*u)\n",
       "          *gamma+2*c^2*'diff(rho,T,1)*u)\n",
       "         /(2*cp*rho*gamma-2*cp*rho)])"
      ]
     },
     "execution_count": 47,
     "metadata": {},
     "output_type": "execute_result"
    }
   ],
   "source": [
    "A2:ratsimp(inv_dUdV.dFdV);"
   ]
  },
  {
   "cell_type": "code",
   "execution_count": 48,
   "metadata": {},
   "outputs": [
    {
     "data": {
      "text/latex": [
       "\\[\\tag{${\\it \\%o}_{86}$}\\begin{pmatrix}-\\frac{\\left(\\frac{d}{d\\,p}\\,\\rho\\,u\\,v^2+\\frac{d}{d\\,p}\\,\\rho\\,u^3+\\left(2-2\\,H\\,\\left(\\frac{d}{d\\,p}\\,\\rho\\right)\\right)\\,u\\right)\\,\\gamma-\\frac{d}{d\\,p}\\,\\rho\\,u\\,v^2-\\frac{d}{d\\,p}\\,\\rho\\,u^3+\\left(2\\,H\\,\\left(\\frac{d}{d\\,p}\\,\\rho\\right)-2\\right)\\,u}{2} & -\\frac{\\left(\\rho\\,v^2+\\rho\\,u^2-2\\,H\\,\\rho\\right)\\,\\gamma-\\rho\\,v^2-\\rho\\,u^2+2\\,H\\,\\rho}{2} & 0 & \\frac{\\left(\\rho\\,u\\,v^2+\\rho\\,u^3+\\left(2\\,T\\,{\\it cp}-2\\,H\\right)\\,\\rho\\,u\\right)\\,\\gamma-\\rho\\,u\\,v^2-\\rho\\,u^3+\\left(2\\,H-2\\,T\\,{\\it cp}\\right)\\,\\rho\\,u}{2\\,T} \\\\ \\frac{1}{\\rho} & u & 0 & 0 \\\\ 0 & 0 & u & 0 \\\\ -\\frac{\\left(\\frac{d}{d\\,p}\\,\\rho\\,u\\,v^2+\\frac{d}{d\\,p}\\,\\rho\\,u^3+\\left(2-2\\,H\\,\\left(\\frac{d}{d\\,p}\\,\\rho\\right)\\right)\\,u\\right)\\,\\gamma^2+\\left(-\\frac{d}{d\\,p}\\,\\rho\\,u\\,v^2-\\frac{d}{d\\,p}\\,\\rho\\,u^3+\\left(2\\,H\\,\\left(\\frac{d}{d\\,p}\\,\\rho\\right)-2\\right)\\,u\\right)\\,\\gamma+2\\,c^2\\,\\left(\\frac{d}{d\\,p}\\,\\rho\\right)\\,u}{2\\,{\\it cp}\\,\\rho\\,\\gamma-2\\,{\\it cp}\\,\\rho} & -\\frac{\\left(v^2+u^2-2\\,H\\right)\\,\\gamma^2+\\left(-v^2-u^2+2\\,H\\right)\\,\\gamma+2\\,c^2}{2\\,{\\it cp}\\,\\gamma-2\\,{\\it cp}} & 0 & \\frac{\\left(u\\,v^2+u^3+\\left(2\\,T\\,{\\it cp}-2\\,H\\right)\\,u\\right)\\,\\gamma^2+\\left(-u\\,v^2-u^3+\\left(2\\,H-2\\,T\\,{\\it cp}\\right)\\,u\\right)\\,\\gamma+2\\,c^2\\,u}{2\\,T\\,{\\it cp}\\,\\gamma-2\\,T\\,{\\it cp}} \\\\ \\end{pmatrix}\\]"
      ],
      "text/plain": [
       "                   drho    2   drho  3            drho             drho    2\n",
       "(%o86) matrix([- ((---- u v  + ---- u  + (2 - 2 H ----) u) gamma - ---- u v\n",
       "                    dp          dp                 dp               dp\n",
       "   drho  3        drho\n",
       " - ---- u  + (2 H ---- - 2) u)/2, \n",
       "    dp             dp\n",
       "        2        2                         2        2\n",
       "  (rho v  + rho u  - 2 H rho) gamma - rho v  - rho u  + 2 H rho\n",
       "- -------------------------------------------------------------, 0, \n",
       "                                2\n",
       "         2        3                                        2        3\n",
       "((rho u v  + rho u  + (2 T cp - 2 H) rho u) gamma - rho u v  - rho u\n",
       "                                   1\n",
       " + (2 H - 2 T cp) rho u)/(2 T)], [---, u, 0, 0], [0, 0, u, 0], \n",
       "                                  rho\n",
       "     drho    2   drho  3            drho          2\n",
       "[- ((---- u v  + ---- u  + (2 - 2 H ----) u) gamma\n",
       "      dp          dp                 dp\n",
       "       drho    2    drho  3        drho                    2 drho\n",
       " + ((- ---- u v ) - ---- u  + (2 H ---- - 2) u) gamma + 2 c  ---- u)\n",
       "        dp           dp             dp                        dp\n",
       "/(2 cp rho gamma - 2 cp rho), \n",
       "    2    2             2        2     2                   2\n",
       "  (v  + u  - 2 H) gamma  + ((- v ) - u  + 2 H) gamma + 2 c\n",
       "- ---------------------------------------------------------, 0, \n",
       "                      2 cp gamma - 2 cp\n",
       "     2    3                          2          2     3\n",
       "((u v  + u  + (2 T cp - 2 H) u) gamma  + ((- u v ) - u  + (2 H - 2 T cp) u)\n",
       "            2\n",
       " gamma + 2 c  u)/(2 T cp gamma - 2 T cp)])"
      ],
      "text/x-maxima": [
       "matrix([-(('diff(rho,p,1)*u*v^2+'diff(rho,p,1)*u^3+(2-2*H*'diff(rho,p,1))*u)\n",
       "         *gamma\n",
       "         -'diff(rho,p,1)*u*v^2-'diff(rho,p,1)*u^3+(2*H*'diff(rho,p,1)-2)*u)\n",
       "         /2,-((rho*v^2+rho*u^2-2*H*rho)*gamma-rho*v^2-rho*u^2+2*H*rho)/2,0,\n",
       "        ((rho*u*v^2+rho*u^3+(2*T*cp-2*H)*rho*u)*gamma\n",
       "         -rho*u*v^2-rho*u^3+(2*H-2*T*cp)*rho*u)\n",
       "         /(2*T)],[1/rho,u,0,0],[0,0,u,0],\n",
       "       [-(('diff(rho,p,1)*u*v^2+'diff(rho,p,1)*u^3+(2-2*H*'diff(rho,p,1))*u)\n",
       "         *gamma^2\n",
       "         +((-'diff(rho,p,1)*u*v^2)-'diff(rho,p,1)*u^3\n",
       "                                  +(2*H*'diff(rho,p,1)-2)*u)\n",
       "          *gamma+2*c^2*'diff(rho,p,1)*u)\n",
       "         /(2*cp*rho*gamma-2*cp*rho),\n",
       "        -((v^2+u^2-2*H)*gamma^2+((-v^2)-u^2+2*H)*gamma+2*c^2)\n",
       "         /(2*cp*gamma-2*cp),0,\n",
       "        ((u*v^2+u^3+(2*T*cp-2*H)*u)*gamma^2\n",
       "         +((-u*v^2)-u^3+(2*H-2*T*cp)*u)*gamma+2*c^2*u)\n",
       "         /(2*T*cp*gamma-2*T*cp)])"
      ]
     },
     "execution_count": 48,
     "metadata": {},
     "output_type": "execute_result"
    },
    {
     "data": {
      "text/latex": [
       "\\[\\tag{${\\it \\%o}_{87}$}\\begin{pmatrix}-\\frac{\\left(u\\,v^2+u^3-2\\,H\\,u\\right)\\,\\gamma^2+\\left(-u\\,v^2-u^3+\\left(2\\,c^2+2\\,H\\right)\\,u\\right)\\,\\gamma-2\\,c^2\\,u}{2\\,c^2} & -\\frac{\\left(\\rho\\,v^2+\\rho\\,u^2-2\\,H\\,\\rho\\right)\\,\\gamma-\\rho\\,v^2-\\rho\\,u^2+2\\,H\\,\\rho}{2} & 0 & \\frac{\\left(\\rho\\,u\\,v^2+\\rho\\,u^3+\\left(2\\,T\\,{\\it cp}-2\\,H\\right)\\,\\rho\\,u\\right)\\,\\gamma-\\rho\\,u\\,v^2-\\rho\\,u^3+\\left(2\\,H-2\\,T\\,{\\it cp}\\right)\\,\\rho\\,u}{2\\,T} \\\\ \\frac{1}{\\rho} & u & 0 & 0 \\\\ 0 & 0 & u & 0 \\\\ -\\frac{\\left(u\\,v^2+u^3-2\\,H\\,u\\right)\\,\\gamma^3+\\left(-u\\,v^2-u^3+\\left(2\\,c^2+2\\,H\\right)\\,u\\right)\\,\\gamma^2}{2\\,c^2\\,{\\it cp}\\,\\rho\\,\\gamma-2\\,c^2\\,{\\it cp}\\,\\rho} & -\\frac{\\left(v^2+u^2-2\\,H\\right)\\,\\gamma^2+\\left(-v^2-u^2+2\\,H\\right)\\,\\gamma+2\\,c^2}{2\\,{\\it cp}\\,\\gamma-2\\,{\\it cp}} & 0 & \\frac{\\left(u\\,v^2+u^3+\\left(2\\,T\\,{\\it cp}-2\\,H\\right)\\,u\\right)\\,\\gamma^2+\\left(-u\\,v^2-u^3+\\left(2\\,H-2\\,T\\,{\\it cp}\\right)\\,u\\right)\\,\\gamma+2\\,c^2\\,u}{2\\,T\\,{\\it cp}\\,\\gamma-2\\,T\\,{\\it cp}} \\\\ \\end{pmatrix}\\]"
      ],
      "text/plain": [
       "                      2    3               2\n",
       "(%o87) matrix([- ((u v  + u  - 2 H u) gamma\n",
       "          2     3       2                      2        2\n",
       " + ((- u v ) - u  + (2 c  + 2 H) u) gamma - 2 c  u)/(2 c ), \n",
       "        2        2                         2        2\n",
       "  (rho v  + rho u  - 2 H rho) gamma - rho v  - rho u  + 2 H rho\n",
       "- -------------------------------------------------------------, 0, \n",
       "                                2\n",
       "         2        3                                        2        3\n",
       "((rho u v  + rho u  + (2 T cp - 2 H) rho u) gamma - rho u v  - rho u\n",
       "                                   1\n",
       " + (2 H - 2 T cp) rho u)/(2 T)], [---, u, 0, 0], [0, 0, u, 0], \n",
       "                                  rho\n",
       "       2    3               3          2     3       2                2\n",
       "   (u v  + u  - 2 H u) gamma  + ((- u v ) - u  + (2 c  + 2 H) u) gamma\n",
       "[- --------------------------------------------------------------------, \n",
       "                        2                   2\n",
       "                     2 c  cp rho gamma - 2 c  cp rho\n",
       "    2    2             2        2     2                   2\n",
       "  (v  + u  - 2 H) gamma  + ((- v ) - u  + 2 H) gamma + 2 c\n",
       "- ---------------------------------------------------------, 0, \n",
       "                      2 cp gamma - 2 cp\n",
       "     2    3                          2          2     3\n",
       "((u v  + u  + (2 T cp - 2 H) u) gamma  + ((- u v ) - u  + (2 H - 2 T cp) u)\n",
       "            2\n",
       " gamma + 2 c  u)/(2 T cp gamma - 2 T cp)])"
      ],
      "text/x-maxima": [
       "matrix([-((u*v^2+u^3-2*H*u)*gamma^2+((-u*v^2)-u^3+(2*c^2+2*H)*u)*gamma\n",
       "                                   -2*c^2*u)\n",
       "         /(2*c^2),\n",
       "        -((rho*v^2+rho*u^2-2*H*rho)*gamma-rho*v^2-rho*u^2+2*H*rho)/2,0,\n",
       "        ((rho*u*v^2+rho*u^3+(2*T*cp-2*H)*rho*u)*gamma\n",
       "         -rho*u*v^2-rho*u^3+(2*H-2*T*cp)*rho*u)\n",
       "         /(2*T)],[1/rho,u,0,0],[0,0,u,0],\n",
       "       [-((u*v^2+u^3-2*H*u)*gamma^3+((-u*v^2)-u^3+(2*c^2+2*H)*u)*gamma^2)\n",
       "         /(2*c^2*cp*rho*gamma-2*c^2*cp*rho),\n",
       "        -((v^2+u^2-2*H)*gamma^2+((-v^2)-u^2+2*H)*gamma+2*c^2)\n",
       "         /(2*cp*gamma-2*cp),0,\n",
       "        ((u*v^2+u^3+(2*T*cp-2*H)*u)*gamma^2\n",
       "         +((-u*v^2)-u^3+(2*H-2*T*cp)*u)*gamma+2*c^2*u)\n",
       "         /(2*T*cp*gamma-2*T*cp)])"
      ]
     },
     "execution_count": 48,
     "metadata": {},
     "output_type": "execute_result"
    }
   ],
   "source": [
    "A3:ratsimp(subst(diff(rho,T)=-rho/T,A2));\n",
    "A3:ratsimp(subst(diff(rho,p)=gamma/c^2,A3));"
   ]
  },
  {
   "cell_type": "markdown",
   "metadata": {},
   "source": [
    "We also see that the matrix $\\tilde A$ actually should also depend on the derivatives of the density:"
   ]
  },
  {
   "cell_type": "code",
   "execution_count": 49,
   "metadata": {},
   "outputs": [
    {
     "data": {
      "text/latex": [
       "\\[\\tag{${\\it \\%o}_{88}$}\\begin{pmatrix}u & c^2\\,\\rho & 0 & 0 \\\\ \\frac{1}{\\rho} & u & 0 & 0 \\\\ 0 & 0 & u & 0 \\\\ 0 & \\frac{c^2}{{\\it cp}} & 0 & u \\\\ \\end{pmatrix}\\]"
      ],
      "text/plain": [
       "                             [       2           ]\n",
       "                             [  u   c  rho  0  0 ]\n",
       "                             [                   ]\n",
       "                             [  1                ]\n",
       "                             [ ---    u     0  0 ]\n",
       "                             [ rho               ]\n",
       "(%o88)                       [                   ]\n",
       "                             [  0     0     u  0 ]\n",
       "                             [                   ]\n",
       "                             [         2         ]\n",
       "                             [        c          ]\n",
       "                             [  0     --    0  u ]\n",
       "                             [        cp         ]"
      ],
      "text/x-maxima": [
       "matrix([u,c^2*rho,0,0],[1/rho,u,0,0],[0,0,u,0],[0,c^2/cp,0,u])"
      ]
     },
     "execution_count": 49,
     "metadata": {},
     "output_type": "execute_result"
    }
   ],
   "source": [
    "Atilde;"
   ]
  },
  {
   "cell_type": "markdown",
   "metadata": {},
   "source": [
    "The matrix M is the transformation matrix to go from conservative to primitive variables. We should now also go from conservative form to quasilinear (nonconservative) form. For this, we need to write F in terms of the primitive variables and find $A = \\frac{\\partial F}{\\partial U}$"
   ]
  },
  {
   "cell_type": "markdown",
   "metadata": {},
   "source": [
    "First, F in terms of the primitive variables:"
   ]
  },
  {
   "cell_type": "code",
   "execution_count": 50,
   "metadata": {},
   "outputs": [
    {
     "data": {
      "text/latex": [
       "\\[\\tag{${\\it \\%o}_{89}$}\\begin{pmatrix}u & c^2\\,\\rho & 0 & 0 \\\\ \\frac{1}{\\rho} & u & 0 & 0 \\\\ 0 & 0 & u & 0 \\\\ 0 & \\frac{c^2}{{\\it cp}} & 0 & u \\\\ \\end{pmatrix}\\]"
      ],
      "text/plain": [
       "                             [       2           ]\n",
       "                             [  u   c  rho  0  0 ]\n",
       "                             [                   ]\n",
       "                             [  1                ]\n",
       "                             [ ---    u     0  0 ]\n",
       "                             [ rho               ]\n",
       "(%o89)                       [                   ]\n",
       "                             [  0     0     u  0 ]\n",
       "                             [                   ]\n",
       "                             [         2         ]\n",
       "                             [        c          ]\n",
       "                             [  0     --    0  u ]\n",
       "                             [        cp         ]"
      ],
      "text/x-maxima": [
       "matrix([u,c^2*rho,0,0],[1/rho,u,0,0],[0,0,u,0],[0,c^2/cp,0,u])"
      ]
     },
     "execution_count": 50,
     "metadata": {},
     "output_type": "execute_result"
    }
   ],
   "source": [
    "Atilde2 : ratsimp(invert(M).A1.M);"
   ]
  },
  {
   "cell_type": "markdown",
   "metadata": {},
   "source": [
    "with this form, we can still retrieve the eigenvalues in their most simplified form:"
   ]
  },
  {
   "cell_type": "code",
   "execution_count": 51,
   "metadata": {},
   "outputs": [
    {
     "data": {
      "text/latex": [
       "\\[\\tag{${\\it \\%o}_{90}$}\\left[ \\left[ u-c , u+c , u \\right]  , \\left[ 1 , 1 , 2 \\right]  \\right] \\]"
      ],
      "text/plain": [
       "(%o90)                  [[u - c, u + c, u], [1, 1, 2]]"
      ],
      "text/x-maxima": [
       "[[u-c,u+c,u],[1,1,2]]"
      ]
     },
     "execution_count": 51,
     "metadata": {},
     "output_type": "execute_result"
    }
   ],
   "source": [
    "ratexpand(ratsimp(eigenvalues(Atilde2)));"
   ]
  },
  {
   "cell_type": "markdown",
   "metadata": {},
   "source": [
    "Note that we can now get the preconditioning matrix by simply replacing $\\frac{\\partial \\rho}{\\partial p}$ by the preconditioning constant $\\beta$. This is because this is the only term that determines the eigenvalues $u+c$ and $u-c$. So if we want to modify the condition number, we need to modify this term.\n"
   ]
  },
  {
   "cell_type": "code",
   "execution_count": 52,
   "metadata": {},
   "outputs": [
    {
     "data": {
      "text/latex": [
       "\\[\\tag{${\\it \\%o}_{91}$}\\begin{pmatrix}\\frac{\\gamma}{c^2} & 0 & 0 & -\\frac{{\\it cp}\\,\\rho\\,\\gamma-{\\it cp}\\,\\rho}{c^2} \\\\ \\frac{u\\,\\gamma}{c^2} & \\rho & 0 & -\\frac{{\\it cp}\\,\\rho\\,u\\,\\gamma-{\\it cp}\\,\\rho\\,u}{c^2} \\\\ \\frac{v\\,\\gamma}{c^2} & 0 & \\rho & -\\frac{{\\it cp}\\,\\rho\\,v\\,\\gamma-{\\it cp}\\,\\rho\\,v}{c^2} \\\\ \\frac{\\left(v^2+u^2\\right)\\,\\gamma^2+\\left(-v^2-u^2\\right)\\,\\gamma+2\\,c^2}{2\\,c^2\\,\\gamma-2\\,c^2} & \\rho\\,u & \\rho\\,v & -\\frac{\\left({\\it cp}\\,\\rho\\,v^2+{\\it cp}\\,\\rho\\,u^2\\right)\\,\\gamma-{\\it cp}\\,\\rho\\,v^2-{\\it cp}\\,\\rho\\,u^2}{2\\,c^2} \\\\ \\end{pmatrix}\\]"
      ],
      "text/plain": [
       "                [                     gamma                     ]\n",
       "                [                     -----                     ]\n",
       "                [                       2                       ]\n",
       "                [                      c                        ]\n",
       "                [                                               ]\n",
       "                [                    u gamma                    ]\n",
       "                [                    -------                    ]\n",
       "                [                       2                       ]\n",
       "                [                      c                        ]\n",
       "(%o91)  Col 1 = [                                               ]\n",
       "                [                    v gamma                    ]\n",
       "                [                    -------                    ]\n",
       "                [                       2                       ]\n",
       "                [                      c                        ]\n",
       "                [                                               ]\n",
       "                [   2    2       2        2     2             2 ]\n",
       "                [ (v  + u ) gamma  + ((- v ) - u ) gamma + 2 c  ]\n",
       "                [ --------------------------------------------- ]\n",
       "                [                  2            2               ]\n",
       "                [               2 c  gamma - 2 c                ]\n",
       "         [   0   ]         [   0   ]\n",
       "         [       ]         [       ]\n",
       "         [  rho  ]         [   0   ]\n",
       " Col 2 = [       ] Col 3 = [       ]\n",
       "         [   0   ]         [  rho  ]\n",
       "         [       ]         [       ]\n",
       "         [ rho u ]         [ rho v ]\n",
       "         [                   cp rho gamma - cp rho                 ]\n",
       "         [                 - ---------------------                 ]\n",
       "         [                             2                           ]\n",
       "         [                            c                            ]\n",
       "         [                                                         ]\n",
       "         [                 cp rho u gamma - cp rho u               ]\n",
       "         [               - -------------------------               ]\n",
       "         [                             2                           ]\n",
       "         [                            c                            ]\n",
       " Col 4 = [                                                         ]\n",
       "         [                 cp rho v gamma - cp rho v               ]\n",
       "         [               - -------------------------               ]\n",
       "         [                             2                           ]\n",
       "         [                            c                            ]\n",
       "         [                                                         ]\n",
       "         [            2           2                  2           2 ]\n",
       "         [   (cp rho v  + cp rho u ) gamma - cp rho v  - cp rho u  ]\n",
       "         [ - ----------------------------------------------------- ]\n",
       "         [                              2                          ]\n",
       "         [                           2 c                           ]"
      ],
      "text/x-maxima": [
       "matrix([gamma/c^2,0,0,-(cp*rho*gamma-cp*rho)/c^2],\n",
       "       [(u*gamma)/c^2,rho,0,-(cp*rho*u*gamma-cp*rho*u)/c^2],\n",
       "       [(v*gamma)/c^2,0,rho,-(cp*rho*v*gamma-cp*rho*v)/c^2],\n",
       "       [((v^2+u^2)*gamma^2+((-v^2)-u^2)*gamma+2*c^2)/(2*c^2*gamma-2*c^2),\n",
       "        rho*u,rho*v,\n",
       "        -((cp*rho*v^2+cp*rho*u^2)*gamma-cp*rho*v^2-cp*rho*u^2)/(2*c^2)])"
      ]
     },
     "execution_count": 52,
     "metadata": {},
     "output_type": "execute_result"
    }
   ],
   "source": [
    "Mp : subst(diff(rho,p)=beta,M);"
   ]
  },
  {
   "cell_type": "code",
   "execution_count": 53,
   "metadata": {},
   "outputs": [
    {
     "data": {
      "text/latex": [
       "\\[\\tag{${\\it \\%o}_{92}$}\\begin{pmatrix}\\frac{\\gamma}{c^2} & 0 & 0 & -\\frac{{\\it cp}\\,\\rho\\,\\gamma-{\\it cp}\\,\\rho}{c^2} \\\\ \\frac{u\\,\\gamma}{c^2} & \\rho & 0 & -\\frac{{\\it cp}\\,\\rho\\,u\\,\\gamma-{\\it cp}\\,\\rho\\,u}{c^2} \\\\ \\frac{v\\,\\gamma}{c^2} & 0 & \\rho & -\\frac{{\\it cp}\\,\\rho\\,v\\,\\gamma-{\\it cp}\\,\\rho\\,v}{c^2} \\\\ \\frac{\\left(v^2+u^2\\right)\\,\\gamma^2+\\left(-v^2-u^2\\right)\\,\\gamma+2\\,c^2}{2\\,c^2\\,\\gamma-2\\,c^2} & \\rho\\,u & \\rho\\,v & -\\frac{\\left({\\it cp}\\,\\rho\\,v^2+{\\it cp}\\,\\rho\\,u^2\\right)\\,\\gamma-{\\it cp}\\,\\rho\\,v^2-{\\it cp}\\,\\rho\\,u^2}{2\\,c^2} \\\\ \\end{pmatrix}\\]"
      ],
      "text/plain": [
       "                [                     gamma                     ]\n",
       "                [                     -----                     ]\n",
       "                [                       2                       ]\n",
       "                [                      c                        ]\n",
       "                [                                               ]\n",
       "                [                    u gamma                    ]\n",
       "                [                    -------                    ]\n",
       "                [                       2                       ]\n",
       "                [                      c                        ]\n",
       "(%o92)  Col 1 = [                                               ]\n",
       "                [                    v gamma                    ]\n",
       "                [                    -------                    ]\n",
       "                [                       2                       ]\n",
       "                [                      c                        ]\n",
       "                [                                               ]\n",
       "                [   2    2       2        2     2             2 ]\n",
       "                [ (v  + u ) gamma  + ((- v ) - u ) gamma + 2 c  ]\n",
       "                [ --------------------------------------------- ]\n",
       "                [                  2            2               ]\n",
       "                [               2 c  gamma - 2 c                ]\n",
       "         [   0   ]         [   0   ]\n",
       "         [       ]         [       ]\n",
       "         [  rho  ]         [   0   ]\n",
       " Col 2 = [       ] Col 3 = [       ]\n",
       "         [   0   ]         [  rho  ]\n",
       "         [       ]         [       ]\n",
       "         [ rho u ]         [ rho v ]\n",
       "         [                   cp rho gamma - cp rho                 ]\n",
       "         [                 - ---------------------                 ]\n",
       "         [                             2                           ]\n",
       "         [                            c                            ]\n",
       "         [                                                         ]\n",
       "         [                 cp rho u gamma - cp rho u               ]\n",
       "         [               - -------------------------               ]\n",
       "         [                             2                           ]\n",
       "         [                            c                            ]\n",
       " Col 4 = [                                                         ]\n",
       "         [                 cp rho v gamma - cp rho v               ]\n",
       "         [               - -------------------------               ]\n",
       "         [                             2                           ]\n",
       "         [                            c                            ]\n",
       "         [                                                         ]\n",
       "         [            2           2                  2           2 ]\n",
       "         [   (cp rho v  + cp rho u ) gamma - cp rho v  - cp rho u  ]\n",
       "         [ - ----------------------------------------------------- ]\n",
       "         [                              2                          ]\n",
       "         [                           2 c                           ]"
      ],
      "text/x-maxima": [
       "matrix([gamma/c^2,0,0,-(cp*rho*gamma-cp*rho)/c^2],\n",
       "       [(u*gamma)/c^2,rho,0,-(cp*rho*u*gamma-cp*rho*u)/c^2],\n",
       "       [(v*gamma)/c^2,0,rho,-(cp*rho*v*gamma-cp*rho*v)/c^2],\n",
       "       [((v^2+u^2)*gamma^2+((-v^2)-u^2)*gamma+2*c^2)/(2*c^2*gamma-2*c^2),\n",
       "        rho*u,rho*v,\n",
       "        -((cp*rho*v^2+cp*rho*u^2)*gamma-cp*rho*v^2-cp*rho*u^2)/(2*c^2)])"
      ]
     },
     "execution_count": 53,
     "metadata": {},
     "output_type": "execute_result"
    }
   ],
   "source": [
    "Mp : subst(diff(rho,T)=-rho/T,Mp);"
   ]
  },
  {
   "cell_type": "code",
   "execution_count": 54,
   "metadata": {},
   "outputs": [
    {
     "data": {
      "text/latex": [
       "\\[\\tag{${\\it \\%o}_{93}$}\\begin{pmatrix}\\frac{\\gamma}{c^2} & 0 & 0 & -\\frac{{\\it cp}\\,\\rho\\,\\gamma-{\\it cp}\\,\\rho}{c^2} \\\\ \\frac{u\\,\\gamma}{c^2} & \\rho & 0 & -\\frac{{\\it cp}\\,\\rho\\,u\\,\\gamma-{\\it cp}\\,\\rho\\,u}{c^2} \\\\ \\frac{v\\,\\gamma}{c^2} & 0 & \\rho & -\\frac{{\\it cp}\\,\\rho\\,v\\,\\gamma-{\\it cp}\\,\\rho\\,v}{c^2} \\\\ \\frac{\\left(v^2+u^2\\right)\\,\\gamma^2+\\left(-v^2-u^2\\right)\\,\\gamma+2\\,c^2}{2\\,c^2\\,\\gamma-2\\,c^2} & \\rho\\,u & \\rho\\,v & -\\frac{\\left({\\it cp}\\,\\rho\\,v^2+{\\it cp}\\,\\rho\\,u^2\\right)\\,\\gamma-{\\it cp}\\,\\rho\\,v^2-{\\it cp}\\,\\rho\\,u^2}{2\\,c^2} \\\\ \\end{pmatrix}\\]"
      ],
      "text/plain": [
       "                [                     gamma                     ]\n",
       "                [                     -----                     ]\n",
       "                [                       2                       ]\n",
       "                [                      c                        ]\n",
       "                [                                               ]\n",
       "                [                    u gamma                    ]\n",
       "                [                    -------                    ]\n",
       "                [                       2                       ]\n",
       "                [                      c                        ]\n",
       "(%o93)  Col 1 = [                                               ]\n",
       "                [                    v gamma                    ]\n",
       "                [                    -------                    ]\n",
       "                [                       2                       ]\n",
       "                [                      c                        ]\n",
       "                [                                               ]\n",
       "                [   2    2       2        2     2             2 ]\n",
       "                [ (v  + u ) gamma  + ((- v ) - u ) gamma + 2 c  ]\n",
       "                [ --------------------------------------------- ]\n",
       "                [                  2            2               ]\n",
       "                [               2 c  gamma - 2 c                ]\n",
       "         [   0   ]         [   0   ]\n",
       "         [       ]         [       ]\n",
       "         [  rho  ]         [   0   ]\n",
       " Col 2 = [       ] Col 3 = [       ]\n",
       "         [   0   ]         [  rho  ]\n",
       "         [       ]         [       ]\n",
       "         [ rho u ]         [ rho v ]\n",
       "         [                   cp rho gamma - cp rho                 ]\n",
       "         [                 - ---------------------                 ]\n",
       "         [                             2                           ]\n",
       "         [                            c                            ]\n",
       "         [                                                         ]\n",
       "         [                 cp rho u gamma - cp rho u               ]\n",
       "         [               - -------------------------               ]\n",
       "         [                             2                           ]\n",
       "         [                            c                            ]\n",
       " Col 4 = [                                                         ]\n",
       "         [                 cp rho v gamma - cp rho v               ]\n",
       "         [               - -------------------------               ]\n",
       "         [                             2                           ]\n",
       "         [                            c                            ]\n",
       "         [                                                         ]\n",
       "         [            2           2                  2           2 ]\n",
       "         [   (cp rho v  + cp rho u ) gamma - cp rho v  - cp rho u  ]\n",
       "         [ - ----------------------------------------------------- ]\n",
       "         [                              2                          ]\n",
       "         [                           2 c                           ]"
      ],
      "text/x-maxima": [
       "matrix([gamma/c^2,0,0,-(cp*rho*gamma-cp*rho)/c^2],\n",
       "       [(u*gamma)/c^2,rho,0,-(cp*rho*u*gamma-cp*rho*u)/c^2],\n",
       "       [(v*gamma)/c^2,0,rho,-(cp*rho*v*gamma-cp*rho*v)/c^2],\n",
       "       [((v^2+u^2)*gamma^2+((-v^2)-u^2)*gamma+2*c^2)/(2*c^2*gamma-2*c^2),\n",
       "        rho*u,rho*v,\n",
       "        -((cp*rho*v^2+cp*rho*u^2)*gamma-cp*rho*v^2-cp*rho*u^2)/(2*c^2)])"
      ]
     },
     "execution_count": 54,
     "metadata": {},
     "output_type": "execute_result"
    }
   ],
   "source": [
    "Mp : subst(H = cp*T +q,Mp);"
   ]
  },
  {
   "cell_type": "markdown",
   "metadata": {},
   "source": [
    "What are the eigenvalues of the new system:"
   ]
  },
  {
   "cell_type": "code",
   "execution_count": 55,
   "metadata": {},
   "outputs": [
    {
     "data": {
      "text/latex": [
       "\\[\\tag{${\\it \\%o}_{94}$}\\begin{pmatrix}\\frac{\\left(\\rho\\,u\\,v^2+\\rho\\,u^3-2\\,u\\right)\\,\\gamma-\\rho\\,u\\,v^2-\\rho\\,u^3+2\\,u}{2\\,\\rho} & \\frac{\\left(c^2\\,{\\it cp}\\,\\rho\\,v^2+\\left(c^2\\,{\\it cp}\\,\\rho-2\\,{\\it cp}\\right)\\,u^2+2\\,c^2\\right)\\,\\gamma-c^2\\,{\\it cp}\\,\\rho\\,v^2+\\left(2\\,{\\it cp}-c^2\\,{\\it cp}\\,\\rho\\right)\\,u^2-2\\,c^2}{2\\,{\\it cp}} & u\\,v-u\\,v\\,\\gamma & u\\,\\gamma-u \\\\ -\\frac{\\rho\\,u^2-1}{\\rho^2} & -\\frac{\\left(c^2\\,\\rho-1\\right)\\,u}{\\rho} & 0 & 0 \\\\ -\\frac{u\\,v}{\\rho} & -c^2\\,v & \\frac{u}{\\rho} & 0 \\\\ \\frac{\\left(\\rho\\,u\\,v^2+\\rho\\,u^3-2\\,u\\right)\\,\\gamma^2+\\left(-\\rho\\,u\\,v^2-\\rho\\,u^3+2\\,u\\right)\\,\\gamma-2\\,c^2\\,\\rho\\,u}{2\\,{\\it cp}\\,\\rho^2\\,\\gamma-2\\,{\\it cp}\\,\\rho^2} & \\frac{\\left(c^2\\,{\\it cp}\\,\\rho\\,v^2+\\left(c^2\\,{\\it cp}\\,\\rho-2\\,{\\it cp}\\right)\\,u^2+2\\,c^2\\right)\\,\\gamma^2+\\left(-c^2\\,{\\it cp}\\,\\rho\\,v^2+\\left(2\\,{\\it cp}-c^2\\,{\\it cp}\\,\\rho\\right)\\,u^2-2\\,c^2\\right)\\,\\gamma-2\\,c^4\\,{\\it cp}\\,\\rho}{2\\,{\\it cp}^2\\,\\rho\\,\\gamma-2\\,{\\it cp}^2\\,\\rho} & -\\frac{u\\,v\\,\\gamma}{{\\it cp}\\,\\rho} & \\frac{u\\,\\gamma}{{\\it cp}\\,\\rho} \\\\ \\end{pmatrix}\\]"
      ],
      "text/plain": [
       "                       2        3                       2        3\n",
       "               (rho u v  + rho u  - 2 u) gamma - rho u v  - rho u  + 2 u\n",
       "(%o94) matrix([---------------------------------------------------------, \n",
       "                                         2 rho\n",
       "   2         2     2                 2      2           2         2\n",
       "((c  cp rho v  + (c  cp rho - 2 cp) u  + 2 c ) gamma - c  cp rho v\n",
       "            2          2      2\n",
       " + (2 cp - c  cp rho) u  - 2 c )/(2 cp), u v - u v gamma, u gamma - u], \n",
       "        2          2\n",
       "   rho u  - 1    (c  rho - 1) u            u v     2     u\n",
       "[- ----------, - --------------, 0, 0], [- ---, - c  v, ---, 0], \n",
       "         2            rho                  rho          rho\n",
       "      rho\n",
       "          2        3             2              2         3\n",
       "[((rho u v  + rho u  - 2 u) gamma  + ((- rho u v ) - rho u  + 2 u) gamma\n",
       "      2                 2                 2\n",
       " - 2 c  rho u)/(2 cp rho  gamma - 2 cp rho ), \n",
       "   2         2     2                 2      2       2\n",
       "((c  cp rho v  + (c  cp rho - 2 cp) u  + 2 c ) gamma\n",
       "        2         2             2          2      2             4\n",
       " + ((- c  cp rho v ) + (2 cp - c  cp rho) u  - 2 c ) gamma - 2 c  cp rho)\n",
       "      2                 2         u v gamma  u gamma\n",
       "/(2 cp  rho gamma - 2 cp  rho), - ---------, -------])\n",
       "                                   cp rho    cp rho"
      ],
      "text/x-maxima": [
       "matrix([((rho*u*v^2+rho*u^3-2*u)*gamma-rho*u*v^2-rho*u^3+2*u)/(2*rho),\n",
       "        ((c^2*cp*rho*v^2+(c^2*cp*rho-2*cp)*u^2+2*c^2)*gamma\n",
       "         -c^2*cp*rho*v^2+(2*cp-c^2*cp*rho)*u^2-2*c^2)\n",
       "         /(2*cp),u*v-u*v*gamma,u*gamma-u],\n",
       "       [-(rho*u^2-1)/rho^2,-((c^2*rho-1)*u)/rho,0,0],\n",
       "       [-(u*v)/rho,-c^2*v,u/rho,0],\n",
       "       [((rho*u*v^2+rho*u^3-2*u)*gamma^2+((-rho*u*v^2)-rho*u^3+2*u)*gamma\n",
       "                                        -2*c^2*rho*u)\n",
       "         /(2*cp*rho^2*gamma-2*cp*rho^2),\n",
       "        ((c^2*cp*rho*v^2+(c^2*cp*rho-2*cp)*u^2+2*c^2)*gamma^2\n",
       "         +((-c^2*cp*rho*v^2)+(2*cp-c^2*cp*rho)*u^2-2*c^2)*gamma-2*c^4*cp*rho)\n",
       "         /(2*cp^2*rho*gamma-2*cp^2*rho),-(u*v*gamma)/(cp*rho),\n",
       "        (u*gamma)/(cp*rho)])"
      ]
     },
     "execution_count": 55,
     "metadata": {},
     "output_type": "execute_result"
    },
    {
     "ename": "interrupt",
     "evalue": "Execution interrupted",
     "output_type": "error",
     "traceback": []
    }
   ],
   "source": [
    "Ap : ratsimp(invert(Mp).Atilde);\n",
    "/*ratexpand(ratsimp(eigenvalues(Ap)));*/"
   ]
  },
  {
   "cell_type": "markdown",
   "metadata": {},
   "source": [
    "Note that in Weiss and Smith, "
   ]
  },
  {
   "cell_type": "markdown",
   "metadata": {},
   "source": [
    "For the matrix K we still need to derive it, for now we just give the matrix:"
   ]
  },
  {
   "cell_type": "code",
   "execution_count": null,
   "metadata": {},
   "outputs": [],
   "source": [
    "K:matrix([1,0,0,0],[-u,1,0,0],[-v,0,1,0],[-cp*T,0,0,1]);"
   ]
  },
  {
   "cell_type": "code",
   "execution_count": null,
   "metadata": {},
   "outputs": [],
   "source": [
    "invert(K);"
   ]
  },
  {
   "cell_type": "code",
   "execution_count": null,
   "metadata": {},
   "outputs": [],
   "source": [
    "Gnc:matrix([1/b^2,0,0,diff(rho,T)],[0,rho,0,0],[0,0,rho,0],[0,0,0,rho*cp]);"
   ]
  },
  {
   "cell_type": "code",
   "execution_count": null,
   "metadata": {},
   "outputs": [],
   "source": [
    "invert(Gnc);"
   ]
  },
  {
   "cell_type": "code",
   "execution_count": null,
   "metadata": {},
   "outputs": [],
   "source": [
    "eigenvalues(invert(Gnc));"
   ]
  },
  {
   "cell_type": "code",
   "execution_count": null,
   "metadata": {},
   "outputs": [],
   "source": [
    "Atilde;"
   ]
  },
  {
   "cell_type": "markdown",
   "metadata": {},
   "source": [
    "preconditioning matrix, which can then be derived from K.M:\n",
    "IN the end, this is the matrix in fron of the temporal termf of the equations in conservation form with primitive variables:"
   ]
  },
  {
   "cell_type": "code",
   "execution_count": null,
   "metadata": {},
   "outputs": [],
   "source": [
    "G:matrix([1/b^2,0,0,diff(rho,T)],[u/b^2,rho,0,diff(rho,T)*u],[v/b^2,0,rho,diff(rho,T)*v],[cp*T/b^2,0,0,rho*cp+diff(rho,T)*cp*T]);"
   ]
  },
  {
   "cell_type": "code",
   "execution_count": null,
   "metadata": {},
   "outputs": [],
   "source": [
    "Ginv : ratsimp(invert(G));"
   ]
  },
  {
   "cell_type": "code",
   "execution_count": null,
   "metadata": {},
   "outputs": [],
   "source": [
    "L:eigenvalues(subst(diff(rho,T)=1/(R*T),Ginv));\n",
    "ratsimp(L);"
   ]
  },
  {
   "cell_type": "code",
   "execution_count": null,
   "metadata": {},
   "outputs": [],
   "source": [
    "(ratsimp(Ginv.Atilde));"
   ]
  },
  {
   "cell_type": "markdown",
   "metadata": {},
   "source": [
    "note that $p=(\\gamma-1)*(E-\\frac{1}{2}\\rho u^2)$"
   ]
  },
  {
   "cell_type": "code",
   "execution_count": null,
   "metadata": {},
   "outputs": [],
   "source": [
    "kill(E);\n",
    "Ftilde : subst([E=p/(gamma-1)+rho*u*u/2],F);\n",
    "Ftilde: transpose(subst([rho=U1,u=U2,p=U3],Ftilde));"
   ]
  },
  {
   "cell_type": "code",
   "execution_count": null,
   "metadata": {},
   "outputs": [],
   "source": [
    "Utilde;"
   ]
  },
  {
   "cell_type": "code",
   "execution_count": null,
   "metadata": {},
   "outputs": [],
   "source": [
    "Vtilde;"
   ]
  },
  {
   "cell_type": "code",
   "execution_count": null,
   "metadata": {},
   "outputs": [],
   "source": [
    "jacobian(args(Ftilde)[1],args(Utilde)[1]);"
   ]
  },
  {
   "cell_type": "markdown",
   "metadata": {},
   "source": [
    "We now try to go to directly to primitive variables (p,u,T)"
   ]
  },
  {
   "cell_type": "code",
   "execution_count": null,
   "metadata": {},
   "outputs": [],
   "source": [
    "F;\n",
    "Ftilde : subst([E=rho*H-p],F);\n",
    "Ftilde : transpose(subst(H=cp*T+u*u/2,Ftilde));"
   ]
  },
  {
   "cell_type": "markdown",
   "metadata": {},
   "source": [
    "now replace all densities with pressures:"
   ]
  },
  {
   "cell_type": "code",
   "execution_count": null,
   "metadata": {},
   "outputs": [],
   "source": [
    "Ftilde : subst(rho=gamma*p/(c*c),Ftilde);"
   ]
  },
  {
   "cell_type": "code",
   "execution_count": null,
   "metadata": {},
   "outputs": [],
   "source": [
    "V;"
   ]
  },
  {
   "cell_type": "code",
   "execution_count": null,
   "metadata": {},
   "outputs": [],
   "source": [
    "dfdv : (jacobian(args(Ftilde)[1],args(V)[1]));"
   ]
  },
  {
   "cell_type": "code",
   "execution_count": null,
   "metadata": {},
   "outputs": [],
   "source": [
    "eigenvalues(dfdv);"
   ]
  },
  {
   "cell_type": "code",
   "execution_count": null,
   "metadata": {},
   "outputs": [],
   "source": [
    "Ginv;"
   ]
  },
  {
   "cell_type": "code",
   "execution_count": null,
   "metadata": {},
   "outputs": [],
   "source": [
    "Ginv : subst(diff(rho,T)=-rho/T,Ginv);"
   ]
  },
  {
   "cell_type": "code",
   "execution_count": null,
   "metadata": {},
   "outputs": [],
   "source": [
    "dfdv : subst(c^2=gamma*p/rho,dfdv);"
   ]
  },
  {
   "cell_type": "code",
   "execution_count": null,
   "metadata": {},
   "outputs": [],
   "source": [
    "dfdv : subst(p=rho*R*T,dfdv);"
   ]
  },
  {
   "cell_type": "code",
   "execution_count": null,
   "metadata": {},
   "outputs": [],
   "source": [
    "Gdfdv : ratsimp(Ginv.dfdv);"
   ]
  },
  {
   "cell_type": "code",
   "execution_count": null,
   "metadata": {},
   "outputs": [],
   "source": [
    "eigenvalues(dfdv);"
   ]
  },
  {
   "cell_type": "markdown",
   "metadata": {},
   "source": [
    "We now need to construct the matrix $\\Gamma^{-1} \\frac{\\partial F}{\\partial V}$\n",
    "\n",
    "Note that this is simply the matrix in front of the convective flux.\n",
    "\n",
    "With $\\frac{\\partial F}{\\partial V} = \\frac{\\partial F}{\\partial U} \\cdot \\frac{\\partial U}{\\partial V}$\n"
   ]
  },
  {
   "cell_type": "code",
   "execution_count": null,
   "metadata": {},
   "outputs": [],
   "source": [
    "dFdV : ratsimp(dFdU*dUdV);\n",
    "dFdV : ratsimp(subst(consSystem,dFdV));\n",
    "dFdV : ratsimp(subst(E=rho*e+rho*(u*u+v*v)/2,dFdV));\n",
    "ratsimp(eigenvalues(dFdV));\n",
    "ratsimp(eigenvalues(ratsimp(Ginv*dFdV)));"
   ]
  },
  {
   "cell_type": "markdown",
   "metadata": {},
   "source": [
    "H=cpT+(u^2+v^2+w^2)/2; \n",
    "\n",
    "so:\n",
    "$$\\frac{dH}{du}=u $$\n",
    "$$\\frac{dH}{dv}=v $$\n",
    "$$\\frac{dH}{dw}=w $$\n",
    "$$\\frac{dH}{dT}=cp $$\n"
   ]
  },
  {
   "cell_type": "markdown",
   "metadata": {},
   "source": [
    "weiss and smith eq. 2"
   ]
  },
  {
   "cell_type": "code",
   "execution_count": 143,
   "metadata": {},
   "outputs": [
    {
     "data": {
      "text/latex": [
       "\\[\\tag{${\\it \\%o}_{195}$}H\\]"
      ],
      "text/plain": [
       "(%o195)                                H"
      ],
      "text/x-maxima": [
       "H"
      ]
     },
     "execution_count": 143,
     "metadata": {},
     "output_type": "execute_result"
    },
    {
     "data": {
      "text/latex": [
       "\\[\\tag{${\\it \\%o}_{196}$}H\\]"
      ],
      "text/plain": [
       "(%o196)                                H"
      ],
      "text/x-maxima": [
       "H"
      ]
     },
     "execution_count": 143,
     "metadata": {},
     "output_type": "execute_result"
    },
    {
     "data": {
      "text/latex": [
       "\\[\\tag{${\\it \\%o}_{197}$}H\\]"
      ],
      "text/plain": [
       "(%o197)                                H"
      ],
      "text/x-maxima": [
       "H"
      ]
     },
     "execution_count": 143,
     "metadata": {},
     "output_type": "execute_result"
    },
    {
     "data": {
      "text/latex": [
       "\\[\\tag{${\\it \\%o}_{198}$}H\\]"
      ],
      "text/plain": [
       "(%o198)                                H"
      ],
      "text/x-maxima": [
       "H"
      ]
     },
     "execution_count": 143,
     "metadata": {},
     "output_type": "execute_result"
    }
   ],
   "source": [
    "gradef(H,T,cp);\n",
    "gradef(H,u,u);\n",
    "gradef(H,v,v);\n",
    "gradef(H,w,w);"
   ]
  },
  {
   "cell_type": "code",
   "execution_count": 144,
   "metadata": {},
   "outputs": [
    {
     "name": "stdout",
     "output_type": "stream",
     "text": [
      "\n",
      "args: argument must be a non-atomic expression; found W\n",
      "\n",
      "\n",
      "\n",
      " -- an error. To debug this try: debugmode(true);\n"
     ]
    }
   ],
   "source": [
    "dWdQ : ratsimp(jacobian(args(W)[1],args(Q)[1]));"
   ]
  },
  {
   "cell_type": "code",
   "execution_count": null,
   "metadata": {},
   "outputs": [],
   "source": [
    "G : ratsubst(1/b^2,diff(rho,p),dWdQ);"
   ]
  },
  {
   "cell_type": "code",
   "execution_count": null,
   "metadata": {},
   "outputs": [],
   "source": [
    "G : ratsimp(ratsubst(cp*T+u^2/2,H,G));"
   ]
  },
  {
   "cell_type": "code",
   "execution_count": null,
   "metadata": {},
   "outputs": [],
   "source": [
    "Ginv : ratsimp(invert(G));"
   ]
  },
  {
   "cell_type": "code",
   "execution_count": null,
   "metadata": {},
   "outputs": [],
   "source": [
    "B : ratsimp(Ginv.A1.G);"
   ]
  },
  {
   "cell_type": "code",
   "execution_count": null,
   "metadata": {},
   "outputs": [],
   "source": [
    "eigenvalues(B);"
   ]
  },
  {
   "cell_type": "code",
   "execution_count": null,
   "metadata": {},
   "outputs": [],
   "source": [
    "/*remove(rho,dependency);*/\n",
    "dUdV : ratsimp(jacobian(args(U)[1],args(V)[1]));"
   ]
  },
  {
   "cell_type": "code",
   "execution_count": null,
   "metadata": {},
   "outputs": [],
   "source": [
    "M : dUdV;\n",
    "Minv : ratsimp(invert(M));\n",
    "A1;\n",
    "Atilde : ratsimp(Minv.A1.M);\n",
    "eigenvalues(Atilde);"
   ]
  },
  {
   "cell_type": "code",
   "execution_count": null,
   "metadata": {},
   "outputs": [],
   "source": [
    "M1 : ratsimp(ratsubst(cp*T+u^2/2,H,M));"
   ]
  },
  {
   "cell_type": "code",
   "execution_count": null,
   "metadata": {},
   "outputs": [],
   "source": [
    "M1inv : ratsimp(invert(M1));"
   ]
  },
  {
   "cell_type": "code",
   "execution_count": null,
   "metadata": {},
   "outputs": [],
   "source": [
    "A : ratsimp(u,U,A);\n",
    "Atilde : A;"
   ]
  },
  {
   "cell_type": "markdown",
   "metadata": {},
   "source": [
    "weiss and smith Eq.3"
   ]
  },
  {
   "cell_type": "code",
   "execution_count": null,
   "metadata": {},
   "outputs": [],
   "source": [
    "/*K:matrix([1,0,0,0,0],[-u,1,0,0,0],[-v,0,1,0,0],[-w,0,0,1,0],[-(H-(u^2+v^2+w^2)),-u,-v,-w,1]);*/\n",
    "K:matrix([1,0,0],[-u,1,0],[-(H-(u^2)),-u,1]);"
   ]
  },
  {
   "cell_type": "markdown",
   "metadata": {},
   "source": [
    "weiss and smith eq.4"
   ]
  },
  {
   "cell_type": "code",
   "execution_count": null,
   "metadata": {},
   "outputs": [],
   "source": [
    "Gp:ratsimp(K.dWdQ);"
   ]
  },
  {
   "cell_type": "markdown",
   "metadata": {},
   "source": [
    "weiss and smith, eq. 10"
   ]
  },
  {
   "cell_type": "code",
   "execution_count": null,
   "metadata": {},
   "outputs": [],
   "source": [
    "G : ratsimp(invert(K).Gp);"
   ]
  },
  {
   "cell_type": "code",
   "execution_count": null,
   "metadata": {},
   "outputs": [],
   "source": [
    "ratsimp(jacobian(args(Ftilde)[1],args(Q)[1]));"
   ]
  }
 ],
 "metadata": {
  "kernelspec": {
   "display_name": "Maxima",
   "language": "maxima",
   "name": "maxima"
  },
  "language_info": {
   "codemirror_mode": "maxima",
   "file_extension": ".mac",
   "mimetype": "text/x-maxima",
   "name": "maxima",
   "pygments_lexer": "maxima",
   "version": "5.45.1"
  }
 },
 "nbformat": 4,
 "nbformat_minor": 4
}
