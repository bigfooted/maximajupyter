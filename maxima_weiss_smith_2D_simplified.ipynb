{
 "cells": [
  {
   "cell_type": "markdown",
   "metadata": {},
   "source": [
    "$$ \\huge \\color{blue}{\\text {Derivation of Euler equations in primitive form and preconditioning }}$$\n",
    "\n",
    "\n",
    "$$ \\large \\color{blue}{\\text{In this notebook we will do the derivation of the Weiss and Smith preconditioning.}}$$"
   ]
  },
  {
   "cell_type": "code",
   "execution_count": 1,
   "metadata": {},
   "outputs": [
    {
     "data": {
      "text/latex": [
       "\\[\\tag{${\\it \\%o}_{0}$}\\mathbf{done}\\]"
      ],
      "text/plain": [
       "(%o0)                                done"
      ],
      "text/x-maxima": [
       "done"
      ]
     },
     "execution_count": 1,
     "metadata": {},
     "output_type": "execute_result"
    }
   ],
   "source": [
    "kill(all);"
   ]
  },
  {
   "cell_type": "markdown",
   "metadata": {},
   "source": [
    "# Analysis of the Euler Equations\n",
    "### 1. conservative form\n",
    "\n",
    "\n",
    "    \n",
    "\n",
    "### We want to solve the Euler equations, which is the system of PDE's:\n",
    "\n",
    "$$ \\color {blue} {\\large \\frac{\\partial U}{\\partial t} + \\frac{\\partial F(U)}{\\partial x} + \\frac{\\partial G(U)}{\\partial y} = 0}$$\n"
   ]
  },
  {
   "cell_type": "markdown",
   "metadata": {},
   "source": [
    "    \n",
    "### For the 2D problem we have the following definitions:\n",
    "\n",
    "\n",
    "$$ \\color{blue}{\\large\n",
    "U = \\left\\{\n",
    "    \\begin{array}\\\\\n",
    "        \\rho               &  \\\\\n",
    "        \\rho u        &  \\\\\n",
    "        \\rho v        &  \\\\\n",
    "        \\rho E u & \n",
    "    \\end{array}\n",
    "\\right\\}}\n",
    "$$\n",
    "\n",
    "\n",
    "$$ \\color{blue}{\\large\n",
    "F = \\left\\{\n",
    "    \\begin{array}\\\\\n",
    "        \\rho  u                  &  \\\\\n",
    "        p+\\rho u^2               &  \\\\\n",
    "        \\rho  u  v          &  \\\\\n",
    "        (\\rho E + p) u & \n",
    "    \\end{array}\n",
    "\\right\\}}\n",
    "$$\n",
    "\n",
    "\n",
    "$$ \\color{blue}{\\large\n",
    "G = \\left\\{\n",
    "    \\begin{array}\\\\\n",
    "        \\rho v & \\\\\n",
    "        \\rho  u  v          &  \\\\\n",
    "        p+\\rho v^2               &  \\\\\n",
    "        (\\rho E + p) u & \n",
    "    \\end{array}\n",
    "\\right\\}}\n",
    "$$\n",
    "\n"
   ]
  },
  {
   "cell_type": "markdown",
   "metadata": {},
   "source": [
    "### For the energy we have the following relationship between internal energy $e$ and total energy $E$:\n",
    "$$\\color{blue}{\\large E = e + q,}$$\n",
    "\n",
    "### with $q = \\frac{1}{2}(u^2+v^2)$. The total energy is related to the total enthalpy $H$ by\n",
    "\n",
    "$$\\color{blue}{\\large E = H - \\frac{p}{\\rho}.}$$\n",
    "\n",
    "### The total enthalpy is related to the sensible enthalpy according to:\n",
    "\n",
    "$$\\color{blue}{\\large H = h + q = c_pT + q, }$$\n",
    "\n",
    "### In a calorically perfect gas, the heat capacity is constant, and we can write the sensible enthalpy as $h=c_pT$. We have for the total energy:\n",
    "\n",
    "$$\\color{blue}{\\large E = (c_pT + q) - \\frac{p}{\\rho}}$$\n"
   ]
  },
  {
   "cell_type": "code",
   "execution_count": 2,
   "metadata": {},
   "outputs": [
    {
     "data": {
      "text/latex": [
       "\\[\\tag{${\\it \\%o}_{1}$}\\left[ U_{1}=\\rho , U_{2}=\\rho\\,u , U_{3}=\\rho\\,v , U_{4}=E\\,\\rho \\right] \\]"
      ],
      "text/plain": [
       "(%o1)           [U1 = rho, U2 = rho u, U3 = rho v, U4 = E rho]"
      ],
      "text/x-maxima": [
       "[U1 = rho,U2 = rho*u,U3 = rho*v,U4 = E*rho]"
      ]
     },
     "execution_count": 2,
     "metadata": {},
     "output_type": "execute_result"
    },
    {
     "data": {
      "text/latex": [
       "\\[\\tag{${\\it \\%o}_{2}$}\\begin{pmatrix}\\rho\\,u & \\rho\\,u^2+p & \\rho\\,u\\,v & \\left(E\\,\\rho+p\\right)\\,u \\\\ \\end{pmatrix}\\]"
      ],
      "text/plain": [
       "(%o2)            [             2                             ]\n",
       "                 [ rho u  rho u  + p  rho u v  (E rho + p) u ]"
      ],
      "text/x-maxima": [
       "matrix([rho*u,rho*u^2+p,rho*u*v,(E*rho+p)*u])"
      ]
     },
     "execution_count": 2,
     "metadata": {},
     "output_type": "execute_result"
    },
    {
     "data": {
      "text/latex": [
       "\\[\\tag{${\\it \\%o}_{3}$}\\begin{pmatrix}\\rho\\,v & \\rho\\,u\\,v & \\rho\\,v^2+p & \\left(E\\,\\rho+p\\right)\\,v \\\\ \\end{pmatrix}\\]"
      ],
      "text/plain": [
       "(%o3)            [                      2                    ]\n",
       "                 [ rho v  rho u v  rho v  + p  (E rho + p) v ]"
      ],
      "text/x-maxima": [
       "matrix([rho*v,rho*u*v,rho*v^2+p,(E*rho+p)*v])"
      ]
     },
     "execution_count": 2,
     "metadata": {},
     "output_type": "execute_result"
    }
   ],
   "source": [
    "consSystem : [U1=rho,U2=rho*u, U3=rho*v, U4=rho*E];\n",
    "\n",
    "F:ratsimp((matrix([rho*u,rho*u*u+p,rho*u*v,u*rho*E+p*u])));\n",
    "    \n",
    "G:ratsimp((matrix([rho*v,rho*u*v,rho*v*v+p,v*rho*E+p*v])));"
   ]
  },
  {
   "cell_type": "markdown",
   "metadata": {},
   "source": [
    "### We define the velocity q as follows:"
   ]
  },
  {
   "cell_type": "code",
   "execution_count": 3,
   "metadata": {},
   "outputs": [
    {
     "data": {
      "text/latex": [
       "\\[\\tag{${\\it \\%o}_{4}$}\\frac{v^2+u^2}{2}\\]"
      ],
      "text/plain": [
       "                                     2    2\n",
       "                                    v  + u\n",
       "(%o4)                               -------\n",
       "                                       2"
      ],
      "text/x-maxima": [
       "(v^2+u^2)/2"
      ]
     },
     "execution_count": 3,
     "metadata": {},
     "output_type": "execute_result"
    }
   ],
   "source": [
    "q : (u*u+v*v)/2;"
   ]
  },
  {
   "cell_type": "code",
   "execution_count": 4,
   "metadata": {},
   "outputs": [
    {
     "data": {
      "text/latex": [
       "\\[\\tag{${\\it \\%o}_{5}$}E-\\frac{v^2+u^2}{2}\\]"
      ],
      "text/plain": [
       "                                       2    2\n",
       "                                      v  + u\n",
       "(%o5)                             E - -------\n",
       "                                         2"
      ],
      "text/x-maxima": [
       "E-(v^2+u^2)/2"
      ]
     },
     "execution_count": 4,
     "metadata": {},
     "output_type": "execute_result"
    }
   ],
   "source": [
    "e : E-q;"
   ]
  },
  {
   "cell_type": "markdown",
   "metadata": {},
   "source": [
    "### The pressure follows from the pressure definition: $p = (\\gamma - 1)\\rho e$"
   ]
  },
  {
   "cell_type": "code",
   "execution_count": 5,
   "metadata": {},
   "outputs": [
    {
     "data": {
      "text/latex": [
       "\\[\\tag{${\\it \\%o}_{6}$}\\rho\\,\\left(E-\\frac{v^2+u^2}{2}\\right)\\,\\left(\\gamma-1\\right)\\]"
      ],
      "text/plain": [
       "                                   2    2\n",
       "                                  v  + u\n",
       "(%o6)                    rho (E - -------) (gamma - 1)\n",
       "                                     2"
      ],
      "text/x-maxima": [
       "rho*(E-(v^2+u^2)/2)*(gamma-1)"
      ]
     },
     "execution_count": 5,
     "metadata": {},
     "output_type": "execute_result"
    }
   ],
   "source": [
    "p: (gamma-1)*rho*e;"
   ]
  },
  {
   "cell_type": "markdown",
   "metadata": {},
   "source": [
    "### We now map the conservative variables to $(\\rho,u,v,E)$"
   ]
  },
  {
   "cell_type": "code",
   "execution_count": 6,
   "metadata": {},
   "outputs": [
    {
     "data": {
      "text/latex": [
       "\\[\\tag{${\\it \\%o}_{7}$}\\left[ \\rho=U_{1} , u=\\frac{U_{2}}{U_{1}} , v=\\frac{U_{3}}{U_{1}} , E=\\frac{U_{4}}{U_{1}} \\right] \\]"
      ],
      "text/plain": [
       "                                     U2      U3      U4\n",
       "(%o7)                 [rho = U1, u = --, v = --, E = --]\n",
       "                                     U1      U1      U1"
      ],
      "text/x-maxima": [
       "[rho = U1,u = U2/U1,v = U3/U1,E = U4/U1]"
      ]
     },
     "execution_count": 6,
     "metadata": {},
     "output_type": "execute_result"
    }
   ],
   "source": [
    "mapping : [rho = U1, u=U2/U1, v = U3/U1, E=U4/U1];"
   ]
  },
  {
   "cell_type": "markdown",
   "metadata": {},
   "source": [
    "### From this also follows the pressure in terms of the conservative variables:"
   ]
  },
  {
   "cell_type": "code",
   "execution_count": 7,
   "metadata": {},
   "outputs": [
    {
     "data": {
      "text/latex": [
       "\\[\\tag{${\\it \\%o}_{8}$}U_{1}\\,\\left(\\frac{U_{4}}{U_{1}}-\\frac{\\frac{U_{3}^2}{U_{1}^2}+\\frac{U_{2}^2}{U_{1}^2}}{2}\\right)\\,\\left(\\gamma-1\\right)\\]"
      ],
      "text/plain": [
       "                                   2     2\n",
       "                                 U3    U2\n",
       "                                 --- + ---\n",
       "                                   2     2\n",
       "                            U4   U1    U1\n",
       "(%o8)                   U1 (-- - ---------) (gamma - 1)\n",
       "                            U1       2"
      ],
      "text/x-maxima": [
       "U1*(U4/U1-(U3^2/U1^2+U2^2/U1^2)/2)*(gamma-1)"
      ]
     },
     "execution_count": 7,
     "metadata": {},
     "output_type": "execute_result"
    }
   ],
   "source": [
    "P : subst(mapping,p);"
   ]
  },
  {
   "cell_type": "markdown",
   "metadata": {},
   "source": [
    "### We now write the convective flux as function of the conservative variables:"
   ]
  },
  {
   "cell_type": "code",
   "execution_count": 8,
   "metadata": {},
   "outputs": [
    {
     "data": {
      "text/latex": [
       "\\[\\tag{${\\it \\%o}_{9}$}\\begin{pmatrix}U_{2} & U_{4}\\,\\gamma-\\frac{U_{3}^2\\,\\gamma}{2\\,U_{1}}-\\frac{U_{2}^2\\,\\gamma}{2\\,U_{1}}-U_{4}+\\frac{U_{3}^2}{2\\,U_{1}}+\\frac{3\\,U_{2}^2}{2\\,U_{1}} & \\frac{U_{2}\\,U_{3}}{U_{1}} & \\frac{U_{2}\\,U_{4}\\,\\gamma}{U_{1}}-\\frac{U_{2}\\,U_{3}^2\\,\\gamma}{2\\,U_{1}^2}-\\frac{U_{2}^3\\,\\gamma}{2\\,U_{1}^2}+\\frac{U_{2}\\,U_{3}^2}{2\\,U_{1}^2}+\\frac{U_{2}^3}{2\\,U_{1}^2} \\\\ \\end{pmatrix}\\]"
      ],
      "text/plain": [
       "(%o9)  Col 1 = [ U2 ]\n",
       "         [              2           2                2        2 ]\n",
       " Col 2 = [            U3  gamma   U2  gamma        U3     3 U2  ]\n",
       "         [ U4 gamma - --------- - --------- - U4 + ---- + ----- ]\n",
       "         [              2 U1        2 U1           2 U1   2 U1  ]\n",
       "         [ U2 U3 ]\n",
       " Col 3 = [ ----- ]\n",
       "         [  U1   ]\n",
       "         [                    2           3              2      3  ]\n",
       "         [ U2 U4 gamma   U2 U3  gamma   U2  gamma   U2 U3     U2   ]\n",
       " Col 4 = [ ----------- - ------------ - --------- + ------ + ----- ]\n",
       "         [     U1               2             2         2        2 ]\n",
       "         [                  2 U1          2 U1      2 U1     2 U1  ]"
      ],
      "text/x-maxima": [
       "matrix([U2,\n",
       "        U4*gamma-(U3^2*gamma)/(2*U1)-(U2^2*gamma)/(2*U1)-U4+U3^2/(2*U1)\n",
       "                +(3*U2^2)/(2*U1),(U2*U3)/U1,\n",
       "        (U2*U4*gamma)/U1-(U2*U3^2*gamma)/(2*U1^2)-(U2^3*gamma)/(2*U1^2)\n",
       "                        +(U2*U3^2)/(2*U1^2)+U2^3/(2*U1^2)])"
      ]
     },
     "execution_count": 8,
     "metadata": {},
     "output_type": "execute_result"
    },
    {
     "data": {
      "text/latex": [
       "\\[\\tag{${\\it \\%o}_{10}$}\\begin{pmatrix}U_{2} \\\\ \\frac{\\left(2\\,U_{1}\\,U_{4}-U_{3}^2-U_{2}^2\\right)\\,\\gamma-2\\,U_{1}\\,U_{4}+U_{3}^2+3\\,U_{2}^2}{2\\,U_{1}} \\\\ \\frac{U_{2}\\,U_{3}}{U_{1}} \\\\ \\frac{\\left(2\\,U_{1}\\,U_{2}\\,U_{4}-U_{2}\\,U_{3}^2-U_{2}^3\\right)\\,\\gamma+U_{2}\\,U_{3}^2+U_{2}^3}{2\\,U_{1}^2} \\\\ \\end{pmatrix}\\]"
      ],
      "text/plain": [
       "            [                         U2                          ]\n",
       "            [                                                     ]\n",
       "            [              2     2                      2       2 ]\n",
       "            [ (2 U1 U4 - U3  - U2 ) gamma - 2 U1 U4 + U3  + 3 U2  ]\n",
       "            [ --------------------------------------------------- ]\n",
       "            [                        2 U1                         ]\n",
       "            [                                                     ]\n",
       "(%o10)      [                        U2 U3                        ]\n",
       "            [                        -----                        ]\n",
       "            [                         U1                          ]\n",
       "            [                                                     ]\n",
       "            [                     2     3               2     3   ]\n",
       "            [  (2 U1 U2 U4 - U2 U3  - U2 ) gamma + U2 U3  + U2    ]\n",
       "            [  ------------------------------------------------   ]\n",
       "            [                           2                         ]\n",
       "            [                       2 U1                          ]"
      ],
      "text/x-maxima": [
       "matrix([U2],[((2*U1*U4-U3^2-U2^2)*gamma-2*U1*U4+U3^2+3*U2^2)/(2*U1)],\n",
       "       [(U2*U3)/U1],[((2*U1*U2*U4-U2*U3^2-U2^3)*gamma+U2*U3^2+U2^3)/(2*U1^2)])"
      ]
     },
     "execution_count": 8,
     "metadata": {},
     "output_type": "execute_result"
    }
   ],
   "source": [
    "Fstar : ratexpand(ratsimp(ev(subst(mapping,F),nouns)));\n",
    "transpose(ratsimp(Fstar));"
   ]
  },
  {
   "cell_type": "code",
   "execution_count": 9,
   "metadata": {},
   "outputs": [
    {
     "data": {
      "text/latex": [
       "\\[\\tag{${\\it \\%o}_{11}$}\\begin{pmatrix}U_{1} & U_{2} & U_{3} & U_{4} \\\\ \\end{pmatrix}\\]"
      ],
      "text/plain": [
       "(%o11)                        [ U1  U2  U3  U4 ]"
      ],
      "text/x-maxima": [
       "matrix([U1,U2,U3,U4])"
      ]
     },
     "execution_count": 9,
     "metadata": {},
     "output_type": "execute_result"
    }
   ],
   "source": [
    "Utilde:matrix([U1,U2,U3,U4]);"
   ]
  },
  {
   "cell_type": "code",
   "execution_count": 10,
   "metadata": {},
   "outputs": [
    {
     "data": {
      "text/latex": [
       "\\[\\tag{${\\it \\%o}_{12}$}\\begin{pmatrix}0 & 1 & 0 & 0 \\\\ \\frac{\\left(U_{3}^2+U_{2}^2\\right)\\,\\gamma-U_{3}^2-3\\,U_{2}^2}{2\\,U_{1}^2} & -\\frac{U_{2}\\,\\gamma-3\\,U_{2}}{U_{1}} & -\\frac{U_{3}\\,\\gamma-U_{3}}{U_{1}} & \\gamma-1 \\\\ -\\frac{U_{2}\\,U_{3}}{U_{1}^2} & \\frac{U_{3}}{U_{1}} & \\frac{U_{2}}{U_{1}} & 0 \\\\ -\\frac{\\left(U_{1}\\,U_{2}\\,U_{4}-U_{2}\\,U_{3}^2-U_{2}^3\\right)\\,\\gamma+U_{2}\\,U_{3}^2+U_{2}^3}{U_{1}^3} & \\frac{\\left(2\\,U_{1}\\,U_{4}-U_{3}^2-3\\,U_{2}^2\\right)\\,\\gamma+U_{3}^2+3\\,U_{2}^2}{2\\,U_{1}^2} & -\\frac{U_{2}\\,U_{3}\\,\\gamma-U_{2}\\,U_{3}}{U_{1}^2} & \\frac{U_{2}\\,\\gamma}{U_{1}} \\\\ \\end{pmatrix}\\]"
      ],
      "text/plain": [
       "                [                        0                         ]\n",
       "                [                                                  ]\n",
       "                [            2     2            2       2          ]\n",
       "                [         (U3  + U2 ) gamma - U3  - 3 U2           ]\n",
       "                [         -------------------------------          ]\n",
       "                [                          2                       ]\n",
       "                [                      2 U1                        ]\n",
       "                [                                                  ]\n",
       "(%o12)  Col 1 = [                       U2 U3                      ]\n",
       "                [                     - -----                      ]\n",
       "                [                          2                       ]\n",
       "                [                        U1                        ]\n",
       "                [                                                  ]\n",
       "                [                    2     3               2     3 ]\n",
       "                [   (U1 U2 U4 - U2 U3  - U2 ) gamma + U2 U3  + U2  ]\n",
       "                [ - ---------------------------------------------- ]\n",
       "                [                          3                       ]\n",
       "                [                        U1                        ]\n",
       "         [                      1                      ]\n",
       "         [                                             ]\n",
       "         [                U2 gamma - 3 U2              ]\n",
       "         [              - ---------------              ]\n",
       "         [                      U1                     ]\n",
       "         [                                             ]\n",
       "         [                     U3                      ]\n",
       " Col 2 = [                     --                      ]\n",
       "         [                     U1                      ]\n",
       "         [                                             ]\n",
       "         [              2       2            2       2 ]\n",
       "         [ (2 U1 U4 - U3  - 3 U2 ) gamma + U3  + 3 U2  ]\n",
       "         [ ------------------------------------------- ]\n",
       "         [                        2                    ]\n",
       "         [                    2 U1                     ]\n",
       "         [           0           ]\n",
       "         [                       ]\n",
       "         [      U3 gamma - U3    ]         [     0     ]\n",
       "         [    - -------------    ]         [           ]\n",
       "         [           U1          ]         [ gamma - 1 ]\n",
       "         [                       ]         [           ]\n",
       " Col 3 = [          U2           ] Col 4 = [     0     ]\n",
       "         [          --           ]         [           ]\n",
       "         [          U1           ]         [ U2 gamma  ]\n",
       "         [                       ]         [ --------  ]\n",
       "         [   U2 U3 gamma - U2 U3 ]         [    U1     ]\n",
       "         [ - ------------------- ]\n",
       "         [             2         ]\n",
       "         [           U1          ]"
      ],
      "text/x-maxima": [
       "matrix([0,1,0,0],\n",
       "       [((U3^2+U2^2)*gamma-U3^2-3*U2^2)/(2*U1^2),-(U2*gamma-3*U2)/U1,\n",
       "        -(U3*gamma-U3)/U1,gamma-1],[-(U2*U3)/U1^2,U3/U1,U2/U1,0],\n",
       "       [-((U1*U2*U4-U2*U3^2-U2^3)*gamma+U2*U3^2+U2^3)/U1^3,\n",
       "        ((2*U1*U4-U3^2-3*U2^2)*gamma+U3^2+3*U2^2)/(2*U1^2),\n",
       "        -(U2*U3*gamma-U2*U3)/U1^2,(U2*gamma)/U1])"
      ]
     },
     "execution_count": 10,
     "metadata": {},
     "output_type": "execute_result"
    }
   ],
   "source": [
    "dFdU:ratsimp(jacobian(args(Fstar)[1],args(Utilde)[1]));"
   ]
  },
  {
   "cell_type": "markdown",
   "metadata": {},
   "source": [
    "    \n",
    "### Since $\\frac{\\partial F(U)}{\\partial x} = \\frac{\\partial F}{\\partial U}\\frac{\\partial U}{\\partial x}$ we can now write the Euler equation in quasilinear form with \n",
    "\n",
    "\n",
    "$$\\color{blue}{\\large \\frac{dU}{dt} + \\frac{\\partial F}{\\partial U}\\frac{dU}{dx} + \\frac{\\partial G}{\\partial U}\\frac{dU}{dy}= \\frac{dU}{dt}+A\\frac{dU}{dx}+B\\frac{dU}{dx}=0.}$$\n",
    "    \n"
   ]
  },
  {
   "cell_type": "code",
   "execution_count": 11,
   "metadata": {},
   "outputs": [
    {
     "data": {
      "text/latex": [
       "\\[\\tag{${\\it \\%o}_{13}$}\\begin{pmatrix}0 & 1 & 0 & 0 \\\\ \\frac{\\left(v^2+u^2\\right)\\,\\gamma-v^2-3\\,u^2}{2} & 3\\,u-u\\,\\gamma & v-v\\,\\gamma & \\gamma-1 \\\\ -u\\,v & v & u & 0 \\\\ \\left(u\\,v^2+u^3-E\\,u\\right)\\,\\gamma-u\\,v^2-u^3 & -\\frac{\\left(v^2+3\\,u^2-2\\,E\\right)\\,\\gamma-v^2-3\\,u^2}{2} & u\\,v-u\\,v\\,\\gamma & u\\,\\gamma \\\\ \\end{pmatrix}\\]"
      ],
      "text/plain": [
       "                [                  0                  ]\n",
       "                [                                     ]\n",
       "                [       2    2           2      2     ]\n",
       "                [     (v  + u ) gamma - v  - 3 u      ]\n",
       "                [     ---------------------------     ]\n",
       "(%o13)  Col 1 = [                  2                  ]\n",
       "                [                                     ]\n",
       "                [                - u v                ]\n",
       "                [                                     ]\n",
       "                [     2    3                   2    3 ]\n",
       "                [ (u v  + u  - E u) gamma - u v  - u  ]\n",
       "         [                   1                   ]\n",
       "         [                                       ]         [        0        ]\n",
       "         [             3 u - u gamma             ]         [                 ]\n",
       "         [                                       ]         [   v - v gamma   ]\n",
       " Col 2 = [                   v                   ] Col 3 = [                 ]\n",
       "         [                                       ]         [        u        ]\n",
       "         [     2      2                 2      2 ]         [                 ]\n",
       "         [   (v  + 3 u  - 2 E) gamma - v  - 3 u  ]         [ u v - u v gamma ]\n",
       "         [ - ----------------------------------- ]\n",
       "         [                    2                  ]\n",
       "         [     0     ]\n",
       "         [           ]\n",
       "         [ gamma - 1 ]\n",
       " Col 4 = [           ]\n",
       "         [     0     ]\n",
       "         [           ]\n",
       "         [  u gamma  ]"
      ],
      "text/x-maxima": [
       "matrix([0,1,0,0],\n",
       "       [((v^2+u^2)*gamma-v^2-3*u^2)/2,3*u-u*gamma,v-v*gamma,gamma-1],\n",
       "       [-u*v,v,u,0],\n",
       "       [(u*v^2+u^3-E*u)*gamma-u*v^2-u^3,-((v^2+3*u^2-2*E)*gamma-v^2-3*u^2)/2,\n",
       "        u*v-u*v*gamma,u*gamma])"
      ]
     },
     "execution_count": 11,
     "metadata": {},
     "output_type": "execute_result"
    }
   ],
   "source": [
    "A:ratsimp(subst(consSystem,dFdU));"
   ]
  },
  {
   "cell_type": "markdown",
   "metadata": {},
   "source": [
    "### We can get the internal energy from the pressure equation and write pressure as $p=\\rho c^2/\\gamma$:"
   ]
  },
  {
   "cell_type": "code",
   "execution_count": 12,
   "metadata": {},
   "outputs": [
    {
     "data": {
      "text/latex": [
       "\\[\\tag{${\\it \\%o}_{14}$}\\frac{c^2\\,\\rho}{\\gamma}\\]"
      ],
      "text/plain": [
       "                                     2\n",
       "                                    c  rho\n",
       "(%o14)                              ------\n",
       "                                    gamma"
      ],
      "text/x-maxima": [
       "(c^2*rho)/gamma"
      ]
     },
     "execution_count": 12,
     "metadata": {},
     "output_type": "execute_result"
    },
    {
     "data": {
      "text/latex": [
       "\\[\\tag{${\\it \\%o}_{15}$}\\frac{c^2}{\\left(\\gamma-1\\right)\\,\\gamma}\\]"
      ],
      "text/plain": [
       "                                       2\n",
       "                                      c\n",
       "(%o15)                         -----------------\n",
       "                               (gamma - 1) gamma"
      ],
      "text/x-maxima": [
       "c^2/((gamma-1)*gamma)"
      ]
     },
     "execution_count": 12,
     "metadata": {},
     "output_type": "execute_result"
    }
   ],
   "source": [
    "pc : rho*c^2/gamma;\n",
    "e : pc/(rho*(gamma-1));"
   ]
  },
  {
   "cell_type": "code",
   "execution_count": 13,
   "metadata": {},
   "outputs": [
    {
     "data": {
      "text/latex": [
       "\\[\\tag{${\\it \\%o}_{16}$}\\begin{pmatrix}0 & 1 & 0 & 0 \\\\ \\frac{\\left(v^2+u^2\\right)\\,\\gamma-v^2-3\\,u^2}{2} & 3\\,u-u\\,\\gamma & v-v\\,\\gamma & \\gamma-1 \\\\ -u\\,v & v & u & 0 \\\\ \\frac{\\left(u\\,v^2+u^3\\right)\\,\\gamma^2+\\left(-3\\,u\\,v^2-3\\,u^3\\right)\\,\\gamma+2\\,u\\,v^2+2\\,u^3-2\\,c^2\\,u}{2\\,\\gamma-2} & -\\frac{2\\,u^2\\,\\gamma^2+\\left(-v^2-5\\,u^2\\right)\\,\\gamma+v^2+3\\,u^2-2\\,c^2}{2\\,\\gamma-2} & u\\,v-u\\,v\\,\\gamma & u\\,\\gamma \\\\ \\end{pmatrix}\\]"
      ],
      "text/plain": [
       "                               2    2           2      2\n",
       "                             (v  + u ) gamma - v  - 3 u\n",
       "(%o16) matrix([0, 1, 0, 0], [---------------------------, 3 u - u gamma, \n",
       "                                          2\n",
       "v - v gamma, gamma - 1], [- u v, v, u, 0], \n",
       "     2    3       2            2       3               2      3      2\n",
       " (u v  + u ) gamma  + ((- 3 u v ) - 3 u ) gamma + 2 u v  + 2 u  - 2 c  u\n",
       "[-----------------------------------------------------------------------, \n",
       "                               2 gamma - 2\n",
       "     2      2        2       2           2      2      2\n",
       "  2 u  gamma  + ((- v ) - 5 u ) gamma + v  + 3 u  - 2 c\n",
       "- ------------------------------------------------------, u v - u v gamma, \n",
       "                       2 gamma - 2\n",
       "u gamma])"
      ],
      "text/x-maxima": [
       "matrix([0,1,0,0],\n",
       "       [((v^2+u^2)*gamma-v^2-3*u^2)/2,3*u-u*gamma,v-v*gamma,gamma-1],\n",
       "       [-u*v,v,u,0],\n",
       "       [((u*v^2+u^3)*gamma^2+((-3*u*v^2)-3*u^3)*gamma+2*u*v^2+2*u^3-2*c^2*u)\n",
       "         /(2*gamma-2),\n",
       "        -(2*u^2*gamma^2+((-v^2)-5*u^2)*gamma+v^2+3*u^2-2*c^2)/(2*gamma-2),\n",
       "        u*v-u*v*gamma,u*gamma])"
      ]
     },
     "execution_count": 13,
     "metadata": {},
     "output_type": "execute_result"
    }
   ],
   "source": [
    "A : ratsimp(subst([E = (e + q)],A));"
   ]
  },
  {
   "cell_type": "markdown",
   "metadata": {},
   "source": [
    "### We can now compute the eigenvalues, which should be $(u, u, u-c, u+c)$"
   ]
  },
  {
   "cell_type": "code",
   "execution_count": 14,
   "metadata": {},
   "outputs": [
    {
     "data": {
      "text/latex": [
       "\\[\\tag{${\\it \\%o}_{17}$}\\left[ \\left[ u , u-c , u+c \\right]  , \\left[ 2 , 1 , 1 \\right]  \\right] \\]"
      ],
      "text/plain": [
       "(%o17)                  [[u, u - c, u + c], [2, 1, 1]]"
      ],
      "text/x-maxima": [
       "[[u,u-c,u+c],[2,1,1]]"
      ]
     },
     "execution_count": 14,
     "metadata": {},
     "output_type": "execute_result"
    }
   ],
   "source": [
    "ratexpand(ratsimp(eigenvalues(A)));"
   ]
  },
  {
   "cell_type": "markdown",
   "metadata": {},
   "source": [
    "### We use the same approach for the matrix B:"
   ]
  },
  {
   "cell_type": "code",
   "execution_count": 15,
   "metadata": {},
   "outputs": [
    {
     "data": {
      "text/latex": [
       "\\[\\tag{${\\it \\%o}_{18}$}\\begin{pmatrix}U_{3} & \\frac{U_{2}\\,U_{3}}{U_{1}} & U_{4}\\,\\gamma-\\frac{U_{3}^2\\,\\gamma}{2\\,U_{1}}-\\frac{U_{2}^2\\,\\gamma}{2\\,U_{1}}-U_{4}+\\frac{3\\,U_{3}^2}{2\\,U_{1}}+\\frac{U_{2}^2}{2\\,U_{1}} & \\frac{U_{3}\\,U_{4}\\,\\gamma}{U_{1}}-\\frac{U_{3}^3\\,\\gamma}{2\\,U_{1}^2}-\\frac{U_{2}^2\\,U_{3}\\,\\gamma}{2\\,U_{1}^2}+\\frac{U_{3}^3}{2\\,U_{1}^2}+\\frac{U_{2}^2\\,U_{3}}{2\\,U_{1}^2} \\\\ \\end{pmatrix}\\]"
      ],
      "text/plain": [
       "                               [ U2 U3 ]\n",
       "(%o18)  Col 1 = [ U3 ] Col 2 = [ ----- ]\n",
       "                               [  U1   ]\n",
       "         [              2           2                  2     2  ]\n",
       " Col 3 = [            U3  gamma   U2  gamma        3 U3    U2   ]\n",
       "         [ U4 gamma - --------- - --------- - U4 + ----- + ---- ]\n",
       "         [              2 U1        2 U1           2 U1    2 U1 ]\n",
       "         [                 3           2               3      2    ]\n",
       "         [ U3 U4 gamma   U3  gamma   U2  U3 gamma    U3     U2  U3 ]\n",
       " Col 4 = [ ----------- - --------- - ------------ + ----- + ------ ]\n",
       "         [     U1              2            2           2       2  ]\n",
       "         [                 2 U1         2 U1        2 U1    2 U1   ]"
      ],
      "text/x-maxima": [
       "matrix([U3,(U2*U3)/U1,\n",
       "        U4*gamma-(U3^2*gamma)/(2*U1)-(U2^2*gamma)/(2*U1)-U4+(3*U3^2)/(2*U1)\n",
       "                +U2^2/(2*U1),\n",
       "        (U3*U4*gamma)/U1-(U3^3*gamma)/(2*U1^2)-(U2^2*U3*gamma)/(2*U1^2)\n",
       "                        +U3^3/(2*U1^2)+(U2^2*U3)/(2*U1^2)])"
      ]
     },
     "execution_count": 15,
     "metadata": {},
     "output_type": "execute_result"
    },
    {
     "data": {
      "text/latex": [
       "\\[\\tag{${\\it \\%o}_{19}$}\\begin{pmatrix}0 & 0 & 1 & 0 \\\\ -\\frac{U_{2}\\,U_{3}}{U_{1}^2} & \\frac{U_{3}}{U_{1}} & \\frac{U_{2}}{U_{1}} & 0 \\\\ \\frac{\\left(U_{3}^2+U_{2}^2\\right)\\,\\gamma-3\\,U_{3}^2-U_{2}^2}{2\\,U_{1}^2} & -\\frac{U_{2}\\,\\gamma-U_{2}}{U_{1}} & -\\frac{U_{3}\\,\\gamma-3\\,U_{3}}{U_{1}} & \\gamma-1 \\\\ -\\frac{\\left(U_{1}\\,U_{3}\\,U_{4}-U_{3}^3-U_{2}^2\\,U_{3}\\right)\\,\\gamma+U_{3}^3+U_{2}^2\\,U_{3}}{U_{1}^3} & -\\frac{U_{2}\\,U_{3}\\,\\gamma-U_{2}\\,U_{3}}{U_{1}^2} & \\frac{\\left(2\\,U_{1}\\,U_{4}-3\\,U_{3}^2-U_{2}^2\\right)\\,\\gamma+3\\,U_{3}^2+U_{2}^2}{2\\,U_{1}^2} & \\frac{U_{3}\\,\\gamma}{U_{1}} \\\\ \\end{pmatrix}\\]"
      ],
      "text/plain": [
       "                [                        0                         ]\n",
       "                [                                                  ]\n",
       "                [                       U2 U3                      ]\n",
       "                [                     - -----                      ]\n",
       "                [                          2                       ]\n",
       "                [                        U1                        ]\n",
       "                [                                                  ]\n",
       "                [            2     2              2     2          ]\n",
       "(%o19)  Col 1 = [         (U3  + U2 ) gamma - 3 U3  - U2           ]\n",
       "                [         -------------------------------          ]\n",
       "                [                          2                       ]\n",
       "                [                      2 U1                        ]\n",
       "                [                                                  ]\n",
       "                [                 3     2               3     2    ]\n",
       "                [   (U1 U3 U4 - U3  - U2  U3) gamma + U3  + U2  U3 ]\n",
       "                [ - ---------------------------------------------- ]\n",
       "                [                          3                       ]\n",
       "                [                        U1                        ]\n",
       "         [           0           ]\n",
       "         [                       ]\n",
       "         [          U3           ]\n",
       "         [          --           ]\n",
       "         [          U1           ]\n",
       "         [                       ]\n",
       " Col 2 = [      U2 gamma - U2    ]\n",
       "         [    - -------------    ]\n",
       "         [           U1          ]\n",
       "         [                       ]\n",
       "         [   U2 U3 gamma - U2 U3 ]\n",
       "         [ - ------------------- ]\n",
       "         [             2         ]\n",
       "         [           U1          ]\n",
       "         [                      1                      ]\n",
       "         [                                             ]\n",
       "         [                     U2                      ]\n",
       "         [                     --                      ]         [     0     ]\n",
       "         [                     U1                      ]         [           ]\n",
       "         [                                             ]         [     0     ]\n",
       "         [                U3 gamma - 3 U3              ]         [           ]\n",
       " Col 3 = [              - ---------------              ] Col 4 = [ gamma - 1 ]\n",
       "         [                      U1                     ]         [           ]\n",
       "         [                                             ]         [ U3 gamma  ]\n",
       "         [                2     2              2     2 ]         [ --------  ]\n",
       "         [ (2 U1 U4 - 3 U3  - U2 ) gamma + 3 U3  + U2  ]         [    U1     ]\n",
       "         [ ------------------------------------------- ]\n",
       "         [                        2                    ]\n",
       "         [                    2 U1                     ]"
      ],
      "text/x-maxima": [
       "matrix([0,0,1,0],[-(U2*U3)/U1^2,U3/U1,U2/U1,0],\n",
       "       [((U3^2+U2^2)*gamma-3*U3^2-U2^2)/(2*U1^2),-(U2*gamma-U2)/U1,\n",
       "        -(U3*gamma-3*U3)/U1,gamma-1],\n",
       "       [-((U1*U3*U4-U3^3-U2^2*U3)*gamma+U3^3+U2^2*U3)/U1^3,\n",
       "        -(U2*U3*gamma-U2*U3)/U1^2,\n",
       "        ((2*U1*U4-3*U3^2-U2^2)*gamma+3*U3^2+U2^2)/(2*U1^2),(U3*gamma)/U1])"
      ]
     },
     "execution_count": 15,
     "metadata": {},
     "output_type": "execute_result"
    },
    {
     "data": {
      "text/latex": [
       "\\[\\tag{${\\it \\%o}_{20}$}\\begin{pmatrix}0 & 0 & 1 & 0 \\\\ -u\\,v & v & u & 0 \\\\ \\frac{\\left(v^2+u^2\\right)\\,\\gamma-3\\,v^2-u^2}{2} & u-u\\,\\gamma & 3\\,v-v\\,\\gamma & \\gamma-1 \\\\ \\left(v^3+\\left(u^2-E\\right)\\,v\\right)\\,\\gamma-v^3-u^2\\,v & u\\,v-u\\,v\\,\\gamma & -\\frac{\\left(3\\,v^2+u^2-2\\,E\\right)\\,\\gamma-3\\,v^2-u^2}{2} & v\\,\\gamma \\\\ \\end{pmatrix}\\]"
      ],
      "text/plain": [
       "                [                  0                  ]\n",
       "                [                                     ]\n",
       "                [                - u v                ]\n",
       "                [                                     ]\n",
       "                [       2    2             2    2     ]\n",
       "(%o20)  Col 1 = [     (v  + u ) gamma - 3 v  - u      ]\n",
       "                [     ---------------------------     ]\n",
       "                [                  2                  ]\n",
       "                [                                     ]\n",
       "                [   3     2                  3    2   ]\n",
       "                [ (v  + (u  - E) v) gamma - v  - u  v ]\n",
       "                                     [                   1                   ]\n",
       "         [        0        ]         [                                       ]\n",
       "         [                 ]         [                   u                   ]\n",
       "         [        v        ]         [                                       ]\n",
       " Col 2 = [                 ] Col 3 = [             3 v - v gamma             ]\n",
       "         [   u - u gamma   ]         [                                       ]\n",
       "         [                 ]         [       2    2                   2    2 ]\n",
       "         [ u v - u v gamma ]         [   (3 v  + u  - 2 E) gamma - 3 v  - u  ]\n",
       "                                     [ - ----------------------------------- ]\n",
       "                                     [                    2                  ]\n",
       "         [     0     ]\n",
       "         [           ]\n",
       "         [     0     ]\n",
       " Col 4 = [           ]\n",
       "         [ gamma - 1 ]\n",
       "         [           ]\n",
       "         [  v gamma  ]"
      ],
      "text/x-maxima": [
       "matrix([0,0,1,0],[-u*v,v,u,0],\n",
       "       [((v^2+u^2)*gamma-3*v^2-u^2)/2,u-u*gamma,3*v-v*gamma,gamma-1],\n",
       "       [(v^3+(u^2-E)*v)*gamma-v^3-u^2*v,u*v-u*v*gamma,\n",
       "        -((3*v^2+u^2-2*E)*gamma-3*v^2-u^2)/2,v*gamma])"
      ]
     },
     "execution_count": 15,
     "metadata": {},
     "output_type": "execute_result"
    },
    {
     "data": {
      "text/latex": [
       "\\[\\tag{${\\it \\%o}_{21}$}\\begin{pmatrix}0 & 0 & 1 & 0 \\\\ -u\\,v & v & u & 0 \\\\ \\frac{\\left(v^2+u^2\\right)\\,\\gamma-3\\,v^2-u^2}{2} & u-u\\,\\gamma & 3\\,v-v\\,\\gamma & \\gamma-1 \\\\ \\frac{\\left(v^3+u^2\\,v\\right)\\,\\gamma^2+\\left(-3\\,v^3-3\\,u^2\\,v\\right)\\,\\gamma+2\\,v^3+\\left(2\\,u^2-2\\,c^2\\right)\\,v}{2\\,\\gamma-2} & u\\,v-u\\,v\\,\\gamma & -\\frac{2\\,v^2\\,\\gamma^2+\\left(-5\\,v^2-u^2\\right)\\,\\gamma+3\\,v^2+u^2-2\\,c^2}{2\\,\\gamma-2} & v\\,\\gamma \\\\ \\end{pmatrix}\\]"
      ],
      "text/plain": [
       "(%o21) matrix([0, 0, 1, 0], [- u v, v, u, 0], \n",
       "   2    2             2    2\n",
       " (v  + u ) gamma - 3 v  - u\n",
       "[---------------------------, u - u gamma, 3 v - v gamma, gamma - 1], \n",
       "              2\n",
       "   3    2         2          3       2               3       2      2\n",
       " (v  + u  v) gamma  + ((- 3 v ) - 3 u  v) gamma + 2 v  + (2 u  - 2 c ) v\n",
       "[-----------------------------------------------------------------------, \n",
       "                               2 gamma - 2\n",
       "                      2      2          2     2             2    2      2\n",
       "                   2 v  gamma  + ((- 5 v ) - u ) gamma + 3 v  + u  - 2 c\n",
       "u v - u v gamma, - ------------------------------------------------------, \n",
       "                                        2 gamma - 2\n",
       "v gamma])"
      ],
      "text/x-maxima": [
       "matrix([0,0,1,0],[-u*v,v,u,0],\n",
       "       [((v^2+u^2)*gamma-3*v^2-u^2)/2,u-u*gamma,3*v-v*gamma,gamma-1],\n",
       "       [((v^3+u^2*v)*gamma^2+((-3*v^3)-3*u^2*v)*gamma+2*v^3+(2*u^2-2*c^2)*v)\n",
       "         /(2*gamma-2),u*v-u*v*gamma,\n",
       "        -(2*v^2*gamma^2+((-5*v^2)-u^2)*gamma+3*v^2+u^2-2*c^2)/(2*gamma-2),\n",
       "        v*gamma])"
      ]
     },
     "execution_count": 15,
     "metadata": {},
     "output_type": "execute_result"
    }
   ],
   "source": [
    "Gstar : ratexpand(ratsimp(ev(subst(mapping,G),nouns)));\n",
    "dGdU:ratsimp(jacobian(args(Gstar)[1],args(Utilde)[1]));\n",
    "B:ratsimp(subst(consSystem,dGdU));\n",
    "B : ratsimp(subst([E = (e + q)],B));"
   ]
  },
  {
   "cell_type": "markdown",
   "metadata": {},
   "source": [
    "### We now have the PDE in quasi-linear form:\n",
    "\n",
    "$$\\color{blue}{\\large  \\frac{\\partial U}{\\partial t} + A \\cdot \\frac{\\partial U}{\\partial x} + B \\cdot \\frac{\\partial U}{\\partial y} = 0}$$\n",
    "    \n"
   ]
  },
  {
   "cell_type": "markdown",
   "metadata": {},
   "source": [
    "***\n",
    "### We can now compute the eigenvalues, which should be $(u, u, u-c, u+c)$  \n",
    "***"
   ]
  },
  {
   "cell_type": "code",
   "execution_count": 16,
   "metadata": {},
   "outputs": [
    {
     "data": {
      "text/latex": [
       "\\[\\tag{${\\it \\%o}_{22}$}\\left[ \\left[ u , u-c , u+c \\right]  , \\left[ 2 , 1 , 1 \\right]  \\right] \\]"
      ],
      "text/plain": [
       "(%o22)                  [[u, u - c, u + c], [2, 1, 1]]"
      ],
      "text/x-maxima": [
       "[[u,u-c,u+c],[2,1,1]]"
      ]
     },
     "execution_count": 16,
     "metadata": {},
     "output_type": "execute_result"
    }
   ],
   "source": [
    "ratexpand(ratsimp(eigenvalues(A)));"
   ]
  },
  {
   "cell_type": "code",
   "execution_count": 17,
   "metadata": {},
   "outputs": [
    {
     "data": {
      "text/latex": [
       "\\[\\tag{${\\it \\%o}_{23}$}\\left[ \\left[ v , v-c , v+c \\right]  , \\left[ 2 , 1 , 1 \\right]  \\right] \\]"
      ],
      "text/plain": [
       "(%o23)                  [[v, v - c, v + c], [2, 1, 1]]"
      ],
      "text/x-maxima": [
       "[[v,v-c,v+c],[2,1,1]]"
      ]
     },
     "execution_count": 17,
     "metadata": {},
     "output_type": "execute_result"
    }
   ],
   "source": [
    "ratexpand(ratsimp(eigenvalues(B)));"
   ]
  },
  {
   "cell_type": "markdown",
   "metadata": {},
   "source": [
    "### We can write the condition number in terms of the mach number using $M = \\frac{u}{c}$, so the eigenvalues become\n",
    "\n",
    "$$\\color{blue}{ \\large (Mc, Mc-c, Mc+c)}$$"
   ]
  },
  {
   "cell_type": "code",
   "execution_count": 18,
   "metadata": {},
   "outputs": [
    {
     "data": {
      "text/latex": [
       "\\[\\tag{${\\it \\%o}_{24}$}{\\it condition}\\left(M\\right):=\\frac{M+1}{M}\\]"
      ],
      "text/plain": [
       "                                             M + 1\n",
       "(%o24)                       condition(M) := -----\n",
       "                                               M"
      ],
      "text/x-maxima": [
       "condition(M):=(M+1)/M"
      ]
     },
     "execution_count": 18,
     "metadata": {},
     "output_type": "execute_result"
    }
   ],
   "source": [
    "condition(M):=(M+1)/M;"
   ]
  },
  {
   "cell_type": "code",
   "execution_count": 19,
   "metadata": {},
   "outputs": [
    {
     "data": {
      "text/latex": [
       "\\[\\tag{${\\it \\%o}_{25}$}\\mathbf{false}\\]"
      ],
      "text/plain": [
       "(%o25)                               false"
      ],
      "text/x-maxima": [
       "false"
      ]
     },
     "execution_count": 19,
     "metadata": {},
     "output_type": "execute_result"
    }
   ],
   "source": [
    "plot2d(condition(u),[u,0.1,1.5]);"
   ]
  },
  {
   "cell_type": "markdown",
   "metadata": {},
   "source": [
    "***\n",
    "#  2. primitive form with $V=(\\rho,u,v,P)$\n",
    "\n",
    "### The euler equation is now in quasilinear form with \n",
    "\n",
    "$$\\color{blue}{\\large  \\frac{\\partial U}{\\partial t} + A \\cdot \\frac{\\partial U}{\\partial x} + B \\cdot \\frac{\\partial U}{\\partial y} = 0}$$\n",
    "    \n",
    "### We now write the equations in terms of the new primitive variables $V=(\\rho,u,v,p)$.\n"
   ]
  },
  {
   "cell_type": "markdown",
   "metadata": {},
   "source": [
    "### We have the relationships:\n",
    "\n",
    "$$\\color{blue}{\\large \\frac{\\partial U(V)}{\\partial t} = \\frac{\\partial U}{\\partial V}\\frac{\\partial V}{\\partial t} = M \\frac{\\partial V}{\\partial t}}$$\n",
    "$$\\color{blue}{\\large \\frac{\\partial U(V)}{\\partial x} = \\frac{\\partial U}{\\partial V}\\frac{\\partial V}{\\partial x} = M \\frac{\\partial V}{\\partial x}}$$\n",
    "    \n",
    "### the Euler equations in quasilinear form can now be written as: \n",
    "\n",
    "$$\\color{blue}{\\large \\frac{dU(V)}{dt} + A\\frac{dU(V)}{dx}=M\\frac{\\partial V}{\\partial t} + A M \\frac{\\partial V}{\\partial x}=0}$$\n",
    "    \n",
    "### Or, when collecting the matrices:\n",
    "    \n",
    "$$\\color{blue}{\\large \\frac{\\partial V}{\\partial t} + M^{-1} A M \\frac{\\partial V}{\\partial x}=0}$$\n",
    "\n",
    "    \n",
    "\n"
   ]
  },
  {
   "cell_type": "code",
   "execution_count": 20,
   "metadata": {},
   "outputs": [
    {
     "data": {
      "text/latex": [
       "\\[\\tag{${\\it \\%o}_{26}$}U_{1}\\]"
      ],
      "text/plain": [
       "(%o26)                                U1"
      ],
      "text/x-maxima": [
       "U1"
      ]
     },
     "execution_count": 20,
     "metadata": {},
     "output_type": "execute_result"
    },
    {
     "data": {
      "text/latex": [
       "\\[\\tag{${\\it \\%o}_{27}$}\\frac{U_{2}}{U_{1}}\\]"
      ],
      "text/plain": [
       "                                      U2\n",
       "(%o27)                                --\n",
       "                                      U1"
      ],
      "text/x-maxima": [
       "U2/U1"
      ]
     },
     "execution_count": 20,
     "metadata": {},
     "output_type": "execute_result"
    },
    {
     "data": {
      "text/latex": [
       "\\[\\tag{${\\it \\%o}_{28}$}\\frac{U_{3}}{U_{1}}\\]"
      ],
      "text/plain": [
       "                                      U3\n",
       "(%o28)                                --\n",
       "                                      U1"
      ],
      "text/x-maxima": [
       "U3/U1"
      ]
     },
     "execution_count": 20,
     "metadata": {},
     "output_type": "execute_result"
    },
    {
     "data": {
      "text/latex": [
       "\\[\\tag{${\\it \\%o}_{29}$}U_{1}\\,\\left(\\frac{U_{4}}{U_{1}}-\\frac{\\frac{U_{3}^2}{U_{1}^2}+\\frac{U_{2}^2}{U_{1}^2}}{2}\\right)\\,\\left(\\gamma-1\\right)\\]"
      ],
      "text/plain": [
       "                                   2     2\n",
       "                                 U3    U2\n",
       "                                 --- + ---\n",
       "                                   2     2\n",
       "                            U4   U1    U1\n",
       "(%o29)                  U1 (-- - ---------) (gamma - 1)\n",
       "                            U1       2"
      ],
      "text/x-maxima": [
       "U1*(U4/U1-(U3^2/U1^2+U2^2/U1^2)/2)*(gamma-1)"
      ]
     },
     "execution_count": 20,
     "metadata": {},
     "output_type": "execute_result"
    }
   ],
   "source": [
    "/* compact representation of primitive variables rho, u, p*/\n",
    "\n",
    "RHO : U1;\n",
    "Up : U2/U1;\n",
    "Vp : U3/U1;\n",
    "P;"
   ]
  },
  {
   "cell_type": "code",
   "execution_count": 21,
   "metadata": {},
   "outputs": [
    {
     "data": {
      "text/latex": [
       "\\[\\tag{${\\it \\%o}_{30}$}\\begin{pmatrix}U_{1} & \\frac{U_{2}}{U_{1}} & \\frac{U_{3}}{U_{1}} & \\frac{\\left(2\\,U_{1}\\,U_{4}-U_{3}^2-U_{2}^2\\right)\\,\\gamma-2\\,U_{1}\\,U_{4}+U_{3}^2+U_{2}^2}{2\\,U_{1}} \\\\ \\end{pmatrix}\\]"
      ],
      "text/plain": [
       "       [                          2     2                      2     2 ]\n",
       "(%o30) [     U2  U3  (2 U1 U4 - U3  - U2 ) gamma - 2 U1 U4 + U3  + U2  ]\n",
       "       [ U1  --  --  ------------------------------------------------- ]\n",
       "       [     U1  U1                        2 U1                        ]"
      ],
      "text/x-maxima": [
       "matrix([U1,U2/U1,U3/U1,((2*U1*U4-U3^2-U2^2)*gamma-2*U1*U4+U3^2+U2^2)/(2*U1)])"
      ]
     },
     "execution_count": 21,
     "metadata": {},
     "output_type": "execute_result"
    }
   ],
   "source": [
    "Vtilde:ratsimp(matrix([RHO,Up,Vp, P]));"
   ]
  },
  {
   "cell_type": "code",
   "execution_count": 22,
   "metadata": {},
   "outputs": [
    {
     "data": {
      "text/latex": [
       "\\[\\tag{${\\it \\%o}_{31}$}\\begin{pmatrix}U_{1} & U_{2} & U_{3} & U_{4} \\\\ \\end{pmatrix}\\]"
      ],
      "text/plain": [
       "(%o31)                        [ U1  U2  U3  U4 ]"
      ],
      "text/x-maxima": [
       "matrix([U1,U2,U3,U4])"
      ]
     },
     "execution_count": 22,
     "metadata": {},
     "output_type": "execute_result"
    },
    {
     "data": {
      "text/latex": [
       "\\[\\tag{${\\it \\%o}_{32}$}\\begin{pmatrix}1 & 0 & 0 & 0 \\\\ -\\frac{U_{2}}{U_{1}^2} & \\frac{1}{U_{1}} & 0 & 0 \\\\ -\\frac{U_{3}}{U_{1}^2} & 0 & \\frac{1}{U_{1}} & 0 \\\\ \\frac{\\left(U_{3}^2+U_{2}^2\\right)\\,\\gamma-U_{3}^2-U_{2}^2}{2\\,U_{1}^2} & -\\frac{U_{2}\\,\\gamma-U_{2}}{U_{1}} & -\\frac{U_{3}\\,\\gamma-U_{3}}{U_{1}} & \\gamma-1 \\\\ \\end{pmatrix}\\]"
      ],
      "text/plain": [
       "(%o32) \n",
       " [               1                       0                0             0     ]\n",
       " [                                                                            ]\n",
       " [               U2                     1                                     ]\n",
       " [             - ---                    --                0             0     ]\n",
       " [                 2                    U1                                    ]\n",
       " [               U1                                                           ]\n",
       " [                                                                            ]\n",
       " [               U3                                      1                    ]\n",
       " [             - ---                     0               --             0     ]\n",
       " [                 2                                     U1                   ]\n",
       " [               U1                                                           ]\n",
       " [                                                                            ]\n",
       " [    2     2            2     2                                              ]\n",
       " [ (U3  + U2 ) gamma - U3  - U2     U2 gamma - U2    U3 gamma - U3            ]\n",
       " [ -----------------------------  - -------------  - -------------  gamma - 1 ]\n",
       " [                 2                     U1               U1                  ]\n",
       " [             2 U1                                                           ]"
      ],
      "text/x-maxima": [
       "matrix([1,0,0,0],[-U2/U1^2,1/U1,0,0],[-U3/U1^2,0,1/U1,0],\n",
       "       [((U3^2+U2^2)*gamma-U3^2-U2^2)/(2*U1^2),-(U2*gamma-U2)/U1,\n",
       "        -(U3*gamma-U3)/U1,gamma-1])"
      ]
     },
     "execution_count": 22,
     "metadata": {},
     "output_type": "execute_result"
    },
    {
     "data": {
      "text/latex": [
       "\\[\\tag{${\\it \\%o}_{33}$}\\begin{pmatrix}1 & 0 & 0 & 0 \\\\ \\frac{U_{2}}{U_{1}} & U_{1} & 0 & 0 \\\\ \\frac{U_{3}}{U_{1}} & 0 & U_{1} & 0 \\\\ \\frac{U_{3}^2+U_{2}^2}{2\\,U_{1}^2} & U_{2} & U_{3} & \\frac{1}{\\gamma-1} \\\\ \\end{pmatrix}\\]"
      ],
      "text/plain": [
       "                       [     1      0   0       0     ]\n",
       "                       [                              ]\n",
       "                       [    U2                        ]\n",
       "                       [    --      U1  0       0     ]\n",
       "                       [    U1                        ]\n",
       "                       [                              ]\n",
       "                       [    U3                        ]\n",
       "(%o33)                 [    --      0   U1      0     ]\n",
       "                       [    U1                        ]\n",
       "                       [                              ]\n",
       "                       [   2     2                    ]\n",
       "                       [ U3  + U2               1     ]\n",
       "                       [ ---------  U2  U3  --------- ]\n",
       "                       [       2            gamma - 1 ]\n",
       "                       [   2 U1                       ]"
      ],
      "text/x-maxima": [
       "matrix([1,0,0,0],[U2/U1,U1,0,0],[U3/U1,0,U1,0],\n",
       "       [(U3^2+U2^2)/(2*U1^2),U2,U3,1/(gamma-1)])"
      ]
     },
     "execution_count": 22,
     "metadata": {},
     "output_type": "execute_result"
    },
    {
     "data": {
      "text/latex": [
       "\\[\\tag{${\\it \\%o}_{34}$}\\begin{pmatrix}1 & 0 & 0 & 0 \\\\ u & \\rho & 0 & 0 \\\\ v & 0 & \\rho & 0 \\\\ \\frac{v^2+u^2}{2} & \\rho\\,u & \\rho\\,v & \\frac{1}{\\gamma-1} \\\\ \\end{pmatrix}\\]"
      ],
      "text/plain": [
       "                     [    1       0      0        0     ]\n",
       "                     [                                  ]\n",
       "                     [    u      rho     0        0     ]\n",
       "                     [                                  ]\n",
       "(%o34)               [    v       0     rho       0     ]\n",
       "                     [                                  ]\n",
       "                     [  2    2                          ]\n",
       "                     [ v  + u                     1     ]\n",
       "                     [ -------  rho u  rho v  --------- ]\n",
       "                     [    2                   gamma - 1 ]"
      ],
      "text/x-maxima": [
       "matrix([1,0,0,0],[u,rho,0,0],[v,0,rho,0],\n",
       "       [(v^2+u^2)/2,rho*u,rho*v,1/(gamma-1)])"
      ]
     },
     "execution_count": 22,
     "metadata": {},
     "output_type": "execute_result"
    },
    {
     "data": {
      "text/latex": [
       "\\[\\tag{${\\it \\%o}_{35}$}\\begin{pmatrix}1 & 0 & 0 & 0 \\\\ -\\frac{u}{\\rho} & \\frac{1}{\\rho} & 0 & 0 \\\\ -\\frac{v}{\\rho} & 0 & \\frac{1}{\\rho} & 0 \\\\ \\frac{\\left(v^2+u^2\\right)\\,\\gamma-v^2-u^2}{2} & u-u\\,\\gamma & v-v\\,\\gamma & \\gamma-1 \\\\ \\end{pmatrix}\\]"
      ],
      "text/plain": [
       "       [             1                   0            0           0     ]\n",
       "       [                                                                ]\n",
       "       [              u                  1                              ]\n",
       "       [           - ---                ---           0           0     ]\n",
       "       [             rho                rho                             ]\n",
       "       [                                                                ]\n",
       "(%o35) [              v                               1                 ]\n",
       "       [           - ---                 0           ---          0     ]\n",
       "       [             rho                             rho                ]\n",
       "       [                                                                ]\n",
       "       [   2    2           2    2                                      ]\n",
       "       [ (v  + u ) gamma - v  - u                                       ]\n",
       "       [ -------------------------  u - u gamma  v - v gamma  gamma - 1 ]\n",
       "       [             2                                                  ]"
      ],
      "text/x-maxima": [
       "matrix([1,0,0,0],[-u/rho,1/rho,0,0],[-v/rho,0,1/rho,0],\n",
       "       [((v^2+u^2)*gamma-v^2-u^2)/2,u-u*gamma,v-v*gamma,gamma-1])"
      ]
     },
     "execution_count": 22,
     "metadata": {},
     "output_type": "execute_result"
    },
    {
     "data": {
      "text/latex": [
       "\\[\\tag{${\\it \\%o}_{36}$}\\begin{pmatrix}u & \\rho & 0 & 0 \\\\ 0 & u & 0 & \\frac{1}{\\rho} \\\\ 0 & 0 & u & 0 \\\\ 0 & c^2\\,\\rho & 0 & u \\\\ \\end{pmatrix}\\]"
      ],
      "text/plain": [
       "                             [ u   rho    0   0  ]\n",
       "                             [                   ]\n",
       "                             [                1  ]\n",
       "                             [ 0    u     0  --- ]\n",
       "(%o36)                       [               rho ]\n",
       "                             [                   ]\n",
       "                             [ 0    0     u   0  ]\n",
       "                             [                   ]\n",
       "                             [     2             ]\n",
       "                             [ 0  c  rho  0   u  ]"
      ],
      "text/x-maxima": [
       "matrix([u,rho,0,0],[0,u,0,1/rho],[0,0,u,0],[0,c^2*rho,0,u])"
      ]
     },
     "execution_count": 22,
     "metadata": {},
     "output_type": "execute_result"
    },
    {
     "data": {
      "text/latex": [
       "\\[\\tag{${\\it \\%o}_{37}$}\\left[ \\left[ u-c , u+c , u \\right]  , \\left[ 1 , 1 , 2 \\right]  \\right] \\]"
      ],
      "text/plain": [
       "(%o37)                  [[u - c, u + c, u], [1, 1, 2]]"
      ],
      "text/x-maxima": [
       "[[u-c,u+c,u],[1,1,2]]"
      ]
     },
     "execution_count": 22,
     "metadata": {},
     "output_type": "execute_result"
    }
   ],
   "source": [
    "Utilde:matrix([U1,U2,U3,U4]);\n",
    "dVdU:ratsimp(jacobian(args(Vtilde)[1],args(Utilde)[1]));\n",
    "dUdV : ratsimp(invert(dVdU));\n",
    "M : ratsimp(subst(consSystem,dUdV));\n",
    "ratsimp(invert(M));\n",
    "Atilde : ratsimp(invert(M).A.M);\n",
    "ratexpand(ratsimp(eigenvalues(Atilde)));"
   ]
  },
  {
   "cell_type": "markdown",
   "metadata": {},
   "source": [
    "### Note that this corresponds (besides some typing errors) to the matrices in the lecture notes of Jameson AA215A, lecture 4, p 10"
   ]
  },
  {
   "cell_type": "markdown",
   "metadata": {},
   "source": [
    "***\n",
    "# 3. primitive form with $V=(P,u,v,T)$\n"
   ]
  },
  {
   "cell_type": "markdown",
   "metadata": {},
   "source": [
    "\n",
    "### We have \n",
    "\n",
    "$$\\color{blue}{\\large E = c_pT + q - \\frac{p}{\\rho}}$$\n",
    "\n",
    "$$\\color{blue}{\\large  T = \\frac{\\rho E - \\rho q + p }{\\rho c_p}}$$\n",
    "\n",
    "### Now write $T$ in terms of the variables $U_1=\\rho$, $U_2=\\rho u$, $U_3 = \\rho v$, $U_4 = \\rho E$.\n",
    "### We already have P in terms of U:\n"
   ]
  },
  {
   "cell_type": "code",
   "execution_count": 23,
   "metadata": {},
   "outputs": [
    {
     "data": {
      "text/latex": [
       "\\[\\tag{${\\it \\%o}_{38}$}\\frac{\\frac{U_{3}^2}{U_{1}^2}+\\frac{U_{2}^2}{U_{1}^2}}{2}\\]"
      ],
      "text/plain": [
       "                                     2     2\n",
       "                                   U3    U2\n",
       "                                   --- + ---\n",
       "                                     2     2\n",
       "                                   U1    U1\n",
       "(%o38)                             ---------\n",
       "                                       2"
      ],
      "text/x-maxima": [
       "(U3^2/U1^2+U2^2/U1^2)/2"
      ]
     },
     "execution_count": 23,
     "metadata": {},
     "output_type": "execute_result"
    },
    {
     "data": {
      "text/latex": [
       "\\[\\tag{${\\it \\%o}_{39}$}\\frac{\\left(2\\,U_{1}\\,U_{4}-U_{3}^2-U_{2}^2\\right)\\,\\gamma}{2\\,U_{1}^2\\,{\\it cp}}\\]"
      ],
      "text/plain": [
       "                                       2     2\n",
       "                          (2 U1 U4 - U3  - U2 ) gamma\n",
       "(%o39)                    ---------------------------\n",
       "                                       2\n",
       "                                   2 U1  cp"
      ],
      "text/x-maxima": [
       "((2*U1*U4-U3^2-U2^2)*gamma)/(2*U1^2*cp)"
      ]
     },
     "execution_count": 23,
     "metadata": {},
     "output_type": "execute_result"
    }
   ],
   "source": [
    "Q : ((U2/U1)^2 + (U3/U1)^2)/2;\n",
    "T : ratsimp((U4 - U1*Q + P)/(U1*cp));"
   ]
  },
  {
   "cell_type": "code",
   "execution_count": 24,
   "metadata": {},
   "outputs": [
    {
     "data": {
      "text/latex": [
       "\\[\\tag{${\\it \\%o}_{40}$}\\begin{pmatrix}\\frac{\\left(2\\,U_{1}\\,U_{4}-U_{3}^2-U_{2}^2\\right)\\,\\gamma-2\\,U_{1}\\,U_{4}+U_{3}^2+U_{2}^2}{2\\,U_{1}} & \\frac{U_{2}}{U_{1}} & \\frac{U_{3}}{U_{1}} & \\frac{\\left(2\\,U_{1}\\,U_{4}-U_{3}^2-U_{2}^2\\right)\\,\\gamma}{2\\,U_{1}^2\\,{\\it cp}} \\\\ \\end{pmatrix}\\]"
      ],
      "text/plain": [
       "                [              2     2                      2     2 ]\n",
       "(%o40)  Col 1 = [ (2 U1 U4 - U3  - U2 ) gamma - 2 U1 U4 + U3  + U2  ]\n",
       "                [ ------------------------------------------------- ]\n",
       "                [                       2 U1                        ]\n",
       "                                                [              2     2        ]\n",
       "                  [ U2 ]         [ U3 ]         [ (2 U1 U4 - U3  - U2 ) gamma ]\n",
       "          Col 2 = [ -- ] Col 3 = [ -- ] Col 4 = [ --------------------------- ]\n",
       "                  [ U1 ]         [ U1 ]         [              2              ]\n",
       "                                                [          2 U1  cp           ]"
      ],
      "text/x-maxima": [
       "matrix([((2*U1*U4-U3^2-U2^2)*gamma-2*U1*U4+U3^2+U2^2)/(2*U1),U2/U1,U3/U1,\n",
       "        ((2*U1*U4-U3^2-U2^2)*gamma)/(2*U1^2*cp)])"
      ]
     },
     "execution_count": 24,
     "metadata": {},
     "output_type": "execute_result"
    }
   ],
   "source": [
    "/* this is the only thing that needs to be changed to switch to other primitive variables*/\n",
    "Vtilde:ratsimp(matrix([P,Up,Vp,T]));"
   ]
  },
  {
   "cell_type": "code",
   "execution_count": 25,
   "metadata": {},
   "outputs": [
    {
     "data": {
      "text/latex": [
       "\\[\\tag{${\\it \\%o}_{41}$}\\begin{pmatrix}U_{1} & U_{2} & U_{3} & U_{4} \\\\ \\end{pmatrix}\\]"
      ],
      "text/plain": [
       "(%o41)                        [ U1  U2  U3  U4 ]"
      ],
      "text/x-maxima": [
       "matrix([U1,U2,U3,U4])"
      ]
     },
     "execution_count": 25,
     "metadata": {},
     "output_type": "execute_result"
    },
    {
     "data": {
      "text/latex": [
       "\\[\\tag{${\\it \\%o}_{42}$}\\begin{pmatrix}\\frac{\\left(U_{3}^2+U_{2}^2\\right)\\,\\gamma-U_{3}^2-U_{2}^2}{2\\,U_{1}^2} & -\\frac{U_{2}\\,\\gamma-U_{2}}{U_{1}} & -\\frac{U_{3}\\,\\gamma-U_{3}}{U_{1}} & \\gamma-1 \\\\ -\\frac{U_{2}}{U_{1}^2} & \\frac{1}{U_{1}} & 0 & 0 \\\\ -\\frac{U_{3}}{U_{1}^2} & 0 & \\frac{1}{U_{1}} & 0 \\\\ -\\frac{\\left(U_{1}\\,U_{4}-U_{3}^2-U_{2}^2\\right)\\,\\gamma}{U_{1}^3\\,{\\it cp}} & -\\frac{U_{2}\\,\\gamma}{U_{1}^2\\,{\\it cp}} & -\\frac{U_{3}\\,\\gamma}{U_{1}^2\\,{\\it cp}} & \\frac{\\gamma}{U_{1}\\,{\\it cp}} \\\\ \\end{pmatrix}\\]"
      ],
      "text/plain": [
       "(%o42) \n",
       " [    2     2            2     2                                              ]\n",
       " [ (U3  + U2 ) gamma - U3  - U2     U2 gamma - U2    U3 gamma - U3            ]\n",
       " [ -----------------------------  - -------------  - -------------  gamma - 1 ]\n",
       " [                 2                     U1               U1                  ]\n",
       " [             2 U1                                                           ]\n",
       " [                                                                            ]\n",
       " [               U2                     1                                     ]\n",
       " [             - ---                    --                0             0     ]\n",
       " [                 2                    U1                                    ]\n",
       " [               U1                                                           ]\n",
       " [                                                                            ]\n",
       " [               U3                                      1                    ]\n",
       " [             - ---                     0               --             0     ]\n",
       " [                 2                                     U1                   ]\n",
       " [               U1                                                           ]\n",
       " [                                                                            ]\n",
       " [               2     2                                                      ]\n",
       " [    (U1 U4 - U3  - U2 ) gamma       U2 gamma         U3 gamma       gamma   ]\n",
       " [  - -------------------------     - --------       - --------       -----   ]\n",
       " [               3                       2                2           U1 cp   ]\n",
       " [             U1  cp                  U1  cp           U1  cp                ]"
      ],
      "text/x-maxima": [
       "matrix([((U3^2+U2^2)*gamma-U3^2-U2^2)/(2*U1^2),-(U2*gamma-U2)/U1,\n",
       "        -(U3*gamma-U3)/U1,gamma-1],[-U2/U1^2,1/U1,0,0],[-U3/U1^2,0,1/U1,0],\n",
       "       [-((U1*U4-U3^2-U2^2)*gamma)/(U1^3*cp),-(U2*gamma)/(U1^2*cp),\n",
       "        -(U3*gamma)/(U1^2*cp),gamma/(U1*cp)])"
      ]
     },
     "execution_count": 25,
     "metadata": {},
     "output_type": "execute_result"
    },
    {
     "data": {
      "text/latex": [
       "\\[\\tag{${\\it \\%o}_{43}$}\\begin{pmatrix}\\frac{2\\,U_{1}^2}{\\left(2\\,U_{1}\\,U_{4}-U_{3}^2-U_{2}^2\\right)\\,\\gamma-2\\,U_{1}\\,U_{4}+U_{3}^2+U_{2}^2} & 0 & 0 & -\\frac{2\\,U_{1}^3\\,{\\it cp}}{\\left(2\\,U_{1}\\,U_{4}-U_{3}^2-U_{2}^2\\right)\\,\\gamma} \\\\ \\frac{2\\,U_{1}\\,U_{2}}{\\left(2\\,U_{1}\\,U_{4}-U_{3}^2-U_{2}^2\\right)\\,\\gamma-2\\,U_{1}\\,U_{4}+U_{3}^2+U_{2}^2} & U_{1} & 0 & -\\frac{2\\,U_{1}^2\\,U_{2}\\,{\\it cp}}{\\left(2\\,U_{1}\\,U_{4}-U_{3}^2-U_{2}^2\\right)\\,\\gamma} \\\\ \\frac{2\\,U_{1}\\,U_{3}}{\\left(2\\,U_{1}\\,U_{4}-U_{3}^2-U_{2}^2\\right)\\,\\gamma-2\\,U_{1}\\,U_{4}+U_{3}^2+U_{2}^2} & 0 & U_{1} & -\\frac{2\\,U_{1}^2\\,U_{3}\\,{\\it cp}}{\\left(2\\,U_{1}\\,U_{4}-U_{3}^2-U_{2}^2\\right)\\,\\gamma} \\\\ \\frac{2\\,U_{1}\\,U_{4}}{\\left(2\\,U_{1}\\,U_{4}-U_{3}^2-U_{2}^2\\right)\\,\\gamma-2\\,U_{1}\\,U_{4}+U_{3}^2+U_{2}^2} & U_{2} & U_{3} & -\\frac{\\left(U_{1}\\,U_{3}^2+U_{1}\\,U_{2}^2\\right)\\,{\\it cp}}{\\left(2\\,U_{1}\\,U_{4}-U_{3}^2-U_{2}^2\\right)\\,\\gamma} \\\\ \\end{pmatrix}\\]"
      ],
      "text/plain": [
       "                [                           2                       ]\n",
       "                [                       2 U1                        ]\n",
       "                [ ------------------------------------------------- ]\n",
       "                [              2     2                      2     2 ]\n",
       "                [ (2 U1 U4 - U3  - U2 ) gamma - 2 U1 U4 + U3  + U2  ]\n",
       "                [                                                   ]\n",
       "                [                      2 U1 U2                      ]\n",
       "                [ ------------------------------------------------- ]\n",
       "                [              2     2                      2     2 ]\n",
       "(%o43)  Col 1 = [ (2 U1 U4 - U3  - U2 ) gamma - 2 U1 U4 + U3  + U2  ]\n",
       "                [                                                   ]\n",
       "                [                      2 U1 U3                      ]\n",
       "                [ ------------------------------------------------- ]\n",
       "                [              2     2                      2     2 ]\n",
       "                [ (2 U1 U4 - U3  - U2 ) gamma - 2 U1 U4 + U3  + U2  ]\n",
       "                [                                                   ]\n",
       "                [                      2 U1 U4                      ]\n",
       "                [ ------------------------------------------------- ]\n",
       "                [              2     2                      2     2 ]\n",
       "                [ (2 U1 U4 - U3  - U2 ) gamma - 2 U1 U4 + U3  + U2  ]\n",
       "                                              [                3              ]\n",
       "                                              [            2 U1  cp           ]\n",
       "                                              [ - --------------------------- ]\n",
       "                                              [                2     2        ]\n",
       "                                              [   (2 U1 U4 - U3  - U2 ) gamma ]\n",
       "                                              [                               ]\n",
       "                                              [               2               ]\n",
       "                                              [           2 U1  U2 cp         ]\n",
       "                [ 0  ]         [ 0  ]         [ - --------------------------- ]\n",
       "                [    ]         [    ]         [                2     2        ]\n",
       "                [ U1 ]         [ 0  ]         [   (2 U1 U4 - U3  - U2 ) gamma ]\n",
       "        Col 2 = [    ] Col 3 = [    ] Col 4 = [                               ]\n",
       "                [ 0  ]         [ U1 ]         [               2               ]\n",
       "                [    ]         [    ]         [           2 U1  U3 cp         ]\n",
       "                [ U2 ]         [ U3 ]         [ - --------------------------- ]\n",
       "                                              [                2     2        ]\n",
       "                                              [   (2 U1 U4 - U3  - U2 ) gamma ]\n",
       "                                              [                               ]\n",
       "                                              [            2        2         ]\n",
       "                                              [      (U1 U3  + U1 U2 ) cp     ]\n",
       "                                              [ - --------------------------- ]\n",
       "                                              [                2     2        ]\n",
       "                                              [   (2 U1 U4 - U3  - U2 ) gamma ]"
      ],
      "text/x-maxima": [
       "matrix([(2*U1^2)/((2*U1*U4-U3^2-U2^2)*gamma-2*U1*U4+U3^2+U2^2),0,0,\n",
       "        -(2*U1^3*cp)/((2*U1*U4-U3^2-U2^2)*gamma)],\n",
       "       [(2*U1*U2)/((2*U1*U4-U3^2-U2^2)*gamma-2*U1*U4+U3^2+U2^2),U1,0,\n",
       "        -(2*U1^2*U2*cp)/((2*U1*U4-U3^2-U2^2)*gamma)],\n",
       "       [(2*U1*U3)/((2*U1*U4-U3^2-U2^2)*gamma-2*U1*U4+U3^2+U2^2),0,U1,\n",
       "        -(2*U1^2*U3*cp)/((2*U1*U4-U3^2-U2^2)*gamma)],\n",
       "       [(2*U1*U4)/((2*U1*U4-U3^2-U2^2)*gamma-2*U1*U4+U3^2+U2^2),U2,U3,\n",
       "        -((U1*U3^2+U1*U2^2)*cp)/((2*U1*U4-U3^2-U2^2)*gamma)])"
      ]
     },
     "execution_count": 25,
     "metadata": {},
     "output_type": "execute_result"
    },
    {
     "data": {
      "text/latex": [
       "\\[\\tag{${\\it \\%o}_{44}$}\\left[ U_{1}=\\rho , U_{2}=\\rho\\,u , U_{3}=\\rho\\,v , U_{4}=E\\,\\rho \\right] \\]"
      ],
      "text/plain": [
       "(%o44)          [U1 = rho, U2 = rho u, U3 = rho v, U4 = E rho]"
      ],
      "text/x-maxima": [
       "[U1 = rho,U2 = rho*u,U3 = rho*v,U4 = E*rho]"
      ]
     },
     "execution_count": 25,
     "metadata": {},
     "output_type": "execute_result"
    },
    {
     "data": {
      "text/latex": [
       "\\[\\tag{${\\it \\%o}_{45}$}\\begin{pmatrix}-\\frac{2}{\\left(v^2+u^2-2\\,E\\right)\\,\\gamma-v^2-u^2+2\\,E} & 0 & 0 & \\frac{2\\,{\\it cp}\\,\\rho}{\\left(v^2+u^2-2\\,E\\right)\\,\\gamma} \\\\ -\\frac{2\\,u}{\\left(v^2+u^2-2\\,E\\right)\\,\\gamma-v^2-u^2+2\\,E} & \\rho & 0 & \\frac{2\\,{\\it cp}\\,\\rho\\,u}{\\left(v^2+u^2-2\\,E\\right)\\,\\gamma} \\\\ -\\frac{2\\,v}{\\left(v^2+u^2-2\\,E\\right)\\,\\gamma-v^2-u^2+2\\,E} & 0 & \\rho & \\frac{2\\,{\\it cp}\\,\\rho\\,v}{\\left(v^2+u^2-2\\,E\\right)\\,\\gamma} \\\\ -\\frac{2\\,E}{\\left(v^2+u^2-2\\,E\\right)\\,\\gamma-v^2-u^2+2\\,E} & \\rho\\,u & \\rho\\,v & \\frac{{\\it cp}\\,\\rho\\,v^2+{\\it cp}\\,\\rho\\,u^2}{\\left(v^2+u^2-2\\,E\\right)\\,\\gamma} \\\\ \\end{pmatrix}\\]"
      ],
      "text/plain": [
       "                [                     2                   ]\n",
       "                [ - ------------------------------------- ]\n",
       "                [     2    2                 2    2       ]\n",
       "                [   (v  + u  - 2 E) gamma - v  - u  + 2 E ]\n",
       "                [                                         ]\n",
       "                [                    2 u                  ]\n",
       "                [ - ------------------------------------- ]         [   0   ]\n",
       "                [     2    2                 2    2       ]         [       ]\n",
       "                [   (v  + u  - 2 E) gamma - v  - u  + 2 E ]         [  rho  ]\n",
       "(%o45)  Col 1 = [                                         ] Col 2 = [       ]\n",
       "                [                    2 v                  ]         [   0   ]\n",
       "                [ - ------------------------------------- ]         [       ]\n",
       "                [     2    2                 2    2       ]         [ rho u ]\n",
       "                [   (v  + u  - 2 E) gamma - v  - u  + 2 E ]\n",
       "                [                                         ]\n",
       "                [                    2 E                  ]\n",
       "                [ - ------------------------------------- ]\n",
       "                [     2    2                 2    2       ]\n",
       "                [   (v  + u  - 2 E) gamma - v  - u  + 2 E ]\n",
       "                                                      [       2 cp rho        ]\n",
       "                                                      [ --------------------- ]\n",
       "                                                      [   2    2              ]\n",
       "                                                      [ (v  + u  - 2 E) gamma ]\n",
       "                                                      [                       ]\n",
       "                                                      [      2 cp rho u       ]\n",
       "                                    [   0   ]         [ --------------------- ]\n",
       "                                    [       ]         [   2    2              ]\n",
       "                                    [   0   ]         [ (v  + u  - 2 E) gamma ]\n",
       "                            Col 3 = [       ] Col 4 = [                       ]\n",
       "                                    [  rho  ]         [      2 cp rho v       ]\n",
       "                                    [       ]         [ --------------------- ]\n",
       "                                    [ rho v ]         [   2    2              ]\n",
       "                                                      [ (v  + u  - 2 E) gamma ]\n",
       "                                                      [                       ]\n",
       "                                                      [         2           2 ]\n",
       "                                                      [ cp rho v  + cp rho u  ]\n",
       "                                                      [ --------------------- ]\n",
       "                                                      [   2    2              ]\n",
       "                                                      [ (v  + u  - 2 E) gamma ]"
      ],
      "text/x-maxima": [
       "matrix([-2/((v^2+u^2-2*E)*gamma-v^2-u^2+2*E),0,0,\n",
       "        (2*cp*rho)/((v^2+u^2-2*E)*gamma)],\n",
       "       [-(2*u)/((v^2+u^2-2*E)*gamma-v^2-u^2+2*E),rho,0,\n",
       "        (2*cp*rho*u)/((v^2+u^2-2*E)*gamma)],\n",
       "       [-(2*v)/((v^2+u^2-2*E)*gamma-v^2-u^2+2*E),0,rho,\n",
       "        (2*cp*rho*v)/((v^2+u^2-2*E)*gamma)],\n",
       "       [-(2*E)/((v^2+u^2-2*E)*gamma-v^2-u^2+2*E),rho*u,rho*v,\n",
       "        (cp*rho*v^2+cp*rho*u^2)/((v^2+u^2-2*E)*gamma)])"
      ]
     },
     "execution_count": 25,
     "metadata": {},
     "output_type": "execute_result"
    },
    {
     "data": {
      "text/latex": [
       "\\[\\tag{${\\it \\%o}_{46}$}\\begin{pmatrix}\\frac{\\gamma}{c^2} & 0 & 0 & -\\frac{{\\it cp}\\,\\rho\\,\\gamma-{\\it cp}\\,\\rho}{c^2} \\\\ \\frac{u\\,\\gamma}{c^2} & \\rho & 0 & -\\frac{{\\it cp}\\,\\rho\\,u\\,\\gamma-{\\it cp}\\,\\rho\\,u}{c^2} \\\\ \\frac{v\\,\\gamma}{c^2} & 0 & \\rho & -\\frac{{\\it cp}\\,\\rho\\,v\\,\\gamma-{\\it cp}\\,\\rho\\,v}{c^2} \\\\ \\frac{\\left(v^2+u^2\\right)\\,\\gamma^2+\\left(-v^2-u^2\\right)\\,\\gamma+2\\,c^2}{2\\,c^2\\,\\gamma-2\\,c^2} & \\rho\\,u & \\rho\\,v & -\\frac{\\left({\\it cp}\\,\\rho\\,v^2+{\\it cp}\\,\\rho\\,u^2\\right)\\,\\gamma-{\\it cp}\\,\\rho\\,v^2-{\\it cp}\\,\\rho\\,u^2}{2\\,c^2} \\\\ \\end{pmatrix}\\]"
      ],
      "text/plain": [
       "                [                     gamma                     ]\n",
       "                [                     -----                     ]\n",
       "                [                       2                       ]\n",
       "                [                      c                        ]\n",
       "                [                                               ]\n",
       "                [                    u gamma                    ]\n",
       "                [                    -------                    ]\n",
       "                [                       2                       ]\n",
       "                [                      c                        ]\n",
       "(%o46)  Col 1 = [                                               ]\n",
       "                [                    v gamma                    ]\n",
       "                [                    -------                    ]\n",
       "                [                       2                       ]\n",
       "                [                      c                        ]\n",
       "                [                                               ]\n",
       "                [   2    2       2        2     2             2 ]\n",
       "                [ (v  + u ) gamma  + ((- v ) - u ) gamma + 2 c  ]\n",
       "                [ --------------------------------------------- ]\n",
       "                [                  2            2               ]\n",
       "                [               2 c  gamma - 2 c                ]\n",
       "         [   0   ]         [   0   ]\n",
       "         [       ]         [       ]\n",
       "         [  rho  ]         [   0   ]\n",
       " Col 2 = [       ] Col 3 = [       ]\n",
       "         [   0   ]         [  rho  ]\n",
       "         [       ]         [       ]\n",
       "         [ rho u ]         [ rho v ]\n",
       "         [                   cp rho gamma - cp rho                 ]\n",
       "         [                 - ---------------------                 ]\n",
       "         [                             2                           ]\n",
       "         [                            c                            ]\n",
       "         [                                                         ]\n",
       "         [                 cp rho u gamma - cp rho u               ]\n",
       "         [               - -------------------------               ]\n",
       "         [                             2                           ]\n",
       "         [                            c                            ]\n",
       " Col 4 = [                                                         ]\n",
       "         [                 cp rho v gamma - cp rho v               ]\n",
       "         [               - -------------------------               ]\n",
       "         [                             2                           ]\n",
       "         [                            c                            ]\n",
       "         [                                                         ]\n",
       "         [            2           2                  2           2 ]\n",
       "         [   (cp rho v  + cp rho u ) gamma - cp rho v  - cp rho u  ]\n",
       "         [ - ----------------------------------------------------- ]\n",
       "         [                              2                          ]\n",
       "         [                           2 c                           ]"
      ],
      "text/x-maxima": [
       "matrix([gamma/c^2,0,0,-(cp*rho*gamma-cp*rho)/c^2],\n",
       "       [(u*gamma)/c^2,rho,0,-(cp*rho*u*gamma-cp*rho*u)/c^2],\n",
       "       [(v*gamma)/c^2,0,rho,-(cp*rho*v*gamma-cp*rho*v)/c^2],\n",
       "       [((v^2+u^2)*gamma^2+((-v^2)-u^2)*gamma+2*c^2)/(2*c^2*gamma-2*c^2),\n",
       "        rho*u,rho*v,\n",
       "        -((cp*rho*v^2+cp*rho*u^2)*gamma-cp*rho*v^2-cp*rho*u^2)/(2*c^2)])"
      ]
     },
     "execution_count": 25,
     "metadata": {},
     "output_type": "execute_result"
    },
    {
     "data": {
      "text/latex": [
       "\\[\\tag{${\\it \\%o}_{47}$}\\begin{pmatrix}0 & 1 & 0 & 0 \\\\ \\frac{\\left(v^2+u^2\\right)\\,\\gamma-v^2-3\\,u^2}{2} & 3\\,u-u\\,\\gamma & v-v\\,\\gamma & \\gamma-1 \\\\ -u\\,v & v & u & 0 \\\\ \\frac{\\left(u\\,v^2+u^3\\right)\\,\\gamma^2+\\left(-3\\,u\\,v^2-3\\,u^3\\right)\\,\\gamma+2\\,u\\,v^2+2\\,u^3-2\\,c^2\\,u}{2\\,\\gamma-2} & -\\frac{2\\,u^2\\,\\gamma^2+\\left(-v^2-5\\,u^2\\right)\\,\\gamma+v^2+3\\,u^2-2\\,c^2}{2\\,\\gamma-2} & u\\,v-u\\,v\\,\\gamma & u\\,\\gamma \\\\ \\end{pmatrix}\\]"
      ],
      "text/plain": [
       "                               2    2           2      2\n",
       "                             (v  + u ) gamma - v  - 3 u\n",
       "(%o47) matrix([0, 1, 0, 0], [---------------------------, 3 u - u gamma, \n",
       "                                          2\n",
       "v - v gamma, gamma - 1], [- u v, v, u, 0], \n",
       "     2    3       2            2       3               2      3      2\n",
       " (u v  + u ) gamma  + ((- 3 u v ) - 3 u ) gamma + 2 u v  + 2 u  - 2 c  u\n",
       "[-----------------------------------------------------------------------, \n",
       "                               2 gamma - 2\n",
       "     2      2        2       2           2      2      2\n",
       "  2 u  gamma  + ((- v ) - 5 u ) gamma + v  + 3 u  - 2 c\n",
       "- ------------------------------------------------------, u v - u v gamma, \n",
       "                       2 gamma - 2\n",
       "u gamma])"
      ],
      "text/x-maxima": [
       "matrix([0,1,0,0],\n",
       "       [((v^2+u^2)*gamma-v^2-3*u^2)/2,3*u-u*gamma,v-v*gamma,gamma-1],\n",
       "       [-u*v,v,u,0],\n",
       "       [((u*v^2+u^3)*gamma^2+((-3*u*v^2)-3*u^3)*gamma+2*u*v^2+2*u^3-2*c^2*u)\n",
       "         /(2*gamma-2),\n",
       "        -(2*u^2*gamma^2+((-v^2)-5*u^2)*gamma+v^2+3*u^2-2*c^2)/(2*gamma-2),\n",
       "        u*v-u*v*gamma,u*gamma])"
      ]
     },
     "execution_count": 25,
     "metadata": {},
     "output_type": "execute_result"
    },
    {
     "data": {
      "text/latex": [
       "\\[\\tag{${\\it \\%o}_{48}$}\\begin{pmatrix}u & c^2\\,\\rho & 0 & 0 \\\\ \\frac{1}{\\rho} & u & 0 & 0 \\\\ 0 & 0 & u & 0 \\\\ 0 & \\frac{c^2}{{\\it cp}} & 0 & u \\\\ \\end{pmatrix}\\]"
      ],
      "text/plain": [
       "                             [       2           ]\n",
       "                             [  u   c  rho  0  0 ]\n",
       "                             [                   ]\n",
       "                             [  1                ]\n",
       "                             [ ---    u     0  0 ]\n",
       "                             [ rho               ]\n",
       "(%o48)                       [                   ]\n",
       "                             [  0     0     u  0 ]\n",
       "                             [                   ]\n",
       "                             [         2         ]\n",
       "                             [        c          ]\n",
       "                             [  0     --    0  u ]\n",
       "                             [        cp         ]"
      ],
      "text/x-maxima": [
       "matrix([u,c^2*rho,0,0],[1/rho,u,0,0],[0,0,u,0],[0,c^2/cp,0,u])"
      ]
     },
     "execution_count": 25,
     "metadata": {},
     "output_type": "execute_result"
    },
    {
     "data": {
      "text/latex": [
       "\\[\\tag{${\\it \\%o}_{49}$}\\left[ \\left[ u-c , u+c , u \\right]  , \\left[ 1 , 1 , 2 \\right]  \\right] \\]"
      ],
      "text/plain": [
       "(%o49)                  [[u - c, u + c, u], [1, 1, 2]]"
      ],
      "text/x-maxima": [
       "[[u-c,u+c,u],[1,1,2]]"
      ]
     },
     "execution_count": 25,
     "metadata": {},
     "output_type": "execute_result"
    }
   ],
   "source": [
    "Utilde:matrix([U1,U2,U3,U4]);\n",
    "dVdU:ratsimp(jacobian(args(Vtilde)[1],args(Utilde)[1]));\n",
    "dUdV : ratsimp(invert(dVdU));\n",
    "consSystem;\n",
    "M : ratsimp(subst(consSystem,dUdV));\n",
    "/* substitute energy*/\n",
    "M : ratsimp(subst(E=e+q,M));\n",
    "A;\n",
    "Atilde : ratsimp(invert(M).A.M);\n",
    "ratexpand(ratsimp(eigenvalues(Atilde)));"
   ]
  },
  {
   "cell_type": "markdown",
   "metadata": {},
   "source": [
    "\n",
    "### Note that the PDE is now written in terms of primitive variables as:\n",
    "\n",
    "$$\\color{blue}{\\large  \\frac{\\partial V}{\\partial t} + M^{-1} A M \\frac{\\partial V}{\\partial x}=0}$$\n",
    "\n",
    "\n",
    "$$\\color{blue}{\\large \\frac{\\partial V}{\\partial t} + \\tilde A \\frac{\\partial V}{\\partial x}=0}$$\n",
    "    \n"
   ]
  },
  {
   "cell_type": "markdown",
   "metadata": {},
   "source": [
    "# 3.1 preconditioning\n",
    "\n",
    "### We can use a preconditioner matrix in front of the temporal derivative to influence the eigenvalues. The steady state solution will still be the same. Example:\n",
    "    \n"
   ]
  },
  {
   "cell_type": "code",
   "execution_count": 26,
   "metadata": {},
   "outputs": [
    {
     "data": {
      "text/latex": [
       "\\[\\tag{${\\it \\%o}_{50}$}\\begin{pmatrix}\\vartheta & 0 & 0 & 0 \\\\ 0 & 1 & 0 & 0 \\\\ 0 & 0 & 1 & 0 \\\\ 0 & 0 & 0 & 1 \\\\ \\end{pmatrix}\\]"
      ],
      "text/plain": [
       "                              [ theta  0  0  0 ]\n",
       "                              [                ]\n",
       "                              [   0    1  0  0 ]\n",
       "(%o50)                        [                ]\n",
       "                              [   0    0  1  0 ]\n",
       "                              [                ]\n",
       "                              [   0    0  0  1 ]"
      ],
      "text/x-maxima": [
       "matrix([theta,0,0,0],[0,1,0,0],[0,0,1,0],[0,0,0,1])"
      ]
     },
     "execution_count": 26,
     "metadata": {},
     "output_type": "execute_result"
    }
   ],
   "source": [
    "Gamma : matrix([theta,0,0,0],[0,1,0,0],[0,0,1,0],[0,0,0,1]);"
   ]
  },
  {
   "cell_type": "code",
   "execution_count": 27,
   "metadata": {},
   "outputs": [
    {
     "data": {
      "text/latex": [
       "\\[\\tag{${\\it \\%o}_{51}$}\\begin{pmatrix}\\frac{u}{\\vartheta} & \\frac{c^2\\,\\rho}{\\vartheta} & 0 & 0 \\\\ \\frac{1}{\\rho} & u & 0 & 0 \\\\ 0 & 0 & u & 0 \\\\ 0 & \\frac{c^2}{{\\it cp}} & 0 & u \\\\ \\end{pmatrix}\\]"
      ],
      "text/plain": [
       "                            [         2           ]\n",
       "                            [   u    c  rho       ]\n",
       "                            [ -----  ------  0  0 ]\n",
       "                            [ theta  theta        ]\n",
       "                            [                     ]\n",
       "                            [   1                 ]\n",
       "                            [  ---     u     0  0 ]\n",
       "(%o51)                      [  rho                ]\n",
       "                            [                     ]\n",
       "                            [   0      0     u  0 ]\n",
       "                            [                     ]\n",
       "                            [           2         ]\n",
       "                            [          c          ]\n",
       "                            [   0      --    0  u ]\n",
       "                            [          cp         ]"
      ],
      "text/x-maxima": [
       "matrix([u/theta,(c^2*rho)/theta,0,0],[1/rho,u,0,0],[0,0,u,0],[0,c^2/cp,0,u])"
      ]
     },
     "execution_count": 27,
     "metadata": {},
     "output_type": "execute_result"
    }
   ],
   "source": [
    "invert(Gamma).Atilde;"
   ]
  },
  {
   "cell_type": "code",
   "execution_count": 28,
   "metadata": {},
   "outputs": [
    {
     "data": {
      "text/latex": [
       "\\[\\tag{${\\it \\%o}_{52}$}\\left[ \\left[ -\\frac{\\sqrt{\\left(\\vartheta^2-2\\,\\vartheta+1\\right)\\,u^2+4\\,c^2\\,\\vartheta}+\\left(-\\vartheta-1\\right)\\,u}{2\\,\\vartheta} , \\frac{\\sqrt{\\left(\\vartheta^2-2\\,\\vartheta+1\\right)\\,u^2+4\\,c^2\\,\\vartheta}+\\left(\\vartheta+1\\right)\\,u}{2\\,\\vartheta} , u \\right]  , \\left[ 1 , 1 , 2 \\right]  \\right] \\]"
      ],
      "text/plain": [
       "                      2                 2      2\n",
       "           sqrt((theta  - 2 theta + 1) u  + 4 c  theta) + ((- theta) - 1) u\n",
       "(%o52) [[- ----------------------------------------------------------------, \n",
       "                                       2 theta\n",
       "              2                 2      2\n",
       "   sqrt((theta  - 2 theta + 1) u  + 4 c  theta) + (theta + 1) u\n",
       "   ------------------------------------------------------------, u], [1, 1, 2]]\n",
       "                             2 theta"
      ],
      "text/x-maxima": [
       "[[-(sqrt((theta^2-2*theta+1)*u^2+4*c^2*theta)+((-theta)-1)*u)/(2*theta),\n",
       "  (sqrt((theta^2-2*theta+1)*u^2+4*c^2*theta)+(theta+1)*u)/(2*theta),u],\n",
       " [1,1,2]]"
      ]
     },
     "execution_count": 28,
     "metadata": {},
     "output_type": "execute_result"
    }
   ],
   "source": [
    "lambdas: eigenvalues(invert(Gamma).Atilde);"
   ]
  },
  {
   "cell_type": "code",
   "execution_count": 29,
   "metadata": {},
   "outputs": [
    {
     "data": {
      "text/latex": [
       "\\[\\tag{${\\it \\%o}_{53}$}-\\frac{\\sqrt{\\left(\\vartheta^2-2\\,\\vartheta+1\\right)\\,u^2+4\\,c^2\\,\\vartheta}+\\left(-\\vartheta-1\\right)\\,u}{\\sqrt{\\left(\\vartheta^2-2\\,\\vartheta+1\\right)\\,u^2+4\\,c^2\\,\\vartheta}+\\left(\\vartheta+1\\right)\\,u}\\]"
      ],
      "text/plain": [
       "                    2                 2      2\n",
       "         sqrt((theta  - 2 theta + 1) u  + 4 c  theta) + ((- theta) - 1) u\n",
       "(%o53) - ----------------------------------------------------------------\n",
       "                      2                 2      2\n",
       "           sqrt((theta  - 2 theta + 1) u  + 4 c  theta) + (theta + 1) u"
      ],
      "text/x-maxima": [
       "-(sqrt((theta^2-2*theta+1)*u^2+4*c^2*theta)+((-theta)-1)*u)\n",
       " /(sqrt((theta^2-2*theta+1)*u^2+4*c^2*theta)+(theta+1)*u)"
      ]
     },
     "execution_count": 29,
     "metadata": {},
     "output_type": "execute_result"
    }
   ],
   "source": [
    "ratsimp(lambdas[1][1]/lambdas[1][2]);"
   ]
  },
  {
   "cell_type": "markdown",
   "metadata": {},
   "source": [
    "***\n",
    "# 4. Preconditioning matrix $\\Gamma$\n",
    "\n",
    "### The above shows how the conversion from conservative to primitive variables work. Note that in the paper of Weiss and Smith, the derivatives of density with respect to temperature and pressure are kept to allow for a general preconditioning matrix that does not depend on a specific equation of state.\n",
    "\n",
    "### For the equation of state in case of the ideal gas law, note that $P=\\rho R T$, and $\\rho=\\frac{P}{RT}$, so the derivative is:\n",
    "\n",
    "$$\\color{blue}{\\large \\frac{\\partial \\rho}{\\partial p} = \\frac{1}{RT} }$$\n",
    "\n",
    "### And since $c^2 = \\gamma R T$, we have:\n",
    "\n",
    "$$\\color{blue}{\\large \\frac{\\partial \\rho}{\\partial p} = \\frac{\\gamma}{c^2} }$$\n",
    "\n",
    "### For derivative wrt temperarure we have :\n",
    "    \n"
   ]
  },
  {
   "cell_type": "code",
   "execution_count": 30,
   "metadata": {},
   "outputs": [
    {
     "data": {
      "text/latex": [
       "\\[\\tag{${\\it \\%o}_{54}$}\\mathbf{done}\\]"
      ],
      "text/plain": [
       "(%o54)                               done"
      ],
      "text/x-maxima": [
       "done"
      ]
     },
     "execution_count": 30,
     "metadata": {},
     "output_type": "execute_result"
    },
    {
     "data": {
      "text/latex": [
       "\\[\\tag{${\\it \\%o}_{55}$}\\mathbf{done}\\]"
      ],
      "text/plain": [
       "(%o55)                               done"
      ],
      "text/x-maxima": [
       "done"
      ]
     },
     "execution_count": 30,
     "metadata": {},
     "output_type": "execute_result"
    },
    {
     "data": {
      "text/latex": [
       "\\[\\tag{${\\it \\%o}_{56}$}-\\frac{\\rho}{T}\\]"
      ],
      "text/plain": [
       "                                       rho\n",
       "(%o56)                               - ---\n",
       "                                        T"
      ],
      "text/x-maxima": [
       "-rho/T"
      ]
     },
     "execution_count": 30,
     "metadata": {},
     "output_type": "execute_result"
    }
   ],
   "source": [
    "kill(T);\n",
    "kill(p);\n",
    "\n",
    "subst(p=rho*R*T,diff(p/(R*T),T));"
   ]
  },
  {
   "cell_type": "markdown",
   "metadata": {},
   "source": [
    "### and the derivative is therefore\n",
    "\n",
    "$$ \\color{blue}{\\large \\frac{\\partial \\rho}{\\partial T} = -\\frac{\\rho}{T} }$$\n",
    "\n",
    "### We can substitute these into the Weiss and Smith matrices to retrieve the result obtained above. We will now first derive the Weiss and Smith result, without using the equation of state (ideal gas law). In this case, the density is simply an unknown function of pressure and temperature:"
   ]
  },
  {
   "cell_type": "code",
   "execution_count": 31,
   "metadata": {},
   "outputs": [
    {
     "data": {
      "text/latex": [
       "\\[\\tag{${\\it \\%o}_{57}$}\\left[ \\rho\\left(p , T\\right) \\right] \\]"
      ],
      "text/plain": [
       "(%o57)                            [rho(p, T)]"
      ],
      "text/x-maxima": [
       "[rho(p,T)]"
      ]
     },
     "execution_count": 31,
     "metadata": {},
     "output_type": "execute_result"
    }
   ],
   "source": [
    "depends(rho,[p,T]);"
   ]
  },
  {
   "cell_type": "markdown",
   "metadata": {},
   "source": [
    "### Now we compute the transformation matrix $M = \\frac{\\partial U}{\\partial V}$ to go from conservative variables $U$ to primitive variables $V$. This is equation (7) in the paper of Economon, or below eq. 2 in Weiss and Smith:\n"
   ]
  },
  {
   "cell_type": "code",
   "execution_count": 32,
   "metadata": {},
   "outputs": [
    {
     "data": {
      "text/latex": [
       "\\[\\tag{${\\it \\%o}_{58}$}\\begin{pmatrix}p & u & v & T \\\\ \\end{pmatrix}\\]"
      ],
      "text/plain": [
       "(%o58)                          [ p  u  v  T ]"
      ],
      "text/x-maxima": [
       "matrix([p,u,v,T])"
      ]
     },
     "execution_count": 32,
     "metadata": {},
     "output_type": "execute_result"
    },
    {
     "data": {
      "text/latex": [
       "\\[\\tag{${\\it \\%o}_{59}$}H-\\frac{p}{\\rho}\\]"
      ],
      "text/plain": [
       "                                         p\n",
       "(%o59)                              H - ---\n",
       "                                        rho"
      ],
      "text/x-maxima": [
       "H-p/rho"
      ]
     },
     "execution_count": 32,
     "metadata": {},
     "output_type": "execute_result"
    },
    {
     "data": {
      "text/latex": [
       "\\[\\tag{${\\it \\%o}_{60}$}H\\]"
      ],
      "text/plain": [
       "(%o60)                                 H"
      ],
      "text/x-maxima": [
       "H"
      ]
     },
     "execution_count": 32,
     "metadata": {},
     "output_type": "execute_result"
    },
    {
     "data": {
      "text/latex": [
       "\\[\\tag{${\\it \\%o}_{61}$}H\\]"
      ],
      "text/plain": [
       "(%o61)                                 H"
      ],
      "text/x-maxima": [
       "H"
      ]
     },
     "execution_count": 32,
     "metadata": {},
     "output_type": "execute_result"
    },
    {
     "data": {
      "text/latex": [
       "\\[\\tag{${\\it \\%o}_{62}$}H\\]"
      ],
      "text/plain": [
       "(%o62)                                 H"
      ],
      "text/x-maxima": [
       "H"
      ]
     },
     "execution_count": 32,
     "metadata": {},
     "output_type": "execute_result"
    },
    {
     "data": {
      "text/latex": [
       "\\[\\tag{${\\it \\%o}_{63}$}H\\]"
      ],
      "text/plain": [
       "(%o63)                                 H"
      ],
      "text/x-maxima": [
       "H"
      ]
     },
     "execution_count": 32,
     "metadata": {},
     "output_type": "execute_result"
    },
    {
     "data": {
      "text/latex": [
       "\\[\\tag{${\\it \\%o}_{64}$}\\begin{pmatrix}\\rho & \\rho\\,u & \\rho\\,v & \\left(H-\\frac{p}{\\rho}\\right)\\,\\rho \\\\ \\end{pmatrix}\\]"
      ],
      "text/plain": [
       "                     [                          p       ]\n",
       "(%o64)               [ rho  rho u  rho v  (H - ---) rho ]\n",
       "                     [                         rho      ]"
      ],
      "text/x-maxima": [
       "matrix([rho,rho*u,rho*v,(H-p/rho)*rho])"
      ]
     },
     "execution_count": 32,
     "metadata": {},
     "output_type": "execute_result"
    },
    {
     "data": {
      "text/latex": [
       "\\[\\tag{${\\it \\%o}_{65}$}\\begin{pmatrix}p & u & v & T \\\\ \\end{pmatrix}\\]"
      ],
      "text/plain": [
       "(%o65)                          [ p  u  v  T ]"
      ],
      "text/x-maxima": [
       "matrix([p,u,v,T])"
      ]
     },
     "execution_count": 32,
     "metadata": {},
     "output_type": "execute_result"
    },
    {
     "data": {
      "text/latex": [
       "\\[\\tag{${\\it \\%o}_{66}$}\\begin{pmatrix}\\frac{d}{d\\,p}\\,\\rho & 0 & 0 & \\frac{d}{d\\,T}\\,\\rho \\\\ \\frac{d}{d\\,p}\\,\\rho\\,u & \\rho & 0 & \\frac{d}{d\\,T}\\,\\rho\\,u \\\\ \\frac{d}{d\\,p}\\,\\rho\\,v & 0 & \\rho & \\frac{d}{d\\,T}\\,\\rho\\,v \\\\ H\\,\\left(\\frac{d}{d\\,p}\\,\\rho\\right)-1 & \\rho\\,u & \\rho\\,v & H\\,\\left(\\frac{d}{d\\,T}\\,\\rho\\right)+{\\it cp}\\,\\rho \\\\ \\end{pmatrix}\\]"
      ],
      "text/plain": [
       "                 [    drho                        drho       ]\n",
       "                 [    ----       0      0         ----       ]\n",
       "                 [     dp                          dT        ]\n",
       "                 [                                           ]\n",
       "                 [   drho                        drho        ]\n",
       "                 [   ---- u     rho     0        ---- u      ]\n",
       "                 [    dp                          dT         ]\n",
       "(%o66)           [                                           ]\n",
       "                 [   drho                        drho        ]\n",
       "                 [   ---- v      0     rho       ---- v      ]\n",
       "                 [    dp                          dT         ]\n",
       "                 [                                           ]\n",
       "                 [   drho                      drho          ]\n",
       "                 [ H ---- - 1  rho u  rho v  H ---- + cp rho ]\n",
       "                 [    dp                        dT           ]"
      ],
      "text/x-maxima": [
       "matrix(['diff(rho,p,1),0,0,'diff(rho,T,1)],\n",
       "       ['diff(rho,p,1)*u,rho,0,'diff(rho,T,1)*u],\n",
       "       ['diff(rho,p,1)*v,0,rho,'diff(rho,T,1)*v],\n",
       "       [H*'diff(rho,p,1)-1,rho*u,rho*v,H*'diff(rho,T,1)+cp*rho])"
      ]
     },
     "execution_count": 32,
     "metadata": {},
     "output_type": "execute_result"
    }
   ],
   "source": [
    "\n",
    "V:matrix([p,u,v,T]);\n",
    "\n",
    "E:H - p/rho;\n",
    "/* note that we can keep the general term dh/dT here*/\n",
    "gradef(H,T,cp);\n",
    "gradef(H,u,u);\n",
    "gradef(H,v,v);\n",
    "gradef(H,w,w);\n",
    "\n",
    "U:matrix([rho,rho*u,rho*v,rho*E]);\n",
    "V;\n",
    "/* *we directly convert from conservative variables to primitive variables */\n",
    "dUdV : ratsimp(jacobian(args(U)[1],args(V)[1]));"
   ]
  },
  {
   "cell_type": "markdown",
   "metadata": {},
   "source": [
    "### We see that we have recovered the result of Weiss and Smith, matrix $\\frac{\\partial W}{\\partial Q} = \\frac{\\partial U}{\\partial V}$, below equation (2). Note that this should be the same as the matrix M defined above, where the ideal gas law was used to determine $\\frac{\\partial \\rho}{\\partial T}$, $\\frac{\\partial \\rho}{\\partial p}$ and the enthalpy $H$. Note that for the sensible enthalpy, we have used the simplification that $h = \\int c_p dT \\approx c_p T$:"
   ]
  },
  {
   "cell_type": "code",
   "execution_count": 33,
   "metadata": {},
   "outputs": [
    {
     "data": {
      "text/latex": [
       "\\[\\tag{${\\it \\%o}_{67}$}\\begin{pmatrix}\\frac{\\gamma}{c^2} & 0 & 0 & -\\frac{{\\it cp}\\,\\rho\\,\\gamma-{\\it cp}\\,\\rho}{c^2} \\\\ \\frac{u\\,\\gamma}{c^2} & \\rho & 0 & -\\frac{{\\it cp}\\,\\rho\\,u\\,\\gamma-{\\it cp}\\,\\rho\\,u}{c^2} \\\\ \\frac{v\\,\\gamma}{c^2} & 0 & \\rho & -\\frac{{\\it cp}\\,\\rho\\,v\\,\\gamma-{\\it cp}\\,\\rho\\,v}{c^2} \\\\ \\frac{\\left(v^2+u^2\\right)\\,\\gamma^2+\\left(-v^2-u^2\\right)\\,\\gamma+2\\,c^2}{2\\,c^2\\,\\gamma-2\\,c^2} & \\rho\\,u & \\rho\\,v & -\\frac{\\left({\\it cp}\\,\\rho\\,v^2+{\\it cp}\\,\\rho\\,u^2\\right)\\,\\gamma-{\\it cp}\\,\\rho\\,v^2-{\\it cp}\\,\\rho\\,u^2}{2\\,c^2} \\\\ \\end{pmatrix}\\]"
      ],
      "text/plain": [
       "                [                     gamma                     ]\n",
       "                [                     -----                     ]\n",
       "                [                       2                       ]\n",
       "                [                      c                        ]\n",
       "                [                                               ]\n",
       "                [                    u gamma                    ]\n",
       "                [                    -------                    ]\n",
       "                [                       2                       ]\n",
       "                [                      c                        ]\n",
       "(%o67)  Col 1 = [                                               ]\n",
       "                [                    v gamma                    ]\n",
       "                [                    -------                    ]\n",
       "                [                       2                       ]\n",
       "                [                      c                        ]\n",
       "                [                                               ]\n",
       "                [   2    2       2        2     2             2 ]\n",
       "                [ (v  + u ) gamma  + ((- v ) - u ) gamma + 2 c  ]\n",
       "                [ --------------------------------------------- ]\n",
       "                [                  2            2               ]\n",
       "                [               2 c  gamma - 2 c                ]\n",
       "         [   0   ]         [   0   ]\n",
       "         [       ]         [       ]\n",
       "         [  rho  ]         [   0   ]\n",
       " Col 2 = [       ] Col 3 = [       ]\n",
       "         [   0   ]         [  rho  ]\n",
       "         [       ]         [       ]\n",
       "         [ rho u ]         [ rho v ]\n",
       "         [                   cp rho gamma - cp rho                 ]\n",
       "         [                 - ---------------------                 ]\n",
       "         [                             2                           ]\n",
       "         [                            c                            ]\n",
       "         [                                                         ]\n",
       "         [                 cp rho u gamma - cp rho u               ]\n",
       "         [               - -------------------------               ]\n",
       "         [                             2                           ]\n",
       "         [                            c                            ]\n",
       " Col 4 = [                                                         ]\n",
       "         [                 cp rho v gamma - cp rho v               ]\n",
       "         [               - -------------------------               ]\n",
       "         [                             2                           ]\n",
       "         [                            c                            ]\n",
       "         [                                                         ]\n",
       "         [            2           2                  2           2 ]\n",
       "         [   (cp rho v  + cp rho u ) gamma - cp rho v  - cp rho u  ]\n",
       "         [ - ----------------------------------------------------- ]\n",
       "         [                              2                          ]\n",
       "         [                           2 c                           ]"
      ],
      "text/x-maxima": [
       "matrix([gamma/c^2,0,0,-(cp*rho*gamma-cp*rho)/c^2],\n",
       "       [(u*gamma)/c^2,rho,0,-(cp*rho*u*gamma-cp*rho*u)/c^2],\n",
       "       [(v*gamma)/c^2,0,rho,-(cp*rho*v*gamma-cp*rho*v)/c^2],\n",
       "       [((v^2+u^2)*gamma^2+((-v^2)-u^2)*gamma+2*c^2)/(2*c^2*gamma-2*c^2),\n",
       "        rho*u,rho*v,\n",
       "        -((cp*rho*v^2+cp*rho*u^2)*gamma-cp*rho*v^2-cp*rho*u^2)/(2*c^2)])"
      ]
     },
     "execution_count": 33,
     "metadata": {},
     "output_type": "execute_result"
    }
   ],
   "source": [
    "M;"
   ]
  },
  {
   "cell_type": "markdown",
   "metadata": {},
   "source": [
    "### Let's substitute the ideal gas law and check that we indeed have the same matrices. Note that $p=\\rho R T$, and $\\frac{a^2}{\\gamma} = \\frac{p}{\\rho}$, so:\n",
    "$$\\color{blue}{\\large RT = \\frac{a^2}{\\gamma}}$$\n",
    "\n",
    "### and with $\\frac{c_p}{c_v}=\\gamma$ and  $R = c_p - c_v = c_p(1-\\frac{1}{\\gamma})$:\n",
    "$$\\color{blue}{\\large T = \\frac{a^2}{\\gamma}\\frac{1}{c_p(1-\\frac{1}{\\gamma})},}$$\n",
    "### and finally:\n",
    "\n",
    "$$\\color{blue}{\\large T = \\frac{a^2}{ c_p (\\gamma - 1)}}$$"
   ]
  },
  {
   "cell_type": "code",
   "execution_count": 34,
   "metadata": {},
   "outputs": [
    {
     "data": {
      "text/latex": [
       "\\[\\tag{${\\it \\%o}_{68}$}\\begin{pmatrix}\\frac{\\gamma}{c^2} & 0 & 0 & -\\frac{\\rho}{T} \\\\ \\frac{u\\,\\gamma}{c^2} & \\rho & 0 & -\\frac{\\rho\\,u}{T} \\\\ \\frac{v\\,\\gamma}{c^2} & 0 & \\rho & -\\frac{\\rho\\,v}{T} \\\\ \\frac{\\left(\\frac{v^2+u^2}{2}+T\\,{\\it cp}\\right)\\,\\gamma}{c^2}-1 & \\rho\\,u & \\rho\\,v & {\\it cp}\\,\\rho-\\frac{\\rho\\,\\left(\\frac{v^2+u^2}{2}+T\\,{\\it cp}\\right)}{T} \\\\ \\end{pmatrix}\\]"
      ],
      "text/plain": [
       "(%o68) \n",
       "    [           gamma                                         rho             ]\n",
       "    [           -----               0      0                - ---             ]\n",
       "    [             2                                            T              ]\n",
       "    [            c                                                            ]\n",
       "    [                                                                         ]\n",
       "    [          u gamma                                       rho u            ]\n",
       "    [          -------             rho     0               - -----            ]\n",
       "    [             2                                            T              ]\n",
       "    [            c                                                            ]\n",
       "    [                                                                         ]\n",
       "    [          v gamma                                       rho v            ]\n",
       "    [          -------              0     rho              - -----            ]\n",
       "    [             2                                            T              ]\n",
       "    [            c                                                            ]\n",
       "    [                                                                         ]\n",
       "    [   2    2                                                 2    2         ]\n",
       "    [  v  + u                                                 v  + u          ]\n",
       "    [ (------- + T cp) gamma                             rho (------- + T cp) ]\n",
       "    [     2                                                      2            ]\n",
       "    [ ---------------------- - 1  rho u  rho v  cp rho - -------------------- ]\n",
       "    [            2                                                T           ]\n",
       "    [           c                                                             ]"
      ],
      "text/x-maxima": [
       "matrix([gamma/c^2,0,0,-rho/T],[(u*gamma)/c^2,rho,0,-(rho*u)/T],\n",
       "       [(v*gamma)/c^2,0,rho,-(rho*v)/T],\n",
       "       [(((v^2+u^2)/2+T*cp)*gamma)/c^2-1,rho*u,rho*v,\n",
       "        cp*rho-(rho*((v^2+u^2)/2+T*cp))/T])"
      ]
     },
     "execution_count": 34,
     "metadata": {},
     "output_type": "execute_result"
    },
    {
     "data": {
      "text/latex": [
       "\\[\\tag{${\\it \\%o}_{69}$}\\begin{pmatrix}\\frac{\\gamma}{c^2} & 0 & 0 & -\\frac{{\\it cp}\\,\\rho\\,\\gamma-{\\it cp}\\,\\rho}{c^2} \\\\ \\frac{u\\,\\gamma}{c^2} & \\rho & 0 & -\\frac{{\\it cp}\\,\\rho\\,u\\,\\gamma-{\\it cp}\\,\\rho\\,u}{c^2} \\\\ \\frac{v\\,\\gamma}{c^2} & 0 & \\rho & -\\frac{{\\it cp}\\,\\rho\\,v\\,\\gamma-{\\it cp}\\,\\rho\\,v}{c^2} \\\\ \\frac{\\left(v^2+u^2\\right)\\,\\gamma^2+\\left(-v^2-u^2\\right)\\,\\gamma+2\\,c^2}{2\\,c^2\\,\\gamma-2\\,c^2} & \\rho\\,u & \\rho\\,v & -\\frac{\\left({\\it cp}\\,\\rho\\,v^2+{\\it cp}\\,\\rho\\,u^2\\right)\\,\\gamma-{\\it cp}\\,\\rho\\,v^2-{\\it cp}\\,\\rho\\,u^2}{2\\,c^2} \\\\ \\end{pmatrix}\\]"
      ],
      "text/plain": [
       "                [                     gamma                     ]\n",
       "                [                     -----                     ]\n",
       "                [                       2                       ]\n",
       "                [                      c                        ]\n",
       "                [                                               ]\n",
       "                [                    u gamma                    ]\n",
       "                [                    -------                    ]\n",
       "                [                       2                       ]\n",
       "                [                      c                        ]\n",
       "(%o69)  Col 1 = [                                               ]\n",
       "                [                    v gamma                    ]\n",
       "                [                    -------                    ]\n",
       "                [                       2                       ]\n",
       "                [                      c                        ]\n",
       "                [                                               ]\n",
       "                [   2    2       2        2     2             2 ]\n",
       "                [ (v  + u ) gamma  + ((- v ) - u ) gamma + 2 c  ]\n",
       "                [ --------------------------------------------- ]\n",
       "                [                  2            2               ]\n",
       "                [               2 c  gamma - 2 c                ]\n",
       "         [   0   ]         [   0   ]\n",
       "         [       ]         [       ]\n",
       "         [  rho  ]         [   0   ]\n",
       " Col 2 = [       ] Col 3 = [       ]\n",
       "         [   0   ]         [  rho  ]\n",
       "         [       ]         [       ]\n",
       "         [ rho u ]         [ rho v ]\n",
       "         [                   cp rho gamma - cp rho                 ]\n",
       "         [                 - ---------------------                 ]\n",
       "         [                             2                           ]\n",
       "         [                            c                            ]\n",
       "         [                                                         ]\n",
       "         [                 cp rho u gamma - cp rho u               ]\n",
       "         [               - -------------------------               ]\n",
       "         [                             2                           ]\n",
       "         [                            c                            ]\n",
       " Col 4 = [                                                         ]\n",
       "         [                 cp rho v gamma - cp rho v               ]\n",
       "         [               - -------------------------               ]\n",
       "         [                             2                           ]\n",
       "         [                            c                            ]\n",
       "         [                                                         ]\n",
       "         [            2           2                  2           2 ]\n",
       "         [   (cp rho v  + cp rho u ) gamma - cp rho v  - cp rho u  ]\n",
       "         [ - ----------------------------------------------------- ]\n",
       "         [                              2                          ]\n",
       "         [                           2 c                           ]"
      ],
      "text/x-maxima": [
       "matrix([gamma/c^2,0,0,-(cp*rho*gamma-cp*rho)/c^2],\n",
       "       [(u*gamma)/c^2,rho,0,-(cp*rho*u*gamma-cp*rho*u)/c^2],\n",
       "       [(v*gamma)/c^2,0,rho,-(cp*rho*v*gamma-cp*rho*v)/c^2],\n",
       "       [((v^2+u^2)*gamma^2+((-v^2)-u^2)*gamma+2*c^2)/(2*c^2*gamma-2*c^2),\n",
       "        rho*u,rho*v,\n",
       "        -((cp*rho*v^2+cp*rho*u^2)*gamma-cp*rho*v^2-cp*rho*u^2)/(2*c^2)])"
      ]
     },
     "execution_count": 34,
     "metadata": {},
     "output_type": "execute_result"
    }
   ],
   "source": [
    "dUdV2 : subst([diff(rho,T)=-rho/T,diff(rho,p)=gamma/c^2,H=cp*T+q],dUdV);\n",
    "dUdV2 : ratsimp(subst(T=c*c/(cp*(gamma-1)),dUdV2));"
   ]
  },
  {
   "cell_type": "markdown",
   "metadata": {},
   "source": [
    "### Notice that using the two different routes, we obtain the same result, as $\\frac{\\partial U}{\\partial V} = M$\n",
    "### Let's keep working for now with the independent (from the equation of state) transformation matrix: "
   ]
  },
  {
   "cell_type": "markdown",
   "metadata": {},
   "source": [
    "### Note that the flux is $\\frac{\\partial F(V)}{\\partial x}$, with $V=(p,u,v,T)$ and because we have defined the derivative of density with respect to pressure and temperarure, we can obtain the transformation into quasilinear form directly using:\n",
    "\n",
    "$$\\color{blue}{ \\large \\frac{\\partial F(V)}{\\partial x} = \\frac{\\partial F}{\\partial V}\\frac{\\partial V}{\\partial x}}$$"
   ]
  },
  {
   "cell_type": "code",
   "execution_count": 35,
   "metadata": {},
   "outputs": [
    {
     "data": {
      "text/latex": [
       "\\[\\tag{${\\it \\%o}_{70}$}\\begin{pmatrix}\\rho\\,u & \\rho\\,u^2+p & \\rho\\,u\\,v & H\\,\\rho\\,u \\\\ \\end{pmatrix}\\]"
      ],
      "text/plain": [
       "(%o70)              [             2                       ]\n",
       "                    [ rho u  rho u  + p  rho u v  H rho u ]"
      ],
      "text/x-maxima": [
       "matrix([rho*u,rho*u^2+p,rho*u*v,H*rho*u])"
      ]
     },
     "execution_count": 35,
     "metadata": {},
     "output_type": "execute_result"
    }
   ],
   "source": [
    "F:ratsimp((matrix([rho*u,rho*u*u+p,rho*u*v,u*rho*E+p*u])));"
   ]
  },
  {
   "cell_type": "markdown",
   "metadata": {},
   "source": [
    "### and its Jacobian with respect to $V=(\\rho, u,v, T)$ can be determined directly (because we also have the derivative of H(T) defined):"
   ]
  },
  {
   "cell_type": "code",
   "execution_count": 36,
   "metadata": {},
   "outputs": [
    {
     "data": {
      "text/latex": [
       "\\[\\tag{${\\it \\%o}_{71}$}\\begin{pmatrix}\\frac{d}{d\\,p}\\,\\rho\\,u & \\rho & 0 & \\frac{d}{d\\,T}\\,\\rho\\,u \\\\ \\frac{d}{d\\,p}\\,\\rho\\,u^2+1 & 2\\,\\rho\\,u & 0 & \\frac{d}{d\\,T}\\,\\rho\\,u^2 \\\\ \\frac{d}{d\\,p}\\,\\rho\\,u\\,v & \\rho\\,v & \\rho\\,u & \\frac{d}{d\\,T}\\,\\rho\\,u\\,v \\\\ H\\,\\left(\\frac{d}{d\\,p}\\,\\rho\\right)\\,u & \\rho\\,u^2+H\\,\\rho & \\rho\\,u\\,v & H\\,\\left(\\frac{d}{d\\,T}\\,\\rho\\right)\\,u+{\\it cp}\\,\\rho\\,u \\\\ \\end{pmatrix}\\]"
      ],
      "text/plain": [
       "         [   drho                                      drho          ]\n",
       "         [   ---- u          rho           0           ---- u        ]\n",
       "         [    dp                                        dT           ]\n",
       "         [                                                           ]\n",
       "         [ drho  2                                     drho  2       ]\n",
       "         [ ---- u  + 1     2 rho u         0           ---- u        ]\n",
       "         [  dp                                          dT           ]\n",
       "(%o71)   [                                                           ]\n",
       "         [  drho                                      drho           ]\n",
       "         [  ---- u v        rho v        rho u        ---- u v       ]\n",
       "         [   dp                                        dT            ]\n",
       "         [                                                           ]\n",
       "         [    drho           2                     drho              ]\n",
       "         [  H ---- u    rho u  + H rho  rho u v  H ---- u + cp rho u ]\n",
       "         [     dp                                   dT               ]"
      ],
      "text/x-maxima": [
       "matrix(['diff(rho,p,1)*u,rho,0,'diff(rho,T,1)*u],\n",
       "       ['diff(rho,p,1)*u^2+1,2*rho*u,0,'diff(rho,T,1)*u^2],\n",
       "       ['diff(rho,p,1)*u*v,rho*v,rho*u,'diff(rho,T,1)*u*v],\n",
       "       [H*'diff(rho,p,1)*u,rho*u^2+H*rho,rho*u*v,H*'diff(rho,T,1)*u+cp*rho*u])"
      ]
     },
     "execution_count": 36,
     "metadata": {},
     "output_type": "execute_result"
    }
   ],
   "source": [
    "dFdV : jacobian(args(F)[1],args(V)[1]);"
   ]
  },
  {
   "cell_type": "markdown",
   "metadata": {},
   "source": [
    "### The above Jacobian matrix is independent of the equation of state. We can substitute the ideal gas law to get to the matrix that is valid only for an ideal gas:"
   ]
  },
  {
   "cell_type": "code",
   "execution_count": 37,
   "metadata": {},
   "outputs": [
    {
     "data": {
      "text/latex": [
       "\\[\\tag{${\\it \\%o}_{72}$}\\begin{pmatrix}\\frac{u\\,\\gamma}{c^2} & \\rho & 0 & -\\frac{\\rho\\,u}{T} \\\\ \\frac{u^2\\,\\gamma}{c^2}+1 & 2\\,\\rho\\,u & 0 & -\\frac{\\rho\\,u^2}{T} \\\\ \\frac{u\\,v\\,\\gamma}{c^2} & \\rho\\,v & \\rho\\,u & -\\frac{\\rho\\,u\\,v}{T} \\\\ \\frac{u\\,\\left(\\frac{v^2+u^2}{2}+T\\,{\\it cp}\\right)\\,\\gamma}{c^2} & \\rho\\,\\left(\\frac{v^2+u^2}{2}+T\\,{\\it cp}\\right)+\\rho\\,u^2 & \\rho\\,u\\,v & {\\it cp}\\,\\rho\\,u-\\frac{\\rho\\,u\\,\\left(\\frac{v^2+u^2}{2}+T\\,{\\it cp}\\right)}{T} \\\\ \\end{pmatrix}\\]"
      ],
      "text/plain": [
       "                [         u gamma          ]\n",
       "                [         -------          ]\n",
       "                [            2             ]\n",
       "                [           c              ]\n",
       "                [                          ]\n",
       "                [        2                 ]\n",
       "                [       u  gamma           ]\n",
       "                [       -------- + 1       ]\n",
       "                [           2              ]\n",
       "                [          c               ]\n",
       "                [                          ]\n",
       "(%o72)  Col 1 = [        u v gamma         ]\n",
       "                [        ---------         ]\n",
       "                [            2             ]\n",
       "                [           c              ]\n",
       "                [                          ]\n",
       "                [     2    2               ]\n",
       "                [    v  + u                ]\n",
       "                [ u (------- + T cp) gamma ]\n",
       "                [       2                  ]\n",
       "                [ ------------------------ ]\n",
       "                [             2            ]\n",
       "                [            c             ]\n",
       "         [              rho              ]\n",
       "         [                               ]         [    0    ]\n",
       "         [            2 rho u            ]         [         ]\n",
       "         [                               ]         [    0    ]\n",
       " Col 2 = [             rho v             ] Col 3 = [         ]\n",
       "         [                               ]         [  rho u  ]\n",
       "         [       2    2                  ]         [         ]\n",
       "         [      v  + u                 2 ]         [ rho u v ]\n",
       "         [ rho (------- + T cp) + rho u  ]\n",
       "         [         2                     ]\n",
       "         [                rho u              ]\n",
       "         [              - -----              ]\n",
       "         [                  T                ]\n",
       "         [                                   ]\n",
       "         [                    2              ]\n",
       "         [               rho u               ]\n",
       "         [             - ------              ]\n",
       "         [                 T                 ]\n",
       "         [                                   ]\n",
       " Col 4 = [               rho u v             ]\n",
       "         [             - -------             ]\n",
       "         [                  T                ]\n",
       "         [                                   ]\n",
       "         [                    2    2         ]\n",
       "         [                   v  + u          ]\n",
       "         [            rho u (------- + T cp) ]\n",
       "         [                      2            ]\n",
       "         [ cp rho u - ---------------------- ]\n",
       "         [                      T            ]"
      ],
      "text/x-maxima": [
       "matrix([(u*gamma)/c^2,rho,0,-(rho*u)/T],\n",
       "       [(u^2*gamma)/c^2+1,2*rho*u,0,-(rho*u^2)/T],\n",
       "       [(u*v*gamma)/c^2,rho*v,rho*u,-(rho*u*v)/T],\n",
       "       [(u*((v^2+u^2)/2+T*cp)*gamma)/c^2,rho*((v^2+u^2)/2+T*cp)+rho*u^2,\n",
       "        rho*u*v,cp*rho*u-(rho*u*((v^2+u^2)/2+T*cp))/T])"
      ]
     },
     "execution_count": 37,
     "metadata": {},
     "output_type": "execute_result"
    },
    {
     "data": {
      "text/latex": [
       "\\[\\tag{${\\it \\%o}_{73}$}\\begin{pmatrix}\\frac{u\\,\\gamma}{c^2} & \\rho & 0 & -\\frac{{\\it cp}\\,\\rho\\,u\\,\\gamma-{\\it cp}\\,\\rho\\,u}{c^2} \\\\ \\frac{u^2\\,\\gamma+c^2}{c^2} & 2\\,\\rho\\,u & 0 & -\\frac{{\\it cp}\\,\\rho\\,u^2\\,\\gamma-{\\it cp}\\,\\rho\\,u^2}{c^2} \\\\ \\frac{u\\,v\\,\\gamma}{c^2} & \\rho\\,v & \\rho\\,u & -\\frac{{\\it cp}\\,\\rho\\,u\\,v\\,\\gamma-{\\it cp}\\,\\rho\\,u\\,v}{c^2} \\\\ \\frac{\\left(u\\,v^2+u^3\\right)\\,\\gamma^2+\\left(-u\\,v^2-u^3+2\\,c^2\\,u\\right)\\,\\gamma}{2\\,c^2\\,\\gamma-2\\,c^2} & \\frac{\\left(\\rho\\,v^2+3\\,\\rho\\,u^2\\right)\\,\\gamma-\\rho\\,v^2-3\\,\\rho\\,u^2+2\\,c^2\\,\\rho}{2\\,\\gamma-2} & \\rho\\,u\\,v & -\\frac{\\left({\\it cp}\\,\\rho\\,u\\,v^2+{\\it cp}\\,\\rho\\,u^3\\right)\\,\\gamma-{\\it cp}\\,\\rho\\,u\\,v^2-{\\it cp}\\,\\rho\\,u^3}{2\\,c^2} \\\\ \\end{pmatrix}\\]"
      ],
      "text/plain": [
       "                [                       u gamma                       ]\n",
       "                [                       -------                       ]\n",
       "                [                          2                          ]\n",
       "                [                         c                           ]\n",
       "                [                                                     ]\n",
       "                [                     2          2                    ]\n",
       "                [                    u  gamma + c                     ]\n",
       "                [                    -------------                    ]\n",
       "                [                          2                          ]\n",
       "                [                         c                           ]\n",
       "(%o73)  Col 1 = [                                                     ]\n",
       "                [                      u v gamma                      ]\n",
       "                [                      ---------                      ]\n",
       "                [                          2                          ]\n",
       "                [                         c                           ]\n",
       "                [                                                     ]\n",
       "                [     2    3       2          2     3      2          ]\n",
       "                [ (u v  + u ) gamma  + ((- u v ) - u  + 2 c  u) gamma ]\n",
       "                [ --------------------------------------------------- ]\n",
       "                [                     2            2                  ]\n",
       "                [                  2 c  gamma - 2 c                   ]\n",
       "         [                           rho                            ]\n",
       "         [                                                          ]\n",
       "         [                         2 rho u                          ]\n",
       "         [                                                          ]\n",
       " Col 2 = [                          rho v                           ]\n",
       "         [                                                          ]\n",
       "         [       2          2               2          2      2     ]\n",
       "         [ (rho v  + 3 rho u ) gamma - rho v  - 3 rho u  + 2 c  rho ]\n",
       "         [ -------------------------------------------------------- ]\n",
       "         [                       2 gamma - 2                        ]\n",
       "         [    0    ]\n",
       "         [         ]\n",
       "         [    0    ]\n",
       " Col 3 = [         ]\n",
       "         [  rho u  ]\n",
       "         [         ]\n",
       "         [ rho u v ]\n",
       "         [                   cp rho u gamma - cp rho u                 ]\n",
       "         [                 - -------------------------                 ]\n",
       "         [                               2                             ]\n",
       "         [                              c                              ]\n",
       "         [                                                             ]\n",
       "         [                          2                 2                ]\n",
       "         [                  cp rho u  gamma - cp rho u                 ]\n",
       "         [                - ---------------------------                ]\n",
       "         [                               2                             ]\n",
       "         [                              c                              ]\n",
       " Col 4 = [                                                             ]\n",
       "         [                 cp rho u v gamma - cp rho u v               ]\n",
       "         [               - -----------------------------               ]\n",
       "         [                               2                             ]\n",
       "         [                              c                              ]\n",
       "         [                                                             ]\n",
       "         [              2           3                    2           3 ]\n",
       "         [   (cp rho u v  + cp rho u ) gamma - cp rho u v  - cp rho u  ]\n",
       "         [ - --------------------------------------------------------- ]\n",
       "         [                                2                            ]\n",
       "         [                             2 c                             ]"
      ],
      "text/x-maxima": [
       "matrix([(u*gamma)/c^2,rho,0,-(cp*rho*u*gamma-cp*rho*u)/c^2],\n",
       "       [(u^2*gamma+c^2)/c^2,2*rho*u,0,-(cp*rho*u^2*gamma-cp*rho*u^2)/c^2],\n",
       "       [(u*v*gamma)/c^2,rho*v,rho*u,-(cp*rho*u*v*gamma-cp*rho*u*v)/c^2],\n",
       "       [((u*v^2+u^3)*gamma^2+((-u*v^2)-u^3+2*c^2*u)*gamma)\n",
       "         /(2*c^2*gamma-2*c^2),\n",
       "        ((rho*v^2+3*rho*u^2)*gamma-rho*v^2-3*rho*u^2+2*c^2*rho)/(2*gamma-2),\n",
       "        rho*u*v,\n",
       "        -((cp*rho*u*v^2+cp*rho*u^3)*gamma-cp*rho*u*v^2-cp*rho*u^3)/(2*c^2)])"
      ]
     },
     "execution_count": 37,
     "metadata": {},
     "output_type": "execute_result"
    }
   ],
   "source": [
    "dFdV2 : subst([diff(rho,T)=-rho/T,diff(rho,p)=gamma/c^2,H=cp*T+q],dFdV);\n",
    "dFdV2 : ratsimp(subst(T=c*c/(cp*(gamma-1)),dFdV2));"
   ]
  },
  {
   "cell_type": "markdown",
   "metadata": {},
   "source": [
    "### We can now write the pde in primitive variables $V$ as:\n",
    "$$\\color{blue}{\\large \\frac{\\partial U}{\\partial t} + \\frac{\\partial F}{\\partial x}=0}$$\n",
    "\n",
    "\n",
    "$$\\color{blue}{\\large \\frac{\\partial U}{\\partial V} \\frac{\\partial V}{\\partial t} + \\frac{\\partial F}{\\partial V}\\frac{\\partial V}{\\partial x}=0}$$\n",
    "\n",
    "\n",
    "$$\\color{blue}{\\large \\frac{\\partial V}{\\partial t} + [\\frac{\\partial U}{\\partial V}]^{-1} \\frac{\\partial F}{\\partial V}\\frac{\\partial V}{\\partial x}=0}$$\n",
    "\n"
   ]
  },
  {
   "cell_type": "markdown",
   "metadata": {},
   "source": [
    "### We us the matrices with the ideal gas law as the equation of state: "
   ]
  },
  {
   "cell_type": "code",
   "execution_count": 38,
   "metadata": {},
   "outputs": [
    {
     "data": {
      "text/latex": [
       "\\[\\tag{${\\it \\%o}_{74}$}\\begin{pmatrix}\\frac{\\left(v^2+u^2\\right)\\,\\gamma-v^2-u^2}{2} & u-u\\,\\gamma & v-v\\,\\gamma & \\gamma-1 \\\\ -\\frac{u}{\\rho} & \\frac{1}{\\rho} & 0 & 0 \\\\ -\\frac{v}{\\rho} & 0 & \\frac{1}{\\rho} & 0 \\\\ \\frac{\\left(v^2+u^2\\right)\\,\\gamma^2+\\left(-v^2-u^2\\right)\\,\\gamma-2\\,c^2}{2\\,{\\it cp}\\,\\rho\\,\\gamma-2\\,{\\it cp}\\,\\rho} & -\\frac{u\\,\\gamma}{{\\it cp}\\,\\rho} & -\\frac{v\\,\\gamma}{{\\it cp}\\,\\rho} & \\frac{\\gamma}{{\\it cp}\\,\\rho} \\\\ \\end{pmatrix}\\]"
      ],
      "text/plain": [
       "                [             2    2           2    2           ]\n",
       "                [           (v  + u ) gamma - v  - u            ]\n",
       "                [           -------------------------           ]\n",
       "                [                       2                       ]\n",
       "                [                                               ]\n",
       "                [                        u                      ]\n",
       "                [                     - ---                     ]\n",
       "                [                       rho                     ]\n",
       "(%o74)  Col 1 = [                                               ]\n",
       "                [                        v                      ]\n",
       "                [                     - ---                     ]\n",
       "                [                       rho                     ]\n",
       "                [                                               ]\n",
       "                [   2    2       2        2     2             2 ]\n",
       "                [ (v  + u ) gamma  + ((- v ) - u ) gamma - 2 c  ]\n",
       "                [ --------------------------------------------- ]\n",
       "                [           2 cp rho gamma - 2 cp rho           ]\n",
       "                  [ u - u gamma ]         [ v - v gamma ]\n",
       "                  [             ]         [             ]         [ gamma - 1 ]\n",
       "                  [      1      ]         [      0      ]         [           ]\n",
       "                  [     ---     ]         [             ]         [     0     ]\n",
       "                  [     rho     ]         [      1      ]         [           ]\n",
       "          Col 2 = [             ] Col 3 = [     ---     ] Col 4 = [     0     ]\n",
       "                  [      0      ]         [     rho     ]         [           ]\n",
       "                  [             ]         [             ]         [  gamma    ]\n",
       "                  [    u gamma  ]         [    v gamma  ]         [  ------   ]\n",
       "                  [  - -------  ]         [  - -------  ]         [  cp rho   ]\n",
       "                  [    cp rho   ]         [    cp rho   ]"
      ],
      "text/x-maxima": [
       "matrix([((v^2+u^2)*gamma-v^2-u^2)/2,u-u*gamma,v-v*gamma,gamma-1],\n",
       "       [-u/rho,1/rho,0,0],[-v/rho,0,1/rho,0],\n",
       "       [((v^2+u^2)*gamma^2+((-v^2)-u^2)*gamma-2*c^2)\n",
       "         /(2*cp*rho*gamma-2*cp*rho),-(u*gamma)/(cp*rho),-(v*gamma)/(cp*rho),\n",
       "        gamma/(cp*rho)])"
      ]
     },
     "execution_count": 38,
     "metadata": {},
     "output_type": "execute_result"
    }
   ],
   "source": [
    "ratsimp(invert(dUdV2));"
   ]
  },
  {
   "cell_type": "code",
   "execution_count": 39,
   "metadata": {},
   "outputs": [
    {
     "data": {
      "text/latex": [
       "\\[\\tag{${\\it \\%o}_{75}$}\\begin{pmatrix}u & c^2\\,\\rho & 0 & 0 \\\\ \\frac{1}{\\rho} & u & 0 & 0 \\\\ 0 & 0 & u & 0 \\\\ 0 & \\frac{c^2}{{\\it cp}} & 0 & u \\\\ \\end{pmatrix}\\]"
      ],
      "text/plain": [
       "                             [       2           ]\n",
       "                             [  u   c  rho  0  0 ]\n",
       "                             [                   ]\n",
       "                             [  1                ]\n",
       "                             [ ---    u     0  0 ]\n",
       "                             [ rho               ]\n",
       "(%o75)                       [                   ]\n",
       "                             [  0     0     u  0 ]\n",
       "                             [                   ]\n",
       "                             [         2         ]\n",
       "                             [        c          ]\n",
       "                             [  0     --    0  u ]\n",
       "                             [        cp         ]"
      ],
      "text/x-maxima": [
       "matrix([u,c^2*rho,0,0],[1/rho,u,0,0],[0,0,u,0],[0,c^2/cp,0,u])"
      ]
     },
     "execution_count": 39,
     "metadata": {},
     "output_type": "execute_result"
    }
   ],
   "source": [
    "Atilde : ratsimp(invert(dUdV2).dFdV2);"
   ]
  },
  {
   "cell_type": "code",
   "execution_count": 40,
   "metadata": {},
   "outputs": [
    {
     "data": {
      "text/latex": [
       "\\[\\tag{${\\it \\%o}_{76}$}\\left[ \\left[ u-c , u+c , u \\right]  , \\left[ 1 , 1 , 2 \\right]  \\right] \\]"
      ],
      "text/plain": [
       "(%o76)                  [[u - c, u + c, u], [1, 1, 2]]"
      ],
      "text/x-maxima": [
       "[[u-c,u+c,u],[1,1,2]]"
      ]
     },
     "execution_count": 40,
     "metadata": {},
     "output_type": "execute_result"
    }
   ],
   "source": [
    "eigenvalues(Atilde);"
   ]
  },
  {
   "cell_type": "markdown",
   "metadata": {},
   "source": [
    "### ...And we see again that we retrieve the same matrix...\n",
    "### We can do the same for the flux in y-direction:"
   ]
  },
  {
   "cell_type": "code",
   "execution_count": 41,
   "metadata": {},
   "outputs": [
    {
     "data": {
      "text/latex": [
       "\\[\\tag{${\\it \\%o}_{77}$}\\begin{pmatrix}\\rho\\,v & \\rho\\,u\\,v & \\rho\\,v^2+p & H\\,\\rho\\,v \\\\ \\end{pmatrix}\\]"
      ],
      "text/plain": [
       "(%o77)              [                      2              ]\n",
       "                    [ rho v  rho u v  rho v  + p  H rho v ]"
      ],
      "text/x-maxima": [
       "matrix([rho*v,rho*u*v,rho*v^2+p,H*rho*v])"
      ]
     },
     "execution_count": 41,
     "metadata": {},
     "output_type": "execute_result"
    },
    {
     "data": {
      "text/latex": [
       "\\[\\tag{${\\it \\%o}_{78}$}\\begin{pmatrix}\\frac{d}{d\\,p}\\,\\rho\\,v & 0 & \\rho & \\frac{d}{d\\,T}\\,\\rho\\,v \\\\ \\frac{d}{d\\,p}\\,\\rho\\,u\\,v & \\rho\\,v & \\rho\\,u & \\frac{d}{d\\,T}\\,\\rho\\,u\\,v \\\\ \\frac{d}{d\\,p}\\,\\rho\\,v^2+1 & 0 & 2\\,\\rho\\,v & \\frac{d}{d\\,T}\\,\\rho\\,v^2 \\\\ H\\,\\left(\\frac{d}{d\\,p}\\,\\rho\\right)\\,v & \\rho\\,u\\,v & \\rho\\,v^2+H\\,\\rho & H\\,\\left(\\frac{d}{d\\,T}\\,\\rho\\right)\\,v+{\\it cp}\\,\\rho\\,v \\\\ \\end{pmatrix}\\]"
      ],
      "text/plain": [
       "         [   drho                                      drho          ]\n",
       "         [   ---- v        0          rho              ---- v        ]\n",
       "         [    dp                                        dT           ]\n",
       "         [                                                           ]\n",
       "         [  drho                                      drho           ]\n",
       "         [  ---- u v     rho v       rho u            ---- u v       ]\n",
       "         [   dp                                        dT            ]\n",
       "(%o78)   [                                                           ]\n",
       "         [ drho  2                                     drho  2       ]\n",
       "         [ ---- v  + 1     0        2 rho v            ---- v        ]\n",
       "         [  dp                                          dT           ]\n",
       "         [                                                           ]\n",
       "         [    drho                    2            drho              ]\n",
       "         [  H ---- v    rho u v  rho v  + H rho  H ---- v + cp rho v ]\n",
       "         [     dp                                   dT               ]"
      ],
      "text/x-maxima": [
       "matrix(['diff(rho,p,1)*v,0,rho,'diff(rho,T,1)*v],\n",
       "       ['diff(rho,p,1)*u*v,rho*v,rho*u,'diff(rho,T,1)*u*v],\n",
       "       ['diff(rho,p,1)*v^2+1,0,2*rho*v,'diff(rho,T,1)*v^2],\n",
       "       [H*'diff(rho,p,1)*v,rho*u*v,rho*v^2+H*rho,H*'diff(rho,T,1)*v+cp*rho*v])"
      ]
     },
     "execution_count": 41,
     "metadata": {},
     "output_type": "execute_result"
    },
    {
     "data": {
      "text/latex": [
       "\\[\\tag{${\\it \\%o}_{79}$}\\begin{pmatrix}\\frac{v\\,\\gamma}{c^2} & 0 & \\rho & -\\frac{\\rho\\,v}{T} \\\\ \\frac{u\\,v\\,\\gamma}{c^2} & \\rho\\,v & \\rho\\,u & -\\frac{\\rho\\,u\\,v}{T} \\\\ \\frac{v^2\\,\\gamma}{c^2}+1 & 0 & 2\\,\\rho\\,v & -\\frac{\\rho\\,v^2}{T} \\\\ \\frac{v\\,\\left(\\frac{v^2+u^2}{2}+T\\,{\\it cp}\\right)\\,\\gamma}{c^2} & \\rho\\,u\\,v & \\rho\\,\\left(\\frac{v^2+u^2}{2}+T\\,{\\it cp}\\right)+\\rho\\,v^2 & {\\it cp}\\,\\rho\\,v-\\frac{\\rho\\,v\\,\\left(\\frac{v^2+u^2}{2}+T\\,{\\it cp}\\right)}{T} \\\\ \\end{pmatrix}\\]"
      ],
      "text/plain": [
       "                [         v gamma          ]\n",
       "                [         -------          ]\n",
       "                [            2             ]\n",
       "                [           c              ]\n",
       "                [                          ]\n",
       "                [        u v gamma         ]\n",
       "                [        ---------         ]\n",
       "                [            2             ]\n",
       "                [           c              ]         [    0    ]\n",
       "                [                          ]         [         ]\n",
       "                [        2                 ]         [  rho v  ]\n",
       "(%o79)  Col 1 = [       v  gamma           ] Col 2 = [         ]\n",
       "                [       -------- + 1       ]         [    0    ]\n",
       "                [           2              ]         [         ]\n",
       "                [          c               ]         [ rho u v ]\n",
       "                [                          ]\n",
       "                [     2    2               ]\n",
       "                [    v  + u                ]\n",
       "                [ v (------- + T cp) gamma ]\n",
       "                [       2                  ]\n",
       "                [ ------------------------ ]\n",
       "                [             2            ]\n",
       "                [            c             ]\n",
       "         [              rho              ]\n",
       "         [                               ]\n",
       "         [             rho u             ]\n",
       "         [                               ]\n",
       " Col 3 = [            2 rho v            ]\n",
       "         [                               ]\n",
       "         [       2    2                  ]\n",
       "         [      v  + u                 2 ]\n",
       "         [ rho (------- + T cp) + rho v  ]\n",
       "         [         2                     ]\n",
       "         [                rho v              ]\n",
       "         [              - -----              ]\n",
       "         [                  T                ]\n",
       "         [                                   ]\n",
       "         [               rho u v             ]\n",
       "         [             - -------             ]\n",
       "         [                  T                ]\n",
       "         [                                   ]\n",
       "         [                    2              ]\n",
       " Col 4 = [               rho v               ]\n",
       "         [             - ------              ]\n",
       "         [                 T                 ]\n",
       "         [                                   ]\n",
       "         [                    2    2         ]\n",
       "         [                   v  + u          ]\n",
       "         [            rho v (------- + T cp) ]\n",
       "         [                      2            ]\n",
       "         [ cp rho v - ---------------------- ]\n",
       "         [                      T            ]"
      ],
      "text/x-maxima": [
       "matrix([(v*gamma)/c^2,0,rho,-(rho*v)/T],\n",
       "       [(u*v*gamma)/c^2,rho*v,rho*u,-(rho*u*v)/T],\n",
       "       [(v^2*gamma)/c^2+1,0,2*rho*v,-(rho*v^2)/T],\n",
       "       [(v*((v^2+u^2)/2+T*cp)*gamma)/c^2,rho*u*v,\n",
       "        rho*((v^2+u^2)/2+T*cp)+rho*v^2,cp*rho*v-(rho*v*((v^2+u^2)/2+T*cp))/T])"
      ]
     },
     "execution_count": 41,
     "metadata": {},
     "output_type": "execute_result"
    },
    {
     "data": {
      "text/latex": [
       "\\[\\tag{${\\it \\%o}_{80}$}\\begin{pmatrix}\\frac{v\\,\\gamma}{c^2} & 0 & \\rho & -\\frac{{\\it cp}\\,\\rho\\,v\\,\\gamma-{\\it cp}\\,\\rho\\,v}{c^2} \\\\ \\frac{u\\,v\\,\\gamma}{c^2} & \\rho\\,v & \\rho\\,u & -\\frac{{\\it cp}\\,\\rho\\,u\\,v\\,\\gamma-{\\it cp}\\,\\rho\\,u\\,v}{c^2} \\\\ \\frac{v^2\\,\\gamma+c^2}{c^2} & 0 & 2\\,\\rho\\,v & -\\frac{{\\it cp}\\,\\rho\\,v^2\\,\\gamma-{\\it cp}\\,\\rho\\,v^2}{c^2} \\\\ \\frac{\\left(v^3+u^2\\,v\\right)\\,\\gamma^2+\\left(\\left(2\\,c^2-u^2\\right)\\,v-v^3\\right)\\,\\gamma}{2\\,c^2\\,\\gamma-2\\,c^2} & \\rho\\,u\\,v & \\frac{\\left(3\\,\\rho\\,v^2+\\rho\\,u^2\\right)\\,\\gamma-3\\,\\rho\\,v^2-\\rho\\,u^2+2\\,c^2\\,\\rho}{2\\,\\gamma-2} & -\\frac{\\left({\\it cp}\\,\\rho\\,v^3+{\\it cp}\\,\\rho\\,u^2\\,v\\right)\\,\\gamma-{\\it cp}\\,\\rho\\,v^3-{\\it cp}\\,\\rho\\,u^2\\,v}{2\\,c^2} \\\\ \\end{pmatrix}\\]"
      ],
      "text/plain": [
       "                [                     v gamma                     ]\n",
       "                [                     -------                     ]\n",
       "                [                        2                        ]\n",
       "                [                       c                         ]\n",
       "                [                                                 ]\n",
       "                [                    u v gamma                    ]\n",
       "                [                    ---------                    ]\n",
       "                [                        2                        ]\n",
       "                [                       c                         ]\n",
       "                [                                                 ]\n",
       "(%o80)  Col 1 = [                   2          2                  ]\n",
       "                [                  v  gamma + c                   ]\n",
       "                [                  -------------                  ]\n",
       "                [                        2                        ]\n",
       "                [                       c                         ]\n",
       "                [                                                 ]\n",
       "                [   3    2         2        2    2       3        ]\n",
       "                [ (v  + u  v) gamma  + ((2 c  - u ) v - v ) gamma ]\n",
       "                [ ----------------------------------------------- ]\n",
       "                [                   2            2                ]\n",
       "                [                2 c  gamma - 2 c                 ]\n",
       "         [    0    ]\n",
       "         [         ]\n",
       "         [  rho v  ]\n",
       " Col 2 = [         ]\n",
       "         [    0    ]\n",
       "         [         ]\n",
       "         [ rho u v ]\n",
       "         [                           rho                            ]\n",
       "         [                                                          ]\n",
       "         [                          rho u                           ]\n",
       "         [                                                          ]\n",
       " Col 3 = [                         2 rho v                          ]\n",
       "         [                                                          ]\n",
       "         [         2        2                 2        2      2     ]\n",
       "         [ (3 rho v  + rho u ) gamma - 3 rho v  - rho u  + 2 c  rho ]\n",
       "         [ -------------------------------------------------------- ]\n",
       "         [                       2 gamma - 2                        ]\n",
       "         [                   cp rho v gamma - cp rho v                 ]\n",
       "         [                 - -------------------------                 ]\n",
       "         [                               2                             ]\n",
       "         [                              c                              ]\n",
       "         [                                                             ]\n",
       "         [                 cp rho u v gamma - cp rho u v               ]\n",
       "         [               - -----------------------------               ]\n",
       "         [                               2                             ]\n",
       "         [                              c                              ]\n",
       "         [                                                             ]\n",
       " Col 4 = [                          2                 2                ]\n",
       "         [                  cp rho v  gamma - cp rho v                 ]\n",
       "         [                - ---------------------------                ]\n",
       "         [                               2                             ]\n",
       "         [                              c                              ]\n",
       "         [                                                             ]\n",
       "         [            3           2                    3           2   ]\n",
       "         [   (cp rho v  + cp rho u  v) gamma - cp rho v  - cp rho u  v ]\n",
       "         [ - --------------------------------------------------------- ]\n",
       "         [                                2                            ]\n",
       "         [                             2 c                             ]"
      ],
      "text/x-maxima": [
       "matrix([(v*gamma)/c^2,0,rho,-(cp*rho*v*gamma-cp*rho*v)/c^2],\n",
       "       [(u*v*gamma)/c^2,rho*v,rho*u,-(cp*rho*u*v*gamma-cp*rho*u*v)/c^2],\n",
       "       [(v^2*gamma+c^2)/c^2,0,2*rho*v,-(cp*rho*v^2*gamma-cp*rho*v^2)/c^2],\n",
       "       [((v^3+u^2*v)*gamma^2+((2*c^2-u^2)*v-v^3)*gamma)/(2*c^2*gamma-2*c^2),\n",
       "        rho*u*v,\n",
       "        ((3*rho*v^2+rho*u^2)*gamma-3*rho*v^2-rho*u^2+2*c^2*rho)/(2*gamma-2),\n",
       "        -((cp*rho*v^3+cp*rho*u^2*v)*gamma-cp*rho*v^3-cp*rho*u^2*v)/(2*c^2)])"
      ]
     },
     "execution_count": 41,
     "metadata": {},
     "output_type": "execute_result"
    },
    {
     "data": {
      "text/latex": [
       "\\[\\tag{${\\it \\%o}_{81}$}\\begin{pmatrix}v & 0 & c^2\\,\\rho & 0 \\\\ 0 & v & 0 & 0 \\\\ \\frac{1}{\\rho} & 0 & v & 0 \\\\ 0 & 0 & \\frac{c^2}{{\\it cp}} & v \\\\ \\end{pmatrix}\\]"
      ],
      "text/plain": [
       "                             [          2        ]\n",
       "                             [  v   0  c  rho  0 ]\n",
       "                             [                   ]\n",
       "                             [  0   v    0     0 ]\n",
       "                             [                   ]\n",
       "                             [  1                ]\n",
       "(%o81)                       [ ---  0    v     0 ]\n",
       "                             [ rho               ]\n",
       "                             [                   ]\n",
       "                             [            2      ]\n",
       "                             [           c       ]\n",
       "                             [  0   0    --    v ]\n",
       "                             [           cp      ]"
      ],
      "text/x-maxima": [
       "matrix([v,0,c^2*rho,0],[0,v,0,0],[1/rho,0,v,0],[0,0,c^2/cp,v])"
      ]
     },
     "execution_count": 41,
     "metadata": {},
     "output_type": "execute_result"
    },
    {
     "data": {
      "text/latex": [
       "\\[\\tag{${\\it \\%o}_{82}$}\\left[ \\left[ v-c , v+c , v \\right]  , \\left[ 1 , 1 , 2 \\right]  \\right] \\]"
      ],
      "text/plain": [
       "(%o82)                  [[v - c, v + c, v], [1, 1, 2]]"
      ],
      "text/x-maxima": [
       "[[v-c,v+c,v],[1,1,2]]"
      ]
     },
     "execution_count": 41,
     "metadata": {},
     "output_type": "execute_result"
    }
   ],
   "source": [
    "G:ratsimp((matrix([rho*v,rho*v*u,rho*v*v+p,v*rho*E+p*v])));\n",
    "dGdV : jacobian(args(G)[1],args(V)[1]);\n",
    "dGdV2 : subst([diff(rho,T)=-rho/T,diff(rho,p)=gamma/c^2,H=cp*T+q],dGdV);\n",
    "dGdV2 : ratsimp(subst(T=c*c/(cp*(gamma-1)),dGdV2));\n",
    "Btilde : ratsimp(invert(dUdV2).dGdV2);\n",
    "eigenvalues(Btilde);"
   ]
  },
  {
   "cell_type": "markdown",
   "metadata": {},
   "source": [
    "***\n",
    "# 5. Flux Jacobian\n",
    "### The flux Jacobian matrix of the combined system is $A_c = A_x\\cdot n_x + A_y\\cdot n_y$ :"
   ]
  },
  {
   "cell_type": "code",
   "execution_count": 42,
   "metadata": {},
   "outputs": [
    {
     "data": {
      "text/latex": [
       "\\[\\tag{${\\it \\%o}_{83}$}\\begin{pmatrix}{\\it n\\_y}\\,v+{\\it n\\_x}\\,u & c^2\\,{\\it n\\_x}\\,\\rho & c^2\\,{\\it n\\_y}\\,\\rho & 0 \\\\ \\frac{{\\it n\\_x}}{\\rho} & {\\it n\\_y}\\,v+{\\it n\\_x}\\,u & 0 & 0 \\\\ \\frac{{\\it n\\_y}}{\\rho} & 0 & {\\it n\\_y}\\,v+{\\it n\\_x}\\,u & 0 \\\\ 0 & \\frac{c^2\\,{\\it n\\_x}}{{\\it cp}} & \\frac{c^2\\,{\\it n\\_y}}{{\\it cp}} & {\\it n\\_y}\\,v+{\\it n\\_x}\\,u \\\\ \\end{pmatrix}\\]"
      ],
      "text/plain": [
       "        [                  2              2                          ]\n",
       "        [ n_y v + n_x u   c  n_x rho     c  n_y rho          0       ]\n",
       "        [                                                            ]\n",
       "        [      n_x                                                   ]\n",
       "        [      ---       n_y v + n_x u        0              0       ]\n",
       "        [      rho                                                   ]\n",
       "        [                                                            ]\n",
       "(%o83)  [      n_y                                                   ]\n",
       "        [      ---             0        n_y v + n_x u        0       ]\n",
       "        [      rho                                                   ]\n",
       "        [                                                            ]\n",
       "        [                    2              2                        ]\n",
       "        [                   c  n_x         c  n_y                    ]\n",
       "        [       0           ------         ------      n_y v + n_x u ]\n",
       "        [                     cp             cp                      ]"
      ],
      "text/x-maxima": [
       "matrix([n_y*v+n_x*u,c^2*n_x*rho,c^2*n_y*rho,0],[n_x/rho,n_y*v+n_x*u,0,0],\n",
       "       [n_y/rho,0,n_y*v+n_x*u,0],[0,(c^2*n_x)/cp,(c^2*n_y)/cp,n_y*v+n_x*u])"
      ]
     },
     "execution_count": 42,
     "metadata": {},
     "output_type": "execute_result"
    }
   ],
   "source": [
    "Ac : ratsimp(Atilde*n_x + Btilde*n_y);"
   ]
  },
  {
   "cell_type": "code",
   "execution_count": 43,
   "metadata": {},
   "outputs": [
    {
     "data": {
      "text/latex": [
       "\\[\\tag{${\\it \\%o}_{84}$}\\left[ \\left[ {\\it n\\_y}\\,v+{\\it n\\_x}\\,u-c\\,\\sqrt{{\\it n\\_y}^2+{\\it n\\_x}^2} , {\\it n\\_y}\\,v+{\\it n\\_x}\\,u+c\\,\\sqrt{{\\it n\\_y}^2+{\\it n\\_x}^2} , {\\it n\\_y}\\,v+{\\it n\\_x}\\,u \\right]  , \\left[ 1 , 1 , 2 \\right]  \\right] \\]"
      ],
      "text/plain": [
       "                                   2      2\n",
       "(%o84) [[n_y v + n_x u - c sqrt(n_y  + n_x ), \n",
       "                                          2      2\n",
       "                n_y v + n_x u + c sqrt(n_y  + n_x ), n_y v + n_x u], [1, 1, 2]]"
      ],
      "text/x-maxima": [
       "[[n_y*v+n_x*u-c*sqrt(n_y^2+n_x^2),n_y*v+n_x*u+c*sqrt(n_y^2+n_x^2),\n",
       "  n_y*v+n_x*u],[1,1,2]]"
      ]
     },
     "execution_count": 43,
     "metadata": {},
     "output_type": "execute_result"
    }
   ],
   "source": [
    "eigenvalues(Ac);"
   ]
  },
  {
   "cell_type": "code",
   "execution_count": 45,
   "metadata": {},
   "outputs": [
    {
     "data": {
      "text/latex": [
       "\\[\\tag{${\\it \\%o}_{86}$}\\left[ \\left[ \\left[ 1 , -\\frac{{\\it n\\_x}\\,\\sqrt{{\\it n\\_y}^2+{\\it n\\_x}^2}}{\\left(c\\,{\\it n\\_y}^2+c\\,{\\it n\\_x}^2\\right)\\,\\rho} , -\\frac{{\\it n\\_y}\\,\\sqrt{{\\it n\\_y}^2+{\\it n\\_x}^2}}{\\left(c\\,{\\it n\\_y}^2+c\\,{\\it n\\_x}^2\\right)\\,\\rho} , \\frac{1}{{\\it cp}\\,\\rho} \\right]  \\right]  , \\left[ \\left[ 1 , \\frac{{\\it n\\_x}\\,\\sqrt{{\\it n\\_y}^2+{\\it n\\_x}^2}}{\\left(c\\,{\\it n\\_y}^2+c\\,{\\it n\\_x}^2\\right)\\,\\rho} , \\frac{{\\it n\\_y}\\,\\sqrt{{\\it n\\_y}^2+{\\it n\\_x}^2}}{\\left(c\\,{\\it n\\_y}^2+c\\,{\\it n\\_x}^2\\right)\\,\\rho} , \\frac{1}{{\\it cp}\\,\\rho} \\right]  \\right]  , \\left[ \\left[ 0 , 1 , -\\frac{{\\it n\\_x}}{{\\it n\\_y}} , 0 \\right]  , \\left[ 0 , 0 , 0 , 1 \\right]  \\right]  \\right] \\]"
      ],
      "text/plain": [
       "                           2      2                 2      2\n",
       "               n_x sqrt(n_y  + n_x )    n_y sqrt(n_y  + n_x )    1\n",
       "(%o86) [[[1, - ---------------------, - ---------------------, ------]], \n",
       "                     2        2               2        2       cp rho\n",
       "               (c n_y  + c n_x ) rho    (c n_y  + c n_x ) rho\n",
       "                 2      2               2      2\n",
       "     n_x sqrt(n_y  + n_x )  n_y sqrt(n_y  + n_x )    1\n",
       "[[1, ---------------------, ---------------------, ------]], \n",
       "           2        2             2        2       cp rho\n",
       "     (c n_y  + c n_x ) rho  (c n_y  + c n_x ) rho\n",
       "          n_x\n",
       "[[0, 1, - ---, 0], [0, 0, 0, 1]]]\n",
       "          n_y"
      ],
      "text/x-maxima": [
       "[[[1,-(n_x*sqrt(n_y^2+n_x^2))/((c*n_y^2+c*n_x^2)*rho),\n",
       "   -(n_y*sqrt(n_y^2+n_x^2))/((c*n_y^2+c*n_x^2)*rho),1/(cp*rho)]],\n",
       " [[1,(n_x*sqrt(n_y^2+n_x^2))/((c*n_y^2+c*n_x^2)*rho),\n",
       "   (n_y*sqrt(n_y^2+n_x^2))/((c*n_y^2+c*n_x^2)*rho),1/(cp*rho)]],\n",
       " [[0,1,-n_x/n_y,0],[0,0,0,1]]]"
      ]
     },
     "execution_count": 45,
     "metadata": {},
     "output_type": "execute_result"
    }
   ],
   "source": [
    "eigenvectors(Ac)[2];"
   ]
  },
  {
   "cell_type": "markdown",
   "metadata": {},
   "source": [
    "### We now want to introduce a matrix $\\Gamma$ that premultiplies the temporal derivative. We use as a starting point the previously derived PDE:\n",
    "\n",
    "$$\\color{blue}{\\large \\frac{\\partial U}{\\partial t} + \\frac{\\partial F(U)}{\\partial x}=0}$$\n",
    "\n",
    "\n",
    "$$\\color{blue}{\\large \\frac{\\partial U}{\\partial V} \\frac{\\partial V}{\\partial t} + \\frac{\\partial F}{\\partial V}\\frac{\\partial V}{\\partial x}=0}$$\n",
    "\n",
    "### Note that we can modify the Jacobian matrix $\\frac{\\partial U}{\\partial V}$ without affecting the steady state solution. We replace it with a preconditioning matrix $\\Gamma:$\n",
    "\n",
    "$$\\color{blue}{\\large \\Gamma \\frac{\\partial V}{\\partial t} + \\frac{\\partial F}{\\partial V}\\frac{\\partial V}{\\partial x}=0}$$\n",
    "\n",
    "$$\\color{blue}{\\large \\frac{\\partial V}{\\partial t} + \\Gamma^{-1} \\frac{\\partial F}{\\partial V}\\frac{\\partial V}{\\partial x}=0}$$\n"
   ]
  },
  {
   "cell_type": "markdown",
   "metadata": {},
   "source": [
    "### We now introduce a preconditioning matrix and see whether we can modify the eigenvalues in a beneficial way:\n",
    "### We use the Weiss and Smith approach that $\\frac{\\partial \\rho}{\\partial p} = \\theta$"
   ]
  },
  {
   "cell_type": "code",
   "execution_count": 63,
   "metadata": {},
   "outputs": [
    {
     "data": {
      "text/latex": [
       "\\[\\tag{${\\it \\%o}_{124}$}\\begin{pmatrix}\\frac{d}{d\\,p}\\,\\rho & 0 & 0 & \\frac{d}{d\\,T}\\,\\rho \\\\ \\frac{d}{d\\,p}\\,\\rho\\,u & \\rho & 0 & \\frac{d}{d\\,T}\\,\\rho\\,u \\\\ \\frac{d}{d\\,p}\\,\\rho\\,v & 0 & \\rho & \\frac{d}{d\\,T}\\,\\rho\\,v \\\\ H\\,\\left(\\frac{d}{d\\,p}\\,\\rho\\right)-1 & \\rho\\,u & \\rho\\,v & H\\,\\left(\\frac{d}{d\\,T}\\,\\rho\\right)+{\\it cp}\\,\\rho \\\\ \\end{pmatrix}\\]"
      ],
      "text/plain": [
       "                 [    drho                        drho       ]\n",
       "                 [    ----       0      0         ----       ]\n",
       "                 [     dp                          dT        ]\n",
       "                 [                                           ]\n",
       "                 [   drho                        drho        ]\n",
       "                 [   ---- u     rho     0        ---- u      ]\n",
       "                 [    dp                          dT         ]\n",
       "(%o124)          [                                           ]\n",
       "                 [   drho                        drho        ]\n",
       "                 [   ---- v      0     rho       ---- v      ]\n",
       "                 [    dp                          dT         ]\n",
       "                 [                                           ]\n",
       "                 [   drho                      drho          ]\n",
       "                 [ H ---- - 1  rho u  rho v  H ---- + cp rho ]\n",
       "                 [    dp                        dT           ]"
      ],
      "text/x-maxima": [
       "matrix(['diff(rho,p,1),0,0,'diff(rho,T,1)],\n",
       "       ['diff(rho,p,1)*u,rho,0,'diff(rho,T,1)*u],\n",
       "       ['diff(rho,p,1)*v,0,rho,'diff(rho,T,1)*v],\n",
       "       [H*'diff(rho,p,1)-1,rho*u,rho*v,H*'diff(rho,T,1)+cp*rho])"
      ]
     },
     "execution_count": 63,
     "metadata": {},
     "output_type": "execute_result"
    }
   ],
   "source": [
    "dUdV;"
   ]
  },
  {
   "cell_type": "markdown",
   "metadata": {},
   "source": [
    "### We recover the matrix of Weiss and Smith, eq. (4)"
   ]
  },
  {
   "cell_type": "markdown",
   "metadata": {},
   "source": [
    "### We replace the term $\\frac{\\partial \\rho}{\\partial p} = \\theta$"
   ]
  },
  {
   "cell_type": "code",
   "execution_count": 64,
   "metadata": {},
   "outputs": [
    {
     "data": {
      "text/latex": [
       "\\[\\tag{${\\it \\%o}_{125}$}\\begin{pmatrix}\\vartheta & 0 & 0 & \\frac{d}{d\\,T}\\,\\rho \\\\ \\vartheta\\,u & \\rho & 0 & \\frac{d}{d\\,T}\\,\\rho\\,u \\\\ \\vartheta\\,v & 0 & \\rho & \\frac{d}{d\\,T}\\,\\rho\\,v \\\\ H\\,\\vartheta-1 & \\rho\\,u & \\rho\\,v & H\\,\\left(\\frac{d}{d\\,T}\\,\\rho\\right)+{\\it cp}\\,\\rho \\\\ \\end{pmatrix}\\]"
      ],
      "text/plain": [
       "                [                                 drho       ]\n",
       "                [    theta       0      0         ----       ]\n",
       "                [                                  dT        ]\n",
       "                [                                            ]\n",
       "                [                                drho        ]\n",
       "                [   theta u     rho     0        ---- u      ]\n",
       "                [                                 dT         ]\n",
       "(%o125)         [                                            ]\n",
       "                [                                drho        ]\n",
       "                [   theta v      0     rho       ---- v      ]\n",
       "                [                                 dT         ]\n",
       "                [                                            ]\n",
       "                [                              drho          ]\n",
       "                [ H theta - 1  rho u  rho v  H ---- + cp rho ]\n",
       "                [                               dT           ]"
      ],
      "text/x-maxima": [
       "matrix([theta,0,0,'diff(rho,T,1)],[theta*u,rho,0,'diff(rho,T,1)*u],\n",
       "       [theta*v,0,rho,'diff(rho,T,1)*v],\n",
       "       [H*theta-1,rho*u,rho*v,H*'diff(rho,T,1)+cp*rho])"
      ]
     },
     "execution_count": 64,
     "metadata": {},
     "output_type": "execute_result"
    }
   ],
   "source": [
    "Gamma : subst(diff(rho,p)=theta,dUdV);"
   ]
  },
  {
   "cell_type": "code",
   "execution_count": 65,
   "metadata": {},
   "outputs": [
    {
     "data": {
      "text/latex": [
       "\\[\\tag{${\\it \\%o}_{126}$}\\begin{pmatrix}-\\frac{\\frac{d}{d\\,T}\\,\\rho\\,v^2+\\frac{d}{d\\,T}\\,\\rho\\,u^2-H\\,\\left(\\frac{d}{d\\,T}\\,\\rho\\right)-{\\it cp}\\,\\rho}{{\\it cp}\\,\\rho\\,\\vartheta+\\frac{d}{d\\,T}\\,\\rho} & \\frac{\\frac{d}{d\\,T}\\,\\rho\\,u}{{\\it cp}\\,\\rho\\,\\vartheta+\\frac{d}{d\\,T}\\,\\rho} & \\frac{\\frac{d}{d\\,T}\\,\\rho\\,v}{{\\it cp}\\,\\rho\\,\\vartheta+\\frac{d}{d\\,T}\\,\\rho} & -\\frac{\\frac{d}{d\\,T}\\,\\rho}{{\\it cp}\\,\\rho\\,\\vartheta+\\frac{d}{d\\,T}\\,\\rho} \\\\ -\\frac{u}{\\rho} & \\frac{1}{\\rho} & 0 & 0 \\\\ -\\frac{v}{\\rho} & 0 & \\frac{1}{\\rho} & 0 \\\\ \\frac{\\vartheta\\,v^2+\\vartheta\\,u^2-H\\,\\vartheta+1}{{\\it cp}\\,\\rho\\,\\vartheta+\\frac{d}{d\\,T}\\,\\rho} & -\\frac{\\vartheta\\,u}{{\\it cp}\\,\\rho\\,\\vartheta+\\frac{d}{d\\,T}\\,\\rho} & -\\frac{\\vartheta\\,v}{{\\it cp}\\,\\rho\\,\\vartheta+\\frac{d}{d\\,T}\\,\\rho} & \\frac{\\vartheta}{{\\it cp}\\,\\rho\\,\\vartheta+\\frac{d}{d\\,T}\\,\\rho} \\\\ \\end{pmatrix}\\]"
      ],
      "text/plain": [
       "                 [   drho  2   drho  2     drho          ]\n",
       "                 [   ---- v  + ---- u  - H ---- - cp rho ]\n",
       "                 [    dT        dT          dT           ]\n",
       "                 [ - ----------------------------------- ]\n",
       "                 [                          drho         ]\n",
       "                 [           cp rho theta + ----         ]\n",
       "                 [                           dT          ]\n",
       "                 [                                       ]\n",
       "                 [                    u                  ]\n",
       "                 [                 - ---                 ]\n",
       "(%o126)  Col 1 = [                   rho                 ]\n",
       "                 [                                       ]\n",
       "                 [                    v                  ]\n",
       "                 [                 - ---                 ]\n",
       "                 [                   rho                 ]\n",
       "                 [                                       ]\n",
       "                 [          2          2                 ]\n",
       "                 [   theta v  + theta u  - H theta + 1   ]\n",
       "                 [   ---------------------------------   ]\n",
       "                 [                         drho          ]\n",
       "                 [          cp rho theta + ----          ]\n",
       "                 [                          dT           ]\n",
       "         [        drho           ]         [        drho           ]\n",
       "         [        ---- u         ]         [        ---- v         ]\n",
       "         [         dT            ]         [         dT            ]\n",
       "         [  -------------------  ]         [  -------------------  ]\n",
       "         [                 drho  ]         [                 drho  ]\n",
       "         [  cp rho theta + ----  ]         [  cp rho theta + ----  ]\n",
       "         [                  dT   ]         [                  dT   ]\n",
       "         [                       ]         [                       ]\n",
       "         [           1           ]         [           0           ]\n",
       " Col 2 = [          ---          ] Col 3 = [                       ]\n",
       "         [          rho          ]         [           1           ]\n",
       "         [                       ]         [          ---          ]\n",
       "         [           0           ]         [          rho          ]\n",
       "         [                       ]         [                       ]\n",
       "         [         theta u       ]         [         theta v       ]\n",
       "         [ - ------------------- ]         [ - ------------------- ]\n",
       "         [                  drho ]         [                  drho ]\n",
       "         [   cp rho theta + ---- ]         [   cp rho theta + ---- ]\n",
       "         [                   dT  ]         [                   dT  ]\n",
       "         [          drho         ]\n",
       "         [          ----         ]\n",
       "         [           dT          ]\n",
       "         [ - ------------------- ]\n",
       "         [                  drho ]\n",
       "         [   cp rho theta + ---- ]\n",
       "         [                   dT  ]\n",
       "         [                       ]\n",
       " Col 4 = [           0           ]\n",
       "         [                       ]\n",
       "         [           0           ]\n",
       "         [                       ]\n",
       "         [         theta         ]\n",
       "         [  -------------------  ]\n",
       "         [                 drho  ]\n",
       "         [  cp rho theta + ----  ]\n",
       "         [                  dT   ]"
      ],
      "text/x-maxima": [
       "matrix([-('diff(rho,T,1)*v^2+'diff(rho,T,1)*u^2-H*'diff(rho,T,1)-cp*rho)\n",
       "         /(cp*rho*theta+'diff(rho,T,1)),\n",
       "        ('diff(rho,T,1)*u)/(cp*rho*theta+'diff(rho,T,1)),\n",
       "        ('diff(rho,T,1)*v)/(cp*rho*theta+'diff(rho,T,1)),\n",
       "        -'diff(rho,T,1)/(cp*rho*theta+'diff(rho,T,1))],[-u/rho,1/rho,0,0],\n",
       "       [-v/rho,0,1/rho,0],\n",
       "       [(theta*v^2+theta*u^2-H*theta+1)/(cp*rho*theta+'diff(rho,T,1)),\n",
       "        -(theta*u)/(cp*rho*theta+'diff(rho,T,1)),\n",
       "        -(theta*v)/(cp*rho*theta+'diff(rho,T,1)),\n",
       "        theta/(cp*rho*theta+'diff(rho,T,1))])"
      ]
     },
     "execution_count": 65,
     "metadata": {},
     "output_type": "execute_result"
    }
   ],
   "source": [
    "invGamma : ratsimp(invert(Gamma));"
   ]
  },
  {
   "cell_type": "code",
   "execution_count": 72,
   "metadata": {},
   "outputs": [
    {
     "data": {
      "text/latex": [
       "\\[\\tag{${\\it \\%o}_{133}$}\\begin{pmatrix}\\frac{\\left({\\it cp}\\,\\rho\\,\\left(\\frac{d}{d\\,p}\\,\\rho\\right)+\\frac{d}{d\\,T}\\,\\rho\\right)\\,u}{{\\it cp}\\,\\rho\\,\\vartheta+\\frac{d}{d\\,T}\\,\\rho} & \\frac{{\\it cp}\\,\\rho^2}{{\\it cp}\\,\\rho\\,\\vartheta+\\frac{d}{d\\,T}\\,\\rho} & 0 & 0 \\\\ \\frac{1}{\\rho} & u & 0 & 0 \\\\ 0 & 0 & u & 0 \\\\ -\\frac{\\left(\\vartheta-\\frac{d}{d\\,p}\\,\\rho\\right)\\,u}{{\\it cp}\\,\\rho\\,\\vartheta+\\frac{d}{d\\,T}\\,\\rho} & \\frac{\\rho}{{\\it cp}\\,\\rho\\,\\vartheta+\\frac{d}{d\\,T}\\,\\rho} & 0 & u \\\\ \\end{pmatrix}\\]"
      ],
      "text/plain": [
       "             [         drho   drho                               ]\n",
       "             [ (cp rho ---- + ----) u              2             ]\n",
       "             [          dp     dT            cp rho              ]\n",
       "             [ ----------------------  -------------------  0  0 ]\n",
       "             [                 drho                   drho       ]\n",
       "             [  cp rho theta + ----    cp rho theta + ----       ]\n",
       "             [                  dT                     dT        ]\n",
       "             [                                                   ]\n",
       "             [           1                                       ]\n",
       "             [          ---                     u           0  0 ]\n",
       "(%o133)      [          rho                                      ]\n",
       "             [                                                   ]\n",
       "             [           0                      0           u  0 ]\n",
       "             [                                                   ]\n",
       "             [             drho                                  ]\n",
       "             [    (theta - ----) u                               ]\n",
       "             [              dp                 rho               ]\n",
       "             [ - -------------------   -------------------  0  u ]\n",
       "             [                  drho                  drho       ]\n",
       "             [   cp rho theta + ----   cp rho theta + ----       ]\n",
       "             [                   dT                    dT        ]"
      ],
      "text/x-maxima": [
       "matrix([((cp*rho*'diff(rho,p,1)+'diff(rho,T,1))*u)\n",
       "         /(cp*rho*theta+'diff(rho,T,1)),\n",
       "        (cp*rho^2)/(cp*rho*theta+'diff(rho,T,1)),0,0],[1/rho,u,0,0],[0,0,u,0],\n",
       "       [-((theta-'diff(rho,p,1))*u)/(cp*rho*theta+'diff(rho,T,1)),\n",
       "        rho/(cp*rho*theta+'diff(rho,T,1)),0,u])"
      ]
     },
     "execution_count": 72,
     "metadata": {},
     "output_type": "execute_result"
    }
   ],
   "source": [
    "Ac : ratsimp(invGamma.dFdV);"
   ]
  },
  {
   "cell_type": "code",
   "execution_count": 80,
   "metadata": {},
   "outputs": [
    {
     "data": {
      "text/latex": [
       "\\[\\tag{${\\it \\%o}_{148}$}\\begin{pmatrix}\\frac{\\left({\\it cp}\\,\\rho\\,\\left(\\frac{d}{d\\,p}\\,\\rho\\right)+\\frac{d}{d\\,T}\\,\\rho\\right)\\,v}{{\\it cp}\\,\\rho\\,\\vartheta+\\frac{d}{d\\,T}\\,\\rho} & 0 & \\frac{{\\it cp}\\,\\rho^2}{{\\it cp}\\,\\rho\\,\\vartheta+\\frac{d}{d\\,T}\\,\\rho} & 0 \\\\ 0 & v & 0 & 0 \\\\ \\frac{1}{\\rho} & 0 & v & 0 \\\\ -\\frac{\\left(\\vartheta-\\frac{d}{d\\,p}\\,\\rho\\right)\\,v}{{\\it cp}\\,\\rho\\,\\vartheta+\\frac{d}{d\\,T}\\,\\rho} & 0 & \\frac{\\rho}{{\\it cp}\\,\\rho\\,\\vartheta+\\frac{d}{d\\,T}\\,\\rho} & v \\\\ \\end{pmatrix}\\]"
      ],
      "text/plain": [
       "             [         drho   drho                               ]\n",
       "             [ (cp rho ---- + ----) v                 2          ]\n",
       "             [          dp     dT               cp rho           ]\n",
       "             [ ----------------------  0  -------------------  0 ]\n",
       "             [                 drho                      drho    ]\n",
       "             [  cp rho theta + ----       cp rho theta + ----    ]\n",
       "             [                  dT                        dT     ]\n",
       "             [                                                   ]\n",
       "             [           0             v           0           0 ]\n",
       "             [                                                   ]\n",
       "(%o148)      [           1                                       ]\n",
       "             [          ---            0           v           0 ]\n",
       "             [          rho                                      ]\n",
       "             [                                                   ]\n",
       "             [             drho                                  ]\n",
       "             [    (theta - ----) v                               ]\n",
       "             [              dp                    rho            ]\n",
       "             [ - -------------------   0  -------------------  v ]\n",
       "             [                  drho                     drho    ]\n",
       "             [   cp rho theta + ----      cp rho theta + ----    ]\n",
       "             [                   dT                       dT     ]"
      ],
      "text/x-maxima": [
       "matrix([((cp*rho*'diff(rho,p,1)+'diff(rho,T,1))*v)\n",
       "         /(cp*rho*theta+'diff(rho,T,1)),0,\n",
       "        (cp*rho^2)/(cp*rho*theta+'diff(rho,T,1)),0],[0,v,0,0],[1/rho,0,v,0],\n",
       "       [-((theta-'diff(rho,p,1))*v)/(cp*rho*theta+'diff(rho,T,1)),0,\n",
       "        rho/(cp*rho*theta+'diff(rho,T,1)),v])"
      ]
     },
     "execution_count": 80,
     "metadata": {},
     "output_type": "execute_result"
    }
   ],
   "source": [
    "Bc : ratsimp(invGamma.dGdV);"
   ]
  },
  {
   "cell_type": "markdown",
   "metadata": {},
   "source": [
    "### Now with substitution of the ideal gas law:"
   ]
  },
  {
   "cell_type": "code",
   "execution_count": 78,
   "metadata": {},
   "outputs": [
    {
     "data": {
      "text/latex": [
       "\\[\\tag{${\\it \\%o}_{144}$}\\begin{pmatrix}\\frac{u\\,\\left(\\frac{{\\it cp}\\,\\rho\\,\\gamma}{c^2}+\\frac{d}{d\\,T}\\,\\rho\\right)}{{\\it cp}\\,\\rho\\,\\vartheta+\\frac{d}{d\\,T}\\,\\rho} & \\frac{{\\it cp}\\,\\rho^2}{{\\it cp}\\,\\rho\\,\\vartheta+\\frac{d}{d\\,T}\\,\\rho} & 0 & 0 \\\\ \\frac{1}{\\rho} & u & 0 & 0 \\\\ 0 & 0 & u & 0 \\\\ -\\frac{u\\,\\left(\\vartheta-\\frac{\\gamma}{c^2}\\right)}{{\\it cp}\\,\\rho\\,\\vartheta+\\frac{d}{d\\,T}\\,\\rho} & \\frac{\\rho}{{\\it cp}\\,\\rho\\,\\vartheta+\\frac{d}{d\\,T}\\,\\rho} & 0 & u \\\\ \\end{pmatrix}\\]"
      ],
      "text/plain": [
       "            [    cp rho gamma   drho                             ]\n",
       "            [ u (------------ + ----)                            ]\n",
       "            [          2         dT                2             ]\n",
       "            [         c                      cp rho              ]\n",
       "            [ -----------------------  -------------------  0  0 ]\n",
       "            [                  drho                   drho       ]\n",
       "            [   cp rho theta + ----    cp rho theta + ----       ]\n",
       "            [                   dT                     dT        ]\n",
       "            [                                                    ]\n",
       "            [            1                                       ]\n",
       "            [           ---                     u           0  0 ]\n",
       "(%o144)     [           rho                                      ]\n",
       "            [                                                    ]\n",
       "            [            0                      0           u  0 ]\n",
       "            [                                                    ]\n",
       "            [                gamma                               ]\n",
       "            [     u (theta - -----)                              ]\n",
       "            [                  2                                 ]\n",
       "            [                 c                rho               ]\n",
       "            [  - -------------------   -------------------  0  u ]\n",
       "            [                   drho                  drho       ]\n",
       "            [    cp rho theta + ----   cp rho theta + ----       ]\n",
       "            [                    dT                    dT        ]"
      ],
      "text/x-maxima": [
       "matrix([(u*((cp*rho*gamma)/c^2+'diff(rho,T,1)))/(cp*rho*theta+'diff(rho,T,1)),\n",
       "        (cp*rho^2)/(cp*rho*theta+'diff(rho,T,1)),0,0],[1/rho,u,0,0],[0,0,u,0],\n",
       "       [-(u*(theta-gamma/c^2))/(cp*rho*theta+'diff(rho,T,1)),\n",
       "        rho/(cp*rho*theta+'diff(rho,T,1)),0,u])"
      ]
     },
     "execution_count": 78,
     "metadata": {},
     "output_type": "execute_result"
    },
    {
     "data": {
      "text/latex": [
       "\\[\\tag{${\\it \\%o}_{145}$}\\begin{pmatrix}-\\frac{u}{\\gamma-c^2\\,\\vartheta-1} & -\\frac{c^2\\,\\rho}{\\gamma-c^2\\,\\vartheta-1} & 0 & 0 \\\\ \\frac{1}{\\rho} & u & 0 & 0 \\\\ 0 & 0 & u & 0 \\\\ -\\frac{u\\,\\gamma-c^2\\,\\vartheta\\,u}{{\\it cp}\\,\\rho\\,\\gamma-c^2\\,{\\it cp}\\,\\rho\\,\\vartheta-{\\it cp}\\,\\rho} & -\\frac{c^2}{{\\it cp}\\,\\gamma-c^2\\,{\\it cp}\\,\\vartheta-{\\it cp}} & 0 & u \\\\ \\end{pmatrix}\\]"
      ],
      "text/plain": [
       "                 [                     u                     ]\n",
       "                 [          - --------------------           ]\n",
       "                 [                     2                     ]\n",
       "                 [            gamma - c  theta - 1           ]\n",
       "                 [                                           ]\n",
       "                 [                     1                     ]\n",
       "                 [                    ---                    ]\n",
       "(%o145)  Col 1 = [                    rho                    ]\n",
       "                 [                                           ]\n",
       "                 [                     0                     ]\n",
       "                 [                                           ]\n",
       "                 [                       2                   ]\n",
       "                 [            u gamma - c  theta u           ]\n",
       "                 [ - --------------------------------------- ]\n",
       "                 [                   2                       ]\n",
       "                 [   cp rho gamma - c  cp rho theta - cp rho ]\n",
       "                  [              2                ]\n",
       "                  [             c  rho            ]\n",
       "                  [    - --------------------     ]\n",
       "                  [               2               ]\n",
       "                  [      gamma - c  theta - 1     ]         [ 0 ]         [ 0 ]\n",
       "                  [                               ]         [   ]         [   ]\n",
       "                  [               u               ]         [ 0 ]         [ 0 ]\n",
       "          Col 2 = [                               ] Col 3 = [   ] Col 4 = [   ]\n",
       "                  [               0               ]         [ u ]         [ 0 ]\n",
       "                  [                               ]         [   ]         [   ]\n",
       "                  [                2              ]         [ 0 ]         [ u ]\n",
       "                  [               c               ]\n",
       "                  [ - --------------------------- ]\n",
       "                  [               2               ]\n",
       "                  [   cp gamma - c  cp theta - cp ]"
      ],
      "text/x-maxima": [
       "matrix([-u/(gamma-c^2*theta-1),-(c^2*rho)/(gamma-c^2*theta-1),0,0],\n",
       "       [1/rho,u,0,0],[0,0,u,0],\n",
       "       [-(u*gamma-c^2*theta*u)/(cp*rho*gamma-c^2*cp*rho*theta-cp*rho),\n",
       "        -c^2/(cp*gamma-c^2*cp*theta-cp),0,u])"
      ]
     },
     "execution_count": 78,
     "metadata": {},
     "output_type": "execute_result"
    },
    {
     "data": {
      "text/latex": [
       "\\[\\tag{${\\it \\%o}_{146}$}\\left[ \\left[ \\frac{\\sqrt{u^2\\,\\gamma^2+\\left(-2\\,c^2\\,\\vartheta\\,u^2-4\\,c^2\\right)\\,\\gamma+c^4\\,\\vartheta^2\\,u^2+4\\,c^4\\,\\vartheta+4\\,c^2}}{2\\,\\gamma-2\\,c^2\\,\\vartheta-2}+\\frac{u\\,\\gamma}{2\\,\\gamma-2\\,c^2\\,\\vartheta-2}-\\frac{c^2\\,\\vartheta\\,u}{2\\,\\gamma-2\\,c^2\\,\\vartheta-2}-\\frac{u}{\\gamma-c^2\\,\\vartheta-1} , -\\frac{\\sqrt{u^2\\,\\gamma^2+\\left(-2\\,c^2\\,\\vartheta\\,u^2-4\\,c^2\\right)\\,\\gamma+c^4\\,\\vartheta^2\\,u^2+4\\,c^4\\,\\vartheta+4\\,c^2}}{2\\,\\gamma-2\\,c^2\\,\\vartheta-2}+\\frac{u\\,\\gamma}{2\\,\\gamma-2\\,c^2\\,\\vartheta-2}-\\frac{c^2\\,\\vartheta\\,u}{2\\,\\gamma-2\\,c^2\\,\\vartheta-2}-\\frac{u}{\\gamma-c^2\\,\\vartheta-1} , u \\right]  , \\left[ 1 , 1 , 2 \\right]  \\right] \\]"
      ],
      "text/plain": [
       "                2      2          2        2       2           4      2  2\n",
       "(%o146) [[sqrt(u  gamma  + ((- 2 c  theta u ) - 4 c ) gamma + c  theta  u\n",
       "      4            2                2                      u gamma\n",
       " + 4 c  theta + 4 c )/(2 gamma - 2 c  theta - 2) + ------------------------\n",
       "                                                                2\n",
       "                                                   2 gamma - 2 c  theta - 2\n",
       "           2\n",
       "          c  theta u                   u\n",
       " - ------------------------ - --------------------, \n",
       "                2                      2\n",
       "   2 gamma - 2 c  theta - 2   gamma - c  theta - 1\n",
       "         2      2          2        2       2           4      2  2\n",
       "(- sqrt(u  gamma  + ((- 2 c  theta u ) - 4 c ) gamma + c  theta  u\n",
       "      4            2                2                       u gamma\n",
       " + 4 c  theta + 4 c )/(2 gamma - 2 c  theta - 2)) + ------------------------\n",
       "                                                                 2\n",
       "                                                    2 gamma - 2 c  theta - 2\n",
       "           2\n",
       "          c  theta u                   u\n",
       " - ------------------------ - --------------------, u], [1, 1, 2]]\n",
       "                2                      2\n",
       "   2 gamma - 2 c  theta - 2   gamma - c  theta - 1"
      ],
      "text/x-maxima": [
       "[[sqrt(u^2*gamma^2+((-2*c^2*theta*u^2)-4*c^2)*gamma+c^4*theta^2*u^2\n",
       "                  +4*c^4*theta+4*c^2)\n",
       "   /(2*gamma-2*c^2*theta-2)\n",
       "   +(u*gamma)/(2*gamma-2*c^2*theta-2)-(c^2*theta*u)/(2*gamma-2*c^2*theta-2)\n",
       "   -u/(gamma-c^2*theta-1),\n",
       "  (-sqrt(u^2*gamma^2+((-2*c^2*theta*u^2)-4*c^2)*gamma+c^4*theta^2*u^2\n",
       "                    +4*c^4*theta+4*c^2)\n",
       "   /(2*gamma-2*c^2*theta-2))\n",
       "   +(u*gamma)/(2*gamma-2*c^2*theta-2)-(c^2*theta*u)/(2*gamma-2*c^2*theta-2)\n",
       "   -u/(gamma-c^2*theta-1),u],[1,1,2]]"
      ]
     },
     "execution_count": 78,
     "metadata": {},
     "output_type": "execute_result"
    }
   ],
   "source": [
    "Ac_1 : subst([diff(rho,p)=gamma/c^2],Ac);\n",
    "Ac_2 : ratsimp(subst([diff(rho,T)=-rho*cp*(gamma-1)/c^2],Ac_1));\n",
    "ratexpand(eigenvalues(Ac_2));"
   ]
  },
  {
   "cell_type": "code",
   "execution_count": 72,
   "metadata": {},
   "outputs": [
    {
     "data": {
      "text/latex": [
       "\\[\\tag{${\\it \\%o}_{125}$}\\left[ \\left[ \\left[ -\\frac{\\sqrt{\\left({\\it cp}^2\\,\\rho^2\\,\\vartheta^2-2\\,{\\it cp}^2\\,\\rho^2\\,\\left(\\frac{d}{d\\,p}\\,\\rho\\right)\\,\\vartheta+{\\it cp}^2\\,\\rho^2\\,\\left(\\frac{d}{d\\,p}\\,\\rho\\right)^2\\right)\\,u^2+4\\,{\\it cp}^2\\,\\rho^2\\,\\vartheta+4\\,{\\it cp}\\,\\rho\\,\\left(\\frac{d}{d\\,T}\\,\\rho\\right)}+\\left(-{\\it cp}\\,\\rho\\,\\vartheta-{\\it cp}\\,\\rho\\,\\left(\\frac{d}{d\\,p}\\,\\rho\\right)-2\\,\\left(\\frac{d}{d\\,T}\\,\\rho\\right)\\right)\\,u}{2\\,{\\it cp}\\,\\rho\\,\\vartheta+2\\,\\left(\\frac{d}{d\\,T}\\,\\rho\\right)} , \\frac{\\sqrt{\\left({\\it cp}^2\\,\\rho^2\\,\\vartheta^2-2\\,{\\it cp}^2\\,\\rho^2\\,\\left(\\frac{d}{d\\,p}\\,\\rho\\right)\\,\\vartheta+{\\it cp}^2\\,\\rho^2\\,\\left(\\frac{d}{d\\,p}\\,\\rho\\right)^2\\right)\\,u^2+4\\,{\\it cp}^2\\,\\rho^2\\,\\vartheta+4\\,{\\it cp}\\,\\rho\\,\\left(\\frac{d}{d\\,T}\\,\\rho\\right)}+\\left({\\it cp}\\,\\rho\\,\\vartheta+{\\it cp}\\,\\rho\\,\\left(\\frac{d}{d\\,p}\\,\\rho\\right)+2\\,\\left(\\frac{d}{d\\,T}\\,\\rho\\right)\\right)\\,u}{2\\,{\\it cp}\\,\\rho\\,\\vartheta+2\\,\\left(\\frac{d}{d\\,T}\\,\\rho\\right)} , u \\right]  , \\left[ 1 , 1 , 2 \\right]  \\right]  , \\left[ \\left[ \\left[ 1 , -\\frac{\\sqrt{\\left({\\it cp}^2\\,\\rho^2\\,\\vartheta^2-2\\,{\\it cp}^2\\,\\rho^2\\,\\left(\\frac{d}{d\\,p}\\,\\rho\\right)\\,\\vartheta+{\\it cp}^2\\,\\rho^2\\,\\left(\\frac{d}{d\\,p}\\,\\rho\\right)^2\\right)\\,u^2+4\\,{\\it cp}^2\\,\\rho^2\\,\\vartheta+4\\,{\\it cp}\\,\\rho\\,\\left(\\frac{d}{d\\,T}\\,\\rho\\right)}+\\left({\\it cp}\\,\\rho\\,\\left(\\frac{d}{d\\,p}\\,\\rho\\right)-{\\it cp}\\,\\rho\\,\\vartheta\\right)\\,u}{2\\,{\\it cp}\\,\\rho^2} , 0 , \\frac{1}{{\\it cp}\\,\\rho} \\right]  \\right]  , \\left[ \\left[ 1 , \\frac{\\sqrt{\\left({\\it cp}^2\\,\\rho^2\\,\\vartheta^2-2\\,{\\it cp}^2\\,\\rho^2\\,\\left(\\frac{d}{d\\,p}\\,\\rho\\right)\\,\\vartheta+{\\it cp}^2\\,\\rho^2\\,\\left(\\frac{d}{d\\,p}\\,\\rho\\right)^2\\right)\\,u^2+4\\,{\\it cp}^2\\,\\rho^2\\,\\vartheta+4\\,{\\it cp}\\,\\rho\\,\\left(\\frac{d}{d\\,T}\\,\\rho\\right)}+\\left({\\it cp}\\,\\rho\\,\\vartheta-{\\it cp}\\,\\rho\\,\\left(\\frac{d}{d\\,p}\\,\\rho\\right)\\right)\\,u}{2\\,{\\it cp}\\,\\rho^2} , 0 , \\frac{1}{{\\it cp}\\,\\rho} \\right]  \\right]  , \\left[ \\left[ 0 , 0 , 1 , 0 \\right]  , \\left[ 0 , 0 , 0 , 1 \\right]  \\right]  \\right]  \\right] \\]"
      ],
      "text/plain": [
       "                      2    2      2       2    2 drho           2    2  drho 2\n",
       "(%o125) [[[- (sqrt((cp  rho  theta  - 2 cp  rho  ---- theta + cp  rho  (----) )\n",
       "                                                  dp                     dp\n",
       "  2       2    2                  drho\n",
       " u  + 4 cp  rho  theta + 4 cp rho ----)\n",
       "                                   dT\n",
       "                              drho     drho                         drho\n",
       " + ((- cp rho theta) - cp rho ---- - 2 ----) u)/(2 cp rho theta + 2 ----), \n",
       "                               dp       dT                           dT\n",
       "         2    2      2       2    2 drho           2    2  drho 2   2\n",
       "(sqrt((cp  rho  theta  - 2 cp  rho  ---- theta + cp  rho  (----) ) u\n",
       "                                     dp                     dp\n",
       "       2    2                  drho                           drho     drho\n",
       " + 4 cp  rho  theta + 4 cp rho ----) + (cp rho theta + cp rho ---- + 2 ----) u)\n",
       "                                dT                             dp       dT\n",
       "                     drho\n",
       "/(2 cp rho theta + 2 ----), u], [1, 1, 2]], \n",
       "                      dT\n",
       "                 2    2      2       2    2 drho           2    2  drho 2   2\n",
       "[[[1, - (sqrt((cp  rho  theta  - 2 cp  rho  ---- theta + cp  rho  (----) ) u\n",
       "                                             dp                     dp\n",
       "       2    2                  drho            drho\n",
       " + 4 cp  rho  theta + 4 cp rho ----) + (cp rho ---- - cp rho theta) u)\n",
       "                                dT              dp\n",
       "          2        1                     2    2      2       2    2 drho\n",
       "/(2 cp rho ), 0, ------]], [[1, (sqrt((cp  rho  theta  - 2 cp  rho  ---- theta\n",
       "                 cp rho                                              dp\n",
       "     2    2  drho 2   2       2    2                  drho\n",
       " + cp  rho  (----) ) u  + 4 cp  rho  theta + 4 cp rho ----)\n",
       "              dp                                       dT\n",
       "                          drho              2        1\n",
       " + (cp rho theta - cp rho ----) u)/(2 cp rho ), 0, ------]], \n",
       "                           dp                      cp rho\n",
       "[[0, 0, 1, 0], [0, 0, 0, 1]]]]"
      ],
      "text/x-maxima": [
       "[[[-(sqrt((cp^2*rho^2*theta^2-2*cp^2*rho^2*'diff(rho,p,1)*theta\n",
       "                             +cp^2*rho^2*('diff(rho,p,1))^2)\n",
       "           *u^2\n",
       "           +4*cp^2*rho^2*theta+4*cp*rho*'diff(rho,T,1))\n",
       "    +((-cp*rho*theta)-cp*rho*'diff(rho,p,1)-2*'diff(rho,T,1))*u)\n",
       "    /(2*cp*rho*theta+2*'diff(rho,T,1)),\n",
       "   (sqrt((cp^2*rho^2*theta^2-2*cp^2*rho^2*'diff(rho,p,1)*theta\n",
       "                            +cp^2*rho^2*('diff(rho,p,1))^2)\n",
       "          *u^2\n",
       "          +4*cp^2*rho^2*theta+4*cp*rho*'diff(rho,T,1))\n",
       "    +(cp*rho*theta+cp*rho*'diff(rho,p,1)+2*'diff(rho,T,1))*u)\n",
       "    /(2*cp*rho*theta+2*'diff(rho,T,1)),u],[1,1,2]],\n",
       " [[[1,\n",
       "    -(sqrt((cp^2*rho^2*theta^2-2*cp^2*rho^2*'diff(rho,p,1)*theta\n",
       "                              +cp^2*rho^2*('diff(rho,p,1))^2)\n",
       "            *u^2\n",
       "            +4*cp^2*rho^2*theta+4*cp*rho*'diff(rho,T,1))\n",
       "     +(cp*rho*'diff(rho,p,1)-cp*rho*theta)*u)\n",
       "     /(2*cp*rho^2),0,1/(cp*rho)]],\n",
       "  [[1,\n",
       "    (sqrt((cp^2*rho^2*theta^2-2*cp^2*rho^2*'diff(rho,p,1)*theta\n",
       "                             +cp^2*rho^2*('diff(rho,p,1))^2)\n",
       "           *u^2\n",
       "           +4*cp^2*rho^2*theta+4*cp*rho*'diff(rho,T,1))\n",
       "     +(cp*rho*theta-cp*rho*'diff(rho,p,1))*u)\n",
       "     /(2*cp*rho^2),0,1/(cp*rho)]],[[0,0,1,0],[0,0,0,1]]]]"
      ]
     },
     "execution_count": 72,
     "metadata": {},
     "output_type": "execute_result"
    }
   ],
   "source": [
    "eigenvectors(Ac);"
   ]
  },
  {
   "cell_type": "markdown",
   "metadata": {},
   "source": [
    "### let's store the eigenvalues:"
   ]
  },
  {
   "cell_type": "code",
   "execution_count": 73,
   "metadata": {},
   "outputs": [
    {
     "data": {
      "text/latex": [
       "\\[\\tag{${\\it \\%o}_{126}$}\\left[ \\left[ -\\frac{\\sqrt{\\left({\\it cp}^2\\,\\rho^2\\,\\vartheta^2-2\\,{\\it cp}^2\\,\\rho^2\\,\\left(\\frac{d}{d\\,p}\\,\\rho\\right)\\,\\vartheta+{\\it cp}^2\\,\\rho^2\\,\\left(\\frac{d}{d\\,p}\\,\\rho\\right)^2\\right)\\,u^2+4\\,{\\it cp}^2\\,\\rho^2\\,\\vartheta+4\\,{\\it cp}\\,\\rho\\,\\left(\\frac{d}{d\\,T}\\,\\rho\\right)}+\\left(-{\\it cp}\\,\\rho\\,\\vartheta-{\\it cp}\\,\\rho\\,\\left(\\frac{d}{d\\,p}\\,\\rho\\right)-2\\,\\left(\\frac{d}{d\\,T}\\,\\rho\\right)\\right)\\,u}{2\\,{\\it cp}\\,\\rho\\,\\vartheta+2\\,\\left(\\frac{d}{d\\,T}\\,\\rho\\right)} , \\frac{\\sqrt{\\left({\\it cp}^2\\,\\rho^2\\,\\vartheta^2-2\\,{\\it cp}^2\\,\\rho^2\\,\\left(\\frac{d}{d\\,p}\\,\\rho\\right)\\,\\vartheta+{\\it cp}^2\\,\\rho^2\\,\\left(\\frac{d}{d\\,p}\\,\\rho\\right)^2\\right)\\,u^2+4\\,{\\it cp}^2\\,\\rho^2\\,\\vartheta+4\\,{\\it cp}\\,\\rho\\,\\left(\\frac{d}{d\\,T}\\,\\rho\\right)}+\\left({\\it cp}\\,\\rho\\,\\vartheta+{\\it cp}\\,\\rho\\,\\left(\\frac{d}{d\\,p}\\,\\rho\\right)+2\\,\\left(\\frac{d}{d\\,T}\\,\\rho\\right)\\right)\\,u}{2\\,{\\it cp}\\,\\rho\\,\\vartheta+2\\,\\left(\\frac{d}{d\\,T}\\,\\rho\\right)} , u \\right]  , \\left[ 1 , 1 , 2 \\right]  \\right] \\]"
      ],
      "text/plain": [
       "                     2    2      2       2    2 drho           2    2  drho 2\n",
       "(%o126) [[- (sqrt((cp  rho  theta  - 2 cp  rho  ---- theta + cp  rho  (----) )\n",
       "                                                 dp                     dp\n",
       "  2       2    2                  drho\n",
       " u  + 4 cp  rho  theta + 4 cp rho ----)\n",
       "                                   dT\n",
       "                              drho     drho                         drho\n",
       " + ((- cp rho theta) - cp rho ---- - 2 ----) u)/(2 cp rho theta + 2 ----), \n",
       "                               dp       dT                           dT\n",
       "         2    2      2       2    2 drho           2    2  drho 2   2\n",
       "(sqrt((cp  rho  theta  - 2 cp  rho  ---- theta + cp  rho  (----) ) u\n",
       "                                     dp                     dp\n",
       "       2    2                  drho                           drho     drho\n",
       " + 4 cp  rho  theta + 4 cp rho ----) + (cp rho theta + cp rho ---- + 2 ----) u)\n",
       "                                dT                             dp       dT\n",
       "                     drho\n",
       "/(2 cp rho theta + 2 ----), u], [1, 1, 2]]\n",
       "                      dT"
      ],
      "text/x-maxima": [
       "[[-(sqrt((cp^2*rho^2*theta^2-2*cp^2*rho^2*'diff(rho,p,1)*theta\n",
       "                            +cp^2*rho^2*('diff(rho,p,1))^2)\n",
       "          *u^2\n",
       "          +4*cp^2*rho^2*theta+4*cp*rho*'diff(rho,T,1))\n",
       "   +((-cp*rho*theta)-cp*rho*'diff(rho,p,1)-2*'diff(rho,T,1))*u)\n",
       "   /(2*cp*rho*theta+2*'diff(rho,T,1)),\n",
       "  (sqrt((cp^2*rho^2*theta^2-2*cp^2*rho^2*'diff(rho,p,1)*theta\n",
       "                           +cp^2*rho^2*('diff(rho,p,1))^2)\n",
       "         *u^2\n",
       "         +4*cp^2*rho^2*theta+4*cp*rho*'diff(rho,T,1))\n",
       "   +(cp*rho*theta+cp*rho*'diff(rho,p,1)+2*'diff(rho,T,1))*u)\n",
       "   /(2*cp*rho*theta+2*'diff(rho,T,1)),u],[1,1,2]]"
      ]
     },
     "execution_count": 73,
     "metadata": {},
     "output_type": "execute_result"
    }
   ],
   "source": [
    "lambdas : ratsimp(eigenvalues(ratsimp(invGamma.dFdV)));"
   ]
  },
  {
   "cell_type": "markdown",
   "metadata": {},
   "source": [
    "### What we now have to show is that these eigenvalues are prefered."
   ]
  },
  {
   "cell_type": "code",
   "execution_count": 74,
   "metadata": {},
   "outputs": [
    {
     "data": {
      "text/latex": [
       "\\[\\tag{${\\it \\%o}_{127}$}-\\frac{\\sqrt{\\left({\\it cp}^2\\,\\rho^2\\,\\vartheta^2-2\\,{\\it cp}^2\\,\\rho^2\\,\\left(\\frac{d}{d\\,p}\\,\\rho\\right)\\,\\vartheta+{\\it cp}^2\\,\\rho^2\\,\\left(\\frac{d}{d\\,p}\\,\\rho\\right)^2\\right)\\,u^2+4\\,{\\it cp}^2\\,\\rho^2\\,\\vartheta+4\\,{\\it cp}\\,\\rho\\,\\left(\\frac{d}{d\\,T}\\,\\rho\\right)}+\\left(-{\\it cp}\\,\\rho\\,\\vartheta-{\\it cp}\\,\\rho\\,\\left(\\frac{d}{d\\,p}\\,\\rho\\right)-2\\,\\left(\\frac{d}{d\\,T}\\,\\rho\\right)\\right)\\,u}{2\\,{\\it cp}\\,\\rho\\,\\vartheta+2\\,\\left(\\frac{d}{d\\,T}\\,\\rho\\right)}\\]"
      ],
      "text/plain": [
       "                   2    2      2       2    2 drho           2    2  drho 2   2\n",
       "(%o127) - (sqrt((cp  rho  theta  - 2 cp  rho  ---- theta + cp  rho  (----) ) u\n",
       "                                               dp                     dp\n",
       "       2    2                  drho                               drho\n",
       " + 4 cp  rho  theta + 4 cp rho ----) + ((- cp rho theta) - cp rho ----\n",
       "                                dT                                 dp\n",
       "     drho                         drho\n",
       " - 2 ----) u)/(2 cp rho theta + 2 ----)\n",
       "      dT                           dT"
      ],
      "text/x-maxima": [
       "-(sqrt((cp^2*rho^2*theta^2-2*cp^2*rho^2*'diff(rho,p,1)*theta\n",
       "                          +cp^2*rho^2*('diff(rho,p,1))^2)\n",
       "        *u^2\n",
       "        +4*cp^2*rho^2*theta+4*cp*rho*'diff(rho,T,1))\n",
       " +((-cp*rho*theta)-cp*rho*'diff(rho,p,1)-2*'diff(rho,T,1))*u)\n",
       " /(2*cp*rho*theta+2*'diff(rho,T,1))"
      ]
     },
     "execution_count": 74,
     "metadata": {},
     "output_type": "execute_result"
    }
   ],
   "source": [
    "l1 : lambdas[1][1];"
   ]
  },
  {
   "cell_type": "code",
   "execution_count": 100,
   "metadata": {},
   "outputs": [
    {
     "data": {
      "text/latex": [
       "\\[\\tag{${\\it \\%o}_{157}$}\\frac{\\sqrt{\\left({\\it cp}^2\\,\\rho^2\\,\\vartheta^2-2\\,{\\it cp}^2\\,\\rho^2\\,\\left(\\frac{d}{d\\,p}\\,\\rho\\right)\\,\\vartheta+{\\it cp}^2\\,\\rho^2\\,\\left(\\frac{d}{d\\,p}\\,\\rho\\right)^2\\right)\\,u^2+4\\,{\\it cp}^2\\,\\rho^2\\,\\vartheta+4\\,{\\it cp}\\,\\rho\\,\\left(\\frac{d}{d\\,T}\\,\\rho\\right)}+\\left({\\it cp}\\,\\rho\\,\\vartheta+{\\it cp}\\,\\rho\\,\\left(\\frac{d}{d\\,p}\\,\\rho\\right)+2\\,\\left(\\frac{d}{d\\,T}\\,\\rho\\right)\\right)\\,u}{2\\,{\\it cp}\\,\\rho\\,\\vartheta+2\\,\\left(\\frac{d}{d\\,T}\\,\\rho\\right)}\\]"
      ],
      "text/plain": [
       "                 2    2      2       2    2 drho           2    2  drho 2   2\n",
       "(%o157) (sqrt((cp  rho  theta  - 2 cp  rho  ---- theta + cp  rho  (----) ) u\n",
       "                                             dp                     dp\n",
       "       2    2                  drho                           drho     drho\n",
       " + 4 cp  rho  theta + 4 cp rho ----) + (cp rho theta + cp rho ---- + 2 ----) u)\n",
       "                                dT                             dp       dT\n",
       "                     drho\n",
       "/(2 cp rho theta + 2 ----)\n",
       "                      dT"
      ],
      "text/x-maxima": [
       "(sqrt((cp^2*rho^2*theta^2-2*cp^2*rho^2*'diff(rho,p,1)*theta\n",
       "                         +cp^2*rho^2*('diff(rho,p,1))^2)\n",
       "       *u^2\n",
       "       +4*cp^2*rho^2*theta+4*cp*rho*'diff(rho,T,1))\n",
       " +(cp*rho*theta+cp*rho*'diff(rho,p,1)+2*'diff(rho,T,1))*u)\n",
       " /(2*cp*rho*theta+2*'diff(rho,T,1))"
      ]
     },
     "execution_count": 100,
     "metadata": {},
     "output_type": "execute_result"
    }
   ],
   "source": [
    "l2 : lambdas[1][2];"
   ]
  },
  {
   "cell_type": "code",
   "execution_count": 101,
   "metadata": {},
   "outputs": [
    {
     "data": {
      "text/latex": [
       "\\[\\tag{${\\it \\%o}_{158}$}-\\frac{\\sqrt{\\left({\\it cp}^2\\,\\rho^2\\,\\vartheta^2-2\\,{\\it cp}^2\\,\\rho^2\\,\\left(\\frac{d}{d\\,p}\\,\\rho\\right)\\,\\vartheta+{\\it cp}^2\\,\\rho^2\\,\\left(\\frac{d}{d\\,p}\\,\\rho\\right)^2\\right)\\,u^2+4\\,{\\it cp}^2\\,\\rho^2\\,\\vartheta+4\\,{\\it cp}\\,\\rho\\,\\left(\\frac{d}{d\\,T}\\,\\rho\\right)}}{2\\,{\\it cp}\\,\\rho\\,\\vartheta+2\\,\\left(\\frac{d}{d\\,T}\\,\\rho\\right)}+\\frac{{\\it cp}\\,\\rho\\,\\vartheta\\,u}{2\\,{\\it cp}\\,\\rho\\,\\vartheta+2\\,\\left(\\frac{d}{d\\,T}\\,\\rho\\right)}+\\frac{{\\it cp}\\,\\rho\\,\\left(\\frac{d}{d\\,p}\\,\\rho\\right)\\,u}{2\\,{\\it cp}\\,\\rho\\,\\vartheta+2\\,\\left(\\frac{d}{d\\,T}\\,\\rho\\right)}+\\frac{\\frac{d}{d\\,T}\\,\\rho\\,u}{{\\it cp}\\,\\rho\\,\\vartheta+\\frac{d}{d\\,T}\\,\\rho}\\]"
      ],
      "text/plain": [
       "                   2    2      2       2    2 drho           2    2  drho 2   2\n",
       "(%o158) (- sqrt((cp  rho  theta  - 2 cp  rho  ---- theta + cp  rho  (----) ) u\n",
       "                                               dp                     dp\n",
       "       2    2                  drho                      drho\n",
       " + 4 cp  rho  theta + 4 cp rho ----)/(2 cp rho theta + 2 ----))\n",
       "                                dT                        dT\n",
       "                                         drho                drho\n",
       "                                  cp rho ---- u              ---- u\n",
       "       cp rho theta u                     dp                  dT\n",
       " + ----------------------- + ----------------------- + -------------------\n",
       "                      drho                      drho                  drho\n",
       "   2 cp rho theta + 2 ----   2 cp rho theta + 2 ----   cp rho theta + ----\n",
       "                       dT                        dT                    dT"
      ],
      "text/x-maxima": [
       "(-sqrt((cp^2*rho^2*theta^2-2*cp^2*rho^2*'diff(rho,p,1)*theta\n",
       "                          +cp^2*rho^2*('diff(rho,p,1))^2)\n",
       "        *u^2\n",
       "        +4*cp^2*rho^2*theta+4*cp*rho*'diff(rho,T,1))\n",
       " /(2*cp*rho*theta+2*'diff(rho,T,1)))\n",
       " +(cp*rho*theta*u)/(2*cp*rho*theta+2*'diff(rho,T,1))\n",
       " +(cp*rho*'diff(rho,p,1)*u)/(2*cp*rho*theta+2*'diff(rho,T,1))\n",
       " +('diff(rho,T,1)*u)/(cp*rho*theta+'diff(rho,T,1))"
      ]
     },
     "execution_count": 101,
     "metadata": {},
     "output_type": "execute_result"
    }
   ],
   "source": [
    "ratexpand(l1);"
   ]
  },
  {
   "cell_type": "code",
   "execution_count": 102,
   "metadata": {},
   "outputs": [
    {
     "data": {
      "text/latex": [
       "\\[\\tag{${\\it \\%o}_{159}$}-\\frac{\\sqrt{\\left({\\it cp}^2\\,\\rho^2\\,\\left(\\frac{d}{d\\,p}\\,\\rho\\right)^2+2\\,{\\it cp}\\,\\rho\\,\\left(\\frac{d}{d\\,T}\\,\\rho\\right)\\,\\left(\\frac{d}{d\\,p}\\,\\rho\\right)+\\left(\\frac{d}{d\\,T}\\,\\rho\\right)^2\\right)\\,u^2\\,{\\it ur}^4+\\left(\\left(-2\\,{\\it cp}^2\\,\\rho^2\\,\\left(\\frac{d}{d\\,p}\\,\\rho\\right)-2\\,{\\it cp}\\,\\rho\\,\\left(\\frac{d}{d\\,T}\\,\\rho\\right)\\right)\\,u^2+4\\,{\\it cp}^2\\,\\rho^2\\right)\\,{\\it ur}^2+{\\it cp}^2\\,\\rho^2\\,u^2}}{2\\,{\\it cp}\\,\\rho}+\\frac{\\frac{d}{d\\,p}\\,\\rho\\,u\\,{\\it ur}^2}{2}+\\frac{\\frac{d}{d\\,T}\\,\\rho\\,u\\,{\\it ur}^2}{2\\,{\\it cp}\\,\\rho}+\\frac{u}{2}\\]"
      ],
      "text/plain": [
       "                   2    2  drho 2            drho drho    drho 2   2   4\n",
       "(%o159) (- sqrt((cp  rho  (----)  + 2 cp rho ---- ---- + (----) ) u  ur\n",
       "                            dp                dT   dp      dT\n",
       "            2    2 drho             drho   2       2    2    2     2    2  2\n",
       " + (((- 2 cp  rho  ----) - 2 cp rho ----) u  + 4 cp  rho ) ur  + cp  rho  u )\n",
       "                    dp               dT\n",
       "               drho     2   drho     2\n",
       "               ---- u ur    ---- u ur\n",
       "                dp           dT          u\n",
       "/(2 cp rho)) + ---------- + ---------- + -\n",
       "                   2         2 cp rho    2"
      ],
      "text/x-maxima": [
       "(-sqrt((cp^2*rho^2*('diff(rho,p,1))^2+2*cp*rho*'diff(rho,T,1)*'diff(rho,p,1)\n",
       "                                     +('diff(rho,T,1))^2)\n",
       "        *u^2*ur^4\n",
       "        +(((-2*cp^2*rho^2*'diff(rho,p,1))-2*cp*rho*'diff(rho,T,1))*u^2\n",
       "         +4*cp^2*rho^2)\n",
       "         *ur^2+cp^2*rho^2*u^2)\n",
       " /(2*cp*rho))\n",
       " +('diff(rho,p,1)*u*ur^2)/2+('diff(rho,T,1)*u*ur^2)/(2*cp*rho)+u/2"
      ]
     },
     "execution_count": 102,
     "metadata": {},
     "output_type": "execute_result"
    }
   ],
   "source": [
    "l1_1 : ratexpand(ratsimp(subst(theta=1/ur^2 - diff(rho,T)/(rho*cp),l1)));"
   ]
  },
  {
   "cell_type": "code",
   "execution_count": 103,
   "metadata": {},
   "outputs": [
    {
     "data": {
      "text/latex": [
       "\\[\\tag{${\\it \\%o}_{160}$}\\frac{\\sqrt{\\left({\\it cp}^2\\,\\rho^2\\,\\left(\\frac{d}{d\\,p}\\,\\rho\\right)^2+2\\,{\\it cp}\\,\\rho\\,\\left(\\frac{d}{d\\,T}\\,\\rho\\right)\\,\\left(\\frac{d}{d\\,p}\\,\\rho\\right)+\\left(\\frac{d}{d\\,T}\\,\\rho\\right)^2\\right)\\,u^2\\,{\\it ur}^4+\\left(\\left(-2\\,{\\it cp}^2\\,\\rho^2\\,\\left(\\frac{d}{d\\,p}\\,\\rho\\right)-2\\,{\\it cp}\\,\\rho\\,\\left(\\frac{d}{d\\,T}\\,\\rho\\right)\\right)\\,u^2+4\\,{\\it cp}^2\\,\\rho^2\\right)\\,{\\it ur}^2+{\\it cp}^2\\,\\rho^2\\,u^2}}{2\\,{\\it cp}\\,\\rho}+\\frac{\\frac{d}{d\\,p}\\,\\rho\\,u\\,{\\it ur}^2}{2}+\\frac{\\frac{d}{d\\,T}\\,\\rho\\,u\\,{\\it ur}^2}{2\\,{\\it cp}\\,\\rho}+\\frac{u}{2}\\]"
      ],
      "text/plain": [
       "                2    2  drho 2            drho drho    drho 2   2   4\n",
       "(%o160) sqrt((cp  rho  (----)  + 2 cp rho ---- ---- + (----) ) u  ur\n",
       "                         dp                dT   dp      dT\n",
       "            2    2 drho             drho   2       2    2    2     2    2  2\n",
       " + (((- 2 cp  rho  ----) - 2 cp rho ----) u  + 4 cp  rho ) ur  + cp  rho  u )\n",
       "                    dp               dT\n",
       "              drho     2   drho     2\n",
       "              ---- u ur    ---- u ur\n",
       "               dp           dT          u\n",
       "/(2 cp rho) + ---------- + ---------- + -\n",
       "                  2         2 cp rho    2"
      ],
      "text/x-maxima": [
       "sqrt((cp^2*rho^2*('diff(rho,p,1))^2+2*cp*rho*'diff(rho,T,1)*'diff(rho,p,1)\n",
       "                                   +('diff(rho,T,1))^2)\n",
       "      *u^2*ur^4\n",
       "      +(((-2*cp^2*rho^2*'diff(rho,p,1))-2*cp*rho*'diff(rho,T,1))*u^2\n",
       "       +4*cp^2*rho^2)\n",
       "       *ur^2+cp^2*rho^2*u^2)\n",
       " /(2*cp*rho)\n",
       " +('diff(rho,p,1)*u*ur^2)/2+('diff(rho,T,1)*u*ur^2)/(2*cp*rho)+u/2"
      ]
     },
     "execution_count": 103,
     "metadata": {},
     "output_type": "execute_result"
    }
   ],
   "source": [
    "l2_1 : ratexpand(ratsimp(subst(theta=1/ur^2 - diff(rho,T)/(rho*cp),l2)));"
   ]
  },
  {
   "cell_type": "code",
   "execution_count": null,
   "metadata": {},
   "outputs": [],
   "source": []
  },
  {
   "cell_type": "code",
   "execution_count": 104,
   "metadata": {},
   "outputs": [
    {
     "data": {
      "text/latex": [
       "\\[\\tag{${\\it \\%o}_{161}$}\\frac{d}{d\\,p}\\,\\rho+\\frac{\\frac{d}{d\\,T}\\,\\rho}{{\\it cp}\\,\\rho}\\]"
      ],
      "text/plain": [
       "                                         drho\n",
       "                                         ----\n",
       "                                 drho     dT\n",
       "(%o161)                          ---- + ------\n",
       "                                  dp    cp rho"
      ],
      "text/x-maxima": [
       "'diff(rho,p,1)+'diff(rho,T,1)/(cp*rho)"
      ]
     },
     "execution_count": 104,
     "metadata": {},
     "output_type": "execute_result"
    },
    {
     "data": {
      "text/latex": [
       "\\[\\tag{${\\it \\%o}_{162}$}\\frac{1-\\left(\\frac{d}{d\\,p}\\,\\rho+\\frac{\\frac{d}{d\\,T}\\,\\rho}{{\\it cp}\\,\\rho}\\right)\\,{\\it ur}^2}{2}\\]"
      ],
      "text/plain": [
       "                                         drho\n",
       "                                         ----\n",
       "                                 drho     dT      2\n",
       "                            1 - (---- + ------) ur\n",
       "                                  dp    cp rho\n",
       "(%o162)                     -----------------------\n",
       "                                       2"
      ],
      "text/x-maxima": [
       "(1-('diff(rho,p,1)+'diff(rho,T,1)/(cp*rho))*ur^2)/2"
      ]
     },
     "execution_count": 104,
     "metadata": {},
     "output_type": "execute_result"
    },
    {
     "data": {
      "text/latex": [
       "\\[\\tag{${\\it \\%o}_{163}$}u\\,\\left(1-\\frac{1-\\left(\\frac{d}{d\\,p}\\,\\rho+\\frac{\\frac{d}{d\\,T}\\,\\rho}{{\\it cp}\\,\\rho}\\right)\\,{\\it ur}^2}{2}\\right)\\]"
      ],
      "text/plain": [
       "                                            drho\n",
       "                                            ----\n",
       "                                    drho     dT      2\n",
       "                               1 - (---- + ------) ur\n",
       "                                     dp    cp rho\n",
       "(%o163)                 u (1 - -----------------------)\n",
       "                                          2"
      ],
      "text/x-maxima": [
       "u*(1-(1-('diff(rho,p,1)+'diff(rho,T,1)/(cp*rho))*ur^2)/2)"
      ]
     },
     "execution_count": 104,
     "metadata": {},
     "output_type": "execute_result"
    },
    {
     "data": {
      "text/latex": [
       "\\[\\tag{${\\it \\%o}_{164}$}\\frac{\\left({\\it cp}\\,\\rho\\,\\left(\\frac{d}{d\\,p}\\,\\rho\\right)+\\frac{d}{d\\,T}\\,\\rho\\right)\\,u\\,{\\it ur}^2+{\\it cp}\\,\\rho\\,u}{2\\,{\\it cp}\\,\\rho}\\]"
      ],
      "text/plain": [
       "                             drho   drho      2\n",
       "                     (cp rho ---- + ----) u ur  + cp rho u\n",
       "                              dp     dT\n",
       "(%o164)              -------------------------------------\n",
       "                                   2 cp rho"
      ],
      "text/x-maxima": [
       "((cp*rho*'diff(rho,p,1)+'diff(rho,T,1))*u*ur^2+cp*rho*u)/(2*cp*rho)"
      ]
     },
     "execution_count": 104,
     "metadata": {},
     "output_type": "execute_result"
    },
    {
     "data": {
      "text/latex": [
       "\\[\\tag{${\\it \\%o}_{165}$}\\frac{\\frac{d}{d\\,p}\\,\\rho\\,u\\,{\\it ur}^2}{2}+\\frac{\\frac{d}{d\\,T}\\,\\rho\\,u\\,{\\it ur}^2}{2\\,{\\it cp}\\,\\rho}+\\frac{u}{2}\\]"
      ],
      "text/plain": [
       "                          drho     2   drho     2\n",
       "                          ---- u ur    ---- u ur\n",
       "                           dp           dT          u\n",
       "(%o165)                   ---------- + ---------- + -\n",
       "                              2         2 cp rho    2"
      ],
      "text/x-maxima": [
       "('diff(rho,p,1)*u*ur^2)/2+('diff(rho,T,1)*u*ur^2)/(2*cp*rho)+u/2"
      ]
     },
     "execution_count": 104,
     "metadata": {},
     "output_type": "execute_result"
    }
   ],
   "source": [
    "beta : diff(rho,p)+diff(rho,T)/(rho*cp);\n",
    "\n",
    "alpha : (1-beta*ur^2)/2;\n",
    "\n",
    "up : u*(1-alpha);\n",
    "ratsimp(up);\n",
    "ratexpand(ratsimp(up));"
   ]
  },
  {
   "cell_type": "code",
   "execution_count": 105,
   "metadata": {},
   "outputs": [
    {
     "data": {
      "text/latex": [
       "\\[\\tag{${\\it \\%o}_{166}$}\\frac{\\left(\\frac{d}{d\\,p}\\,\\rho-{\\it betap}\\right)\\,\\sqrt{{\\it betap}^2\\,\\left(\\frac{d}{d\\,T}\\,\\rho\\right)^2\\,u^2\\,{\\it ur}^4+\\left(4\\,\\left(\\frac{d}{d\\,T}\\,\\rho\\right)^2-2\\,{\\it betap}\\,\\left(\\frac{d}{d\\,T}\\,\\rho\\right)^2\\,u^2\\right)\\,{\\it ur}^2+\\left(\\frac{d}{d\\,T}\\,\\rho\\right)^2\\,u^2}+\\sqrt{\\left(\\frac{d}{d\\,p}\\,\\rho\\right)^2-2\\,{\\it betap}\\,\\left(\\frac{d}{d\\,p}\\,\\rho\\right)+{\\it betap}^2}\\,\\left({\\it betap}\\,\\left(\\frac{d}{d\\,T}\\,\\rho\\right)\\,u\\,{\\it ur}^2+\\frac{d}{d\\,T}\\,\\rho\\,u\\right)}{2\\,\\left(\\frac{d}{d\\,T}\\,\\rho\\right)\\,\\sqrt{\\left(\\frac{d}{d\\,p}\\,\\rho\\right)^2-2\\,{\\it betap}\\,\\left(\\frac{d}{d\\,p}\\,\\rho\\right)+{\\it betap}^2}}\\]"
      ],
      "text/plain": [
       "          drho                    2  drho 2  2   4\n",
       "(%o166) ((---- - betap) sqrt(betap  (----)  u  ur\n",
       "           dp                         dT\n",
       "       drho 2            drho 2  2    2    drho 2  2\n",
       " + (4 (----)  - 2 betap (----)  u ) ur  + (----)  u )\n",
       "        dT                dT                dT\n",
       "         drho 2           drho        2         drho     2   drho\n",
       " + sqrt((----)  - 2 betap ---- + betap ) (betap ---- u ur  + ---- u))\n",
       "          dp               dp                    dT           dT\n",
       "    drho       drho 2           drho        2\n",
       "/(2 ---- sqrt((----)  - 2 betap ---- + betap ))\n",
       "     dT         dp               dp"
      ],
      "text/x-maxima": [
       "(('diff(rho,p,1)-betap)*sqrt(betap^2*('diff(rho,T,1))^2*u^2*ur^4\n",
       "                              +(4*('diff(rho,T,1))^2\n",
       "                               -2*betap*('diff(rho,T,1))^2*u^2)\n",
       "                               *ur^2+('diff(rho,T,1))^2*u^2)\n",
       " +sqrt(('diff(rho,p,1))^2-2*betap*'diff(rho,p,1)+betap^2)\n",
       "  *(betap*'diff(rho,T,1)*u*ur^2+'diff(rho,T,1)*u))\n",
       " /(2*'diff(rho,T,1)*sqrt(('diff(rho,p,1))^2-2*betap*'diff(rho,p,1)+betap^2))"
      ]
     },
     "execution_count": 105,
     "metadata": {},
     "output_type": "execute_result"
    },
    {
     "data": {
      "text/latex": [
       "\\[\\tag{${\\it \\%o}_{167}$}\\frac{\\frac{d}{d\\,p}\\,\\rho\\,{\\it ur}^2\\,\\sqrt{4\\,\\left(\\frac{d}{d\\,T}\\,\\rho\\right)^2\\,{\\it ur}^2+4\\,{\\it alphap}^2\\,\\left(\\frac{d}{d\\,T}\\,\\rho\\right)^2\\,u^2}}{2\\,\\left(\\frac{d}{d\\,T}\\,\\rho\\right)\\,\\sqrt{\\left(\\frac{d}{d\\,p}\\,\\rho\\right)^2\\,{\\it ur}^4+\\left(4\\,{\\it alphap}-2\\right)\\,\\left(\\frac{d}{d\\,p}\\,\\rho\\right)\\,{\\it ur}^2+4\\,{\\it alphap}^2-4\\,{\\it alphap}+1}}+\\frac{{\\it alphap}\\,\\sqrt{4\\,\\left(\\frac{d}{d\\,T}\\,\\rho\\right)^2\\,{\\it ur}^2+4\\,{\\it alphap}^2\\,\\left(\\frac{d}{d\\,T}\\,\\rho\\right)^2\\,u^2}}{\\frac{d}{d\\,T}\\,\\rho\\,\\sqrt{\\left(\\frac{d}{d\\,p}\\,\\rho\\right)^2\\,{\\it ur}^4+\\left(4\\,{\\it alphap}-2\\right)\\,\\left(\\frac{d}{d\\,p}\\,\\rho\\right)\\,{\\it ur}^2+4\\,{\\it alphap}^2-4\\,{\\it alphap}+1}}-\\frac{\\sqrt{4\\,\\left(\\frac{d}{d\\,T}\\,\\rho\\right)^2\\,{\\it ur}^2+4\\,{\\it alphap}^2\\,\\left(\\frac{d}{d\\,T}\\,\\rho\\right)^2\\,u^2}}{2\\,\\left(\\frac{d}{d\\,T}\\,\\rho\\right)\\,\\sqrt{\\left(\\frac{d}{d\\,p}\\,\\rho\\right)^2\\,{\\it ur}^4+\\left(4\\,{\\it alphap}-2\\right)\\,\\left(\\frac{d}{d\\,p}\\,\\rho\\right)\\,{\\it ur}^2+4\\,{\\it alphap}^2-4\\,{\\it alphap}+1}}-{\\it alphap}\\,u+u\\]"
      ],
      "text/plain": [
       "(%o167) \n",
       "             drho   2         drho 2   2           2  drho 2  2\n",
       "             ---- ur  sqrt(4 (----)  ur  + 4 alphap  (----)  u )\n",
       "              dp               dT                      dT\n",
       "-----------------------------------------------------------------------------\n",
       "  drho       drho 2   4                  drho   2           2\n",
       "2 ---- sqrt((----)  ur  + (4 alphap - 2) ---- ur  + 4 alphap  - 4 alphap + 1)\n",
       "   dT         dp                          dp\n",
       "                               drho 2   2           2  drho 2  2\n",
       "                alphap sqrt(4 (----)  ur  + 4 alphap  (----)  u )\n",
       "                                dT                      dT\n",
       " + ---------------------------------------------------------------------------\n",
       "   drho       drho 2   4                  drho   2           2\n",
       "   ---- sqrt((----)  ur  + (4 alphap - 2) ---- ur  + 4 alphap  - 4 alphap + 1)\n",
       "    dT         dp                          dp\n",
       "           drho 2   2           2  drho 2  2\n",
       " - sqrt(4 (----)  ur  + 4 alphap  (----)  u )\n",
       "            dT                      dT\n",
       "    drho       drho 2   4                  drho   2           2\n",
       "/(2 ---- sqrt((----)  ur  + (4 alphap - 2) ---- ur  + 4 alphap  - 4 alphap\n",
       "     dT         dp                          dp\n",
       " + 1)) - alphap u + u"
      ],
      "text/x-maxima": [
       "('diff(rho,p,1)*ur^2\n",
       "               *sqrt(4*('diff(rho,T,1))^2*ur^2\n",
       "                      +4*alphap^2*('diff(rho,T,1))^2*u^2))\n",
       " /(2*'diff(rho,T,1)\n",
       "    *sqrt(('diff(rho,p,1))^2*ur^4+(4*alphap-2)*'diff(rho,p,1)*ur^2+4*alphap^2\n",
       "                                 -4*alphap+1))\n",
       " +(alphap*sqrt(4*('diff(rho,T,1))^2*ur^2+4*alphap^2*('diff(rho,T,1))^2*u^2))\n",
       "  /('diff(rho,T,1)*sqrt(('diff(rho,p,1))^2*ur^4\n",
       "                         +(4*alphap-2)*'diff(rho,p,1)*ur^2+4*alphap^2-4*alphap\n",
       "                         +1))\n",
       " -sqrt(4*('diff(rho,T,1))^2*ur^2+4*alphap^2*('diff(rho,T,1))^2*u^2)\n",
       "  /(2*'diff(rho,T,1)\n",
       "     *sqrt(('diff(rho,p,1))^2*ur^4+(4*alphap-2)*'diff(rho,p,1)*ur^2+4*alphap^2\n",
       "                                  -4*alphap+1))-alphap*u+u"
      ]
     },
     "execution_count": 105,
     "metadata": {},
     "output_type": "execute_result"
    }
   ],
   "source": [
    "l1_2 : ratsimp(subst(cp = diff(rho,T)/(rho*(betap-diff(rho,p))),l1_1));\n",
    "l1_3 : ratexpand(ratsimp(subst(betap=(1-2*alphap)/ur^2,l1_2)));"
   ]
  },
  {
   "cell_type": "code",
   "execution_count": 106,
   "metadata": {},
   "outputs": [
    {
     "data": {
      "text/latex": [
       "\\[\\tag{${\\it \\%o}_{168}$}-\\frac{\\left(\\frac{d}{d\\,p}\\,\\rho-{\\it betap}\\right)\\,\\sqrt{{\\it betap}^2\\,\\left(\\frac{d}{d\\,T}\\,\\rho\\right)^2\\,u^2\\,{\\it ur}^4+\\left(4\\,\\left(\\frac{d}{d\\,T}\\,\\rho\\right)^2-2\\,{\\it betap}\\,\\left(\\frac{d}{d\\,T}\\,\\rho\\right)^2\\,u^2\\right)\\,{\\it ur}^2+\\left(\\frac{d}{d\\,T}\\,\\rho\\right)^2\\,u^2}+\\sqrt{\\left(\\frac{d}{d\\,p}\\,\\rho\\right)^2-2\\,{\\it betap}\\,\\left(\\frac{d}{d\\,p}\\,\\rho\\right)+{\\it betap}^2}\\,\\left(-{\\it betap}\\,\\left(\\frac{d}{d\\,T}\\,\\rho\\right)\\,u\\,{\\it ur}^2-\\frac{d}{d\\,T}\\,\\rho\\,u\\right)}{2\\,\\left(\\frac{d}{d\\,T}\\,\\rho\\right)\\,\\sqrt{\\left(\\frac{d}{d\\,p}\\,\\rho\\right)^2-2\\,{\\it betap}\\,\\left(\\frac{d}{d\\,p}\\,\\rho\\right)+{\\it betap}^2}}\\]"
      ],
      "text/plain": [
       "            drho                    2  drho 2  2   4\n",
       "(%o168) - ((---- - betap) sqrt(betap  (----)  u  ur\n",
       "             dp                         dT\n",
       "       drho 2            drho 2  2    2    drho 2  2\n",
       " + (4 (----)  - 2 betap (----)  u ) ur  + (----)  u )\n",
       "        dT                dT                dT\n",
       "         drho 2           drho        2            drho     2    drho\n",
       " + sqrt((----)  - 2 betap ---- + betap ) ((- betap ---- u ur ) - ---- u))\n",
       "          dp               dp                       dT            dT\n",
       "    drho       drho 2           drho        2\n",
       "/(2 ---- sqrt((----)  - 2 betap ---- + betap ))\n",
       "     dT         dp               dp"
      ],
      "text/x-maxima": [
       "-(('diff(rho,p,1)-betap)*sqrt(betap^2*('diff(rho,T,1))^2*u^2*ur^4\n",
       "                               +(4*('diff(rho,T,1))^2\n",
       "                                -2*betap*('diff(rho,T,1))^2*u^2)\n",
       "                                *ur^2+('diff(rho,T,1))^2*u^2)\n",
       " +sqrt(('diff(rho,p,1))^2-2*betap*'diff(rho,p,1)+betap^2)\n",
       "  *((-betap*'diff(rho,T,1)*u*ur^2)-'diff(rho,T,1)*u))\n",
       " /(2*'diff(rho,T,1)*sqrt(('diff(rho,p,1))^2-2*betap*'diff(rho,p,1)+betap^2))"
      ]
     },
     "execution_count": 106,
     "metadata": {},
     "output_type": "execute_result"
    },
    {
     "data": {
      "text/latex": [
       "\\[\\tag{${\\it \\%o}_{169}$}-\\frac{\\frac{d}{d\\,p}\\,\\rho\\,{\\it ur}^2\\,\\sqrt{4\\,\\left(\\frac{d}{d\\,T}\\,\\rho\\right)^2\\,{\\it ur}^2+4\\,{\\it alphap}^2\\,\\left(\\frac{d}{d\\,T}\\,\\rho\\right)^2\\,u^2}}{2\\,\\left(\\frac{d}{d\\,T}\\,\\rho\\right)\\,\\sqrt{\\left(\\frac{d}{d\\,p}\\,\\rho\\right)^2\\,{\\it ur}^4+\\left(4\\,{\\it alphap}-2\\right)\\,\\left(\\frac{d}{d\\,p}\\,\\rho\\right)\\,{\\it ur}^2+4\\,{\\it alphap}^2-4\\,{\\it alphap}+1}}-\\frac{{\\it alphap}\\,\\sqrt{4\\,\\left(\\frac{d}{d\\,T}\\,\\rho\\right)^2\\,{\\it ur}^2+4\\,{\\it alphap}^2\\,\\left(\\frac{d}{d\\,T}\\,\\rho\\right)^2\\,u^2}}{\\frac{d}{d\\,T}\\,\\rho\\,\\sqrt{\\left(\\frac{d}{d\\,p}\\,\\rho\\right)^2\\,{\\it ur}^4+\\left(4\\,{\\it alphap}-2\\right)\\,\\left(\\frac{d}{d\\,p}\\,\\rho\\right)\\,{\\it ur}^2+4\\,{\\it alphap}^2-4\\,{\\it alphap}+1}}+\\frac{\\sqrt{4\\,\\left(\\frac{d}{d\\,T}\\,\\rho\\right)^2\\,{\\it ur}^2+4\\,{\\it alphap}^2\\,\\left(\\frac{d}{d\\,T}\\,\\rho\\right)^2\\,u^2}}{2\\,\\left(\\frac{d}{d\\,T}\\,\\rho\\right)\\,\\sqrt{\\left(\\frac{d}{d\\,p}\\,\\rho\\right)^2\\,{\\it ur}^4+\\left(4\\,{\\it alphap}-2\\right)\\,\\left(\\frac{d}{d\\,p}\\,\\rho\\right)\\,{\\it ur}^2+4\\,{\\it alphap}^2-4\\,{\\it alphap}+1}}-{\\it alphap}\\,u+u\\]"
      ],
      "text/plain": [
       "            drho   2         drho 2   2           2  drho 2  2\n",
       "(%o169) (- (---- ur  sqrt(4 (----)  ur  + 4 alphap  (----)  u ))\n",
       "             dp               dT                      dT\n",
       "    drho       drho 2   4                  drho   2           2\n",
       "/(2 ---- sqrt((----)  ur  + (4 alphap - 2) ---- ur  + 4 alphap  - 4 alphap\n",
       "     dT         dp                          dp\n",
       " + 1)))\n",
       "                               drho 2   2           2  drho 2  2\n",
       "                alphap sqrt(4 (----)  ur  + 4 alphap  (----)  u )\n",
       "                                dT                      dT\n",
       " - ---------------------------------------------------------------------------\n",
       "   drho       drho 2   4                  drho   2           2\n",
       "   ---- sqrt((----)  ur  + (4 alphap - 2) ---- ur  + 4 alphap  - 4 alphap + 1)\n",
       "    dT         dp                          dp\n",
       "           drho 2   2           2  drho 2  2\n",
       " + sqrt(4 (----)  ur  + 4 alphap  (----)  u )\n",
       "            dT                      dT\n",
       "    drho       drho 2   4                  drho   2           2\n",
       "/(2 ---- sqrt((----)  ur  + (4 alphap - 2) ---- ur  + 4 alphap  - 4 alphap\n",
       "     dT         dp                          dp\n",
       " + 1)) - alphap u + u"
      ],
      "text/x-maxima": [
       "(-('diff(rho,p,1)*ur^2\n",
       "                 *sqrt(4*('diff(rho,T,1))^2*ur^2\n",
       "                        +4*alphap^2*('diff(rho,T,1))^2*u^2))\n",
       " /(2*'diff(rho,T,1)\n",
       "    *sqrt(('diff(rho,p,1))^2*ur^4+(4*alphap-2)*'diff(rho,p,1)*ur^2+4*alphap^2\n",
       "                                 -4*alphap+1)))\n",
       " -(alphap*sqrt(4*('diff(rho,T,1))^2*ur^2+4*alphap^2*('diff(rho,T,1))^2*u^2))\n",
       "  /('diff(rho,T,1)*sqrt(('diff(rho,p,1))^2*ur^4\n",
       "                         +(4*alphap-2)*'diff(rho,p,1)*ur^2+4*alphap^2-4*alphap\n",
       "                         +1))\n",
       " +sqrt(4*('diff(rho,T,1))^2*ur^2+4*alphap^2*('diff(rho,T,1))^2*u^2)\n",
       "  /(2*'diff(rho,T,1)\n",
       "     *sqrt(('diff(rho,p,1))^2*ur^4+(4*alphap-2)*'diff(rho,p,1)*ur^2+4*alphap^2\n",
       "                                  -4*alphap+1))-alphap*u+u"
      ]
     },
     "execution_count": 106,
     "metadata": {},
     "output_type": "execute_result"
    }
   ],
   "source": [
    "l2_2 : ratsimp(subst(cp = diff(rho,T)/(rho*(betap-diff(rho,p))),l2_1));\n",
    "l2_3 : ratexpand(ratsimp(subst(betap=(1-2*alphap)/ur^2,l2_2)));"
   ]
  },
  {
   "cell_type": "markdown",
   "metadata": {},
   "source": [
    "### We see that the part that does not involve the root is simply $u(1-\\alpha)$. We remove it from the expression to further simplify the root."
   ]
  },
  {
   "cell_type": "code",
   "execution_count": 107,
   "metadata": {},
   "outputs": [
    {
     "data": {
      "text/latex": [
       "\\[\\tag{${\\it \\%o}_{170}$}\\frac{\\left(\\frac{d}{d\\,p}\\,\\rho\\,{\\it ur}^2+2\\,{\\it alphap}-1\\right)\\,\\sqrt{\\frac{4\\,\\left(\\frac{d}{d\\,T}\\,\\rho\\right)^2\\,{\\it ur}^2+4\\,{\\it alphap}^2\\,\\left(\\frac{d}{d\\,T}\\,\\rho\\right)^2\\,u^2}{\\left(\\frac{d}{d\\,p}\\,\\rho\\right)^2\\,{\\it ur}^4+\\left(4\\,{\\it alphap}-2\\right)\\,\\left(\\frac{d}{d\\,p}\\,\\rho\\right)\\,{\\it ur}^2+4\\,{\\it alphap}^2-4\\,{\\it alphap}+1}}}{2\\,\\left(\\frac{d}{d\\,T}\\,\\rho\\right)}\\]"
      ],
      "text/plain": [
       "          drho   2\n",
       "(%o170) ((---- ur  + 2 alphap - 1)\n",
       "           dp\n",
       "                       drho 2   2           2  drho 2  2\n",
       "                    4 (----)  ur  + 4 alphap  (----)  u\n",
       "                        dT                      dT\n",
       " sqrt(----------------------------------------------------------------))\n",
       "       drho 2   4                  drho   2           2\n",
       "      (----)  ur  + (4 alphap - 2) ---- ur  + 4 alphap  - 4 alphap + 1\n",
       "        dp                          dp\n",
       "    drho\n",
       "/(2 ----)\n",
       "     dT"
      ],
      "text/x-maxima": [
       "(('diff(rho,p,1)*ur^2+2*alphap-1)*sqrt((4*('diff(rho,T,1))^2*ur^2\n",
       "                                        +4*alphap^2*('diff(rho,T,1))^2*u^2)\n",
       "                                        /(('diff(rho,p,1))^2*ur^4\n",
       "                                         +(4*alphap-2)*'diff(rho,p,1)*ur^2\n",
       "                                         +4*alphap^2-4*alphap+1)))\n",
       " /(2*'diff(rho,T,1))"
      ]
     },
     "execution_count": 107,
     "metadata": {},
     "output_type": "execute_result"
    }
   ],
   "source": [
    "l1_4 : rootscontract(ratsimp(l1_3 +alphap*u-u));"
   ]
  },
  {
   "cell_type": "code",
   "execution_count": 109,
   "metadata": {},
   "outputs": [
    {
     "data": {
      "text/latex": [
       "\\[\\tag{${\\it \\%o}_{172}$}-\\frac{\\left(\\frac{d}{d\\,p}\\,\\rho\\,{\\it ur}^2+2\\,{\\it alphap}-1\\right)\\,\\sqrt{\\frac{4\\,\\left(\\frac{d}{d\\,T}\\,\\rho\\right)^2\\,{\\it ur}^2+4\\,{\\it alphap}^2\\,\\left(\\frac{d}{d\\,T}\\,\\rho\\right)^2\\,u^2}{\\left(\\frac{d}{d\\,p}\\,\\rho\\right)^2\\,{\\it ur}^4+\\left(4\\,{\\it alphap}-2\\right)\\,\\left(\\frac{d}{d\\,p}\\,\\rho\\right)\\,{\\it ur}^2+4\\,{\\it alphap}^2-4\\,{\\it alphap}+1}}}{2\\,\\left(\\frac{d}{d\\,T}\\,\\rho\\right)}\\]"
      ],
      "text/plain": [
       "            drho   2\n",
       "(%o172) - ((---- ur  + 2 alphap - 1)\n",
       "             dp\n",
       "                       drho 2   2           2  drho 2  2\n",
       "                    4 (----)  ur  + 4 alphap  (----)  u\n",
       "                        dT                      dT\n",
       " sqrt(----------------------------------------------------------------))\n",
       "       drho 2   4                  drho   2           2\n",
       "      (----)  ur  + (4 alphap - 2) ---- ur  + 4 alphap  - 4 alphap + 1\n",
       "        dp                          dp\n",
       "    drho\n",
       "/(2 ----)\n",
       "     dT"
      ],
      "text/x-maxima": [
       "-(('diff(rho,p,1)*ur^2+2*alphap-1)*sqrt(\n",
       "                                   (4*('diff(rho,T,1))^2*ur^2\n",
       "                                    +4*alphap^2*('diff(rho,T,1))^2*u^2)\n",
       "                                    /(('diff(rho,p,1))^2*ur^4\n",
       "                                     +(4*alphap-2)*'diff(rho,p,1)*ur^2\n",
       "                                     +4*alphap^2-4*alphap+1)))\n",
       " /(2*'diff(rho,T,1))"
      ]
     },
     "execution_count": 109,
     "metadata": {},
     "output_type": "execute_result"
    }
   ],
   "source": [
    "l2_4 : rootscontract(ratsimp(l2_3 +alphap*u-u));"
   ]
  },
  {
   "cell_type": "markdown",
   "metadata": {},
   "source": [
    "### multiply to get rid of the root, this will make simplification easier"
   ]
  },
  {
   "cell_type": "code",
   "execution_count": 111,
   "metadata": {},
   "outputs": [
    {
     "data": {
      "text/latex": [
       "\\[\\tag{${\\it \\%o}_{175}$}\\sqrt{{\\it ur}^2+{\\it alphap}^2\\,u^2}\\]"
      ],
      "text/plain": [
       "                                   2         2  2\n",
       "(%o175)                     sqrt(ur  + alphap  u )"
      ],
      "text/x-maxima": [
       "sqrt(ur^2+alphap^2*u^2)"
      ]
     },
     "execution_count": 111,
     "metadata": {},
     "output_type": "execute_result"
    },
    {
     "data": {
      "text/latex": [
       "\\[\\tag{${\\it \\%o}_{176}$}\\sqrt{{\\it ur}^2+{\\it alphap}^2\\,u^2}\\]"
      ],
      "text/plain": [
       "                                   2         2  2\n",
       "(%o176)                     sqrt(ur  + alphap  u )"
      ],
      "text/x-maxima": [
       "sqrt(ur^2+alphap^2*u^2)"
      ]
     },
     "execution_count": 111,
     "metadata": {},
     "output_type": "execute_result"
    }
   ],
   "source": [
    "l1_5 : sqrt(ratsimp(l1_4*l1_4));\n",
    "l2_5 : sqrt(ratsimp(l2_4*l2_4));"
   ]
  },
  {
   "cell_type": "markdown",
   "metadata": {},
   "source": [
    "### and we have recovered the result of Weiss and Smith, eq. (11), where the eigenvalue is $u' + c'$. What remains is to show that these eigenvalues are beneficial. We see that as $U_r\\rightarrow 0$, then $\\alpha^{'} \\rightarrow \\frac{1}{2}$. In that case we have for the eigenvalue:\n",
    "\n",
    "$$\\color{blue}{\\large u^{'} + c^{'} = \\frac{1}{2} u + \\frac{1}{2}u = u}$$\n",
    "\n",
    "### Note also that we can simplify the expression for $\\theta$ when we are not interested in retaining proper behavior when $u \\rightarrow c$. We can simply use $\\theta=\\frac{1}{U_r^2}$, and when using the ideal gas law, this results in: "
   ]
  },
  {
   "cell_type": "code",
   "execution_count": 83,
   "metadata": {},
   "outputs": [
    {
     "data": {
      "text/latex": [
       "\\[\\tag{${\\it \\%o}_{141}$}-\\frac{\\sqrt{\\left({\\it cp}^2\\,\\rho^2\\,\\vartheta^2-2\\,{\\it cp}^2\\,\\rho^2\\,\\left(\\frac{d}{d\\,p}\\,\\rho\\right)\\,\\vartheta+{\\it cp}^2\\,\\rho^2\\,\\left(\\frac{d}{d\\,p}\\,\\rho\\right)^2\\right)\\,u^2+4\\,{\\it cp}^2\\,\\rho^2\\,\\vartheta+4\\,{\\it cp}\\,\\rho\\,\\left(\\frac{d}{d\\,T}\\,\\rho\\right)}+\\left(-{\\it cp}\\,\\rho\\,\\vartheta-{\\it cp}\\,\\rho\\,\\left(\\frac{d}{d\\,p}\\,\\rho\\right)-2\\,\\left(\\frac{d}{d\\,T}\\,\\rho\\right)\\right)\\,u}{2\\,{\\it cp}\\,\\rho\\,\\vartheta+2\\,\\left(\\frac{d}{d\\,T}\\,\\rho\\right)}\\]"
      ],
      "text/plain": [
       "                   2    2      2       2    2 drho           2    2  drho 2   2\n",
       "(%o141) - (sqrt((cp  rho  theta  - 2 cp  rho  ---- theta + cp  rho  (----) ) u\n",
       "                                               dp                     dp\n",
       "       2    2                  drho                               drho\n",
       " + 4 cp  rho  theta + 4 cp rho ----) + ((- cp rho theta) - cp rho ----\n",
       "                                dT                                 dp\n",
       "     drho                         drho\n",
       " - 2 ----) u)/(2 cp rho theta + 2 ----)\n",
       "      dT                           dT"
      ],
      "text/x-maxima": [
       "-(sqrt((cp^2*rho^2*theta^2-2*cp^2*rho^2*'diff(rho,p,1)*theta\n",
       "                          +cp^2*rho^2*('diff(rho,p,1))^2)\n",
       "        *u^2\n",
       "        +4*cp^2*rho^2*theta+4*cp*rho*'diff(rho,T,1))\n",
       " +((-cp*rho*theta)-cp*rho*'diff(rho,p,1)-2*'diff(rho,T,1))*u)\n",
       " /(2*cp*rho*theta+2*'diff(rho,T,1))"
      ]
     },
     "execution_count": 83,
     "metadata": {},
     "output_type": "execute_result"
    }
   ],
   "source": [
    "l1;"
   ]
  },
  {
   "cell_type": "code",
   "execution_count": 82,
   "metadata": {},
   "outputs": [
    {
     "data": {
      "text/latex": [
       "\\[\\tag{${\\it \\%o}_{140}$}\\frac{T\\,\\sqrt{\\frac{T\\,{\\it cp}^2\\,\\rho^2\\,u^2\\,{\\it ur}^4\\,\\gamma^2-2\\,T\\,c^2\\,{\\it cp}^2\\,\\rho^2\\,u^2\\,{\\it ur}^2\\,\\gamma-4\\,c^4\\,{\\it cp}\\,\\rho^2\\,{\\it ur}^4+4\\,T\\,c^4\\,{\\it cp}^2\\,\\rho^2\\,{\\it ur}^2+T\\,c^4\\,{\\it cp}^2\\,\\rho^2\\,u^2}{T}}}{2\\,c^2\\,\\rho\\,{\\it ur}^2-2\\,T\\,c^2\\,{\\it cp}\\,\\rho}-\\frac{T\\,{\\it cp}\\,u\\,{\\it ur}^2\\,\\gamma}{2\\,c^2\\,{\\it ur}^2-2\\,T\\,c^2\\,{\\it cp}}-\\frac{T\\,{\\it cp}\\,u}{2\\,{\\it ur}^2-2\\,T\\,{\\it cp}}+\\frac{u\\,{\\it ur}^2}{{\\it ur}^2-T\\,{\\it cp}}\\]"
      ],
      "text/plain": [
       "                     2    2  2   4      2        2   2    2  2   2\n",
       "(%o140) (T sqrt((T cp  rho  u  ur  gamma  - 2 T c  cp  rho  u  ur  gamma\n",
       "      4       2   4        4   2    2   2      4   2    2  2\n",
       " - 4 c  cp rho  ur  + 4 T c  cp  rho  ur  + T c  cp  rho  u )/T))\n",
       "                                             2\n",
       "     2       2        2             T cp u ur  gamma         T cp u\n",
       "/(2 c  rho ur  - 2 T c  cp rho) - -------------------- - --------------\n",
       "                                     2   2        2          2\n",
       "                                  2 c  ur  - 2 T c  cp   2 ur  - 2 T cp\n",
       "         2\n",
       "     u ur\n",
       " + ----------\n",
       "     2\n",
       "   ur  - T cp"
      ],
      "text/x-maxima": [
       "(T*sqrt((T*cp^2*rho^2*u^2*ur^4*gamma^2-2*T*c^2*cp^2*rho^2*u^2*ur^2*gamma\n",
       "                                      -4*c^4*cp*rho^2*ur^4\n",
       "                                      +4*T*c^4*cp^2*rho^2*ur^2\n",
       "                                      +T*c^4*cp^2*rho^2*u^2)\n",
       "         /T))\n",
       " /(2*c^2*rho*ur^2-2*T*c^2*cp*rho)\n",
       " -(T*cp*u*ur^2*gamma)/(2*c^2*ur^2-2*T*c^2*cp)-(T*cp*u)/(2*ur^2-2*T*cp)\n",
       " +(u*ur^2)/(ur^2-T*cp)"
      ]
     },
     "execution_count": 82,
     "metadata": {},
     "output_type": "execute_result"
    }
   ],
   "source": [
    "l1_1 : ratexpand(ratsimp(subst([theta=1/ur^2, diff(rho,T)=-rho/T,diff(rho,p)=gamma/c^2],l1)));"
   ]
  },
  {
   "cell_type": "markdown",
   "metadata": {},
   "source": [
    "### We split it into a part containing the square root and the second part:"
   ]
  },
  {
   "cell_type": "code",
   "execution_count": 84,
   "metadata": {},
   "outputs": [
    {
     "data": {
      "text/latex": [
       "\\[\\tag{${\\it \\%o}_{142}$}\\mathbf{done}\\]"
      ],
      "text/plain": [
       "(%o142)                              done"
      ],
      "text/x-maxima": [
       "done"
      ]
     },
     "execution_count": 84,
     "metadata": {},
     "output_type": "execute_result"
    },
    {
     "name": "stdout",
     "output_type": "stream",
     "text": [
      "\n",
      "(T*sqrt((T*cp^2*rho^2*u^2*ur^4*gamma^2-2*T*c^2*cp^2*rho^2*u^2*ur^2*gamma\n",
      "                                      -4*c^4*cp*rho^2*ur^4\n",
      "                                      +4*T*c^4*cp^2*rho^2*ur^2\n",
      "                                      +T*c^4*cp^2*rho^2*u^2)\n",
      "         /T))\n",
      " /(2*c^2*rho*ur^2-2*T*c^2*cp*rho)\n",
      " -(T*cp*u*ur^2*gamma)/(2*c^2*ur^2-2*T*c^2*cp)-(T*cp*u)/(2*ur^2-2*T*cp)\n",
      " +(u*ur^2)/(ur^2-T*cp)$\n"
     ]
    }
   ],
   "source": [
    "grind(l1_1);"
   ]
  },
  {
   "cell_type": "code",
   "execution_count": 116,
   "metadata": {},
   "outputs": [
    {
     "data": {
      "text/latex": [
       "\\[\\tag{${\\it \\%o}_{184}$}-\\frac{u\\,\\left(T\\,{\\it cp}\\,{\\it ur}^2\\,\\gamma-2\\,c^2\\,{\\it ur}^2+T\\,c^2\\,{\\it cp}\\right)}{2\\,c^2\\,\\left({\\it ur}^2-T\\,{\\it cp}\\right)}\\]"
      ],
      "text/plain": [
       "                               2            2   2      2\n",
       "                     u (T cp ur  gamma - 2 c  ur  + T c  cp)\n",
       "(%o184)            - ---------------------------------------\n",
       "                                   2    2\n",
       "                                2 c  (ur  - T cp)"
      ],
      "text/x-maxima": [
       "-(u*(T*cp*ur^2*gamma-2*c^2*ur^2+T*c^2*cp))/(2*c^2*(ur^2-T*cp))"
      ]
     },
     "execution_count": 116,
     "metadata": {},
     "output_type": "execute_result"
    },
    {
     "data": {
      "text/latex": [
       "\\[\\tag{${\\it \\%o}_{185}$}-\\frac{u\\,\\left(\\frac{c^4\\,{\\it cp}}{R\\,\\gamma}+\\frac{c^2\\,{\\it cp}\\,{\\it ur}^2}{R}-2\\,c^2\\,{\\it ur}^2\\right)}{2\\,c^2\\,\\left({\\it ur}^2-\\frac{c^2\\,{\\it cp}}{R\\,\\gamma}\\right)}\\]"
      ],
      "text/plain": [
       "                            4        2      2\n",
       "                           c  cp    c  cp ur       2   2\n",
       "                       u (------- + --------- - 2 c  ur )\n",
       "                          R gamma       R\n",
       "(%o185)              - ----------------------------------\n",
       "                                            2\n",
       "                                 2    2    c  cp\n",
       "                              2 c  (ur  - -------)\n",
       "                                          R gamma"
      ],
      "text/x-maxima": [
       "-(u*((c^4*cp)/(R*gamma)+(c^2*cp*ur^2)/R-2*c^2*ur^2))\n",
       " /(2*c^2*(ur^2-(c^2*cp)/(R*gamma)))"
      ]
     },
     "execution_count": 116,
     "metadata": {},
     "output_type": "execute_result"
    },
    {
     "data": {
      "text/latex": [
       "\\[\\tag{${\\it \\%o}_{186}$}-\\frac{u\\,\\left(\\frac{c^4\\,{\\it cv}}{\\gamma}+c^2\\,{\\it cv}\\,{\\it ur}^2-2\\,c^2\\,{\\it ur}^2\\right)}{2\\,c^2\\,\\left({\\it ur}^2-\\frac{c^2\\,{\\it cv}}{\\gamma}\\right)}\\]"
      ],
      "text/plain": [
       "                            4\n",
       "                           c  cv    2      2      2   2\n",
       "                        u (----- + c  cv ur  - 2 c  ur )\n",
       "                           gamma\n",
       "(%o186)               - --------------------------------\n",
       "                                            2\n",
       "                                  2    2   c  cv\n",
       "                               2 c  (ur  - -----)\n",
       "                                           gamma"
      ],
      "text/x-maxima": [
       "-(u*((c^4*cv)/gamma+c^2*cv*ur^2-2*c^2*ur^2))/(2*c^2*(ur^2-(c^2*cv)/gamma))"
      ]
     },
     "execution_count": 116,
     "metadata": {},
     "output_type": "execute_result"
    },
    {
     "data": {
      "text/latex": [
       "\\[\\tag{${\\it \\%o}_{187}$}\\frac{u\\,\\left(2\\,{\\it ur}^2\\,\\gamma^2-{\\it cp}\\,{\\it ur}^2\\,\\gamma-c^2\\,{\\it cp}\\right)}{2\\,\\left({\\it ur}^2\\,\\gamma^2-c^2\\,{\\it cp}\\right)}\\]"
      ],
      "text/plain": [
       "                           2      2        2          2\n",
       "                    u (2 ur  gamma  - cp ur  gamma - c  cp)\n",
       "(%o187)             ---------------------------------------\n",
       "                                 2      2    2\n",
       "                            2 (ur  gamma  - c  cp)"
      ],
      "text/x-maxima": [
       "(u*(2*ur^2*gamma^2-cp*ur^2*gamma-c^2*cp))/(2*(ur^2*gamma^2-c^2*cp))"
      ]
     },
     "execution_count": 116,
     "metadata": {},
     "output_type": "execute_result"
    }
   ],
   "source": [
    "p: factor(ratsimp(-(T*cp*u*ur^2*gamma)/(2*c^2*ur^2-2*T*c^2*cp)-(T*cp*u)/(2*ur^2-2*T*cp)\n",
    " +(u*ur^2)/(ur^2-T*cp)));\n",
    "p:subst(T=c*c/(gamma*R),p);\n",
    "p:subst(R=cp/cv,p);\n",
    "p:factor(ratsimp(subst(cv=cp/gamma,p)));"
   ]
  },
  {
   "cell_type": "code",
   "execution_count": 118,
   "metadata": {},
   "outputs": [
    {
     "data": {
      "text/latex": [
       "\\[\\tag{${\\it \\%o}_{191}$}\\frac{T\\,\\sqrt{\\frac{T\\,{\\it cp}^2\\,\\rho^2\\,u^2\\,{\\it ur}^4\\,\\gamma^2-2\\,T\\,c^2\\,{\\it cp}^2\\,\\rho^2\\,u^2\\,{\\it ur}^2\\,\\gamma-4\\,c^4\\,{\\it cp}\\,\\rho^2\\,{\\it ur}^4+4\\,T\\,c^4\\,{\\it cp}^2\\,\\rho^2\\,{\\it ur}^2+T\\,c^4\\,{\\it cp}^2\\,\\rho^2\\,u^2}{T}}}{2\\,c^2\\,\\rho\\,{\\it ur}^2-2\\,T\\,c^2\\,{\\it cp}\\,\\rho}\\]"
      ],
      "text/plain": [
       "                     2    2  2   4      2        2   2    2  2   2\n",
       "(%o191) (T sqrt((T cp  rho  u  ur  gamma  - 2 T c  cp  rho  u  ur  gamma\n",
       "      4       2   4        4   2    2   2      4   2    2  2\n",
       " - 4 c  cp rho  ur  + 4 T c  cp  rho  ur  + T c  cp  rho  u )/T))\n",
       "     2       2        2\n",
       "/(2 c  rho ur  - 2 T c  cp rho)"
      ],
      "text/x-maxima": [
       "(T*sqrt((T*cp^2*rho^2*u^2*ur^4*gamma^2-2*T*c^2*cp^2*rho^2*u^2*ur^2*gamma\n",
       "                                      -4*c^4*cp*rho^2*ur^4\n",
       "                                      +4*T*c^4*cp^2*rho^2*ur^2\n",
       "                                      +T*c^4*cp^2*rho^2*u^2)\n",
       "         /T))\n",
       " /(2*c^2*rho*ur^2-2*T*c^2*cp*rho)"
      ]
     },
     "execution_count": 118,
     "metadata": {},
     "output_type": "execute_result"
    }
   ],
   "source": [
    "l1_2:(T*sqrt((T*cp^2*rho^2*u^2*ur^4*gamma^2-2*T*c^2*cp^2*rho^2*u^2*ur^2*gamma\n",
    "                                      -4*c^4*cp*rho^2*ur^4\n",
    "                                      +4*T*c^4*cp^2*rho^2*ur^2\n",
    "                                      +T*c^4*cp^2*rho^2*u^2)\n",
    "         /T))\n",
    " /(2*c^2*rho*ur^2-2*T*c^2*cp*rho);"
   ]
  },
  {
   "cell_type": "code",
   "execution_count": 122,
   "metadata": {},
   "outputs": [
    {
     "data": {
      "text/latex": [
       "\\[\\tag{${\\it \\%o}_{201}$}\\frac{T\\,{\\it cp}\\,\\left(T\\,{\\it cp}\\,u^2\\,{\\it ur}^4\\,\\gamma^2-2\\,T\\,c^2\\,{\\it cp}\\,u^2\\,{\\it ur}^2\\,\\gamma-4\\,c^4\\,{\\it ur}^4+4\\,T\\,c^4\\,{\\it cp}\\,{\\it ur}^2+T\\,c^4\\,{\\it cp}\\,u^2\\right)}{4\\,c^4\\,\\left({\\it ur}^2-T\\,{\\it cp}\\right)^2}\\]"
      ],
      "text/plain": [
       "                     2   4      2        2     2   2            4   4\n",
       "(%o201) (T cp (T cp u  ur  gamma  - 2 T c  cp u  ur  gamma - 4 c  ur\n",
       "                                   4      2      4     2       4    2        2\n",
       "                            + 4 T c  cp ur  + T c  cp u ))/(4 c  (ur  - T cp) )"
      ],
      "text/x-maxima": [
       "(T*cp\n",
       "  *(T*cp*u^2*ur^4*gamma^2-2*T*c^2*cp*u^2*ur^2*gamma-4*c^4*ur^4+4*T*c^4*cp*ur^2\n",
       "                         +T*c^4*cp*u^2))\n",
       " /(4*c^4*(ur^2-T*cp)^2)"
      ]
     },
     "execution_count": 122,
     "metadata": {},
     "output_type": "execute_result"
    },
    {
     "data": {
      "text/latex": [
       "\\[\\tag{${\\it \\%o}_{202}$}\\frac{{\\it cp}^2\\,u^2\\,{\\it ur}^4\\,\\gamma^2+\\left(\\left(4\\,c^2\\,{\\it cp}\\,{\\it cv}-4\\,c^2\\,{\\it cp}^2\\right)\\,{\\it ur}^4-2\\,c^2\\,{\\it cp}^2\\,u^2\\,{\\it ur}^2\\right)\\,\\gamma+4\\,c^4\\,{\\it cp}^2\\,{\\it ur}^2+c^4\\,{\\it cp}^2\\,u^2}{\\left(4\\,{\\it cv}^2-8\\,{\\it cp}\\,{\\it cv}+4\\,{\\it cp}^2\\right)\\,{\\it ur}^4\\,\\gamma^2+\\left(8\\,c^2\\,{\\it cp}\\,{\\it cv}-8\\,c^2\\,{\\it cp}^2\\right)\\,{\\it ur}^2\\,\\gamma+4\\,c^4\\,{\\it cp}^2}\\]"
      ],
      "text/plain": [
       "           2  2   4      2        2            2   2    4      2   2  2   2\n",
       "(%o202) (cp  u  ur  gamma  + ((4 c  cp cv - 4 c  cp ) ur  - 2 c  cp  u  ur )\n",
       "            4   2   2    4   2  2        2                 2    4      2\n",
       " gamma + 4 c  cp  ur  + c  cp  u )/((4 cv  - 8 cp cv + 4 cp ) ur  gamma\n",
       "       2            2   2    2            4   2\n",
       " + (8 c  cp cv - 8 c  cp ) ur  gamma + 4 c  cp )"
      ],
      "text/x-maxima": [
       "(cp^2*u^2*ur^4*gamma^2+((4*c^2*cp*cv-4*c^2*cp^2)*ur^4-2*c^2*cp^2*u^2*ur^2)\n",
       "                       *gamma+4*c^4*cp^2*ur^2+c^4*cp^2*u^2)\n",
       " /((4*cv^2-8*cp*cv+4*cp^2)*ur^4*gamma^2+(8*c^2*cp*cv-8*c^2*cp^2)*ur^2*gamma\n",
       "                                       +4*c^4*cp^2)"
      ]
     },
     "execution_count": 122,
     "metadata": {},
     "output_type": "execute_result"
    },
    {
     "data": {
      "text/latex": [
       "\\[\\tag{${\\it \\%o}_{203}$}\\frac{u^2\\,{\\it ur}^4\\,\\gamma^2-4\\,c^2\\,{\\it ur}^4\\,\\gamma-2\\,c^2\\,u^2\\,{\\it ur}^2\\,\\gamma+4\\,c^2\\,{\\it ur}^4+4\\,c^4\\,{\\it ur}^2+c^4\\,u^2}{4\\,\\left({\\it ur}^2\\,\\gamma-{\\it ur}^2-c^2\\right)^2}\\]"
      ],
      "text/plain": [
       "          2   4      2      2   4            2  2   2            2   4\n",
       "(%o203) (u  ur  gamma  - 4 c  ur  gamma - 2 c  u  ur  gamma + 4 c  ur\n",
       "                                     4   2    4  2        2           2    2 2\n",
       "                                + 4 c  ur  + c  u )/(4 (ur  gamma - ur  - c ) )"
      ],
      "text/x-maxima": [
       "(u^2*ur^4*gamma^2-4*c^2*ur^4*gamma-2*c^2*u^2*ur^2*gamma+4*c^2*ur^4+4*c^4*ur^2\n",
       "                 +c^4*u^2)\n",
       " /(4*(ur^2*gamma-ur^2-c^2)^2)"
      ]
     },
     "execution_count": 122,
     "metadata": {},
     "output_type": "execute_result"
    }
   ],
   "source": [
    "l1_3:factor(ratsimp(l1_2*l1_2));\n",
    "l1_4 : (ratsimp(subst(T=c*c/((cp-cv)*gamma),l1_3)));\n",
    "l1_5:factor(ratsimp(subst(cv=cp/gamma,l1_4)));"
   ]
  },
  {
   "cell_type": "code",
   "execution_count": 131,
   "metadata": {},
   "outputs": [
    {
     "data": {
      "text/latex": [
       "\\[\\tag{${\\it \\%o}_{211}$}\\frac{a^2\\,{\\it ur}^6\\,\\gamma^2-2\\,a^2\\,c^2\\,{\\it ur}^4\\,\\gamma-4\\,c^2\\,{\\it ur}^4\\,\\gamma+4\\,c^2\\,{\\it ur}^4+a^2\\,c^4\\,{\\it ur}^2+4\\,c^4\\,{\\it ur}^2}{4\\,\\left({\\it ur}^2\\,\\gamma-{\\it ur}^2-c^2\\right)^2}\\]"
      ],
      "text/plain": [
       "          2   6      2      2  2   4            2   4            2   4\n",
       "(%o211) (a  ur  gamma  - 2 a  c  ur  gamma - 4 c  ur  gamma + 4 c  ur\n",
       "                               2  4   2      4   2        2           2    2 2\n",
       "                            + a  c  ur  + 4 c  ur )/(4 (ur  gamma - ur  - c ) )"
      ],
      "text/x-maxima": [
       "(a^2*ur^6*gamma^2-2*a^2*c^2*ur^4*gamma-4*c^2*ur^4*gamma+4*c^2*ur^4\n",
       "                 +a^2*c^4*ur^2+4*c^4*ur^2)\n",
       " /(4*(ur^2*gamma-ur^2-c^2)^2)"
      ]
     },
     "execution_count": 131,
     "metadata": {},
     "output_type": "execute_result"
    }
   ],
   "source": [
    "l1_6:subst(u=a*ur,l1_5);"
   ]
  },
  {
   "cell_type": "code",
   "execution_count": 134,
   "metadata": {},
   "outputs": [
    {
     "data": {
      "text/latex": [
       "\\[\\tag{${\\it \\%o}_{214}$}\\frac{a^2\\,c^6\\,m^6\\,\\gamma^2-2\\,a^2\\,c^6\\,m^4\\,\\gamma-4\\,c^6\\,m^4\\,\\gamma+4\\,c^6\\,m^4+a^2\\,c^6\\,m^2+4\\,c^6\\,m^2}{4\\,\\left(c^2\\,m^2\\,\\gamma-c^2\\,m^2-c^2\\right)^2}\\]"
      ],
      "text/plain": [
       "          2  6  6      2      2  6  4            6  4            6  4\n",
       "(%o214) (a  c  m  gamma  - 2 a  c  m  gamma - 4 c  m  gamma + 4 c  m\n",
       "                             2  6  2      6  2       2  2          2  2    2 2\n",
       "                          + a  c  m  + 4 c  m )/(4 (c  m  gamma - c  m  - c ) )"
      ],
      "text/x-maxima": [
       "(a^2*c^6*m^6*gamma^2-2*a^2*c^6*m^4*gamma-4*c^6*m^4*gamma+4*c^6*m^4+a^2*c^6*m^2\n",
       "                    +4*c^6*m^2)\n",
       " /(4*(c^2*m^2*gamma-c^2*m^2-c^2)^2)"
      ]
     },
     "execution_count": 134,
     "metadata": {},
     "output_type": "execute_result"
    }
   ],
   "source": [
    "l1_7:subst(ur=m*c,l1_6);"
   ]
  },
  {
   "cell_type": "markdown",
   "metadata": {},
   "source": [
    "# Preconditioned Flux difference Splitting\n",
    "### We now derive the necessary matrices for the flux difference splitting approach in 2D. The nonpreconditioned flux difference splitting is given by:\n",
    "\n",
    "$$\\color{blue}{\\large \\frac{1}{2}(F_i + F_j)\\cdot\\overline n_{ij} -\\frac{1}{2}|\\frac{\\partial F}{\\partial U}|(U_i-U_j) }$$\n",
    "\n",
    "$$\\color{blue}{\\large \\frac{1}{2}(F_i + F_j)\\cdot\\overline n_{ij} -\\frac{1}{2}\\Gamma |A_{\\Gamma}|(U_i-U_j) }$$\n",
    "\n",
    "$$\\color{blue}{\\large \\frac{1}{2}(F_i + F_j)\\cdot\\overline n_{ij} -\\frac{1}{2}\\Gamma P |\\Lambda_{\\Gamma}|P^{-1}(U_i-U_j),}$$\n",
    "\n",
    "### So for the matrices $P$ and $P^{-1}$ we need the eigenvectors of the preconditioned jacobian matrix $A_{\\Gamma}$."
   ]
  },
  {
   "cell_type": "code",
   "execution_count": 81,
   "metadata": {},
   "outputs": [
    {
     "data": {
      "text/latex": [
       "\\[\\tag{${\\it \\%o}_{149}$}\\begin{pmatrix}\\frac{\\left({\\it cp}\\,\\rho\\,\\left(\\frac{d}{d\\,p}\\,\\rho\\right)+\\frac{d}{d\\,T}\\,\\rho\\right)\\,u}{{\\it cp}\\,\\rho\\,\\vartheta+\\frac{d}{d\\,T}\\,\\rho} & \\frac{{\\it cp}\\,\\rho^2}{{\\it cp}\\,\\rho\\,\\vartheta+\\frac{d}{d\\,T}\\,\\rho} & 0 & 0 \\\\ \\frac{1}{\\rho} & u & 0 & 0 \\\\ 0 & 0 & u & 0 \\\\ -\\frac{\\left(\\vartheta-\\frac{d}{d\\,p}\\,\\rho\\right)\\,u}{{\\it cp}\\,\\rho\\,\\vartheta+\\frac{d}{d\\,T}\\,\\rho} & \\frac{\\rho}{{\\it cp}\\,\\rho\\,\\vartheta+\\frac{d}{d\\,T}\\,\\rho} & 0 & u \\\\ \\end{pmatrix}\\]"
      ],
      "text/plain": [
       "             [         drho   drho                               ]\n",
       "             [ (cp rho ---- + ----) u              2             ]\n",
       "             [          dp     dT            cp rho              ]\n",
       "             [ ----------------------  -------------------  0  0 ]\n",
       "             [                 drho                   drho       ]\n",
       "             [  cp rho theta + ----    cp rho theta + ----       ]\n",
       "             [                  dT                     dT        ]\n",
       "             [                                                   ]\n",
       "             [           1                                       ]\n",
       "             [          ---                     u           0  0 ]\n",
       "(%o149)      [          rho                                      ]\n",
       "             [                                                   ]\n",
       "             [           0                      0           u  0 ]\n",
       "             [                                                   ]\n",
       "             [             drho                                  ]\n",
       "             [    (theta - ----) u                               ]\n",
       "             [              dp                 rho               ]\n",
       "             [ - -------------------   -------------------  0  u ]\n",
       "             [                  drho                  drho       ]\n",
       "             [   cp rho theta + ----   cp rho theta + ----       ]\n",
       "             [                   dT                    dT        ]"
      ],
      "text/x-maxima": [
       "matrix([((cp*rho*'diff(rho,p,1)+'diff(rho,T,1))*u)\n",
       "         /(cp*rho*theta+'diff(rho,T,1)),\n",
       "        (cp*rho^2)/(cp*rho*theta+'diff(rho,T,1)),0,0],[1/rho,u,0,0],[0,0,u,0],\n",
       "       [-((theta-'diff(rho,p,1))*u)/(cp*rho*theta+'diff(rho,T,1)),\n",
       "        rho/(cp*rho*theta+'diff(rho,T,1)),0,u])"
      ]
     },
     "execution_count": 81,
     "metadata": {},
     "output_type": "execute_result"
    }
   ],
   "source": [
    "Ac;"
   ]
  },
  {
   "cell_type": "code",
   "execution_count": 82,
   "metadata": {},
   "outputs": [
    {
     "data": {
      "text/latex": [
       "\\[\\tag{${\\it \\%o}_{150}$}\\begin{pmatrix}\\frac{\\left({\\it cp}\\,\\rho\\,\\left(\\frac{d}{d\\,p}\\,\\rho\\right)+\\frac{d}{d\\,T}\\,\\rho\\right)\\,v}{{\\it cp}\\,\\rho\\,\\vartheta+\\frac{d}{d\\,T}\\,\\rho} & 0 & \\frac{{\\it cp}\\,\\rho^2}{{\\it cp}\\,\\rho\\,\\vartheta+\\frac{d}{d\\,T}\\,\\rho} & 0 \\\\ 0 & v & 0 & 0 \\\\ \\frac{1}{\\rho} & 0 & v & 0 \\\\ -\\frac{\\left(\\vartheta-\\frac{d}{d\\,p}\\,\\rho\\right)\\,v}{{\\it cp}\\,\\rho\\,\\vartheta+\\frac{d}{d\\,T}\\,\\rho} & 0 & \\frac{\\rho}{{\\it cp}\\,\\rho\\,\\vartheta+\\frac{d}{d\\,T}\\,\\rho} & v \\\\ \\end{pmatrix}\\]"
      ],
      "text/plain": [
       "             [         drho   drho                               ]\n",
       "             [ (cp rho ---- + ----) v                 2          ]\n",
       "             [          dp     dT               cp rho           ]\n",
       "             [ ----------------------  0  -------------------  0 ]\n",
       "             [                 drho                      drho    ]\n",
       "             [  cp rho theta + ----       cp rho theta + ----    ]\n",
       "             [                  dT                        dT     ]\n",
       "             [                                                   ]\n",
       "             [           0             v           0           0 ]\n",
       "             [                                                   ]\n",
       "(%o150)      [           1                                       ]\n",
       "             [          ---            0           v           0 ]\n",
       "             [          rho                                      ]\n",
       "             [                                                   ]\n",
       "             [             drho                                  ]\n",
       "             [    (theta - ----) v                               ]\n",
       "             [              dp                    rho            ]\n",
       "             [ - -------------------   0  -------------------  v ]\n",
       "             [                  drho                     drho    ]\n",
       "             [   cp rho theta + ----      cp rho theta + ----    ]\n",
       "             [                   dT                       dT     ]"
      ],
      "text/x-maxima": [
       "matrix([((cp*rho*'diff(rho,p,1)+'diff(rho,T,1))*v)\n",
       "         /(cp*rho*theta+'diff(rho,T,1)),0,\n",
       "        (cp*rho^2)/(cp*rho*theta+'diff(rho,T,1)),0],[0,v,0,0],[1/rho,0,v,0],\n",
       "       [-((theta-'diff(rho,p,1))*v)/(cp*rho*theta+'diff(rho,T,1)),0,\n",
       "        rho/(cp*rho*theta+'diff(rho,T,1)),v])"
      ]
     },
     "execution_count": 82,
     "metadata": {},
     "output_type": "execute_result"
    }
   ],
   "source": [
    "Bc;"
   ]
  },
  {
   "cell_type": "code",
   "execution_count": 84,
   "metadata": {},
   "outputs": [
    {
     "data": {
      "text/latex": [
       "\\[\\tag{${\\it \\%o}_{152}$}\\begin{pmatrix}\\frac{\\left({\\it cp}\\,{\\it ny}\\,\\rho\\,\\left(\\frac{d}{d\\,p}\\,\\rho\\right)+{\\it ny}\\,\\left(\\frac{d}{d\\,T}\\,\\rho\\right)\\right)\\,v+\\left({\\it cp}\\,{\\it nx}\\,\\rho\\,\\left(\\frac{d}{d\\,p}\\,\\rho\\right)+{\\it nx}\\,\\left(\\frac{d}{d\\,T}\\,\\rho\\right)\\right)\\,u}{{\\it cp}\\,\\rho\\,\\vartheta+\\frac{d}{d\\,T}\\,\\rho} & \\frac{{\\it cp}\\,{\\it nx}\\,\\rho^2}{{\\it cp}\\,\\rho\\,\\vartheta+\\frac{d}{d\\,T}\\,\\rho} & \\frac{{\\it cp}\\,{\\it ny}\\,\\rho^2}{{\\it cp}\\,\\rho\\,\\vartheta+\\frac{d}{d\\,T}\\,\\rho} & 0 \\\\ \\frac{{\\it nx}}{\\rho} & {\\it ny}\\,v+{\\it nx}\\,u & 0 & 0 \\\\ \\frac{{\\it ny}}{\\rho} & 0 & {\\it ny}\\,v+{\\it nx}\\,u & 0 \\\\ -\\frac{\\left({\\it ny}\\,\\vartheta-{\\it ny}\\,\\left(\\frac{d}{d\\,p}\\,\\rho\\right)\\right)\\,v+\\left({\\it nx}\\,\\vartheta-{\\it nx}\\,\\left(\\frac{d}{d\\,p}\\,\\rho\\right)\\right)\\,u}{{\\it cp}\\,\\rho\\,\\vartheta+\\frac{d}{d\\,T}\\,\\rho} & \\frac{{\\it nx}\\,\\rho}{{\\it cp}\\,\\rho\\,\\vartheta+\\frac{d}{d\\,T}\\,\\rho} & \\frac{{\\it ny}\\,\\rho}{{\\it cp}\\,\\rho\\,\\vartheta+\\frac{d}{d\\,T}\\,\\rho} & {\\it ny}\\,v+{\\it nx}\\,u \\\\ \\end{pmatrix}\\]"
      ],
      "text/plain": [
       "(%o152) \n",
       "         [            drho      drho                 drho      drho    ]\n",
       "         [ (cp ny rho ---- + ny ----) v + (cp nx rho ---- + nx ----) u ]\n",
       "         [             dp        dT                   dp        dT     ]\n",
       "         [ ----------------------------------------------------------- ]\n",
       "         [                                    drho                     ]\n",
       "         [                     cp rho theta + ----                     ]\n",
       "         [                                     dT                      ]\n",
       "         [                                                             ]\n",
       "         [                             nx                              ]\n",
       "         [                             ---                             ]\n",
       "         [                             rho                             ]\n",
       " Col 1 = [                                                             ]\n",
       "         [                             ny                              ]\n",
       "         [                             ---                             ]\n",
       "         [                             rho                             ]\n",
       "         [                                                             ]\n",
       "         [                       drho                     drho         ]\n",
       "         [        (ny theta - ny ----) v + (nx theta - nx ----) u      ]\n",
       "         [                        dp                       dp          ]\n",
       "         [      - -----------------------------------------------      ]\n",
       "         [                                     drho                    ]\n",
       "         [                      cp rho theta + ----                    ]\n",
       "         [                                      dT                     ]\n",
       "         [              2      ]         [              2      ]\n",
       "         [     cp nx rho       ]         [     cp ny rho       ]\n",
       "         [ ------------------- ]         [ ------------------- ]\n",
       "         [                drho ]         [                drho ]\n",
       "         [ cp rho theta + ---- ]         [ cp rho theta + ---- ]\n",
       "         [                 dT  ]         [                 dT  ]\n",
       "         [                     ]         [                     ]\n",
       " Col 2 = [     ny v + nx u     ] Col 3 = [          0          ]\n",
       "         [                     ]         [                     ]\n",
       "         [          0          ]         [     ny v + nx u     ]\n",
       "         [                     ]         [                     ]\n",
       "         [       nx rho        ]         [       ny rho        ]\n",
       "         [ ------------------- ]         [ ------------------- ]\n",
       "         [                drho ]         [                drho ]\n",
       "         [ cp rho theta + ---- ]         [ cp rho theta + ---- ]\n",
       "         [                 dT  ]         [                 dT  ]\n",
       "         [      0      ]\n",
       "         [             ]\n",
       "         [      0      ]\n",
       " Col 4 = [             ]\n",
       "         [      0      ]\n",
       "         [             ]\n",
       "         [ ny v + nx u ]"
      ],
      "text/x-maxima": [
       "matrix([((cp*ny*rho*'diff(rho,p,1)+ny*'diff(rho,T,1))*v\n",
       "         +(cp*nx*rho*'diff(rho,p,1)+nx*'diff(rho,T,1))*u)\n",
       "         /(cp*rho*theta+'diff(rho,T,1)),\n",
       "        (cp*nx*rho^2)/(cp*rho*theta+'diff(rho,T,1)),\n",
       "        (cp*ny*rho^2)/(cp*rho*theta+'diff(rho,T,1)),0],[nx/rho,ny*v+nx*u,0,0],\n",
       "       [ny/rho,0,ny*v+nx*u,0],\n",
       "       [-((ny*theta-ny*'diff(rho,p,1))*v+(nx*theta-nx*'diff(rho,p,1))*u)\n",
       "         /(cp*rho*theta+'diff(rho,T,1)),\n",
       "        (nx*rho)/(cp*rho*theta+'diff(rho,T,1)),\n",
       "        (ny*rho)/(cp*rho*theta+'diff(rho,T,1)),ny*v+nx*u])"
      ]
     },
     "execution_count": 84,
     "metadata": {},
     "output_type": "execute_result"
    }
   ],
   "source": [
    "A : ratsimp(Ac*nx+Bc*ny);"
   ]
  },
  {
   "cell_type": "code",
   "execution_count": 86,
   "metadata": {},
   "outputs": [
    {
     "data": {
      "text/latex": [
       "\\[\\tag{${\\it \\%o}_{154}$}\\left[ \\left[ -\\frac{\\sqrt{\\left({\\it cp}^2\\,{\\it ny}^2\\,\\rho^2\\,\\vartheta^2-2\\,{\\it cp}^2\\,{\\it ny}^2\\,\\rho^2\\,\\left(\\frac{d}{d\\,p}\\,\\rho\\right)\\,\\vartheta+{\\it cp}^2\\,{\\it ny}^2\\,\\rho^2\\,\\left(\\frac{d}{d\\,p}\\,\\rho\\right)^2\\right)\\,v^2+\\left(2\\,{\\it cp}^2\\,{\\it nx}\\,{\\it ny}\\,\\rho^2\\,\\vartheta^2-4\\,{\\it cp}^2\\,{\\it nx}\\,{\\it ny}\\,\\rho^2\\,\\left(\\frac{d}{d\\,p}\\,\\rho\\right)\\,\\vartheta+2\\,{\\it cp}^2\\,{\\it nx}\\,{\\it ny}\\,\\rho^2\\,\\left(\\frac{d}{d\\,p}\\,\\rho\\right)^2\\right)\\,u\\,v+\\left({\\it cp}^2\\,{\\it nx}^2\\,\\rho^2\\,\\vartheta^2-2\\,{\\it cp}^2\\,{\\it nx}^2\\,\\rho^2\\,\\left(\\frac{d}{d\\,p}\\,\\rho\\right)\\,\\vartheta+{\\it cp}^2\\,{\\it nx}^2\\,\\rho^2\\,\\left(\\frac{d}{d\\,p}\\,\\rho\\right)^2\\right)\\,u^2+\\left(4\\,{\\it cp}^2\\,{\\it ny}^2+4\\,{\\it cp}^2\\,{\\it nx}^2\\right)\\,\\rho^2\\,\\vartheta+\\left(4\\,{\\it cp}\\,{\\it ny}^2+4\\,{\\it cp}\\,{\\it nx}^2\\right)\\,\\rho\\,\\left(\\frac{d}{d\\,T}\\,\\rho\\right)}+\\left(-{\\it cp}\\,{\\it ny}\\,\\rho\\,\\vartheta-{\\it cp}\\,{\\it ny}\\,\\rho\\,\\left(\\frac{d}{d\\,p}\\,\\rho\\right)-2\\,{\\it ny}\\,\\left(\\frac{d}{d\\,T}\\,\\rho\\right)\\right)\\,v+\\left(-{\\it cp}\\,{\\it nx}\\,\\rho\\,\\vartheta-{\\it cp}\\,{\\it nx}\\,\\rho\\,\\left(\\frac{d}{d\\,p}\\,\\rho\\right)-2\\,{\\it nx}\\,\\left(\\frac{d}{d\\,T}\\,\\rho\\right)\\right)\\,u}{2\\,{\\it cp}\\,\\rho\\,\\vartheta+2\\,\\left(\\frac{d}{d\\,T}\\,\\rho\\right)} , \\frac{\\sqrt{\\left({\\it cp}^2\\,{\\it ny}^2\\,\\rho^2\\,\\vartheta^2-2\\,{\\it cp}^2\\,{\\it ny}^2\\,\\rho^2\\,\\left(\\frac{d}{d\\,p}\\,\\rho\\right)\\,\\vartheta+{\\it cp}^2\\,{\\it ny}^2\\,\\rho^2\\,\\left(\\frac{d}{d\\,p}\\,\\rho\\right)^2\\right)\\,v^2+\\left(2\\,{\\it cp}^2\\,{\\it nx}\\,{\\it ny}\\,\\rho^2\\,\\vartheta^2-4\\,{\\it cp}^2\\,{\\it nx}\\,{\\it ny}\\,\\rho^2\\,\\left(\\frac{d}{d\\,p}\\,\\rho\\right)\\,\\vartheta+2\\,{\\it cp}^2\\,{\\it nx}\\,{\\it ny}\\,\\rho^2\\,\\left(\\frac{d}{d\\,p}\\,\\rho\\right)^2\\right)\\,u\\,v+\\left({\\it cp}^2\\,{\\it nx}^2\\,\\rho^2\\,\\vartheta^2-2\\,{\\it cp}^2\\,{\\it nx}^2\\,\\rho^2\\,\\left(\\frac{d}{d\\,p}\\,\\rho\\right)\\,\\vartheta+{\\it cp}^2\\,{\\it nx}^2\\,\\rho^2\\,\\left(\\frac{d}{d\\,p}\\,\\rho\\right)^2\\right)\\,u^2+\\left(4\\,{\\it cp}^2\\,{\\it ny}^2+4\\,{\\it cp}^2\\,{\\it nx}^2\\right)\\,\\rho^2\\,\\vartheta+\\left(4\\,{\\it cp}\\,{\\it ny}^2+4\\,{\\it cp}\\,{\\it nx}^2\\right)\\,\\rho\\,\\left(\\frac{d}{d\\,T}\\,\\rho\\right)}+\\left({\\it cp}\\,{\\it ny}\\,\\rho\\,\\vartheta+{\\it cp}\\,{\\it ny}\\,\\rho\\,\\left(\\frac{d}{d\\,p}\\,\\rho\\right)+2\\,{\\it ny}\\,\\left(\\frac{d}{d\\,T}\\,\\rho\\right)\\right)\\,v+\\left({\\it cp}\\,{\\it nx}\\,\\rho\\,\\vartheta+{\\it cp}\\,{\\it nx}\\,\\rho\\,\\left(\\frac{d}{d\\,p}\\,\\rho\\right)+2\\,{\\it nx}\\,\\left(\\frac{d}{d\\,T}\\,\\rho\\right)\\right)\\,u}{2\\,{\\it cp}\\,\\rho\\,\\vartheta+2\\,\\left(\\frac{d}{d\\,T}\\,\\rho\\right)} , {\\it ny}\\,v+{\\it nx}\\,u \\right]  , \\left[ 1 , 1 , 2 \\right]  \\right] \\]"
      ],
      "text/plain": [
       "                     2   2    2      2       2   2    2 drho\n",
       "(%o154) [[- (sqrt((cp  ny  rho  theta  - 2 cp  ny  rho  ---- theta\n",
       "                                                         dp\n",
       "     2   2    2  drho 2   2        2          2      2\n",
       " + cp  ny  rho  (----) ) v  + (2 cp  nx ny rho  theta\n",
       "                  dp\n",
       "       2          2 drho             2          2  drho 2\n",
       " - 4 cp  nx ny rho  ---- theta + 2 cp  nx ny rho  (----) ) u v\n",
       "                     dp                             dp\n",
       "      2   2    2      2       2   2    2 drho           2   2    2  drho 2   2\n",
       " + (cp  nx  rho  theta  - 2 cp  nx  rho  ---- theta + cp  nx  rho  (----) ) u\n",
       "                                          dp                         dp\n",
       "        2   2       2   2     2                 2          2      drho\n",
       " + (4 cp  ny  + 4 cp  nx ) rho  theta + (4 cp ny  + 4 cp nx ) rho ----)\n",
       "                                                                   dT\n",
       "                                    drho        drho\n",
       " + ((- cp ny rho theta) - cp ny rho ---- - 2 ny ----) v\n",
       "                                     dp          dT\n",
       "                                    drho        drho\n",
       " + ((- cp nx rho theta) - cp nx rho ---- - 2 nx ----) u)\n",
       "                                     dp          dT\n",
       "                     drho            2   2    2      2\n",
       "/(2 cp rho theta + 2 ----), (sqrt((cp  ny  rho  theta\n",
       "                      dT\n",
       "       2   2    2 drho           2   2    2  drho 2   2\n",
       " - 2 cp  ny  rho  ---- theta + cp  ny  rho  (----) ) v\n",
       "                   dp                         dp\n",
       "        2          2      2       2          2 drho\n",
       " + (2 cp  nx ny rho  theta  - 4 cp  nx ny rho  ---- theta\n",
       "                                                dp\n",
       "       2          2  drho 2           2   2    2      2\n",
       " + 2 cp  nx ny rho  (----) ) u v + (cp  nx  rho  theta\n",
       "                      dp\n",
       "       2   2    2 drho           2   2    2  drho 2   2\n",
       " - 2 cp  nx  rho  ---- theta + cp  nx  rho  (----) ) u\n",
       "                   dp                         dp\n",
       "        2   2       2   2     2                 2          2      drho\n",
       " + (4 cp  ny  + 4 cp  nx ) rho  theta + (4 cp ny  + 4 cp nx ) rho ----)\n",
       "                                                                   dT\n",
       "                                drho        drho\n",
       " + (cp ny rho theta + cp ny rho ---- + 2 ny ----) v\n",
       "                                 dp          dT\n",
       "                                drho        drho\n",
       " + (cp nx rho theta + cp nx rho ---- + 2 nx ----) u)\n",
       "                                 dp          dT\n",
       "                     drho\n",
       "/(2 cp rho theta + 2 ----), ny v + nx u], [1, 1, 2]]\n",
       "                      dT"
      ],
      "text/x-maxima": [
       "[[-(sqrt((cp^2*ny^2*rho^2*theta^2-2*cp^2*ny^2*rho^2*'diff(rho,p,1)*theta\n",
       "                                 +cp^2*ny^2*rho^2*('diff(rho,p,1))^2)\n",
       "          *v^2\n",
       "          +(2*cp^2*nx*ny*rho^2*theta^2-4*cp^2*nx*ny*rho^2*'diff(rho,p,1)*theta\n",
       "                                      +2*cp^2*nx*ny*rho^2*('diff(rho,p,1))^2)\n",
       "           *u*v\n",
       "          +(cp^2*nx^2*rho^2*theta^2-2*cp^2*nx^2*rho^2*'diff(rho,p,1)*theta\n",
       "                                   +cp^2*nx^2*rho^2*('diff(rho,p,1))^2)\n",
       "           *u^2+(4*cp^2*ny^2+4*cp^2*nx^2)*rho^2*theta\n",
       "          +(4*cp*ny^2+4*cp*nx^2)*rho*'diff(rho,T,1))\n",
       "   +((-cp*ny*rho*theta)-cp*ny*rho*'diff(rho,p,1)-2*ny*'diff(rho,T,1))*v\n",
       "   +((-cp*nx*rho*theta)-cp*nx*rho*'diff(rho,p,1)-2*nx*'diff(rho,T,1))*u)\n",
       "   /(2*cp*rho*theta+2*'diff(rho,T,1)),\n",
       "  (sqrt((cp^2*ny^2*rho^2*theta^2-2*cp^2*ny^2*rho^2*'diff(rho,p,1)*theta\n",
       "                                +cp^2*ny^2*rho^2*('diff(rho,p,1))^2)\n",
       "         *v^2\n",
       "         +(2*cp^2*nx*ny*rho^2*theta^2-4*cp^2*nx*ny*rho^2*'diff(rho,p,1)*theta\n",
       "                                     +2*cp^2*nx*ny*rho^2*('diff(rho,p,1))^2)\n",
       "          *u*v\n",
       "         +(cp^2*nx^2*rho^2*theta^2-2*cp^2*nx^2*rho^2*'diff(rho,p,1)*theta\n",
       "                                  +cp^2*nx^2*rho^2*('diff(rho,p,1))^2)\n",
       "          *u^2+(4*cp^2*ny^2+4*cp^2*nx^2)*rho^2*theta\n",
       "         +(4*cp*ny^2+4*cp*nx^2)*rho*'diff(rho,T,1))\n",
       "   +(cp*ny*rho*theta+cp*ny*rho*'diff(rho,p,1)+2*ny*'diff(rho,T,1))*v\n",
       "   +(cp*nx*rho*theta+cp*nx*rho*'diff(rho,p,1)+2*nx*'diff(rho,T,1))*u)\n",
       "   /(2*cp*rho*theta+2*'diff(rho,T,1)),ny*v+nx*u],[1,1,2]]"
      ]
     },
     "execution_count": 86,
     "metadata": {},
     "output_type": "execute_result"
    }
   ],
   "source": [
    "lambda : eigenvalues(A);"
   ]
  },
  {
   "cell_type": "code",
   "execution_count": 87,
   "metadata": {},
   "outputs": [
    {
     "data": {
      "text/latex": [
       "\\[\\tag{${\\it \\%o}_{155}$}-\\frac{\\sqrt{\\left({\\it cp}^2\\,{\\it ny}^2\\,\\rho^2\\,\\vartheta^2-2\\,{\\it cp}^2\\,{\\it ny}^2\\,\\rho^2\\,\\left(\\frac{d}{d\\,p}\\,\\rho\\right)\\,\\vartheta+{\\it cp}^2\\,{\\it ny}^2\\,\\rho^2\\,\\left(\\frac{d}{d\\,p}\\,\\rho\\right)^2\\right)\\,v^2+\\left(2\\,{\\it cp}^2\\,{\\it nx}\\,{\\it ny}\\,\\rho^2\\,\\vartheta^2-4\\,{\\it cp}^2\\,{\\it nx}\\,{\\it ny}\\,\\rho^2\\,\\left(\\frac{d}{d\\,p}\\,\\rho\\right)\\,\\vartheta+2\\,{\\it cp}^2\\,{\\it nx}\\,{\\it ny}\\,\\rho^2\\,\\left(\\frac{d}{d\\,p}\\,\\rho\\right)^2\\right)\\,u\\,v+\\left({\\it cp}^2\\,{\\it nx}^2\\,\\rho^2\\,\\vartheta^2-2\\,{\\it cp}^2\\,{\\it nx}^2\\,\\rho^2\\,\\left(\\frac{d}{d\\,p}\\,\\rho\\right)\\,\\vartheta+{\\it cp}^2\\,{\\it nx}^2\\,\\rho^2\\,\\left(\\frac{d}{d\\,p}\\,\\rho\\right)^2\\right)\\,u^2+\\left(4\\,{\\it cp}^2\\,{\\it ny}^2+4\\,{\\it cp}^2\\,{\\it nx}^2\\right)\\,\\rho^2\\,\\vartheta+\\left(4\\,{\\it cp}\\,{\\it ny}^2+4\\,{\\it cp}\\,{\\it nx}^2\\right)\\,\\rho\\,\\left(\\frac{d}{d\\,T}\\,\\rho\\right)}+\\left(-{\\it cp}\\,{\\it ny}\\,\\rho\\,\\vartheta-{\\it cp}\\,{\\it ny}\\,\\rho\\,\\left(\\frac{d}{d\\,p}\\,\\rho\\right)-2\\,{\\it ny}\\,\\left(\\frac{d}{d\\,T}\\,\\rho\\right)\\right)\\,v+\\left(-{\\it cp}\\,{\\it nx}\\,\\rho\\,\\vartheta-{\\it cp}\\,{\\it nx}\\,\\rho\\,\\left(\\frac{d}{d\\,p}\\,\\rho\\right)-2\\,{\\it nx}\\,\\left(\\frac{d}{d\\,T}\\,\\rho\\right)\\right)\\,u}{2\\,{\\it cp}\\,\\rho\\,\\vartheta+2\\,\\left(\\frac{d}{d\\,T}\\,\\rho\\right)}\\]"
      ],
      "text/plain": [
       "                   2   2    2      2       2   2    2 drho\n",
       "(%o155) - (sqrt((cp  ny  rho  theta  - 2 cp  ny  rho  ---- theta\n",
       "                                                       dp\n",
       "     2   2    2  drho 2   2        2          2      2\n",
       " + cp  ny  rho  (----) ) v  + (2 cp  nx ny rho  theta\n",
       "                  dp\n",
       "       2          2 drho             2          2  drho 2\n",
       " - 4 cp  nx ny rho  ---- theta + 2 cp  nx ny rho  (----) ) u v\n",
       "                     dp                             dp\n",
       "      2   2    2      2       2   2    2 drho           2   2    2  drho 2   2\n",
       " + (cp  nx  rho  theta  - 2 cp  nx  rho  ---- theta + cp  nx  rho  (----) ) u\n",
       "                                          dp                         dp\n",
       "        2   2       2   2     2                 2          2      drho\n",
       " + (4 cp  ny  + 4 cp  nx ) rho  theta + (4 cp ny  + 4 cp nx ) rho ----)\n",
       "                                                                   dT\n",
       "                                    drho        drho\n",
       " + ((- cp ny rho theta) - cp ny rho ---- - 2 ny ----) v\n",
       "                                     dp          dT\n",
       "                                    drho        drho\n",
       " + ((- cp nx rho theta) - cp nx rho ---- - 2 nx ----) u)\n",
       "                                     dp          dT\n",
       "                     drho\n",
       "/(2 cp rho theta + 2 ----)\n",
       "                      dT"
      ],
      "text/x-maxima": [
       "-(sqrt((cp^2*ny^2*rho^2*theta^2-2*cp^2*ny^2*rho^2*'diff(rho,p,1)*theta\n",
       "                               +cp^2*ny^2*rho^2*('diff(rho,p,1))^2)\n",
       "        *v^2\n",
       "        +(2*cp^2*nx*ny*rho^2*theta^2-4*cp^2*nx*ny*rho^2*'diff(rho,p,1)*theta\n",
       "                                    +2*cp^2*nx*ny*rho^2*('diff(rho,p,1))^2)\n",
       "         *u*v\n",
       "        +(cp^2*nx^2*rho^2*theta^2-2*cp^2*nx^2*rho^2*'diff(rho,p,1)*theta\n",
       "                                 +cp^2*nx^2*rho^2*('diff(rho,p,1))^2)\n",
       "         *u^2+(4*cp^2*ny^2+4*cp^2*nx^2)*rho^2*theta\n",
       "        +(4*cp*ny^2+4*cp*nx^2)*rho*'diff(rho,T,1))\n",
       " +((-cp*ny*rho*theta)-cp*ny*rho*'diff(rho,p,1)-2*ny*'diff(rho,T,1))*v\n",
       " +((-cp*nx*rho*theta)-cp*nx*rho*'diff(rho,p,1)-2*nx*'diff(rho,T,1))*u)\n",
       " /(2*cp*rho*theta+2*'diff(rho,T,1))"
      ]
     },
     "execution_count": 87,
     "metadata": {},
     "output_type": "execute_result"
    }
   ],
   "source": [
    "lambda[1][1];"
   ]
  },
  {
   "cell_type": "code",
   "execution_count": 88,
   "metadata": {},
   "outputs": [
    {
     "data": {
      "text/latex": [
       "\\[\\tag{${\\it \\%o}_{156}$}\\left[ \\left[ \\left[ -\\frac{\\sqrt{\\left({\\it cp}^2\\,{\\it ny}^2\\,\\rho^2\\,\\vartheta^2-2\\,{\\it cp}^2\\,{\\it ny}^2\\,\\rho^2\\,\\left(\\frac{d}{d\\,p}\\,\\rho\\right)\\,\\vartheta+{\\it cp}^2\\,{\\it ny}^2\\,\\rho^2\\,\\left(\\frac{d}{d\\,p}\\,\\rho\\right)^2\\right)\\,v^2+\\left(2\\,{\\it cp}^2\\,{\\it nx}\\,{\\it ny}\\,\\rho^2\\,\\vartheta^2-4\\,{\\it cp}^2\\,{\\it nx}\\,{\\it ny}\\,\\rho^2\\,\\left(\\frac{d}{d\\,p}\\,\\rho\\right)\\,\\vartheta+2\\,{\\it cp}^2\\,{\\it nx}\\,{\\it ny}\\,\\rho^2\\,\\left(\\frac{d}{d\\,p}\\,\\rho\\right)^2\\right)\\,u\\,v+\\left({\\it cp}^2\\,{\\it nx}^2\\,\\rho^2\\,\\vartheta^2-2\\,{\\it cp}^2\\,{\\it nx}^2\\,\\rho^2\\,\\left(\\frac{d}{d\\,p}\\,\\rho\\right)\\,\\vartheta+{\\it cp}^2\\,{\\it nx}^2\\,\\rho^2\\,\\left(\\frac{d}{d\\,p}\\,\\rho\\right)^2\\right)\\,u^2+\\left(4\\,{\\it cp}^2\\,{\\it ny}^2+4\\,{\\it cp}^2\\,{\\it nx}^2\\right)\\,\\rho^2\\,\\vartheta+\\left(4\\,{\\it cp}\\,{\\it ny}^2+4\\,{\\it cp}\\,{\\it nx}^2\\right)\\,\\rho\\,\\left(\\frac{d}{d\\,T}\\,\\rho\\right)}+\\left(-{\\it cp}\\,{\\it ny}\\,\\rho\\,\\vartheta-{\\it cp}\\,{\\it ny}\\,\\rho\\,\\left(\\frac{d}{d\\,p}\\,\\rho\\right)-2\\,{\\it ny}\\,\\left(\\frac{d}{d\\,T}\\,\\rho\\right)\\right)\\,v+\\left(-{\\it cp}\\,{\\it nx}\\,\\rho\\,\\vartheta-{\\it cp}\\,{\\it nx}\\,\\rho\\,\\left(\\frac{d}{d\\,p}\\,\\rho\\right)-2\\,{\\it nx}\\,\\left(\\frac{d}{d\\,T}\\,\\rho\\right)\\right)\\,u}{2\\,{\\it cp}\\,\\rho\\,\\vartheta+2\\,\\left(\\frac{d}{d\\,T}\\,\\rho\\right)} , \\frac{\\sqrt{\\left({\\it cp}^2\\,{\\it ny}^2\\,\\rho^2\\,\\vartheta^2-2\\,{\\it cp}^2\\,{\\it ny}^2\\,\\rho^2\\,\\left(\\frac{d}{d\\,p}\\,\\rho\\right)\\,\\vartheta+{\\it cp}^2\\,{\\it ny}^2\\,\\rho^2\\,\\left(\\frac{d}{d\\,p}\\,\\rho\\right)^2\\right)\\,v^2+\\left(2\\,{\\it cp}^2\\,{\\it nx}\\,{\\it ny}\\,\\rho^2\\,\\vartheta^2-4\\,{\\it cp}^2\\,{\\it nx}\\,{\\it ny}\\,\\rho^2\\,\\left(\\frac{d}{d\\,p}\\,\\rho\\right)\\,\\vartheta+2\\,{\\it cp}^2\\,{\\it nx}\\,{\\it ny}\\,\\rho^2\\,\\left(\\frac{d}{d\\,p}\\,\\rho\\right)^2\\right)\\,u\\,v+\\left({\\it cp}^2\\,{\\it nx}^2\\,\\rho^2\\,\\vartheta^2-2\\,{\\it cp}^2\\,{\\it nx}^2\\,\\rho^2\\,\\left(\\frac{d}{d\\,p}\\,\\rho\\right)\\,\\vartheta+{\\it cp}^2\\,{\\it nx}^2\\,\\rho^2\\,\\left(\\frac{d}{d\\,p}\\,\\rho\\right)^2\\right)\\,u^2+\\left(4\\,{\\it cp}^2\\,{\\it ny}^2+4\\,{\\it cp}^2\\,{\\it nx}^2\\right)\\,\\rho^2\\,\\vartheta+\\left(4\\,{\\it cp}\\,{\\it ny}^2+4\\,{\\it cp}\\,{\\it nx}^2\\right)\\,\\rho\\,\\left(\\frac{d}{d\\,T}\\,\\rho\\right)}+\\left({\\it cp}\\,{\\it ny}\\,\\rho\\,\\vartheta+{\\it cp}\\,{\\it ny}\\,\\rho\\,\\left(\\frac{d}{d\\,p}\\,\\rho\\right)+2\\,{\\it ny}\\,\\left(\\frac{d}{d\\,T}\\,\\rho\\right)\\right)\\,v+\\left({\\it cp}\\,{\\it nx}\\,\\rho\\,\\vartheta+{\\it cp}\\,{\\it nx}\\,\\rho\\,\\left(\\frac{d}{d\\,p}\\,\\rho\\right)+2\\,{\\it nx}\\,\\left(\\frac{d}{d\\,T}\\,\\rho\\right)\\right)\\,u}{2\\,{\\it cp}\\,\\rho\\,\\vartheta+2\\,\\left(\\frac{d}{d\\,T}\\,\\rho\\right)} , {\\it ny}\\,v+{\\it nx}\\,u \\right]  , \\left[ 1 , 1 , 2 \\right]  \\right]  , \\left[ \\left[ \\left[ 1 , -\\frac{{\\it nx}\\,\\sqrt{\\left({\\it cp}^2\\,{\\it ny}^2\\,\\rho^2\\,\\vartheta^2-2\\,{\\it cp}^2\\,{\\it ny}^2\\,\\rho^2\\,\\left(\\frac{d}{d\\,p}\\,\\rho\\right)\\,\\vartheta+{\\it cp}^2\\,{\\it ny}^2\\,\\rho^2\\,\\left(\\frac{d}{d\\,p}\\,\\rho\\right)^2\\right)\\,v^2+\\left(2\\,{\\it cp}^2\\,{\\it nx}\\,{\\it ny}\\,\\rho^2\\,\\vartheta^2-4\\,{\\it cp}^2\\,{\\it nx}\\,{\\it ny}\\,\\rho^2\\,\\left(\\frac{d}{d\\,p}\\,\\rho\\right)\\,\\vartheta+2\\,{\\it cp}^2\\,{\\it nx}\\,{\\it ny}\\,\\rho^2\\,\\left(\\frac{d}{d\\,p}\\,\\rho\\right)^2\\right)\\,u\\,v+\\left({\\it cp}^2\\,{\\it nx}^2\\,\\rho^2\\,\\vartheta^2-2\\,{\\it cp}^2\\,{\\it nx}^2\\,\\rho^2\\,\\left(\\frac{d}{d\\,p}\\,\\rho\\right)\\,\\vartheta+{\\it cp}^2\\,{\\it nx}^2\\,\\rho^2\\,\\left(\\frac{d}{d\\,p}\\,\\rho\\right)^2\\right)\\,u^2+\\left(4\\,{\\it cp}^2\\,{\\it ny}^2+4\\,{\\it cp}^2\\,{\\it nx}^2\\right)\\,\\rho^2\\,\\vartheta+\\left(4\\,{\\it cp}\\,{\\it ny}^2+4\\,{\\it cp}\\,{\\it nx}^2\\right)\\,\\rho\\,\\left(\\frac{d}{d\\,T}\\,\\rho\\right)}+\\left({\\it cp}\\,{\\it nx}\\,{\\it ny}\\,\\rho\\,\\left(\\frac{d}{d\\,p}\\,\\rho\\right)-{\\it cp}\\,{\\it nx}\\,{\\it ny}\\,\\rho\\,\\vartheta\\right)\\,v+\\left({\\it cp}\\,{\\it nx}^2\\,\\rho\\,\\left(\\frac{d}{d\\,p}\\,\\rho\\right)-{\\it cp}\\,{\\it nx}^2\\,\\rho\\,\\vartheta\\right)\\,u}{\\left(2\\,{\\it cp}\\,{\\it ny}^2+2\\,{\\it cp}\\,{\\it nx}^2\\right)\\,\\rho^2} , -\\frac{{\\it ny}\\,\\sqrt{\\left({\\it cp}^2\\,{\\it ny}^2\\,\\rho^2\\,\\vartheta^2-2\\,{\\it cp}^2\\,{\\it ny}^2\\,\\rho^2\\,\\left(\\frac{d}{d\\,p}\\,\\rho\\right)\\,\\vartheta+{\\it cp}^2\\,{\\it ny}^2\\,\\rho^2\\,\\left(\\frac{d}{d\\,p}\\,\\rho\\right)^2\\right)\\,v^2+\\left(2\\,{\\it cp}^2\\,{\\it nx}\\,{\\it ny}\\,\\rho^2\\,\\vartheta^2-4\\,{\\it cp}^2\\,{\\it nx}\\,{\\it ny}\\,\\rho^2\\,\\left(\\frac{d}{d\\,p}\\,\\rho\\right)\\,\\vartheta+2\\,{\\it cp}^2\\,{\\it nx}\\,{\\it ny}\\,\\rho^2\\,\\left(\\frac{d}{d\\,p}\\,\\rho\\right)^2\\right)\\,u\\,v+\\left({\\it cp}^2\\,{\\it nx}^2\\,\\rho^2\\,\\vartheta^2-2\\,{\\it cp}^2\\,{\\it nx}^2\\,\\rho^2\\,\\left(\\frac{d}{d\\,p}\\,\\rho\\right)\\,\\vartheta+{\\it cp}^2\\,{\\it nx}^2\\,\\rho^2\\,\\left(\\frac{d}{d\\,p}\\,\\rho\\right)^2\\right)\\,u^2+\\left(4\\,{\\it cp}^2\\,{\\it ny}^2+4\\,{\\it cp}^2\\,{\\it nx}^2\\right)\\,\\rho^2\\,\\vartheta+\\left(4\\,{\\it cp}\\,{\\it ny}^2+4\\,{\\it cp}\\,{\\it nx}^2\\right)\\,\\rho\\,\\left(\\frac{d}{d\\,T}\\,\\rho\\right)}+\\left({\\it cp}\\,{\\it ny}^2\\,\\rho\\,\\left(\\frac{d}{d\\,p}\\,\\rho\\right)-{\\it cp}\\,{\\it ny}^2\\,\\rho\\,\\vartheta\\right)\\,v+\\left({\\it cp}\\,{\\it nx}\\,{\\it ny}\\,\\rho\\,\\left(\\frac{d}{d\\,p}\\,\\rho\\right)-{\\it cp}\\,{\\it nx}\\,{\\it ny}\\,\\rho\\,\\vartheta\\right)\\,u}{\\left(2\\,{\\it cp}\\,{\\it ny}^2+2\\,{\\it cp}\\,{\\it nx}^2\\right)\\,\\rho^2} , \\frac{1}{{\\it cp}\\,\\rho} \\right]  \\right]  , \\left[ \\left[ 1 , \\frac{{\\it nx}\\,\\sqrt{\\left({\\it cp}^2\\,{\\it ny}^2\\,\\rho^2\\,\\vartheta^2-2\\,{\\it cp}^2\\,{\\it ny}^2\\,\\rho^2\\,\\left(\\frac{d}{d\\,p}\\,\\rho\\right)\\,\\vartheta+{\\it cp}^2\\,{\\it ny}^2\\,\\rho^2\\,\\left(\\frac{d}{d\\,p}\\,\\rho\\right)^2\\right)\\,v^2+\\left(2\\,{\\it cp}^2\\,{\\it nx}\\,{\\it ny}\\,\\rho^2\\,\\vartheta^2-4\\,{\\it cp}^2\\,{\\it nx}\\,{\\it ny}\\,\\rho^2\\,\\left(\\frac{d}{d\\,p}\\,\\rho\\right)\\,\\vartheta+2\\,{\\it cp}^2\\,{\\it nx}\\,{\\it ny}\\,\\rho^2\\,\\left(\\frac{d}{d\\,p}\\,\\rho\\right)^2\\right)\\,u\\,v+\\left({\\it cp}^2\\,{\\it nx}^2\\,\\rho^2\\,\\vartheta^2-2\\,{\\it cp}^2\\,{\\it nx}^2\\,\\rho^2\\,\\left(\\frac{d}{d\\,p}\\,\\rho\\right)\\,\\vartheta+{\\it cp}^2\\,{\\it nx}^2\\,\\rho^2\\,\\left(\\frac{d}{d\\,p}\\,\\rho\\right)^2\\right)\\,u^2+\\left(4\\,{\\it cp}^2\\,{\\it ny}^2+4\\,{\\it cp}^2\\,{\\it nx}^2\\right)\\,\\rho^2\\,\\vartheta+\\left(4\\,{\\it cp}\\,{\\it ny}^2+4\\,{\\it cp}\\,{\\it nx}^2\\right)\\,\\rho\\,\\left(\\frac{d}{d\\,T}\\,\\rho\\right)}+\\left({\\it cp}\\,{\\it nx}\\,{\\it ny}\\,\\rho\\,\\vartheta-{\\it cp}\\,{\\it nx}\\,{\\it ny}\\,\\rho\\,\\left(\\frac{d}{d\\,p}\\,\\rho\\right)\\right)\\,v+\\left({\\it cp}\\,{\\it nx}^2\\,\\rho\\,\\vartheta-{\\it cp}\\,{\\it nx}^2\\,\\rho\\,\\left(\\frac{d}{d\\,p}\\,\\rho\\right)\\right)\\,u}{\\left(2\\,{\\it cp}\\,{\\it ny}^2+2\\,{\\it cp}\\,{\\it nx}^2\\right)\\,\\rho^2} , \\frac{{\\it ny}\\,\\sqrt{\\left({\\it cp}^2\\,{\\it ny}^2\\,\\rho^2\\,\\vartheta^2-2\\,{\\it cp}^2\\,{\\it ny}^2\\,\\rho^2\\,\\left(\\frac{d}{d\\,p}\\,\\rho\\right)\\,\\vartheta+{\\it cp}^2\\,{\\it ny}^2\\,\\rho^2\\,\\left(\\frac{d}{d\\,p}\\,\\rho\\right)^2\\right)\\,v^2+\\left(2\\,{\\it cp}^2\\,{\\it nx}\\,{\\it ny}\\,\\rho^2\\,\\vartheta^2-4\\,{\\it cp}^2\\,{\\it nx}\\,{\\it ny}\\,\\rho^2\\,\\left(\\frac{d}{d\\,p}\\,\\rho\\right)\\,\\vartheta+2\\,{\\it cp}^2\\,{\\it nx}\\,{\\it ny}\\,\\rho^2\\,\\left(\\frac{d}{d\\,p}\\,\\rho\\right)^2\\right)\\,u\\,v+\\left({\\it cp}^2\\,{\\it nx}^2\\,\\rho^2\\,\\vartheta^2-2\\,{\\it cp}^2\\,{\\it nx}^2\\,\\rho^2\\,\\left(\\frac{d}{d\\,p}\\,\\rho\\right)\\,\\vartheta+{\\it cp}^2\\,{\\it nx}^2\\,\\rho^2\\,\\left(\\frac{d}{d\\,p}\\,\\rho\\right)^2\\right)\\,u^2+\\left(4\\,{\\it cp}^2\\,{\\it ny}^2+4\\,{\\it cp}^2\\,{\\it nx}^2\\right)\\,\\rho^2\\,\\vartheta+\\left(4\\,{\\it cp}\\,{\\it ny}^2+4\\,{\\it cp}\\,{\\it nx}^2\\right)\\,\\rho\\,\\left(\\frac{d}{d\\,T}\\,\\rho\\right)}+\\left({\\it cp}\\,{\\it ny}^2\\,\\rho\\,\\vartheta-{\\it cp}\\,{\\it ny}^2\\,\\rho\\,\\left(\\frac{d}{d\\,p}\\,\\rho\\right)\\right)\\,v+\\left({\\it cp}\\,{\\it nx}\\,{\\it ny}\\,\\rho\\,\\vartheta-{\\it cp}\\,{\\it nx}\\,{\\it ny}\\,\\rho\\,\\left(\\frac{d}{d\\,p}\\,\\rho\\right)\\right)\\,u}{\\left(2\\,{\\it cp}\\,{\\it ny}^2+2\\,{\\it cp}\\,{\\it nx}^2\\right)\\,\\rho^2} , \\frac{1}{{\\it cp}\\,\\rho} \\right]  \\right]  , \\left[ \\left[ 0 , 1 , -\\frac{{\\it nx}}{{\\it ny}} , 0 \\right]  , \\left[ 0 , 0 , 0 , 1 \\right]  \\right]  \\right]  \\right] \\]"
      ],
      "text/plain": [
       "                      2   2    2      2       2   2    2 drho\n",
       "(%o156) [[[- (sqrt((cp  ny  rho  theta  - 2 cp  ny  rho  ---- theta\n",
       "                                                          dp\n",
       "     2   2    2  drho 2   2        2          2      2\n",
       " + cp  ny  rho  (----) ) v  + (2 cp  nx ny rho  theta\n",
       "                  dp\n",
       "       2          2 drho             2          2  drho 2\n",
       " - 4 cp  nx ny rho  ---- theta + 2 cp  nx ny rho  (----) ) u v\n",
       "                     dp                             dp\n",
       "      2   2    2      2       2   2    2 drho           2   2    2  drho 2   2\n",
       " + (cp  nx  rho  theta  - 2 cp  nx  rho  ---- theta + cp  nx  rho  (----) ) u\n",
       "                                          dp                         dp\n",
       "        2   2       2   2     2                 2          2      drho\n",
       " + (4 cp  ny  + 4 cp  nx ) rho  theta + (4 cp ny  + 4 cp nx ) rho ----)\n",
       "                                                                   dT\n",
       "                                    drho        drho\n",
       " + ((- cp ny rho theta) - cp ny rho ---- - 2 ny ----) v\n",
       "                                     dp          dT\n",
       "                                    drho        drho\n",
       " + ((- cp nx rho theta) - cp nx rho ---- - 2 nx ----) u)\n",
       "                                     dp          dT\n",
       "                     drho            2   2    2      2\n",
       "/(2 cp rho theta + 2 ----), (sqrt((cp  ny  rho  theta\n",
       "                      dT\n",
       "       2   2    2 drho           2   2    2  drho 2   2\n",
       " - 2 cp  ny  rho  ---- theta + cp  ny  rho  (----) ) v\n",
       "                   dp                         dp\n",
       "        2          2      2       2          2 drho\n",
       " + (2 cp  nx ny rho  theta  - 4 cp  nx ny rho  ---- theta\n",
       "                                                dp\n",
       "       2          2  drho 2           2   2    2      2\n",
       " + 2 cp  nx ny rho  (----) ) u v + (cp  nx  rho  theta\n",
       "                      dp\n",
       "       2   2    2 drho           2   2    2  drho 2   2\n",
       " - 2 cp  nx  rho  ---- theta + cp  nx  rho  (----) ) u\n",
       "                   dp                         dp\n",
       "        2   2       2   2     2                 2          2      drho\n",
       " + (4 cp  ny  + 4 cp  nx ) rho  theta + (4 cp ny  + 4 cp nx ) rho ----)\n",
       "                                                                   dT\n",
       "                                drho        drho\n",
       " + (cp ny rho theta + cp ny rho ---- + 2 ny ----) v\n",
       "                                 dp          dT\n",
       "                                drho        drho\n",
       " + (cp nx rho theta + cp nx rho ---- + 2 nx ----) u)\n",
       "                                 dp          dT\n",
       "                     drho\n",
       "/(2 cp rho theta + 2 ----), ny v + nx u], [1, 1, 2]], \n",
       "                      dT\n",
       "                    2   2    2      2       2   2    2 drho\n",
       "[[[1, - (nx sqrt((cp  ny  rho  theta  - 2 cp  ny  rho  ---- theta\n",
       "                                                        dp\n",
       "     2   2    2  drho 2   2        2          2      2\n",
       " + cp  ny  rho  (----) ) v  + (2 cp  nx ny rho  theta\n",
       "                  dp\n",
       "       2          2 drho             2          2  drho 2\n",
       " - 4 cp  nx ny rho  ---- theta + 2 cp  nx ny rho  (----) ) u v\n",
       "                     dp                             dp\n",
       "      2   2    2      2       2   2    2 drho           2   2    2  drho 2   2\n",
       " + (cp  nx  rho  theta  - 2 cp  nx  rho  ---- theta + cp  nx  rho  (----) ) u\n",
       "                                          dp                         dp\n",
       "        2   2       2   2     2                 2          2      drho\n",
       " + (4 cp  ny  + 4 cp  nx ) rho  theta + (4 cp ny  + 4 cp nx ) rho ----)\n",
       "                                                                   dT\n",
       "                 drho\n",
       " + (cp nx ny rho ---- - cp nx ny rho theta) v\n",
       "                  dp\n",
       "         2     drho        2                        2          2     2\n",
       " + (cp nx  rho ---- - cp nx  rho theta) u)/((2 cp ny  + 2 cp nx ) rho ), \n",
       "                dp\n",
       "              2   2    2      2       2   2    2 drho\n",
       "- (ny sqrt((cp  ny  rho  theta  - 2 cp  ny  rho  ---- theta\n",
       "                                                  dp\n",
       "     2   2    2  drho 2   2        2          2      2\n",
       " + cp  ny  rho  (----) ) v  + (2 cp  nx ny rho  theta\n",
       "                  dp\n",
       "       2          2 drho             2          2  drho 2\n",
       " - 4 cp  nx ny rho  ---- theta + 2 cp  nx ny rho  (----) ) u v\n",
       "                     dp                             dp\n",
       "      2   2    2      2       2   2    2 drho           2   2    2  drho 2   2\n",
       " + (cp  nx  rho  theta  - 2 cp  nx  rho  ---- theta + cp  nx  rho  (----) ) u\n",
       "                                          dp                         dp\n",
       "        2   2       2   2     2                 2          2      drho\n",
       " + (4 cp  ny  + 4 cp  nx ) rho  theta + (4 cp ny  + 4 cp nx ) rho ----)\n",
       "                                                                   dT\n",
       "         2     drho        2\n",
       " + (cp ny  rho ---- - cp ny  rho theta) v\n",
       "                dp\n",
       "                 drho                                   2          2     2\n",
       " + (cp nx ny rho ---- - cp nx ny rho theta) u)/((2 cp ny  + 2 cp nx ) rho ), \n",
       "                  dp\n",
       "  1                        2   2    2      2       2   2    2 drho\n",
       "------]], [[1, (nx sqrt((cp  ny  rho  theta  - 2 cp  ny  rho  ---- theta\n",
       "cp rho                                                         dp\n",
       "     2   2    2  drho 2   2        2          2      2\n",
       " + cp  ny  rho  (----) ) v  + (2 cp  nx ny rho  theta\n",
       "                  dp\n",
       "       2          2 drho             2          2  drho 2\n",
       " - 4 cp  nx ny rho  ---- theta + 2 cp  nx ny rho  (----) ) u v\n",
       "                     dp                             dp\n",
       "      2   2    2      2       2   2    2 drho           2   2    2  drho 2   2\n",
       " + (cp  nx  rho  theta  - 2 cp  nx  rho  ---- theta + cp  nx  rho  (----) ) u\n",
       "                                          dp                         dp\n",
       "        2   2       2   2     2                 2          2      drho\n",
       " + (4 cp  ny  + 4 cp  nx ) rho  theta + (4 cp ny  + 4 cp nx ) rho ----)\n",
       "                                                                   dT\n",
       "                                      drho\n",
       " + (cp nx ny rho theta - cp nx ny rho ----) v\n",
       "                                       dp\n",
       "         2                  2     drho              2          2     2\n",
       " + (cp nx  rho theta - cp nx  rho ----) u)/((2 cp ny  + 2 cp nx ) rho ), \n",
       "                                   dp\n",
       "            2   2    2      2       2   2    2 drho\n",
       "(ny sqrt((cp  ny  rho  theta  - 2 cp  ny  rho  ---- theta\n",
       "                                                dp\n",
       "     2   2    2  drho 2   2        2          2      2\n",
       " + cp  ny  rho  (----) ) v  + (2 cp  nx ny rho  theta\n",
       "                  dp\n",
       "       2          2 drho             2          2  drho 2\n",
       " - 4 cp  nx ny rho  ---- theta + 2 cp  nx ny rho  (----) ) u v\n",
       "                     dp                             dp\n",
       "      2   2    2      2       2   2    2 drho           2   2    2  drho 2   2\n",
       " + (cp  nx  rho  theta  - 2 cp  nx  rho  ---- theta + cp  nx  rho  (----) ) u\n",
       "                                          dp                         dp\n",
       "        2   2       2   2     2                 2          2      drho\n",
       " + (4 cp  ny  + 4 cp  nx ) rho  theta + (4 cp ny  + 4 cp nx ) rho ----)\n",
       "                                                                   dT\n",
       "         2                  2     drho\n",
       " + (cp ny  rho theta - cp ny  rho ----) v\n",
       "                                   dp\n",
       "                                      drho              2          2     2\n",
       " + (cp nx ny rho theta - cp nx ny rho ----) u)/((2 cp ny  + 2 cp nx ) rho ), \n",
       "                                       dp\n",
       "  1                 nx\n",
       "------]], [[0, 1, - --, 0], [0, 0, 0, 1]]]]\n",
       "cp rho              ny"
      ],
      "text/x-maxima": [
       "[[[-(sqrt((cp^2*ny^2*rho^2*theta^2-2*cp^2*ny^2*rho^2*'diff(rho,p,1)*theta\n",
       "                                  +cp^2*ny^2*rho^2*('diff(rho,p,1))^2)\n",
       "           *v^2\n",
       "           +(2*cp^2*nx*ny*rho^2*theta^2-4*cp^2*nx*ny*rho^2*'diff(rho,p,1)\n",
       "                                         *theta\n",
       "                                       +2*cp^2*nx*ny*rho^2*('diff(rho,p,1))^2)\n",
       "            *u*v\n",
       "           +(cp^2*nx^2*rho^2*theta^2-2*cp^2*nx^2*rho^2*'diff(rho,p,1)*theta\n",
       "                                    +cp^2*nx^2*rho^2*('diff(rho,p,1))^2)\n",
       "            *u^2+(4*cp^2*ny^2+4*cp^2*nx^2)*rho^2*theta\n",
       "           +(4*cp*ny^2+4*cp*nx^2)*rho*'diff(rho,T,1))\n",
       "    +((-cp*ny*rho*theta)-cp*ny*rho*'diff(rho,p,1)-2*ny*'diff(rho,T,1))*v\n",
       "    +((-cp*nx*rho*theta)-cp*nx*rho*'diff(rho,p,1)-2*nx*'diff(rho,T,1))*u)\n",
       "    /(2*cp*rho*theta+2*'diff(rho,T,1)),\n",
       "   (sqrt((cp^2*ny^2*rho^2*theta^2-2*cp^2*ny^2*rho^2*'diff(rho,p,1)*theta\n",
       "                                 +cp^2*ny^2*rho^2*('diff(rho,p,1))^2)\n",
       "          *v^2\n",
       "          +(2*cp^2*nx*ny*rho^2*theta^2-4*cp^2*nx*ny*rho^2*'diff(rho,p,1)*theta\n",
       "                                      +2*cp^2*nx*ny*rho^2*('diff(rho,p,1))^2)\n",
       "           *u*v\n",
       "          +(cp^2*nx^2*rho^2*theta^2-2*cp^2*nx^2*rho^2*'diff(rho,p,1)*theta\n",
       "                                   +cp^2*nx^2*rho^2*('diff(rho,p,1))^2)\n",
       "           *u^2+(4*cp^2*ny^2+4*cp^2*nx^2)*rho^2*theta\n",
       "          +(4*cp*ny^2+4*cp*nx^2)*rho*'diff(rho,T,1))\n",
       "    +(cp*ny*rho*theta+cp*ny*rho*'diff(rho,p,1)+2*ny*'diff(rho,T,1))*v\n",
       "    +(cp*nx*rho*theta+cp*nx*rho*'diff(rho,p,1)+2*nx*'diff(rho,T,1))*u)\n",
       "    /(2*cp*rho*theta+2*'diff(rho,T,1)),ny*v+nx*u],[1,1,2]],\n",
       " [[[1,\n",
       "    -(nx*sqrt((cp^2*ny^2*rho^2*theta^2-2*cp^2*ny^2*rho^2*'diff(rho,p,1)*theta\n",
       "                                      +cp^2*ny^2*rho^2*('diff(rho,p,1))^2)\n",
       "               *v^2\n",
       "               +(2*cp^2*nx*ny*rho^2*theta^2\n",
       "                -4*cp^2*nx*ny*rho^2*'diff(rho,p,1)*theta\n",
       "                +2*cp^2*nx*ny*rho^2*('diff(rho,p,1))^2)\n",
       "                *u*v\n",
       "               +(cp^2*nx^2*rho^2*theta^2\n",
       "                -2*cp^2*nx^2*rho^2*'diff(rho,p,1)*theta\n",
       "                +cp^2*nx^2*rho^2*('diff(rho,p,1))^2)\n",
       "                *u^2+(4*cp^2*ny^2+4*cp^2*nx^2)*rho^2*theta\n",
       "               +(4*cp*ny^2+4*cp*nx^2)*rho*'diff(rho,T,1))\n",
       "     +(cp*nx*ny*rho*'diff(rho,p,1)-cp*nx*ny*rho*theta)*v\n",
       "     +(cp*nx^2*rho*'diff(rho,p,1)-cp*nx^2*rho*theta)*u)\n",
       "     /((2*cp*ny^2+2*cp*nx^2)*rho^2),\n",
       "    -(ny*sqrt((cp^2*ny^2*rho^2*theta^2-2*cp^2*ny^2*rho^2*'diff(rho,p,1)*theta\n",
       "                                      +cp^2*ny^2*rho^2*('diff(rho,p,1))^2)\n",
       "               *v^2\n",
       "               +(2*cp^2*nx*ny*rho^2*theta^2\n",
       "                -4*cp^2*nx*ny*rho^2*'diff(rho,p,1)*theta\n",
       "                +2*cp^2*nx*ny*rho^2*('diff(rho,p,1))^2)\n",
       "                *u*v\n",
       "               +(cp^2*nx^2*rho^2*theta^2\n",
       "                -2*cp^2*nx^2*rho^2*'diff(rho,p,1)*theta\n",
       "                +cp^2*nx^2*rho^2*('diff(rho,p,1))^2)\n",
       "                *u^2+(4*cp^2*ny^2+4*cp^2*nx^2)*rho^2*theta\n",
       "               +(4*cp*ny^2+4*cp*nx^2)*rho*'diff(rho,T,1))\n",
       "     +(cp*ny^2*rho*'diff(rho,p,1)-cp*ny^2*rho*theta)*v\n",
       "     +(cp*nx*ny*rho*'diff(rho,p,1)-cp*nx*ny*rho*theta)*u)\n",
       "     /((2*cp*ny^2+2*cp*nx^2)*rho^2),1/(cp*rho)]],\n",
       "  [[1,\n",
       "    (nx*sqrt((cp^2*ny^2*rho^2*theta^2-2*cp^2*ny^2*rho^2*'diff(rho,p,1)*theta\n",
       "                                     +cp^2*ny^2*rho^2*('diff(rho,p,1))^2)\n",
       "              *v^2\n",
       "              +(2*cp^2*nx*ny*rho^2*theta^2\n",
       "               -4*cp^2*nx*ny*rho^2*'diff(rho,p,1)*theta\n",
       "               +2*cp^2*nx*ny*rho^2*('diff(rho,p,1))^2)\n",
       "               *u*v\n",
       "              +(cp^2*nx^2*rho^2*theta^2-2*cp^2*nx^2*rho^2*'diff(rho,p,1)*theta\n",
       "                                       +cp^2*nx^2*rho^2*('diff(rho,p,1))^2)\n",
       "               *u^2+(4*cp^2*ny^2+4*cp^2*nx^2)*rho^2*theta\n",
       "              +(4*cp*ny^2+4*cp*nx^2)*rho*'diff(rho,T,1))\n",
       "     +(cp*nx*ny*rho*theta-cp*nx*ny*rho*'diff(rho,p,1))*v\n",
       "     +(cp*nx^2*rho*theta-cp*nx^2*rho*'diff(rho,p,1))*u)\n",
       "     /((2*cp*ny^2+2*cp*nx^2)*rho^2),\n",
       "    (ny*sqrt((cp^2*ny^2*rho^2*theta^2-2*cp^2*ny^2*rho^2*'diff(rho,p,1)*theta\n",
       "                                     +cp^2*ny^2*rho^2*('diff(rho,p,1))^2)\n",
       "              *v^2\n",
       "              +(2*cp^2*nx*ny*rho^2*theta^2\n",
       "               -4*cp^2*nx*ny*rho^2*'diff(rho,p,1)*theta\n",
       "               +2*cp^2*nx*ny*rho^2*('diff(rho,p,1))^2)\n",
       "               *u*v\n",
       "              +(cp^2*nx^2*rho^2*theta^2-2*cp^2*nx^2*rho^2*'diff(rho,p,1)*theta\n",
       "                                       +cp^2*nx^2*rho^2*('diff(rho,p,1))^2)\n",
       "               *u^2+(4*cp^2*ny^2+4*cp^2*nx^2)*rho^2*theta\n",
       "              +(4*cp*ny^2+4*cp*nx^2)*rho*'diff(rho,T,1))\n",
       "     +(cp*ny^2*rho*theta-cp*ny^2*rho*'diff(rho,p,1))*v\n",
       "     +(cp*nx*ny*rho*theta-cp*nx*ny*rho*'diff(rho,p,1))*u)\n",
       "     /((2*cp*ny^2+2*cp*nx^2)*rho^2),1/(cp*rho)]],[[0,1,-nx/ny,0],[0,0,0,1]]]]"
      ]
     },
     "execution_count": 88,
     "metadata": {},
     "output_type": "execute_result"
    }
   ],
   "source": [
    "V : eigenvectors(A);"
   ]
  },
  {
   "cell_type": "code",
   "execution_count": 89,
   "metadata": {},
   "outputs": [
    {
     "data": {
      "text/latex": [
       "\\[\\tag{${\\it \\%o}_{157}$}\\left[ \\left[ -\\frac{\\sqrt{\\left({\\it cp}^2\\,{\\it ny}^2\\,\\rho^2\\,\\vartheta^2-2\\,{\\it cp}^2\\,{\\it ny}^2\\,\\rho^2\\,\\left(\\frac{d}{d\\,p}\\,\\rho\\right)\\,\\vartheta+{\\it cp}^2\\,{\\it ny}^2\\,\\rho^2\\,\\left(\\frac{d}{d\\,p}\\,\\rho\\right)^2\\right)\\,v^2+\\left(2\\,{\\it cp}^2\\,{\\it nx}\\,{\\it ny}\\,\\rho^2\\,\\vartheta^2-4\\,{\\it cp}^2\\,{\\it nx}\\,{\\it ny}\\,\\rho^2\\,\\left(\\frac{d}{d\\,p}\\,\\rho\\right)\\,\\vartheta+2\\,{\\it cp}^2\\,{\\it nx}\\,{\\it ny}\\,\\rho^2\\,\\left(\\frac{d}{d\\,p}\\,\\rho\\right)^2\\right)\\,u\\,v+\\left({\\it cp}^2\\,{\\it nx}^2\\,\\rho^2\\,\\vartheta^2-2\\,{\\it cp}^2\\,{\\it nx}^2\\,\\rho^2\\,\\left(\\frac{d}{d\\,p}\\,\\rho\\right)\\,\\vartheta+{\\it cp}^2\\,{\\it nx}^2\\,\\rho^2\\,\\left(\\frac{d}{d\\,p}\\,\\rho\\right)^2\\right)\\,u^2+\\left(4\\,{\\it cp}^2\\,{\\it ny}^2+4\\,{\\it cp}^2\\,{\\it nx}^2\\right)\\,\\rho^2\\,\\vartheta+\\left(4\\,{\\it cp}\\,{\\it ny}^2+4\\,{\\it cp}\\,{\\it nx}^2\\right)\\,\\rho\\,\\left(\\frac{d}{d\\,T}\\,\\rho\\right)}+\\left(-{\\it cp}\\,{\\it ny}\\,\\rho\\,\\vartheta-{\\it cp}\\,{\\it ny}\\,\\rho\\,\\left(\\frac{d}{d\\,p}\\,\\rho\\right)-2\\,{\\it ny}\\,\\left(\\frac{d}{d\\,T}\\,\\rho\\right)\\right)\\,v+\\left(-{\\it cp}\\,{\\it nx}\\,\\rho\\,\\vartheta-{\\it cp}\\,{\\it nx}\\,\\rho\\,\\left(\\frac{d}{d\\,p}\\,\\rho\\right)-2\\,{\\it nx}\\,\\left(\\frac{d}{d\\,T}\\,\\rho\\right)\\right)\\,u}{2\\,{\\it cp}\\,\\rho\\,\\vartheta+2\\,\\left(\\frac{d}{d\\,T}\\,\\rho\\right)} , \\frac{\\sqrt{\\left({\\it cp}^2\\,{\\it ny}^2\\,\\rho^2\\,\\vartheta^2-2\\,{\\it cp}^2\\,{\\it ny}^2\\,\\rho^2\\,\\left(\\frac{d}{d\\,p}\\,\\rho\\right)\\,\\vartheta+{\\it cp}^2\\,{\\it ny}^2\\,\\rho^2\\,\\left(\\frac{d}{d\\,p}\\,\\rho\\right)^2\\right)\\,v^2+\\left(2\\,{\\it cp}^2\\,{\\it nx}\\,{\\it ny}\\,\\rho^2\\,\\vartheta^2-4\\,{\\it cp}^2\\,{\\it nx}\\,{\\it ny}\\,\\rho^2\\,\\left(\\frac{d}{d\\,p}\\,\\rho\\right)\\,\\vartheta+2\\,{\\it cp}^2\\,{\\it nx}\\,{\\it ny}\\,\\rho^2\\,\\left(\\frac{d}{d\\,p}\\,\\rho\\right)^2\\right)\\,u\\,v+\\left({\\it cp}^2\\,{\\it nx}^2\\,\\rho^2\\,\\vartheta^2-2\\,{\\it cp}^2\\,{\\it nx}^2\\,\\rho^2\\,\\left(\\frac{d}{d\\,p}\\,\\rho\\right)\\,\\vartheta+{\\it cp}^2\\,{\\it nx}^2\\,\\rho^2\\,\\left(\\frac{d}{d\\,p}\\,\\rho\\right)^2\\right)\\,u^2+\\left(4\\,{\\it cp}^2\\,{\\it ny}^2+4\\,{\\it cp}^2\\,{\\it nx}^2\\right)\\,\\rho^2\\,\\vartheta+\\left(4\\,{\\it cp}\\,{\\it ny}^2+4\\,{\\it cp}\\,{\\it nx}^2\\right)\\,\\rho\\,\\left(\\frac{d}{d\\,T}\\,\\rho\\right)}+\\left({\\it cp}\\,{\\it ny}\\,\\rho\\,\\vartheta+{\\it cp}\\,{\\it ny}\\,\\rho\\,\\left(\\frac{d}{d\\,p}\\,\\rho\\right)+2\\,{\\it ny}\\,\\left(\\frac{d}{d\\,T}\\,\\rho\\right)\\right)\\,v+\\left({\\it cp}\\,{\\it nx}\\,\\rho\\,\\vartheta+{\\it cp}\\,{\\it nx}\\,\\rho\\,\\left(\\frac{d}{d\\,p}\\,\\rho\\right)+2\\,{\\it nx}\\,\\left(\\frac{d}{d\\,T}\\,\\rho\\right)\\right)\\,u}{2\\,{\\it cp}\\,\\rho\\,\\vartheta+2\\,\\left(\\frac{d}{d\\,T}\\,\\rho\\right)} , {\\it ny}\\,v+{\\it nx}\\,u \\right]  , \\left[ 1 , 1 , 2 \\right]  \\right] \\]"
      ],
      "text/plain": [
       "                     2   2    2      2       2   2    2 drho\n",
       "(%o157) [[- (sqrt((cp  ny  rho  theta  - 2 cp  ny  rho  ---- theta\n",
       "                                                         dp\n",
       "     2   2    2  drho 2   2        2          2      2\n",
       " + cp  ny  rho  (----) ) v  + (2 cp  nx ny rho  theta\n",
       "                  dp\n",
       "       2          2 drho             2          2  drho 2\n",
       " - 4 cp  nx ny rho  ---- theta + 2 cp  nx ny rho  (----) ) u v\n",
       "                     dp                             dp\n",
       "      2   2    2      2       2   2    2 drho           2   2    2  drho 2   2\n",
       " + (cp  nx  rho  theta  - 2 cp  nx  rho  ---- theta + cp  nx  rho  (----) ) u\n",
       "                                          dp                         dp\n",
       "        2   2       2   2     2                 2          2      drho\n",
       " + (4 cp  ny  + 4 cp  nx ) rho  theta + (4 cp ny  + 4 cp nx ) rho ----)\n",
       "                                                                   dT\n",
       "                                    drho        drho\n",
       " + ((- cp ny rho theta) - cp ny rho ---- - 2 ny ----) v\n",
       "                                     dp          dT\n",
       "                                    drho        drho\n",
       " + ((- cp nx rho theta) - cp nx rho ---- - 2 nx ----) u)\n",
       "                                     dp          dT\n",
       "                     drho            2   2    2      2\n",
       "/(2 cp rho theta + 2 ----), (sqrt((cp  ny  rho  theta\n",
       "                      dT\n",
       "       2   2    2 drho           2   2    2  drho 2   2\n",
       " - 2 cp  ny  rho  ---- theta + cp  ny  rho  (----) ) v\n",
       "                   dp                         dp\n",
       "        2          2      2       2          2 drho\n",
       " + (2 cp  nx ny rho  theta  - 4 cp  nx ny rho  ---- theta\n",
       "                                                dp\n",
       "       2          2  drho 2           2   2    2      2\n",
       " + 2 cp  nx ny rho  (----) ) u v + (cp  nx  rho  theta\n",
       "                      dp\n",
       "       2   2    2 drho           2   2    2  drho 2   2\n",
       " - 2 cp  nx  rho  ---- theta + cp  nx  rho  (----) ) u\n",
       "                   dp                         dp\n",
       "        2   2       2   2     2                 2          2      drho\n",
       " + (4 cp  ny  + 4 cp  nx ) rho  theta + (4 cp ny  + 4 cp nx ) rho ----)\n",
       "                                                                   dT\n",
       "                                drho        drho\n",
       " + (cp ny rho theta + cp ny rho ---- + 2 ny ----) v\n",
       "                                 dp          dT\n",
       "                                drho        drho\n",
       " + (cp nx rho theta + cp nx rho ---- + 2 nx ----) u)\n",
       "                                 dp          dT\n",
       "                     drho\n",
       "/(2 cp rho theta + 2 ----), ny v + nx u], [1, 1, 2]]\n",
       "                      dT"
      ],
      "text/x-maxima": [
       "[[-(sqrt((cp^2*ny^2*rho^2*theta^2-2*cp^2*ny^2*rho^2*'diff(rho,p,1)*theta\n",
       "                                 +cp^2*ny^2*rho^2*('diff(rho,p,1))^2)\n",
       "          *v^2\n",
       "          +(2*cp^2*nx*ny*rho^2*theta^2-4*cp^2*nx*ny*rho^2*'diff(rho,p,1)*theta\n",
       "                                      +2*cp^2*nx*ny*rho^2*('diff(rho,p,1))^2)\n",
       "           *u*v\n",
       "          +(cp^2*nx^2*rho^2*theta^2-2*cp^2*nx^2*rho^2*'diff(rho,p,1)*theta\n",
       "                                   +cp^2*nx^2*rho^2*('diff(rho,p,1))^2)\n",
       "           *u^2+(4*cp^2*ny^2+4*cp^2*nx^2)*rho^2*theta\n",
       "          +(4*cp*ny^2+4*cp*nx^2)*rho*'diff(rho,T,1))\n",
       "   +((-cp*ny*rho*theta)-cp*ny*rho*'diff(rho,p,1)-2*ny*'diff(rho,T,1))*v\n",
       "   +((-cp*nx*rho*theta)-cp*nx*rho*'diff(rho,p,1)-2*nx*'diff(rho,T,1))*u)\n",
       "   /(2*cp*rho*theta+2*'diff(rho,T,1)),\n",
       "  (sqrt((cp^2*ny^2*rho^2*theta^2-2*cp^2*ny^2*rho^2*'diff(rho,p,1)*theta\n",
       "                                +cp^2*ny^2*rho^2*('diff(rho,p,1))^2)\n",
       "         *v^2\n",
       "         +(2*cp^2*nx*ny*rho^2*theta^2-4*cp^2*nx*ny*rho^2*'diff(rho,p,1)*theta\n",
       "                                     +2*cp^2*nx*ny*rho^2*('diff(rho,p,1))^2)\n",
       "          *u*v\n",
       "         +(cp^2*nx^2*rho^2*theta^2-2*cp^2*nx^2*rho^2*'diff(rho,p,1)*theta\n",
       "                                  +cp^2*nx^2*rho^2*('diff(rho,p,1))^2)\n",
       "          *u^2+(4*cp^2*ny^2+4*cp^2*nx^2)*rho^2*theta\n",
       "         +(4*cp*ny^2+4*cp*nx^2)*rho*'diff(rho,T,1))\n",
       "   +(cp*ny*rho*theta+cp*ny*rho*'diff(rho,p,1)+2*ny*'diff(rho,T,1))*v\n",
       "   +(cp*nx*rho*theta+cp*nx*rho*'diff(rho,p,1)+2*nx*'diff(rho,T,1))*u)\n",
       "   /(2*cp*rho*theta+2*'diff(rho,T,1)),ny*v+nx*u],[1,1,2]]"
      ]
     },
     "execution_count": 89,
     "metadata": {},
     "output_type": "execute_result"
    }
   ],
   "source": [
    "V[1];"
   ]
  },
  {
   "cell_type": "code",
   "execution_count": 90,
   "metadata": {},
   "outputs": [
    {
     "data": {
      "text/latex": [
       "\\[\\tag{${\\it \\%o}_{158}$}\\left[ \\left[ \\left[ 1 , -\\frac{{\\it nx}\\,\\sqrt{\\left({\\it cp}^2\\,{\\it ny}^2\\,\\rho^2\\,\\vartheta^2-2\\,{\\it cp}^2\\,{\\it ny}^2\\,\\rho^2\\,\\left(\\frac{d}{d\\,p}\\,\\rho\\right)\\,\\vartheta+{\\it cp}^2\\,{\\it ny}^2\\,\\rho^2\\,\\left(\\frac{d}{d\\,p}\\,\\rho\\right)^2\\right)\\,v^2+\\left(2\\,{\\it cp}^2\\,{\\it nx}\\,{\\it ny}\\,\\rho^2\\,\\vartheta^2-4\\,{\\it cp}^2\\,{\\it nx}\\,{\\it ny}\\,\\rho^2\\,\\left(\\frac{d}{d\\,p}\\,\\rho\\right)\\,\\vartheta+2\\,{\\it cp}^2\\,{\\it nx}\\,{\\it ny}\\,\\rho^2\\,\\left(\\frac{d}{d\\,p}\\,\\rho\\right)^2\\right)\\,u\\,v+\\left({\\it cp}^2\\,{\\it nx}^2\\,\\rho^2\\,\\vartheta^2-2\\,{\\it cp}^2\\,{\\it nx}^2\\,\\rho^2\\,\\left(\\frac{d}{d\\,p}\\,\\rho\\right)\\,\\vartheta+{\\it cp}^2\\,{\\it nx}^2\\,\\rho^2\\,\\left(\\frac{d}{d\\,p}\\,\\rho\\right)^2\\right)\\,u^2+\\left(4\\,{\\it cp}^2\\,{\\it ny}^2+4\\,{\\it cp}^2\\,{\\it nx}^2\\right)\\,\\rho^2\\,\\vartheta+\\left(4\\,{\\it cp}\\,{\\it ny}^2+4\\,{\\it cp}\\,{\\it nx}^2\\right)\\,\\rho\\,\\left(\\frac{d}{d\\,T}\\,\\rho\\right)}+\\left({\\it cp}\\,{\\it nx}\\,{\\it ny}\\,\\rho\\,\\left(\\frac{d}{d\\,p}\\,\\rho\\right)-{\\it cp}\\,{\\it nx}\\,{\\it ny}\\,\\rho\\,\\vartheta\\right)\\,v+\\left({\\it cp}\\,{\\it nx}^2\\,\\rho\\,\\left(\\frac{d}{d\\,p}\\,\\rho\\right)-{\\it cp}\\,{\\it nx}^2\\,\\rho\\,\\vartheta\\right)\\,u}{\\left(2\\,{\\it cp}\\,{\\it ny}^2+2\\,{\\it cp}\\,{\\it nx}^2\\right)\\,\\rho^2} , -\\frac{{\\it ny}\\,\\sqrt{\\left({\\it cp}^2\\,{\\it ny}^2\\,\\rho^2\\,\\vartheta^2-2\\,{\\it cp}^2\\,{\\it ny}^2\\,\\rho^2\\,\\left(\\frac{d}{d\\,p}\\,\\rho\\right)\\,\\vartheta+{\\it cp}^2\\,{\\it ny}^2\\,\\rho^2\\,\\left(\\frac{d}{d\\,p}\\,\\rho\\right)^2\\right)\\,v^2+\\left(2\\,{\\it cp}^2\\,{\\it nx}\\,{\\it ny}\\,\\rho^2\\,\\vartheta^2-4\\,{\\it cp}^2\\,{\\it nx}\\,{\\it ny}\\,\\rho^2\\,\\left(\\frac{d}{d\\,p}\\,\\rho\\right)\\,\\vartheta+2\\,{\\it cp}^2\\,{\\it nx}\\,{\\it ny}\\,\\rho^2\\,\\left(\\frac{d}{d\\,p}\\,\\rho\\right)^2\\right)\\,u\\,v+\\left({\\it cp}^2\\,{\\it nx}^2\\,\\rho^2\\,\\vartheta^2-2\\,{\\it cp}^2\\,{\\it nx}^2\\,\\rho^2\\,\\left(\\frac{d}{d\\,p}\\,\\rho\\right)\\,\\vartheta+{\\it cp}^2\\,{\\it nx}^2\\,\\rho^2\\,\\left(\\frac{d}{d\\,p}\\,\\rho\\right)^2\\right)\\,u^2+\\left(4\\,{\\it cp}^2\\,{\\it ny}^2+4\\,{\\it cp}^2\\,{\\it nx}^2\\right)\\,\\rho^2\\,\\vartheta+\\left(4\\,{\\it cp}\\,{\\it ny}^2+4\\,{\\it cp}\\,{\\it nx}^2\\right)\\,\\rho\\,\\left(\\frac{d}{d\\,T}\\,\\rho\\right)}+\\left({\\it cp}\\,{\\it ny}^2\\,\\rho\\,\\left(\\frac{d}{d\\,p}\\,\\rho\\right)-{\\it cp}\\,{\\it ny}^2\\,\\rho\\,\\vartheta\\right)\\,v+\\left({\\it cp}\\,{\\it nx}\\,{\\it ny}\\,\\rho\\,\\left(\\frac{d}{d\\,p}\\,\\rho\\right)-{\\it cp}\\,{\\it nx}\\,{\\it ny}\\,\\rho\\,\\vartheta\\right)\\,u}{\\left(2\\,{\\it cp}\\,{\\it ny}^2+2\\,{\\it cp}\\,{\\it nx}^2\\right)\\,\\rho^2} , \\frac{1}{{\\it cp}\\,\\rho} \\right]  \\right]  , \\left[ \\left[ 1 , \\frac{{\\it nx}\\,\\sqrt{\\left({\\it cp}^2\\,{\\it ny}^2\\,\\rho^2\\,\\vartheta^2-2\\,{\\it cp}^2\\,{\\it ny}^2\\,\\rho^2\\,\\left(\\frac{d}{d\\,p}\\,\\rho\\right)\\,\\vartheta+{\\it cp}^2\\,{\\it ny}^2\\,\\rho^2\\,\\left(\\frac{d}{d\\,p}\\,\\rho\\right)^2\\right)\\,v^2+\\left(2\\,{\\it cp}^2\\,{\\it nx}\\,{\\it ny}\\,\\rho^2\\,\\vartheta^2-4\\,{\\it cp}^2\\,{\\it nx}\\,{\\it ny}\\,\\rho^2\\,\\left(\\frac{d}{d\\,p}\\,\\rho\\right)\\,\\vartheta+2\\,{\\it cp}^2\\,{\\it nx}\\,{\\it ny}\\,\\rho^2\\,\\left(\\frac{d}{d\\,p}\\,\\rho\\right)^2\\right)\\,u\\,v+\\left({\\it cp}^2\\,{\\it nx}^2\\,\\rho^2\\,\\vartheta^2-2\\,{\\it cp}^2\\,{\\it nx}^2\\,\\rho^2\\,\\left(\\frac{d}{d\\,p}\\,\\rho\\right)\\,\\vartheta+{\\it cp}^2\\,{\\it nx}^2\\,\\rho^2\\,\\left(\\frac{d}{d\\,p}\\,\\rho\\right)^2\\right)\\,u^2+\\left(4\\,{\\it cp}^2\\,{\\it ny}^2+4\\,{\\it cp}^2\\,{\\it nx}^2\\right)\\,\\rho^2\\,\\vartheta+\\left(4\\,{\\it cp}\\,{\\it ny}^2+4\\,{\\it cp}\\,{\\it nx}^2\\right)\\,\\rho\\,\\left(\\frac{d}{d\\,T}\\,\\rho\\right)}+\\left({\\it cp}\\,{\\it nx}\\,{\\it ny}\\,\\rho\\,\\vartheta-{\\it cp}\\,{\\it nx}\\,{\\it ny}\\,\\rho\\,\\left(\\frac{d}{d\\,p}\\,\\rho\\right)\\right)\\,v+\\left({\\it cp}\\,{\\it nx}^2\\,\\rho\\,\\vartheta-{\\it cp}\\,{\\it nx}^2\\,\\rho\\,\\left(\\frac{d}{d\\,p}\\,\\rho\\right)\\right)\\,u}{\\left(2\\,{\\it cp}\\,{\\it ny}^2+2\\,{\\it cp}\\,{\\it nx}^2\\right)\\,\\rho^2} , \\frac{{\\it ny}\\,\\sqrt{\\left({\\it cp}^2\\,{\\it ny}^2\\,\\rho^2\\,\\vartheta^2-2\\,{\\it cp}^2\\,{\\it ny}^2\\,\\rho^2\\,\\left(\\frac{d}{d\\,p}\\,\\rho\\right)\\,\\vartheta+{\\it cp}^2\\,{\\it ny}^2\\,\\rho^2\\,\\left(\\frac{d}{d\\,p}\\,\\rho\\right)^2\\right)\\,v^2+\\left(2\\,{\\it cp}^2\\,{\\it nx}\\,{\\it ny}\\,\\rho^2\\,\\vartheta^2-4\\,{\\it cp}^2\\,{\\it nx}\\,{\\it ny}\\,\\rho^2\\,\\left(\\frac{d}{d\\,p}\\,\\rho\\right)\\,\\vartheta+2\\,{\\it cp}^2\\,{\\it nx}\\,{\\it ny}\\,\\rho^2\\,\\left(\\frac{d}{d\\,p}\\,\\rho\\right)^2\\right)\\,u\\,v+\\left({\\it cp}^2\\,{\\it nx}^2\\,\\rho^2\\,\\vartheta^2-2\\,{\\it cp}^2\\,{\\it nx}^2\\,\\rho^2\\,\\left(\\frac{d}{d\\,p}\\,\\rho\\right)\\,\\vartheta+{\\it cp}^2\\,{\\it nx}^2\\,\\rho^2\\,\\left(\\frac{d}{d\\,p}\\,\\rho\\right)^2\\right)\\,u^2+\\left(4\\,{\\it cp}^2\\,{\\it ny}^2+4\\,{\\it cp}^2\\,{\\it nx}^2\\right)\\,\\rho^2\\,\\vartheta+\\left(4\\,{\\it cp}\\,{\\it ny}^2+4\\,{\\it cp}\\,{\\it nx}^2\\right)\\,\\rho\\,\\left(\\frac{d}{d\\,T}\\,\\rho\\right)}+\\left({\\it cp}\\,{\\it ny}^2\\,\\rho\\,\\vartheta-{\\it cp}\\,{\\it ny}^2\\,\\rho\\,\\left(\\frac{d}{d\\,p}\\,\\rho\\right)\\right)\\,v+\\left({\\it cp}\\,{\\it nx}\\,{\\it ny}\\,\\rho\\,\\vartheta-{\\it cp}\\,{\\it nx}\\,{\\it ny}\\,\\rho\\,\\left(\\frac{d}{d\\,p}\\,\\rho\\right)\\right)\\,u}{\\left(2\\,{\\it cp}\\,{\\it ny}^2+2\\,{\\it cp}\\,{\\it nx}^2\\right)\\,\\rho^2} , \\frac{1}{{\\it cp}\\,\\rho} \\right]  \\right]  , \\left[ \\left[ 0 , 1 , -\\frac{{\\it nx}}{{\\it ny}} , 0 \\right]  , \\left[ 0 , 0 , 0 , 1 \\right]  \\right]  \\right] \\]"
      ],
      "text/plain": [
       "                            2   2    2      2       2   2    2 drho\n",
       "(%o158) [[[1, - (nx sqrt((cp  ny  rho  theta  - 2 cp  ny  rho  ---- theta\n",
       "                                                                dp\n",
       "     2   2    2  drho 2   2        2          2      2\n",
       " + cp  ny  rho  (----) ) v  + (2 cp  nx ny rho  theta\n",
       "                  dp\n",
       "       2          2 drho             2          2  drho 2\n",
       " - 4 cp  nx ny rho  ---- theta + 2 cp  nx ny rho  (----) ) u v\n",
       "                     dp                             dp\n",
       "      2   2    2      2       2   2    2 drho           2   2    2  drho 2   2\n",
       " + (cp  nx  rho  theta  - 2 cp  nx  rho  ---- theta + cp  nx  rho  (----) ) u\n",
       "                                          dp                         dp\n",
       "        2   2       2   2     2                 2          2      drho\n",
       " + (4 cp  ny  + 4 cp  nx ) rho  theta + (4 cp ny  + 4 cp nx ) rho ----)\n",
       "                                                                   dT\n",
       "                 drho\n",
       " + (cp nx ny rho ---- - cp nx ny rho theta) v\n",
       "                  dp\n",
       "         2     drho        2                        2          2     2\n",
       " + (cp nx  rho ---- - cp nx  rho theta) u)/((2 cp ny  + 2 cp nx ) rho ), \n",
       "                dp\n",
       "              2   2    2      2       2   2    2 drho\n",
       "- (ny sqrt((cp  ny  rho  theta  - 2 cp  ny  rho  ---- theta\n",
       "                                                  dp\n",
       "     2   2    2  drho 2   2        2          2      2\n",
       " + cp  ny  rho  (----) ) v  + (2 cp  nx ny rho  theta\n",
       "                  dp\n",
       "       2          2 drho             2          2  drho 2\n",
       " - 4 cp  nx ny rho  ---- theta + 2 cp  nx ny rho  (----) ) u v\n",
       "                     dp                             dp\n",
       "      2   2    2      2       2   2    2 drho           2   2    2  drho 2   2\n",
       " + (cp  nx  rho  theta  - 2 cp  nx  rho  ---- theta + cp  nx  rho  (----) ) u\n",
       "                                          dp                         dp\n",
       "        2   2       2   2     2                 2          2      drho\n",
       " + (4 cp  ny  + 4 cp  nx ) rho  theta + (4 cp ny  + 4 cp nx ) rho ----)\n",
       "                                                                   dT\n",
       "         2     drho        2\n",
       " + (cp ny  rho ---- - cp ny  rho theta) v\n",
       "                dp\n",
       "                 drho                                   2          2     2\n",
       " + (cp nx ny rho ---- - cp nx ny rho theta) u)/((2 cp ny  + 2 cp nx ) rho ), \n",
       "                  dp\n",
       "  1                        2   2    2      2       2   2    2 drho\n",
       "------]], [[1, (nx sqrt((cp  ny  rho  theta  - 2 cp  ny  rho  ---- theta\n",
       "cp rho                                                         dp\n",
       "     2   2    2  drho 2   2        2          2      2\n",
       " + cp  ny  rho  (----) ) v  + (2 cp  nx ny rho  theta\n",
       "                  dp\n",
       "       2          2 drho             2          2  drho 2\n",
       " - 4 cp  nx ny rho  ---- theta + 2 cp  nx ny rho  (----) ) u v\n",
       "                     dp                             dp\n",
       "      2   2    2      2       2   2    2 drho           2   2    2  drho 2   2\n",
       " + (cp  nx  rho  theta  - 2 cp  nx  rho  ---- theta + cp  nx  rho  (----) ) u\n",
       "                                          dp                         dp\n",
       "        2   2       2   2     2                 2          2      drho\n",
       " + (4 cp  ny  + 4 cp  nx ) rho  theta + (4 cp ny  + 4 cp nx ) rho ----)\n",
       "                                                                   dT\n",
       "                                      drho\n",
       " + (cp nx ny rho theta - cp nx ny rho ----) v\n",
       "                                       dp\n",
       "         2                  2     drho              2          2     2\n",
       " + (cp nx  rho theta - cp nx  rho ----) u)/((2 cp ny  + 2 cp nx ) rho ), \n",
       "                                   dp\n",
       "            2   2    2      2       2   2    2 drho\n",
       "(ny sqrt((cp  ny  rho  theta  - 2 cp  ny  rho  ---- theta\n",
       "                                                dp\n",
       "     2   2    2  drho 2   2        2          2      2\n",
       " + cp  ny  rho  (----) ) v  + (2 cp  nx ny rho  theta\n",
       "                  dp\n",
       "       2          2 drho             2          2  drho 2\n",
       " - 4 cp  nx ny rho  ---- theta + 2 cp  nx ny rho  (----) ) u v\n",
       "                     dp                             dp\n",
       "      2   2    2      2       2   2    2 drho           2   2    2  drho 2   2\n",
       " + (cp  nx  rho  theta  - 2 cp  nx  rho  ---- theta + cp  nx  rho  (----) ) u\n",
       "                                          dp                         dp\n",
       "        2   2       2   2     2                 2          2      drho\n",
       " + (4 cp  ny  + 4 cp  nx ) rho  theta + (4 cp ny  + 4 cp nx ) rho ----)\n",
       "                                                                   dT\n",
       "         2                  2     drho\n",
       " + (cp ny  rho theta - cp ny  rho ----) v\n",
       "                                   dp\n",
       "                                      drho              2          2     2\n",
       " + (cp nx ny rho theta - cp nx ny rho ----) u)/((2 cp ny  + 2 cp nx ) rho ), \n",
       "                                       dp\n",
       "  1                 nx\n",
       "------]], [[0, 1, - --, 0], [0, 0, 0, 1]]]\n",
       "cp rho              ny"
      ],
      "text/x-maxima": [
       "[[[1,\n",
       "   -(nx*sqrt((cp^2*ny^2*rho^2*theta^2-2*cp^2*ny^2*rho^2*'diff(rho,p,1)*theta\n",
       "                                     +cp^2*ny^2*rho^2*('diff(rho,p,1))^2)\n",
       "              *v^2\n",
       "              +(2*cp^2*nx*ny*rho^2*theta^2\n",
       "               -4*cp^2*nx*ny*rho^2*'diff(rho,p,1)*theta\n",
       "               +2*cp^2*nx*ny*rho^2*('diff(rho,p,1))^2)\n",
       "               *u*v\n",
       "              +(cp^2*nx^2*rho^2*theta^2-2*cp^2*nx^2*rho^2*'diff(rho,p,1)*theta\n",
       "                                       +cp^2*nx^2*rho^2*('diff(rho,p,1))^2)\n",
       "               *u^2+(4*cp^2*ny^2+4*cp^2*nx^2)*rho^2*theta\n",
       "              +(4*cp*ny^2+4*cp*nx^2)*rho*'diff(rho,T,1))\n",
       "    +(cp*nx*ny*rho*'diff(rho,p,1)-cp*nx*ny*rho*theta)*v\n",
       "    +(cp*nx^2*rho*'diff(rho,p,1)-cp*nx^2*rho*theta)*u)\n",
       "    /((2*cp*ny^2+2*cp*nx^2)*rho^2),\n",
       "   -(ny*sqrt((cp^2*ny^2*rho^2*theta^2-2*cp^2*ny^2*rho^2*'diff(rho,p,1)*theta\n",
       "                                     +cp^2*ny^2*rho^2*('diff(rho,p,1))^2)\n",
       "              *v^2\n",
       "              +(2*cp^2*nx*ny*rho^2*theta^2\n",
       "               -4*cp^2*nx*ny*rho^2*'diff(rho,p,1)*theta\n",
       "               +2*cp^2*nx*ny*rho^2*('diff(rho,p,1))^2)\n",
       "               *u*v\n",
       "              +(cp^2*nx^2*rho^2*theta^2-2*cp^2*nx^2*rho^2*'diff(rho,p,1)*theta\n",
       "                                       +cp^2*nx^2*rho^2*('diff(rho,p,1))^2)\n",
       "               *u^2+(4*cp^2*ny^2+4*cp^2*nx^2)*rho^2*theta\n",
       "              +(4*cp*ny^2+4*cp*nx^2)*rho*'diff(rho,T,1))\n",
       "    +(cp*ny^2*rho*'diff(rho,p,1)-cp*ny^2*rho*theta)*v\n",
       "    +(cp*nx*ny*rho*'diff(rho,p,1)-cp*nx*ny*rho*theta)*u)\n",
       "    /((2*cp*ny^2+2*cp*nx^2)*rho^2),1/(cp*rho)]],\n",
       " [[1,\n",
       "   (nx*sqrt((cp^2*ny^2*rho^2*theta^2-2*cp^2*ny^2*rho^2*'diff(rho,p,1)*theta\n",
       "                                    +cp^2*ny^2*rho^2*('diff(rho,p,1))^2)\n",
       "             *v^2\n",
       "             +(2*cp^2*nx*ny*rho^2*theta^2\n",
       "              -4*cp^2*nx*ny*rho^2*'diff(rho,p,1)*theta\n",
       "              +2*cp^2*nx*ny*rho^2*('diff(rho,p,1))^2)\n",
       "              *u*v\n",
       "             +(cp^2*nx^2*rho^2*theta^2-2*cp^2*nx^2*rho^2*'diff(rho,p,1)*theta\n",
       "                                      +cp^2*nx^2*rho^2*('diff(rho,p,1))^2)\n",
       "              *u^2+(4*cp^2*ny^2+4*cp^2*nx^2)*rho^2*theta\n",
       "             +(4*cp*ny^2+4*cp*nx^2)*rho*'diff(rho,T,1))\n",
       "    +(cp*nx*ny*rho*theta-cp*nx*ny*rho*'diff(rho,p,1))*v\n",
       "    +(cp*nx^2*rho*theta-cp*nx^2*rho*'diff(rho,p,1))*u)\n",
       "    /((2*cp*ny^2+2*cp*nx^2)*rho^2),\n",
       "   (ny*sqrt((cp^2*ny^2*rho^2*theta^2-2*cp^2*ny^2*rho^2*'diff(rho,p,1)*theta\n",
       "                                    +cp^2*ny^2*rho^2*('diff(rho,p,1))^2)\n",
       "             *v^2\n",
       "             +(2*cp^2*nx*ny*rho^2*theta^2\n",
       "              -4*cp^2*nx*ny*rho^2*'diff(rho,p,1)*theta\n",
       "              +2*cp^2*nx*ny*rho^2*('diff(rho,p,1))^2)\n",
       "              *u*v\n",
       "             +(cp^2*nx^2*rho^2*theta^2-2*cp^2*nx^2*rho^2*'diff(rho,p,1)*theta\n",
       "                                      +cp^2*nx^2*rho^2*('diff(rho,p,1))^2)\n",
       "              *u^2+(4*cp^2*ny^2+4*cp^2*nx^2)*rho^2*theta\n",
       "             +(4*cp*ny^2+4*cp*nx^2)*rho*'diff(rho,T,1))\n",
       "    +(cp*ny^2*rho*theta-cp*ny^2*rho*'diff(rho,p,1))*v\n",
       "    +(cp*nx*ny*rho*theta-cp*nx*ny*rho*'diff(rho,p,1))*u)\n",
       "    /((2*cp*ny^2+2*cp*nx^2)*rho^2),1/(cp*rho)]],[[0,1,-nx/ny,0],[0,0,0,1]]]"
      ]
     },
     "execution_count": 90,
     "metadata": {},
     "output_type": "execute_result"
    }
   ],
   "source": [
    "V[2];"
   ]
  },
  {
   "cell_type": "code",
   "execution_count": 96,
   "metadata": {},
   "outputs": [
    {
     "data": {
      "text/latex": [
       "\\[\\tag{${\\it \\%o}_{164}$}\\left[ \\left[ \\left[ 1 , -\\frac{{\\it nx}\\,\\sqrt{\\left({\\it cp}^2\\,{\\it ny}^2\\,\\rho^2\\,\\vartheta^2-2\\,{\\it cp}^2\\,{\\it ny}^2\\,\\rho^2\\,\\left(\\frac{d}{d\\,p}\\,\\rho\\right)\\,\\vartheta+{\\it cp}^2\\,{\\it ny}^2\\,\\rho^2\\,\\left(\\frac{d}{d\\,p}\\,\\rho\\right)^2\\right)\\,v^2+\\left(2\\,{\\it cp}^2\\,{\\it nx}\\,{\\it ny}\\,\\rho^2\\,\\vartheta^2-4\\,{\\it cp}^2\\,{\\it nx}\\,{\\it ny}\\,\\rho^2\\,\\left(\\frac{d}{d\\,p}\\,\\rho\\right)\\,\\vartheta+2\\,{\\it cp}^2\\,{\\it nx}\\,{\\it ny}\\,\\rho^2\\,\\left(\\frac{d}{d\\,p}\\,\\rho\\right)^2\\right)\\,u\\,v+\\left({\\it cp}^2\\,{\\it nx}^2\\,\\rho^2\\,\\vartheta^2-2\\,{\\it cp}^2\\,{\\it nx}^2\\,\\rho^2\\,\\left(\\frac{d}{d\\,p}\\,\\rho\\right)\\,\\vartheta+{\\it cp}^2\\,{\\it nx}^2\\,\\rho^2\\,\\left(\\frac{d}{d\\,p}\\,\\rho\\right)^2\\right)\\,u^2+\\left(4\\,{\\it cp}^2\\,{\\it ny}^2+4\\,{\\it cp}^2\\,{\\it nx}^2\\right)\\,\\rho^2\\,\\vartheta+\\left(4\\,{\\it cp}\\,{\\it ny}^2+4\\,{\\it cp}\\,{\\it nx}^2\\right)\\,\\rho\\,\\left(\\frac{d}{d\\,T}\\,\\rho\\right)}+\\left({\\it cp}\\,{\\it nx}\\,{\\it ny}\\,\\rho\\,\\left(\\frac{d}{d\\,p}\\,\\rho\\right)-{\\it cp}\\,{\\it nx}\\,{\\it ny}\\,\\rho\\,\\vartheta\\right)\\,v+\\left({\\it cp}\\,{\\it nx}^2\\,\\rho\\,\\left(\\frac{d}{d\\,p}\\,\\rho\\right)-{\\it cp}\\,{\\it nx}^2\\,\\rho\\,\\vartheta\\right)\\,u}{\\left(2\\,{\\it cp}\\,{\\it ny}^2+2\\,{\\it cp}\\,{\\it nx}^2\\right)\\,\\rho^2} , -\\frac{{\\it ny}\\,\\sqrt{\\left({\\it cp}^2\\,{\\it ny}^2\\,\\rho^2\\,\\vartheta^2-2\\,{\\it cp}^2\\,{\\it ny}^2\\,\\rho^2\\,\\left(\\frac{d}{d\\,p}\\,\\rho\\right)\\,\\vartheta+{\\it cp}^2\\,{\\it ny}^2\\,\\rho^2\\,\\left(\\frac{d}{d\\,p}\\,\\rho\\right)^2\\right)\\,v^2+\\left(2\\,{\\it cp}^2\\,{\\it nx}\\,{\\it ny}\\,\\rho^2\\,\\vartheta^2-4\\,{\\it cp}^2\\,{\\it nx}\\,{\\it ny}\\,\\rho^2\\,\\left(\\frac{d}{d\\,p}\\,\\rho\\right)\\,\\vartheta+2\\,{\\it cp}^2\\,{\\it nx}\\,{\\it ny}\\,\\rho^2\\,\\left(\\frac{d}{d\\,p}\\,\\rho\\right)^2\\right)\\,u\\,v+\\left({\\it cp}^2\\,{\\it nx}^2\\,\\rho^2\\,\\vartheta^2-2\\,{\\it cp}^2\\,{\\it nx}^2\\,\\rho^2\\,\\left(\\frac{d}{d\\,p}\\,\\rho\\right)\\,\\vartheta+{\\it cp}^2\\,{\\it nx}^2\\,\\rho^2\\,\\left(\\frac{d}{d\\,p}\\,\\rho\\right)^2\\right)\\,u^2+\\left(4\\,{\\it cp}^2\\,{\\it ny}^2+4\\,{\\it cp}^2\\,{\\it nx}^2\\right)\\,\\rho^2\\,\\vartheta+\\left(4\\,{\\it cp}\\,{\\it ny}^2+4\\,{\\it cp}\\,{\\it nx}^2\\right)\\,\\rho\\,\\left(\\frac{d}{d\\,T}\\,\\rho\\right)}+\\left({\\it cp}\\,{\\it ny}^2\\,\\rho\\,\\left(\\frac{d}{d\\,p}\\,\\rho\\right)-{\\it cp}\\,{\\it ny}^2\\,\\rho\\,\\vartheta\\right)\\,v+\\left({\\it cp}\\,{\\it nx}\\,{\\it ny}\\,\\rho\\,\\left(\\frac{d}{d\\,p}\\,\\rho\\right)-{\\it cp}\\,{\\it nx}\\,{\\it ny}\\,\\rho\\,\\vartheta\\right)\\,u}{\\left(2\\,{\\it cp}\\,{\\it ny}^2+2\\,{\\it cp}\\,{\\it nx}^2\\right)\\,\\rho^2} , \\frac{1}{{\\it cp}\\,\\rho} \\right]  \\right]  , \\left[ \\left[ 1 , \\frac{{\\it nx}\\,\\sqrt{\\left({\\it cp}^2\\,{\\it ny}^2\\,\\rho^2\\,\\vartheta^2-2\\,{\\it cp}^2\\,{\\it ny}^2\\,\\rho^2\\,\\left(\\frac{d}{d\\,p}\\,\\rho\\right)\\,\\vartheta+{\\it cp}^2\\,{\\it ny}^2\\,\\rho^2\\,\\left(\\frac{d}{d\\,p}\\,\\rho\\right)^2\\right)\\,v^2+\\left(2\\,{\\it cp}^2\\,{\\it nx}\\,{\\it ny}\\,\\rho^2\\,\\vartheta^2-4\\,{\\it cp}^2\\,{\\it nx}\\,{\\it ny}\\,\\rho^2\\,\\left(\\frac{d}{d\\,p}\\,\\rho\\right)\\,\\vartheta+2\\,{\\it cp}^2\\,{\\it nx}\\,{\\it ny}\\,\\rho^2\\,\\left(\\frac{d}{d\\,p}\\,\\rho\\right)^2\\right)\\,u\\,v+\\left({\\it cp}^2\\,{\\it nx}^2\\,\\rho^2\\,\\vartheta^2-2\\,{\\it cp}^2\\,{\\it nx}^2\\,\\rho^2\\,\\left(\\frac{d}{d\\,p}\\,\\rho\\right)\\,\\vartheta+{\\it cp}^2\\,{\\it nx}^2\\,\\rho^2\\,\\left(\\frac{d}{d\\,p}\\,\\rho\\right)^2\\right)\\,u^2+\\left(4\\,{\\it cp}^2\\,{\\it ny}^2+4\\,{\\it cp}^2\\,{\\it nx}^2\\right)\\,\\rho^2\\,\\vartheta+\\left(4\\,{\\it cp}\\,{\\it ny}^2+4\\,{\\it cp}\\,{\\it nx}^2\\right)\\,\\rho\\,\\left(\\frac{d}{d\\,T}\\,\\rho\\right)}+\\left({\\it cp}\\,{\\it nx}\\,{\\it ny}\\,\\rho\\,\\vartheta-{\\it cp}\\,{\\it nx}\\,{\\it ny}\\,\\rho\\,\\left(\\frac{d}{d\\,p}\\,\\rho\\right)\\right)\\,v+\\left({\\it cp}\\,{\\it nx}^2\\,\\rho\\,\\vartheta-{\\it cp}\\,{\\it nx}^2\\,\\rho\\,\\left(\\frac{d}{d\\,p}\\,\\rho\\right)\\right)\\,u}{\\left(2\\,{\\it cp}\\,{\\it ny}^2+2\\,{\\it cp}\\,{\\it nx}^2\\right)\\,\\rho^2} , \\frac{{\\it ny}\\,\\sqrt{\\left({\\it cp}^2\\,{\\it ny}^2\\,\\rho^2\\,\\vartheta^2-2\\,{\\it cp}^2\\,{\\it ny}^2\\,\\rho^2\\,\\left(\\frac{d}{d\\,p}\\,\\rho\\right)\\,\\vartheta+{\\it cp}^2\\,{\\it ny}^2\\,\\rho^2\\,\\left(\\frac{d}{d\\,p}\\,\\rho\\right)^2\\right)\\,v^2+\\left(2\\,{\\it cp}^2\\,{\\it nx}\\,{\\it ny}\\,\\rho^2\\,\\vartheta^2-4\\,{\\it cp}^2\\,{\\it nx}\\,{\\it ny}\\,\\rho^2\\,\\left(\\frac{d}{d\\,p}\\,\\rho\\right)\\,\\vartheta+2\\,{\\it cp}^2\\,{\\it nx}\\,{\\it ny}\\,\\rho^2\\,\\left(\\frac{d}{d\\,p}\\,\\rho\\right)^2\\right)\\,u\\,v+\\left({\\it cp}^2\\,{\\it nx}^2\\,\\rho^2\\,\\vartheta^2-2\\,{\\it cp}^2\\,{\\it nx}^2\\,\\rho^2\\,\\left(\\frac{d}{d\\,p}\\,\\rho\\right)\\,\\vartheta+{\\it cp}^2\\,{\\it nx}^2\\,\\rho^2\\,\\left(\\frac{d}{d\\,p}\\,\\rho\\right)^2\\right)\\,u^2+\\left(4\\,{\\it cp}^2\\,{\\it ny}^2+4\\,{\\it cp}^2\\,{\\it nx}^2\\right)\\,\\rho^2\\,\\vartheta+\\left(4\\,{\\it cp}\\,{\\it ny}^2+4\\,{\\it cp}\\,{\\it nx}^2\\right)\\,\\rho\\,\\left(\\frac{d}{d\\,T}\\,\\rho\\right)}+\\left({\\it cp}\\,{\\it ny}^2\\,\\rho\\,\\vartheta-{\\it cp}\\,{\\it ny}^2\\,\\rho\\,\\left(\\frac{d}{d\\,p}\\,\\rho\\right)\\right)\\,v+\\left({\\it cp}\\,{\\it nx}\\,{\\it ny}\\,\\rho\\,\\vartheta-{\\it cp}\\,{\\it nx}\\,{\\it ny}\\,\\rho\\,\\left(\\frac{d}{d\\,p}\\,\\rho\\right)\\right)\\,u}{\\left(2\\,{\\it cp}\\,{\\it ny}^2+2\\,{\\it cp}\\,{\\it nx}^2\\right)\\,\\rho^2} , \\frac{1}{{\\it cp}\\,\\rho} \\right]  \\right]  , \\left[ \\left[ 0 , 1 , -\\frac{{\\it nx}}{{\\it ny}} , 0 \\right]  , \\left[ 0 , 0 , 0 , 1 \\right]  \\right]  \\right] \\]"
      ],
      "text/plain": [
       "                            2   2    2      2       2   2    2 drho\n",
       "(%o164) [[[1, - (nx sqrt((cp  ny  rho  theta  - 2 cp  ny  rho  ---- theta\n",
       "                                                                dp\n",
       "     2   2    2  drho 2   2        2          2      2\n",
       " + cp  ny  rho  (----) ) v  + (2 cp  nx ny rho  theta\n",
       "                  dp\n",
       "       2          2 drho             2          2  drho 2\n",
       " - 4 cp  nx ny rho  ---- theta + 2 cp  nx ny rho  (----) ) u v\n",
       "                     dp                             dp\n",
       "      2   2    2      2       2   2    2 drho           2   2    2  drho 2   2\n",
       " + (cp  nx  rho  theta  - 2 cp  nx  rho  ---- theta + cp  nx  rho  (----) ) u\n",
       "                                          dp                         dp\n",
       "        2   2       2   2     2                 2          2      drho\n",
       " + (4 cp  ny  + 4 cp  nx ) rho  theta + (4 cp ny  + 4 cp nx ) rho ----)\n",
       "                                                                   dT\n",
       "                 drho\n",
       " + (cp nx ny rho ---- - cp nx ny rho theta) v\n",
       "                  dp\n",
       "         2     drho        2                        2          2     2\n",
       " + (cp nx  rho ---- - cp nx  rho theta) u)/((2 cp ny  + 2 cp nx ) rho ), \n",
       "                dp\n",
       "              2   2    2      2       2   2    2 drho\n",
       "- (ny sqrt((cp  ny  rho  theta  - 2 cp  ny  rho  ---- theta\n",
       "                                                  dp\n",
       "     2   2    2  drho 2   2        2          2      2\n",
       " + cp  ny  rho  (----) ) v  + (2 cp  nx ny rho  theta\n",
       "                  dp\n",
       "       2          2 drho             2          2  drho 2\n",
       " - 4 cp  nx ny rho  ---- theta + 2 cp  nx ny rho  (----) ) u v\n",
       "                     dp                             dp\n",
       "      2   2    2      2       2   2    2 drho           2   2    2  drho 2   2\n",
       " + (cp  nx  rho  theta  - 2 cp  nx  rho  ---- theta + cp  nx  rho  (----) ) u\n",
       "                                          dp                         dp\n",
       "        2   2       2   2     2                 2          2      drho\n",
       " + (4 cp  ny  + 4 cp  nx ) rho  theta + (4 cp ny  + 4 cp nx ) rho ----)\n",
       "                                                                   dT\n",
       "         2     drho        2\n",
       " + (cp ny  rho ---- - cp ny  rho theta) v\n",
       "                dp\n",
       "                 drho                                   2          2     2\n",
       " + (cp nx ny rho ---- - cp nx ny rho theta) u)/((2 cp ny  + 2 cp nx ) rho ), \n",
       "                  dp\n",
       "  1                        2   2    2      2       2   2    2 drho\n",
       "------]], [[1, (nx sqrt((cp  ny  rho  theta  - 2 cp  ny  rho  ---- theta\n",
       "cp rho                                                         dp\n",
       "     2   2    2  drho 2   2        2          2      2\n",
       " + cp  ny  rho  (----) ) v  + (2 cp  nx ny rho  theta\n",
       "                  dp\n",
       "       2          2 drho             2          2  drho 2\n",
       " - 4 cp  nx ny rho  ---- theta + 2 cp  nx ny rho  (----) ) u v\n",
       "                     dp                             dp\n",
       "      2   2    2      2       2   2    2 drho           2   2    2  drho 2   2\n",
       " + (cp  nx  rho  theta  - 2 cp  nx  rho  ---- theta + cp  nx  rho  (----) ) u\n",
       "                                          dp                         dp\n",
       "        2   2       2   2     2                 2          2      drho\n",
       " + (4 cp  ny  + 4 cp  nx ) rho  theta + (4 cp ny  + 4 cp nx ) rho ----)\n",
       "                                                                   dT\n",
       "                                      drho\n",
       " + (cp nx ny rho theta - cp nx ny rho ----) v\n",
       "                                       dp\n",
       "         2                  2     drho              2          2     2\n",
       " + (cp nx  rho theta - cp nx  rho ----) u)/((2 cp ny  + 2 cp nx ) rho ), \n",
       "                                   dp\n",
       "            2   2    2      2       2   2    2 drho\n",
       "(ny sqrt((cp  ny  rho  theta  - 2 cp  ny  rho  ---- theta\n",
       "                                                dp\n",
       "     2   2    2  drho 2   2        2          2      2\n",
       " + cp  ny  rho  (----) ) v  + (2 cp  nx ny rho  theta\n",
       "                  dp\n",
       "       2          2 drho             2          2  drho 2\n",
       " - 4 cp  nx ny rho  ---- theta + 2 cp  nx ny rho  (----) ) u v\n",
       "                     dp                             dp\n",
       "      2   2    2      2       2   2    2 drho           2   2    2  drho 2   2\n",
       " + (cp  nx  rho  theta  - 2 cp  nx  rho  ---- theta + cp  nx  rho  (----) ) u\n",
       "                                          dp                         dp\n",
       "        2   2       2   2     2                 2          2      drho\n",
       " + (4 cp  ny  + 4 cp  nx ) rho  theta + (4 cp ny  + 4 cp nx ) rho ----)\n",
       "                                                                   dT\n",
       "         2                  2     drho\n",
       " + (cp ny  rho theta - cp ny  rho ----) v\n",
       "                                   dp\n",
       "                                      drho              2          2     2\n",
       " + (cp nx ny rho theta - cp nx ny rho ----) u)/((2 cp ny  + 2 cp nx ) rho ), \n",
       "                                       dp\n",
       "  1                 nx\n",
       "------]], [[0, 1, - --, 0], [0, 0, 0, 1]]]\n",
       "cp rho              ny"
      ],
      "text/x-maxima": [
       "[[[1,\n",
       "   -(nx*sqrt((cp^2*ny^2*rho^2*theta^2-2*cp^2*ny^2*rho^2*'diff(rho,p,1)*theta\n",
       "                                     +cp^2*ny^2*rho^2*('diff(rho,p,1))^2)\n",
       "              *v^2\n",
       "              +(2*cp^2*nx*ny*rho^2*theta^2\n",
       "               -4*cp^2*nx*ny*rho^2*'diff(rho,p,1)*theta\n",
       "               +2*cp^2*nx*ny*rho^2*('diff(rho,p,1))^2)\n",
       "               *u*v\n",
       "              +(cp^2*nx^2*rho^2*theta^2-2*cp^2*nx^2*rho^2*'diff(rho,p,1)*theta\n",
       "                                       +cp^2*nx^2*rho^2*('diff(rho,p,1))^2)\n",
       "               *u^2+(4*cp^2*ny^2+4*cp^2*nx^2)*rho^2*theta\n",
       "              +(4*cp*ny^2+4*cp*nx^2)*rho*'diff(rho,T,1))\n",
       "    +(cp*nx*ny*rho*'diff(rho,p,1)-cp*nx*ny*rho*theta)*v\n",
       "    +(cp*nx^2*rho*'diff(rho,p,1)-cp*nx^2*rho*theta)*u)\n",
       "    /((2*cp*ny^2+2*cp*nx^2)*rho^2),\n",
       "   -(ny*sqrt((cp^2*ny^2*rho^2*theta^2-2*cp^2*ny^2*rho^2*'diff(rho,p,1)*theta\n",
       "                                     +cp^2*ny^2*rho^2*('diff(rho,p,1))^2)\n",
       "              *v^2\n",
       "              +(2*cp^2*nx*ny*rho^2*theta^2\n",
       "               -4*cp^2*nx*ny*rho^2*'diff(rho,p,1)*theta\n",
       "               +2*cp^2*nx*ny*rho^2*('diff(rho,p,1))^2)\n",
       "               *u*v\n",
       "              +(cp^2*nx^2*rho^2*theta^2-2*cp^2*nx^2*rho^2*'diff(rho,p,1)*theta\n",
       "                                       +cp^2*nx^2*rho^2*('diff(rho,p,1))^2)\n",
       "               *u^2+(4*cp^2*ny^2+4*cp^2*nx^2)*rho^2*theta\n",
       "              +(4*cp*ny^2+4*cp*nx^2)*rho*'diff(rho,T,1))\n",
       "    +(cp*ny^2*rho*'diff(rho,p,1)-cp*ny^2*rho*theta)*v\n",
       "    +(cp*nx*ny*rho*'diff(rho,p,1)-cp*nx*ny*rho*theta)*u)\n",
       "    /((2*cp*ny^2+2*cp*nx^2)*rho^2),1/(cp*rho)]],\n",
       " [[1,\n",
       "   (nx*sqrt((cp^2*ny^2*rho^2*theta^2-2*cp^2*ny^2*rho^2*'diff(rho,p,1)*theta\n",
       "                                    +cp^2*ny^2*rho^2*('diff(rho,p,1))^2)\n",
       "             *v^2\n",
       "             +(2*cp^2*nx*ny*rho^2*theta^2\n",
       "              -4*cp^2*nx*ny*rho^2*'diff(rho,p,1)*theta\n",
       "              +2*cp^2*nx*ny*rho^2*('diff(rho,p,1))^2)\n",
       "              *u*v\n",
       "             +(cp^2*nx^2*rho^2*theta^2-2*cp^2*nx^2*rho^2*'diff(rho,p,1)*theta\n",
       "                                      +cp^2*nx^2*rho^2*('diff(rho,p,1))^2)\n",
       "              *u^2+(4*cp^2*ny^2+4*cp^2*nx^2)*rho^2*theta\n",
       "             +(4*cp*ny^2+4*cp*nx^2)*rho*'diff(rho,T,1))\n",
       "    +(cp*nx*ny*rho*theta-cp*nx*ny*rho*'diff(rho,p,1))*v\n",
       "    +(cp*nx^2*rho*theta-cp*nx^2*rho*'diff(rho,p,1))*u)\n",
       "    /((2*cp*ny^2+2*cp*nx^2)*rho^2),\n",
       "   (ny*sqrt((cp^2*ny^2*rho^2*theta^2-2*cp^2*ny^2*rho^2*'diff(rho,p,1)*theta\n",
       "                                    +cp^2*ny^2*rho^2*('diff(rho,p,1))^2)\n",
       "             *v^2\n",
       "             +(2*cp^2*nx*ny*rho^2*theta^2\n",
       "              -4*cp^2*nx*ny*rho^2*'diff(rho,p,1)*theta\n",
       "              +2*cp^2*nx*ny*rho^2*('diff(rho,p,1))^2)\n",
       "              *u*v\n",
       "             +(cp^2*nx^2*rho^2*theta^2-2*cp^2*nx^2*rho^2*'diff(rho,p,1)*theta\n",
       "                                      +cp^2*nx^2*rho^2*('diff(rho,p,1))^2)\n",
       "              *u^2+(4*cp^2*ny^2+4*cp^2*nx^2)*rho^2*theta\n",
       "             +(4*cp*ny^2+4*cp*nx^2)*rho*'diff(rho,T,1))\n",
       "    +(cp*ny^2*rho*theta-cp*ny^2*rho*'diff(rho,p,1))*v\n",
       "    +(cp*nx*ny*rho*theta-cp*nx*ny*rho*'diff(rho,p,1))*u)\n",
       "    /((2*cp*ny^2+2*cp*nx^2)*rho^2),1/(cp*rho)]],[[0,1,-nx/ny,0],[0,0,0,1]]]"
      ]
     },
     "execution_count": 96,
     "metadata": {},
     "output_type": "execute_result"
    }
   ],
   "source": [
    "eV: V[2];"
   ]
  },
  {
   "cell_type": "code",
   "execution_count": 97,
   "metadata": {},
   "outputs": [
    {
     "data": {
      "text/latex": [
       "\\[\\tag{${\\it \\%o}_{165}$}3\\]"
      ],
      "text/plain": [
       "(%o165)                                3"
      ],
      "text/x-maxima": [
       "3"
      ]
     },
     "execution_count": 97,
     "metadata": {},
     "output_type": "execute_result"
    }
   ],
   "source": [
    "length(eV);"
   ]
  },
  {
   "cell_type": "code",
   "execution_count": 105,
   "metadata": {},
   "outputs": [
    {
     "data": {
      "text/latex": [
       "\\[\\tag{${\\it \\%o}_{176}$}1\\]"
      ],
      "text/plain": [
       "(%o176)                                1"
      ],
      "text/x-maxima": [
       "1"
      ]
     },
     "execution_count": 105,
     "metadata": {},
     "output_type": "execute_result"
    },
    {
     "data": {
      "text/latex": [
       "\\[\\tag{${\\it \\%o}_{177}$}-\\frac{{\\it nx}\\,\\sqrt{\\left({\\it cp}^2\\,{\\it ny}^2\\,\\rho^2\\,\\vartheta^2-2\\,{\\it cp}^2\\,{\\it ny}^2\\,\\rho^2\\,\\left(\\frac{d}{d\\,p}\\,\\rho\\right)\\,\\vartheta+{\\it cp}^2\\,{\\it ny}^2\\,\\rho^2\\,\\left(\\frac{d}{d\\,p}\\,\\rho\\right)^2\\right)\\,v^2+\\left(2\\,{\\it cp}^2\\,{\\it nx}\\,{\\it ny}\\,\\rho^2\\,\\vartheta^2-4\\,{\\it cp}^2\\,{\\it nx}\\,{\\it ny}\\,\\rho^2\\,\\left(\\frac{d}{d\\,p}\\,\\rho\\right)\\,\\vartheta+2\\,{\\it cp}^2\\,{\\it nx}\\,{\\it ny}\\,\\rho^2\\,\\left(\\frac{d}{d\\,p}\\,\\rho\\right)^2\\right)\\,u\\,v+\\left({\\it cp}^2\\,{\\it nx}^2\\,\\rho^2\\,\\vartheta^2-2\\,{\\it cp}^2\\,{\\it nx}^2\\,\\rho^2\\,\\left(\\frac{d}{d\\,p}\\,\\rho\\right)\\,\\vartheta+{\\it cp}^2\\,{\\it nx}^2\\,\\rho^2\\,\\left(\\frac{d}{d\\,p}\\,\\rho\\right)^2\\right)\\,u^2+\\left(4\\,{\\it cp}^2\\,{\\it ny}^2+4\\,{\\it cp}^2\\,{\\it nx}^2\\right)\\,\\rho^2\\,\\vartheta+\\left(4\\,{\\it cp}\\,{\\it ny}^2+4\\,{\\it cp}\\,{\\it nx}^2\\right)\\,\\rho\\,\\left(\\frac{d}{d\\,T}\\,\\rho\\right)}+\\left({\\it cp}\\,{\\it nx}\\,{\\it ny}\\,\\rho\\,\\left(\\frac{d}{d\\,p}\\,\\rho\\right)-{\\it cp}\\,{\\it nx}\\,{\\it ny}\\,\\rho\\,\\vartheta\\right)\\,v+\\left({\\it cp}\\,{\\it nx}^2\\,\\rho\\,\\left(\\frac{d}{d\\,p}\\,\\rho\\right)-{\\it cp}\\,{\\it nx}^2\\,\\rho\\,\\vartheta\\right)\\,u}{\\left(2\\,{\\it cp}\\,{\\it ny}^2+2\\,{\\it cp}\\,{\\it nx}^2\\right)\\,\\rho^2}\\]"
      ],
      "text/plain": [
       "                      2   2    2      2       2   2    2 drho\n",
       "(%o177) - (nx sqrt((cp  ny  rho  theta  - 2 cp  ny  rho  ---- theta\n",
       "                                                          dp\n",
       "     2   2    2  drho 2   2        2          2      2\n",
       " + cp  ny  rho  (----) ) v  + (2 cp  nx ny rho  theta\n",
       "                  dp\n",
       "       2          2 drho             2          2  drho 2\n",
       " - 4 cp  nx ny rho  ---- theta + 2 cp  nx ny rho  (----) ) u v\n",
       "                     dp                             dp\n",
       "      2   2    2      2       2   2    2 drho           2   2    2  drho 2   2\n",
       " + (cp  nx  rho  theta  - 2 cp  nx  rho  ---- theta + cp  nx  rho  (----) ) u\n",
       "                                          dp                         dp\n",
       "        2   2       2   2     2                 2          2      drho\n",
       " + (4 cp  ny  + 4 cp  nx ) rho  theta + (4 cp ny  + 4 cp nx ) rho ----)\n",
       "                                                                   dT\n",
       "                 drho\n",
       " + (cp nx ny rho ---- - cp nx ny rho theta) v\n",
       "                  dp\n",
       "         2     drho        2                        2          2     2\n",
       " + (cp nx  rho ---- - cp nx  rho theta) u)/((2 cp ny  + 2 cp nx ) rho )\n",
       "                dp"
      ],
      "text/x-maxima": [
       "-(nx*sqrt((cp^2*ny^2*rho^2*theta^2-2*cp^2*ny^2*rho^2*'diff(rho,p,1)*theta\n",
       "                                  +cp^2*ny^2*rho^2*('diff(rho,p,1))^2)\n",
       "           *v^2\n",
       "           +(2*cp^2*nx*ny*rho^2*theta^2-4*cp^2*nx*ny*rho^2*'diff(rho,p,1)\n",
       "                                         *theta\n",
       "                                       +2*cp^2*nx*ny*rho^2*('diff(rho,p,1))^2)\n",
       "            *u*v\n",
       "           +(cp^2*nx^2*rho^2*theta^2-2*cp^2*nx^2*rho^2*'diff(rho,p,1)*theta\n",
       "                                    +cp^2*nx^2*rho^2*('diff(rho,p,1))^2)\n",
       "            *u^2+(4*cp^2*ny^2+4*cp^2*nx^2)*rho^2*theta\n",
       "           +(4*cp*ny^2+4*cp*nx^2)*rho*'diff(rho,T,1))\n",
       " +(cp*nx*ny*rho*'diff(rho,p,1)-cp*nx*ny*rho*theta)*v\n",
       " +(cp*nx^2*rho*'diff(rho,p,1)-cp*nx^2*rho*theta)*u)\n",
       " /((2*cp*ny^2+2*cp*nx^2)*rho^2)"
      ]
     },
     "execution_count": 105,
     "metadata": {},
     "output_type": "execute_result"
    },
    {
     "data": {
      "text/latex": [
       "\\[\\tag{${\\it \\%o}_{178}$}-\\frac{{\\it ny}\\,\\sqrt{\\left({\\it cp}^2\\,{\\it ny}^2\\,\\rho^2\\,\\vartheta^2-2\\,{\\it cp}^2\\,{\\it ny}^2\\,\\rho^2\\,\\left(\\frac{d}{d\\,p}\\,\\rho\\right)\\,\\vartheta+{\\it cp}^2\\,{\\it ny}^2\\,\\rho^2\\,\\left(\\frac{d}{d\\,p}\\,\\rho\\right)^2\\right)\\,v^2+\\left(2\\,{\\it cp}^2\\,{\\it nx}\\,{\\it ny}\\,\\rho^2\\,\\vartheta^2-4\\,{\\it cp}^2\\,{\\it nx}\\,{\\it ny}\\,\\rho^2\\,\\left(\\frac{d}{d\\,p}\\,\\rho\\right)\\,\\vartheta+2\\,{\\it cp}^2\\,{\\it nx}\\,{\\it ny}\\,\\rho^2\\,\\left(\\frac{d}{d\\,p}\\,\\rho\\right)^2\\right)\\,u\\,v+\\left({\\it cp}^2\\,{\\it nx}^2\\,\\rho^2\\,\\vartheta^2-2\\,{\\it cp}^2\\,{\\it nx}^2\\,\\rho^2\\,\\left(\\frac{d}{d\\,p}\\,\\rho\\right)\\,\\vartheta+{\\it cp}^2\\,{\\it nx}^2\\,\\rho^2\\,\\left(\\frac{d}{d\\,p}\\,\\rho\\right)^2\\right)\\,u^2+\\left(4\\,{\\it cp}^2\\,{\\it ny}^2+4\\,{\\it cp}^2\\,{\\it nx}^2\\right)\\,\\rho^2\\,\\vartheta+\\left(4\\,{\\it cp}\\,{\\it ny}^2+4\\,{\\it cp}\\,{\\it nx}^2\\right)\\,\\rho\\,\\left(\\frac{d}{d\\,T}\\,\\rho\\right)}+\\left({\\it cp}\\,{\\it ny}^2\\,\\rho\\,\\left(\\frac{d}{d\\,p}\\,\\rho\\right)-{\\it cp}\\,{\\it ny}^2\\,\\rho\\,\\vartheta\\right)\\,v+\\left({\\it cp}\\,{\\it nx}\\,{\\it ny}\\,\\rho\\,\\left(\\frac{d}{d\\,p}\\,\\rho\\right)-{\\it cp}\\,{\\it nx}\\,{\\it ny}\\,\\rho\\,\\vartheta\\right)\\,u}{\\left(2\\,{\\it cp}\\,{\\it ny}^2+2\\,{\\it cp}\\,{\\it nx}^2\\right)\\,\\rho^2}\\]"
      ],
      "text/plain": [
       "                      2   2    2      2       2   2    2 drho\n",
       "(%o178) - (ny sqrt((cp  ny  rho  theta  - 2 cp  ny  rho  ---- theta\n",
       "                                                          dp\n",
       "     2   2    2  drho 2   2        2          2      2\n",
       " + cp  ny  rho  (----) ) v  + (2 cp  nx ny rho  theta\n",
       "                  dp\n",
       "       2          2 drho             2          2  drho 2\n",
       " - 4 cp  nx ny rho  ---- theta + 2 cp  nx ny rho  (----) ) u v\n",
       "                     dp                             dp\n",
       "      2   2    2      2       2   2    2 drho           2   2    2  drho 2   2\n",
       " + (cp  nx  rho  theta  - 2 cp  nx  rho  ---- theta + cp  nx  rho  (----) ) u\n",
       "                                          dp                         dp\n",
       "        2   2       2   2     2                 2          2      drho\n",
       " + (4 cp  ny  + 4 cp  nx ) rho  theta + (4 cp ny  + 4 cp nx ) rho ----)\n",
       "                                                                   dT\n",
       "         2     drho        2\n",
       " + (cp ny  rho ---- - cp ny  rho theta) v\n",
       "                dp\n",
       "                 drho                                   2          2     2\n",
       " + (cp nx ny rho ---- - cp nx ny rho theta) u)/((2 cp ny  + 2 cp nx ) rho )\n",
       "                  dp"
      ],
      "text/x-maxima": [
       "-(ny*sqrt((cp^2*ny^2*rho^2*theta^2-2*cp^2*ny^2*rho^2*'diff(rho,p,1)*theta\n",
       "                                  +cp^2*ny^2*rho^2*('diff(rho,p,1))^2)\n",
       "           *v^2\n",
       "           +(2*cp^2*nx*ny*rho^2*theta^2-4*cp^2*nx*ny*rho^2*'diff(rho,p,1)\n",
       "                                         *theta\n",
       "                                       +2*cp^2*nx*ny*rho^2*('diff(rho,p,1))^2)\n",
       "            *u*v\n",
       "           +(cp^2*nx^2*rho^2*theta^2-2*cp^2*nx^2*rho^2*'diff(rho,p,1)*theta\n",
       "                                    +cp^2*nx^2*rho^2*('diff(rho,p,1))^2)\n",
       "            *u^2+(4*cp^2*ny^2+4*cp^2*nx^2)*rho^2*theta\n",
       "           +(4*cp*ny^2+4*cp*nx^2)*rho*'diff(rho,T,1))\n",
       " +(cp*ny^2*rho*'diff(rho,p,1)-cp*ny^2*rho*theta)*v\n",
       " +(cp*nx*ny*rho*'diff(rho,p,1)-cp*nx*ny*rho*theta)*u)\n",
       " /((2*cp*ny^2+2*cp*nx^2)*rho^2)"
      ]
     },
     "execution_count": 105,
     "metadata": {},
     "output_type": "execute_result"
    },
    {
     "data": {
      "text/latex": [
       "\\[\\tag{${\\it \\%o}_{179}$}\\frac{1}{{\\it cp}\\,\\rho}\\]"
      ],
      "text/plain": [
       "                                      1\n",
       "(%o179)                             ------\n",
       "                                    cp rho"
      ],
      "text/x-maxima": [
       "1/(cp*rho)"
      ]
     },
     "execution_count": 105,
     "metadata": {},
     "output_type": "execute_result"
    }
   ],
   "source": [
    "ratsimp(eV[1][1][1]);\n",
    "ratsimp(eV[1][1][2]);\n",
    "ratsimp(eV[1][1][3]);\n",
    "ratsimp(eV[1][1][4]);"
   ]
  }
 ],
 "metadata": {
  "kernelspec": {
   "display_name": "Maxima",
   "language": "maxima",
   "name": "maxima"
  },
  "language_info": {
   "codemirror_mode": "maxima",
   "file_extension": ".mac",
   "mimetype": "text/x-maxima",
   "name": "maxima",
   "pygments_lexer": "maxima",
   "version": "5.45.1"
  }
 },
 "nbformat": 4,
 "nbformat_minor": 4
}
