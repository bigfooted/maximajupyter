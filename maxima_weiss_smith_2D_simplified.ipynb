{
 "cells": [
  {
   "cell_type": "markdown",
   "metadata": {},
   "source": [
    "# Derivation of euler equations in primitive form\n",
    "Derivation of the Weiss and Smith preconditioning.\n",
    "We are following the 1D derivation of maxima_weiss_smith_1D here and extend it to 2D"
   ]
  },
  {
   "cell_type": "code",
   "execution_count": 1,
   "metadata": {},
   "outputs": [
    {
     "data": {
      "text/latex": [
       "\\[\\tag{${\\it \\%o}_{0}$}\\mathbf{done}\\]"
      ],
      "text/plain": [
       "(%o0)                                done"
      ],
      "text/x-maxima": [
       "done"
      ]
     },
     "execution_count": 1,
     "metadata": {},
     "output_type": "execute_result"
    }
   ],
   "source": [
    "kill(all);"
   ]
  },
  {
   "cell_type": "markdown",
   "metadata": {},
   "source": [
    "# Analysis of the Euler Equations\n",
    "## 1. conservative form\n",
    "\n",
    "\n",
    "    \n",
    "\n",
    "We want to solve the PDE:\n",
    "\n",
    "$$ \\frac{\\partial U}{\\partial t} + \\frac{\\partial F(U)}{\\partial x} + \\frac{\\partial G(U)}{\\partial y} = 0$$\n"
   ]
  },
  {
   "cell_type": "markdown",
   "metadata": {},
   "source": [
    "    \n",
    "For the 2D problem we have the following definitions:\n",
    "\n",
    "\n",
    "$$\n",
    "U = \\left\\{\n",
    "    \\begin{array}\\\\\n",
    "        \\rho               &  \\\\\n",
    "        \\rho u        &  \\\\\n",
    "        \\rho E u & \n",
    "    \\end{array}\n",
    "\\right\\}\n",
    "$$\n",
    "\n",
    "\n",
    "$$\n",
    "F = \\left\\{\n",
    "    \\begin{array}\\\\\n",
    "        \\rho  u                  &  \\\\\n",
    "        p+\\rho u^2               &  \\\\\n",
    "        \\rho  u  v          &  \\\\\n",
    "        (\\rho E + p) u & \n",
    "    \\end{array}\n",
    "\\right\\}\n",
    "$$\n",
    "\n",
    "\n",
    "$$\n",
    "G = \\left\\{\n",
    "    \\begin{array}\\\\\n",
    "        \\rho  u  v          &  \\\\\n",
    "        p+\\rho v^2               &  \\\\\n",
    "        (\\rho E + p) u & \n",
    "    \\end{array}\n",
    "\\right\\}\n",
    "$$\n",
    "\n"
   ]
  },
  {
   "cell_type": "code",
   "execution_count": 2,
   "metadata": {},
   "outputs": [
    {
     "data": {
      "text/latex": [
       "\\[\\tag{${\\it \\%o}_{1}$}\\left[ U_{1}=\\rho , U_{2}=\\rho\\,u , U_{3}=\\rho\\,v , U_{4}=E\\,\\rho \\right] \\]"
      ],
      "text/plain": [
       "(%o1)           [U1 = rho, U2 = rho u, U3 = rho v, U4 = E rho]"
      ],
      "text/x-maxima": [
       "[U1 = rho,U2 = rho*u,U3 = rho*v,U4 = E*rho]"
      ]
     },
     "execution_count": 2,
     "metadata": {},
     "output_type": "execute_result"
    },
    {
     "data": {
      "text/latex": [
       "\\[\\tag{${\\it \\%o}_{2}$}\\begin{pmatrix}\\rho\\,u & \\rho\\,u^2+p & \\rho\\,u\\,v & \\left(E\\,\\rho+p\\right)\\,u \\\\ \\end{pmatrix}\\]"
      ],
      "text/plain": [
       "(%o2)            [             2                             ]\n",
       "                 [ rho u  rho u  + p  rho u v  (E rho + p) u ]"
      ],
      "text/x-maxima": [
       "matrix([rho*u,rho*u^2+p,rho*u*v,(E*rho+p)*u])"
      ]
     },
     "execution_count": 2,
     "metadata": {},
     "output_type": "execute_result"
    },
    {
     "data": {
      "text/latex": [
       "\\[\\tag{${\\it \\%o}_{3}$}\\begin{pmatrix}\\rho\\,v & \\rho\\,u\\,v & \\rho\\,v^2+p & \\left(E\\,\\rho+p\\right)\\,v \\\\ \\end{pmatrix}\\]"
      ],
      "text/plain": [
       "(%o3)            [                      2                    ]\n",
       "                 [ rho v  rho u v  rho v  + p  (E rho + p) v ]"
      ],
      "text/x-maxima": [
       "matrix([rho*v,rho*u*v,rho*v^2+p,(E*rho+p)*v])"
      ]
     },
     "execution_count": 2,
     "metadata": {},
     "output_type": "execute_result"
    }
   ],
   "source": [
    "/*consSystem : [U1 = rho, U2 = rho*u, U3 = rho*E];*/\n",
    "/*F:matrix([rho*u,rho*u^2+p,u*rho*E+p*u]);*/\n",
    "\n",
    "\n",
    "consSystem : [U1=rho,U2=rho*u, U3=rho*v, U4=rho*E];\n",
    "\n",
    "F:ratsimp((matrix([rho*u,rho*u*u+p,rho*u*v,u*rho*E+p*u])));\n",
    "    \n",
    "G:ratsimp((matrix([rho*v,rho*u*v,rho*v*v+p,v*rho*E+p*v])));"
   ]
  },
  {
   "cell_type": "markdown",
   "metadata": {},
   "source": [
    "    \n",
    "    We define the velocity q as follows:\n",
    "    \n"
   ]
  },
  {
   "cell_type": "code",
   "execution_count": 3,
   "metadata": {},
   "outputs": [
    {
     "data": {
      "text/latex": [
       "\\[\\tag{${\\it \\%o}_{4}$}\\frac{v^2+u^2}{2}\\]"
      ],
      "text/plain": [
       "                                     2    2\n",
       "                                    v  + u\n",
       "(%o4)                               -------\n",
       "                                       2"
      ],
      "text/x-maxima": [
       "(v^2+u^2)/2"
      ]
     },
     "execution_count": 3,
     "metadata": {},
     "output_type": "execute_result"
    }
   ],
   "source": [
    "q : (u*u+v*v)/2;"
   ]
  },
  {
   "cell_type": "markdown",
   "metadata": {},
   "source": [
    "    The internal energy follows from the relationships : \n",
    "    \n",
    "    $$E = H - \\frac{p}{\\rho} = e + q$$\n",
    "    $$H = h + q = c_pT + q$$\n",
    "    \n",
    "    $E = c_pT + q - \\frac{p}{\\rho}$\n",
    "    "
   ]
  },
  {
   "cell_type": "code",
   "execution_count": 4,
   "metadata": {},
   "outputs": [
    {
     "data": {
      "text/latex": [
       "\\[\\tag{${\\it \\%o}_{5}$}E-\\frac{v^2+u^2}{2}\\]"
      ],
      "text/plain": [
       "                                       2    2\n",
       "                                      v  + u\n",
       "(%o5)                             E - -------\n",
       "                                         2"
      ],
      "text/x-maxima": [
       "E-(v^2+u^2)/2"
      ]
     },
     "execution_count": 4,
     "metadata": {},
     "output_type": "execute_result"
    }
   ],
   "source": [
    "e : E-q;"
   ]
  },
  {
   "cell_type": "markdown",
   "metadata": {},
   "source": [
    "    \n",
    "    The pressure follows from the pressure definition: $p = (\\gamma - 1)\\rho e$\n",
    "    \n"
   ]
  },
  {
   "cell_type": "code",
   "execution_count": 5,
   "metadata": {},
   "outputs": [
    {
     "data": {
      "text/latex": [
       "\\[\\tag{${\\it \\%o}_{6}$}\\rho\\,\\left(E-\\frac{v^2+u^2}{2}\\right)\\,\\left(\\gamma-1\\right)\\]"
      ],
      "text/plain": [
       "                                   2    2\n",
       "                                  v  + u\n",
       "(%o6)                    rho (E - -------) (gamma - 1)\n",
       "                                     2"
      ],
      "text/x-maxima": [
       "rho*(E-(v^2+u^2)/2)*(gamma-1)"
      ]
     },
     "execution_count": 5,
     "metadata": {},
     "output_type": "execute_result"
    }
   ],
   "source": [
    "p: (gamma-1)*rho*e;"
   ]
  },
  {
   "cell_type": "markdown",
   "metadata": {},
   "source": [
    "    \n",
    "We now map the conservative variables to $(\\rho,u,v,E)$\n",
    "    \n"
   ]
  },
  {
   "cell_type": "code",
   "execution_count": 6,
   "metadata": {},
   "outputs": [
    {
     "data": {
      "text/latex": [
       "\\[\\tag{${\\it \\%o}_{7}$}\\left[ \\rho=U_{1} , u=\\frac{U_{2}}{U_{1}} , v=\\frac{U_{3}}{U_{1}} , E=\\frac{U_{4}}{U_{1}} \\right] \\]"
      ],
      "text/plain": [
       "                                     U2      U3      U4\n",
       "(%o7)                 [rho = U1, u = --, v = --, E = --]\n",
       "                                     U1      U1      U1"
      ],
      "text/x-maxima": [
       "[rho = U1,u = U2/U1,v = U3/U1,E = U4/U1]"
      ]
     },
     "execution_count": 6,
     "metadata": {},
     "output_type": "execute_result"
    }
   ],
   "source": [
    "mapping : [rho = U1, u=U2/U1, v = U3/U1, E=U4/U1];"
   ]
  },
  {
   "cell_type": "markdown",
   "metadata": {},
   "source": [
    "    \n",
    "From this also follows the pressure in terms of the conservative variables:\n",
    "    \n"
   ]
  },
  {
   "cell_type": "code",
   "execution_count": 7,
   "metadata": {},
   "outputs": [
    {
     "data": {
      "text/latex": [
       "\\[\\tag{${\\it \\%o}_{8}$}U_{1}\\,\\left(\\frac{U_{4}}{U_{1}}-\\frac{\\frac{U_{3}^2}{U_{1}^2}+\\frac{U_{2}^2}{U_{1}^2}}{2}\\right)\\,\\left(\\gamma-1\\right)\\]"
      ],
      "text/plain": [
       "                                   2     2\n",
       "                                 U3    U2\n",
       "                                 --- + ---\n",
       "                                   2     2\n",
       "                            U4   U1    U1\n",
       "(%o8)                   U1 (-- - ---------) (gamma - 1)\n",
       "                            U1       2"
      ],
      "text/x-maxima": [
       "U1*(U4/U1-(U3^2/U1^2+U2^2/U1^2)/2)*(gamma-1)"
      ]
     },
     "execution_count": 7,
     "metadata": {},
     "output_type": "execute_result"
    }
   ],
   "source": [
    "P : subst(mapping,p);"
   ]
  },
  {
   "cell_type": "markdown",
   "metadata": {},
   "source": [
    "    \n",
    "We now write the convective flux as function of the conservative variables:\n",
    "\n"
   ]
  },
  {
   "cell_type": "code",
   "execution_count": 8,
   "metadata": {},
   "outputs": [
    {
     "data": {
      "text/latex": [
       "\\[\\tag{${\\it \\%o}_{9}$}\\begin{pmatrix}U_{2} & U_{4}\\,\\gamma-\\frac{U_{3}^2\\,\\gamma}{2\\,U_{1}}-\\frac{U_{2}^2\\,\\gamma}{2\\,U_{1}}-U_{4}+\\frac{U_{3}^2}{2\\,U_{1}}+\\frac{3\\,U_{2}^2}{2\\,U_{1}} & \\frac{U_{2}\\,U_{3}}{U_{1}} & \\frac{U_{2}\\,U_{4}\\,\\gamma}{U_{1}}-\\frac{U_{2}\\,U_{3}^2\\,\\gamma}{2\\,U_{1}^2}-\\frac{U_{2}^3\\,\\gamma}{2\\,U_{1}^2}+\\frac{U_{2}\\,U_{3}^2}{2\\,U_{1}^2}+\\frac{U_{2}^3}{2\\,U_{1}^2} \\\\ \\end{pmatrix}\\]"
      ],
      "text/plain": [
       "(%o9)  Col 1 = [ U2 ]\n",
       "         [              2           2                2        2 ]\n",
       " Col 2 = [            U3  gamma   U2  gamma        U3     3 U2  ]\n",
       "         [ U4 gamma - --------- - --------- - U4 + ---- + ----- ]\n",
       "         [              2 U1        2 U1           2 U1   2 U1  ]\n",
       "         [ U2 U3 ]\n",
       " Col 3 = [ ----- ]\n",
       "         [  U1   ]\n",
       "         [                    2           3              2      3  ]\n",
       "         [ U2 U4 gamma   U2 U3  gamma   U2  gamma   U2 U3     U2   ]\n",
       " Col 4 = [ ----------- - ------------ - --------- + ------ + ----- ]\n",
       "         [     U1               2             2         2        2 ]\n",
       "         [                  2 U1          2 U1      2 U1     2 U1  ]"
      ],
      "text/x-maxima": [
       "matrix([U2,\n",
       "        U4*gamma-(U3^2*gamma)/(2*U1)-(U2^2*gamma)/(2*U1)-U4+U3^2/(2*U1)\n",
       "                +(3*U2^2)/(2*U1),(U2*U3)/U1,\n",
       "        (U2*U4*gamma)/U1-(U2*U3^2*gamma)/(2*U1^2)-(U2^3*gamma)/(2*U1^2)\n",
       "                        +(U2*U3^2)/(2*U1^2)+U2^3/(2*U1^2)])"
      ]
     },
     "execution_count": 8,
     "metadata": {},
     "output_type": "execute_result"
    },
    {
     "data": {
      "text/latex": [
       "\\[\\tag{${\\it \\%o}_{10}$}\\begin{pmatrix}U_{2} \\\\ \\frac{\\left(2\\,U_{1}\\,U_{4}-U_{3}^2-U_{2}^2\\right)\\,\\gamma-2\\,U_{1}\\,U_{4}+U_{3}^2+3\\,U_{2}^2}{2\\,U_{1}} \\\\ \\frac{U_{2}\\,U_{3}}{U_{1}} \\\\ \\frac{\\left(2\\,U_{1}\\,U_{2}\\,U_{4}-U_{2}\\,U_{3}^2-U_{2}^3\\right)\\,\\gamma+U_{2}\\,U_{3}^2+U_{2}^3}{2\\,U_{1}^2} \\\\ \\end{pmatrix}\\]"
      ],
      "text/plain": [
       "            [                         U2                          ]\n",
       "            [                                                     ]\n",
       "            [              2     2                      2       2 ]\n",
       "            [ (2 U1 U4 - U3  - U2 ) gamma - 2 U1 U4 + U3  + 3 U2  ]\n",
       "            [ --------------------------------------------------- ]\n",
       "            [                        2 U1                         ]\n",
       "            [                                                     ]\n",
       "(%o10)      [                        U2 U3                        ]\n",
       "            [                        -----                        ]\n",
       "            [                         U1                          ]\n",
       "            [                                                     ]\n",
       "            [                     2     3               2     3   ]\n",
       "            [  (2 U1 U2 U4 - U2 U3  - U2 ) gamma + U2 U3  + U2    ]\n",
       "            [  ------------------------------------------------   ]\n",
       "            [                           2                         ]\n",
       "            [                       2 U1                          ]"
      ],
      "text/x-maxima": [
       "matrix([U2],[((2*U1*U4-U3^2-U2^2)*gamma-2*U1*U4+U3^2+3*U2^2)/(2*U1)],\n",
       "       [(U2*U3)/U1],[((2*U1*U2*U4-U2*U3^2-U2^3)*gamma+U2*U3^2+U2^3)/(2*U1^2)])"
      ]
     },
     "execution_count": 8,
     "metadata": {},
     "output_type": "execute_result"
    }
   ],
   "source": [
    "Fstar : ratexpand(ratsimp(ev(subst(mapping,F),nouns)));\n",
    "transpose(ratsimp(Fstar));"
   ]
  },
  {
   "cell_type": "code",
   "execution_count": 9,
   "metadata": {},
   "outputs": [
    {
     "data": {
      "text/latex": [
       "\\[\\tag{${\\it \\%o}_{11}$}\\begin{pmatrix}U_{1} & U_{2} & U_{3} & U_{4} \\\\ \\end{pmatrix}\\]"
      ],
      "text/plain": [
       "(%o11)                        [ U1  U2  U3  U4 ]"
      ],
      "text/x-maxima": [
       "matrix([U1,U2,U3,U4])"
      ]
     },
     "execution_count": 9,
     "metadata": {},
     "output_type": "execute_result"
    }
   ],
   "source": [
    "Utilde:matrix([U1,U2,U3,U4]);"
   ]
  },
  {
   "cell_type": "code",
   "execution_count": 10,
   "metadata": {},
   "outputs": [
    {
     "data": {
      "text/latex": [
       "\\[\\tag{${\\it \\%o}_{12}$}\\begin{pmatrix}0 & 1 & 0 & 0 \\\\ \\frac{\\left(U_{3}^2+U_{2}^2\\right)\\,\\gamma-U_{3}^2-3\\,U_{2}^2}{2\\,U_{1}^2} & -\\frac{U_{2}\\,\\gamma-3\\,U_{2}}{U_{1}} & -\\frac{U_{3}\\,\\gamma-U_{3}}{U_{1}} & \\gamma-1 \\\\ -\\frac{U_{2}\\,U_{3}}{U_{1}^2} & \\frac{U_{3}}{U_{1}} & \\frac{U_{2}}{U_{1}} & 0 \\\\ -\\frac{\\left(U_{1}\\,U_{2}\\,U_{4}-U_{2}\\,U_{3}^2-U_{2}^3\\right)\\,\\gamma+U_{2}\\,U_{3}^2+U_{2}^3}{U_{1}^3} & \\frac{\\left(2\\,U_{1}\\,U_{4}-U_{3}^2-3\\,U_{2}^2\\right)\\,\\gamma+U_{3}^2+3\\,U_{2}^2}{2\\,U_{1}^2} & -\\frac{U_{2}\\,U_{3}\\,\\gamma-U_{2}\\,U_{3}}{U_{1}^2} & \\frac{U_{2}\\,\\gamma}{U_{1}} \\\\ \\end{pmatrix}\\]"
      ],
      "text/plain": [
       "                [                        0                         ]\n",
       "                [                                                  ]\n",
       "                [            2     2            2       2          ]\n",
       "                [         (U3  + U2 ) gamma - U3  - 3 U2           ]\n",
       "                [         -------------------------------          ]\n",
       "                [                          2                       ]\n",
       "                [                      2 U1                        ]\n",
       "                [                                                  ]\n",
       "(%o12)  Col 1 = [                       U2 U3                      ]\n",
       "                [                     - -----                      ]\n",
       "                [                          2                       ]\n",
       "                [                        U1                        ]\n",
       "                [                                                  ]\n",
       "                [                    2     3               2     3 ]\n",
       "                [   (U1 U2 U4 - U2 U3  - U2 ) gamma + U2 U3  + U2  ]\n",
       "                [ - ---------------------------------------------- ]\n",
       "                [                          3                       ]\n",
       "                [                        U1                        ]\n",
       "         [                      1                      ]\n",
       "         [                                             ]\n",
       "         [                U2 gamma - 3 U2              ]\n",
       "         [              - ---------------              ]\n",
       "         [                      U1                     ]\n",
       "         [                                             ]\n",
       "         [                     U3                      ]\n",
       " Col 2 = [                     --                      ]\n",
       "         [                     U1                      ]\n",
       "         [                                             ]\n",
       "         [              2       2            2       2 ]\n",
       "         [ (2 U1 U4 - U3  - 3 U2 ) gamma + U3  + 3 U2  ]\n",
       "         [ ------------------------------------------- ]\n",
       "         [                        2                    ]\n",
       "         [                    2 U1                     ]\n",
       "         [           0           ]\n",
       "         [                       ]\n",
       "         [      U3 gamma - U3    ]         [     0     ]\n",
       "         [    - -------------    ]         [           ]\n",
       "         [           U1          ]         [ gamma - 1 ]\n",
       "         [                       ]         [           ]\n",
       " Col 3 = [          U2           ] Col 4 = [     0     ]\n",
       "         [          --           ]         [           ]\n",
       "         [          U1           ]         [ U2 gamma  ]\n",
       "         [                       ]         [ --------  ]\n",
       "         [   U2 U3 gamma - U2 U3 ]         [    U1     ]\n",
       "         [ - ------------------- ]\n",
       "         [             2         ]\n",
       "         [           U1          ]"
      ],
      "text/x-maxima": [
       "matrix([0,1,0,0],\n",
       "       [((U3^2+U2^2)*gamma-U3^2-3*U2^2)/(2*U1^2),-(U2*gamma-3*U2)/U1,\n",
       "        -(U3*gamma-U3)/U1,gamma-1],[-(U2*U3)/U1^2,U3/U1,U2/U1,0],\n",
       "       [-((U1*U2*U4-U2*U3^2-U2^3)*gamma+U2*U3^2+U2^3)/U1^3,\n",
       "        ((2*U1*U4-U3^2-3*U2^2)*gamma+U3^2+3*U2^2)/(2*U1^2),\n",
       "        -(U2*U3*gamma-U2*U3)/U1^2,(U2*gamma)/U1])"
      ]
     },
     "execution_count": 10,
     "metadata": {},
     "output_type": "execute_result"
    }
   ],
   "source": [
    "dFdU:ratsimp(jacobian(args(Fstar)[1],args(Utilde)[1]));"
   ]
  },
  {
   "cell_type": "markdown",
   "metadata": {},
   "source": [
    "    \n",
    "Since $\\frac{\\partial F(U)}{\\partial x} = \\frac{\\partial F}{\\partial U}\\frac{\\partial U}{\\partial x}$ we can now write \n",
    "\n",
    "the euler equation in quasilinear form with \n",
    "$$\\frac{dU}{dt}+\\frac{\\partial F}{\\partial U}\\frac{dU}{dx}=\\frac{dU}{dt}+A\\frac{dU}{dx}=0$$\n",
    "    \n"
   ]
  },
  {
   "cell_type": "code",
   "execution_count": 11,
   "metadata": {},
   "outputs": [
    {
     "data": {
      "text/latex": [
       "\\[\\tag{${\\it \\%o}_{13}$}\\begin{pmatrix}0 & 1 & 0 & 0 \\\\ \\frac{\\left(v^2+u^2\\right)\\,\\gamma-v^2-3\\,u^2}{2} & 3\\,u-u\\,\\gamma & v-v\\,\\gamma & \\gamma-1 \\\\ -u\\,v & v & u & 0 \\\\ \\left(u\\,v^2+u^3-E\\,u\\right)\\,\\gamma-u\\,v^2-u^3 & -\\frac{\\left(v^2+3\\,u^2-2\\,E\\right)\\,\\gamma-v^2-3\\,u^2}{2} & u\\,v-u\\,v\\,\\gamma & u\\,\\gamma \\\\ \\end{pmatrix}\\]"
      ],
      "text/plain": [
       "                [                  0                  ]\n",
       "                [                                     ]\n",
       "                [       2    2           2      2     ]\n",
       "                [     (v  + u ) gamma - v  - 3 u      ]\n",
       "                [     ---------------------------     ]\n",
       "(%o13)  Col 1 = [                  2                  ]\n",
       "                [                                     ]\n",
       "                [                - u v                ]\n",
       "                [                                     ]\n",
       "                [     2    3                   2    3 ]\n",
       "                [ (u v  + u  - E u) gamma - u v  - u  ]\n",
       "         [                   1                   ]\n",
       "         [                                       ]         [        0        ]\n",
       "         [             3 u - u gamma             ]         [                 ]\n",
       "         [                                       ]         [   v - v gamma   ]\n",
       " Col 2 = [                   v                   ] Col 3 = [                 ]\n",
       "         [                                       ]         [        u        ]\n",
       "         [     2      2                 2      2 ]         [                 ]\n",
       "         [   (v  + 3 u  - 2 E) gamma - v  - 3 u  ]         [ u v - u v gamma ]\n",
       "         [ - ----------------------------------- ]\n",
       "         [                    2                  ]\n",
       "         [     0     ]\n",
       "         [           ]\n",
       "         [ gamma - 1 ]\n",
       " Col 4 = [           ]\n",
       "         [     0     ]\n",
       "         [           ]\n",
       "         [  u gamma  ]"
      ],
      "text/x-maxima": [
       "matrix([0,1,0,0],\n",
       "       [((v^2+u^2)*gamma-v^2-3*u^2)/2,3*u-u*gamma,v-v*gamma,gamma-1],\n",
       "       [-u*v,v,u,0],\n",
       "       [(u*v^2+u^3-E*u)*gamma-u*v^2-u^3,-((v^2+3*u^2-2*E)*gamma-v^2-3*u^2)/2,\n",
       "        u*v-u*v*gamma,u*gamma])"
      ]
     },
     "execution_count": 11,
     "metadata": {},
     "output_type": "execute_result"
    }
   ],
   "source": [
    "A1:ratsimp(subst(consSystem,dFdU));"
   ]
  },
  {
   "cell_type": "markdown",
   "metadata": {},
   "source": [
    "    \n",
    "We can get the internal energy from the pressure equation and write pressure as $p=\\rho c^2/\\gamma$:\n",
    "    \n"
   ]
  },
  {
   "cell_type": "code",
   "execution_count": 12,
   "metadata": {},
   "outputs": [
    {
     "data": {
      "text/latex": [
       "\\[\\tag{${\\it \\%o}_{14}$}\\frac{c^2\\,\\rho}{\\gamma}\\]"
      ],
      "text/plain": [
       "                                     2\n",
       "                                    c  rho\n",
       "(%o14)                              ------\n",
       "                                    gamma"
      ],
      "text/x-maxima": [
       "(c^2*rho)/gamma"
      ]
     },
     "execution_count": 12,
     "metadata": {},
     "output_type": "execute_result"
    },
    {
     "data": {
      "text/latex": [
       "\\[\\tag{${\\it \\%o}_{15}$}\\frac{c^2}{\\left(\\gamma-1\\right)\\,\\gamma}\\]"
      ],
      "text/plain": [
       "                                       2\n",
       "                                      c\n",
       "(%o15)                         -----------------\n",
       "                               (gamma - 1) gamma"
      ],
      "text/x-maxima": [
       "c^2/((gamma-1)*gamma)"
      ]
     },
     "execution_count": 12,
     "metadata": {},
     "output_type": "execute_result"
    }
   ],
   "source": [
    "pc : rho*c^2/gamma;\n",
    "e : pc/(rho*(gamma-1));"
   ]
  },
  {
   "cell_type": "code",
   "execution_count": 13,
   "metadata": {},
   "outputs": [
    {
     "data": {
      "text/latex": [
       "\\[\\tag{${\\it \\%o}_{16}$}\\begin{pmatrix}0 & 1 & 0 & 0 \\\\ \\frac{\\left(v^2+u^2\\right)\\,\\gamma-v^2-3\\,u^2}{2} & 3\\,u-u\\,\\gamma & v-v\\,\\gamma & \\gamma-1 \\\\ -u\\,v & v & u & 0 \\\\ \\frac{\\left(u\\,v^2+u^3\\right)\\,\\gamma^2+\\left(-3\\,u\\,v^2-3\\,u^3\\right)\\,\\gamma+2\\,u\\,v^2+2\\,u^3-2\\,c^2\\,u}{2\\,\\gamma-2} & -\\frac{2\\,u^2\\,\\gamma^2+\\left(-v^2-5\\,u^2\\right)\\,\\gamma+v^2+3\\,u^2-2\\,c^2}{2\\,\\gamma-2} & u\\,v-u\\,v\\,\\gamma & u\\,\\gamma \\\\ \\end{pmatrix}\\]"
      ],
      "text/plain": [
       "                               2    2           2      2\n",
       "                             (v  + u ) gamma - v  - 3 u\n",
       "(%o16) matrix([0, 1, 0, 0], [---------------------------, 3 u - u gamma, \n",
       "                                          2\n",
       "v - v gamma, gamma - 1], [- u v, v, u, 0], \n",
       "     2    3       2            2       3               2      3      2\n",
       " (u v  + u ) gamma  + ((- 3 u v ) - 3 u ) gamma + 2 u v  + 2 u  - 2 c  u\n",
       "[-----------------------------------------------------------------------, \n",
       "                               2 gamma - 2\n",
       "     2      2        2       2           2      2      2\n",
       "  2 u  gamma  + ((- v ) - 5 u ) gamma + v  + 3 u  - 2 c\n",
       "- ------------------------------------------------------, u v - u v gamma, \n",
       "                       2 gamma - 2\n",
       "u gamma])"
      ],
      "text/x-maxima": [
       "matrix([0,1,0,0],\n",
       "       [((v^2+u^2)*gamma-v^2-3*u^2)/2,3*u-u*gamma,v-v*gamma,gamma-1],\n",
       "       [-u*v,v,u,0],\n",
       "       [((u*v^2+u^3)*gamma^2+((-3*u*v^2)-3*u^3)*gamma+2*u*v^2+2*u^3-2*c^2*u)\n",
       "         /(2*gamma-2),\n",
       "        -(2*u^2*gamma^2+((-v^2)-5*u^2)*gamma+v^2+3*u^2-2*c^2)/(2*gamma-2),\n",
       "        u*v-u*v*gamma,u*gamma])"
      ]
     },
     "execution_count": 13,
     "metadata": {},
     "output_type": "execute_result"
    }
   ],
   "source": [
    "A1 : ratsimp(subst([E = (e + q)],A1));"
   ]
  },
  {
   "cell_type": "markdown",
   "metadata": {},
   "source": [
    "    \n",
    "    We can now compute the eigenvalues, which should be $(u, u, u-c, u+c)$\n",
    "    \n"
   ]
  },
  {
   "cell_type": "code",
   "execution_count": 14,
   "metadata": {},
   "outputs": [
    {
     "data": {
      "text/latex": [
       "\\[\\tag{${\\it \\%o}_{17}$}\\left[ \\left[ u , u-c , u+c \\right]  , \\left[ 2 , 1 , 1 \\right]  \\right] \\]"
      ],
      "text/plain": [
       "(%o17)                  [[u, u - c, u + c], [2, 1, 1]]"
      ],
      "text/x-maxima": [
       "[[u,u-c,u+c],[2,1,1]]"
      ]
     },
     "execution_count": 14,
     "metadata": {},
     "output_type": "execute_result"
    }
   ],
   "source": [
    "ratexpand(ratsimp(eigenvalues(A1)));"
   ]
  },
  {
   "cell_type": "markdown",
   "metadata": {},
   "source": [
    "    \n",
    "We use the same approach for the matrix B:\n",
    "\n"
   ]
  },
  {
   "cell_type": "code",
   "execution_count": 15,
   "metadata": {},
   "outputs": [
    {
     "data": {
      "text/latex": [
       "\\[\\tag{${\\it \\%o}_{18}$}\\begin{pmatrix}U_{3} & \\frac{U_{2}\\,U_{3}}{U_{1}} & U_{4}\\,\\gamma-\\frac{U_{3}^2\\,\\gamma}{2\\,U_{1}}-\\frac{U_{2}^2\\,\\gamma}{2\\,U_{1}}-U_{4}+\\frac{3\\,U_{3}^2}{2\\,U_{1}}+\\frac{U_{2}^2}{2\\,U_{1}} & \\frac{U_{3}\\,U_{4}\\,\\gamma}{U_{1}}-\\frac{U_{3}^3\\,\\gamma}{2\\,U_{1}^2}-\\frac{U_{2}^2\\,U_{3}\\,\\gamma}{2\\,U_{1}^2}+\\frac{U_{3}^3}{2\\,U_{1}^2}+\\frac{U_{2}^2\\,U_{3}}{2\\,U_{1}^2} \\\\ \\end{pmatrix}\\]"
      ],
      "text/plain": [
       "                               [ U2 U3 ]\n",
       "(%o18)  Col 1 = [ U3 ] Col 2 = [ ----- ]\n",
       "                               [  U1   ]\n",
       "         [              2           2                  2     2  ]\n",
       " Col 3 = [            U3  gamma   U2  gamma        3 U3    U2   ]\n",
       "         [ U4 gamma - --------- - --------- - U4 + ----- + ---- ]\n",
       "         [              2 U1        2 U1           2 U1    2 U1 ]\n",
       "         [                 3           2               3      2    ]\n",
       "         [ U3 U4 gamma   U3  gamma   U2  U3 gamma    U3     U2  U3 ]\n",
       " Col 4 = [ ----------- - --------- - ------------ + ----- + ------ ]\n",
       "         [     U1              2            2           2       2  ]\n",
       "         [                 2 U1         2 U1        2 U1    2 U1   ]"
      ],
      "text/x-maxima": [
       "matrix([U3,(U2*U3)/U1,\n",
       "        U4*gamma-(U3^2*gamma)/(2*U1)-(U2^2*gamma)/(2*U1)-U4+(3*U3^2)/(2*U1)\n",
       "                +U2^2/(2*U1),\n",
       "        (U3*U4*gamma)/U1-(U3^3*gamma)/(2*U1^2)-(U2^2*U3*gamma)/(2*U1^2)\n",
       "                        +U3^3/(2*U1^2)+(U2^2*U3)/(2*U1^2)])"
      ]
     },
     "execution_count": 15,
     "metadata": {},
     "output_type": "execute_result"
    },
    {
     "data": {
      "text/latex": [
       "\\[\\tag{${\\it \\%o}_{19}$}\\begin{pmatrix}0 & 0 & 1 & 0 \\\\ -\\frac{U_{2}\\,U_{3}}{U_{1}^2} & \\frac{U_{3}}{U_{1}} & \\frac{U_{2}}{U_{1}} & 0 \\\\ \\frac{\\left(U_{3}^2+U_{2}^2\\right)\\,\\gamma-3\\,U_{3}^2-U_{2}^2}{2\\,U_{1}^2} & -\\frac{U_{2}\\,\\gamma-U_{2}}{U_{1}} & -\\frac{U_{3}\\,\\gamma-3\\,U_{3}}{U_{1}} & \\gamma-1 \\\\ -\\frac{\\left(U_{1}\\,U_{3}\\,U_{4}-U_{3}^3-U_{2}^2\\,U_{3}\\right)\\,\\gamma+U_{3}^3+U_{2}^2\\,U_{3}}{U_{1}^3} & -\\frac{U_{2}\\,U_{3}\\,\\gamma-U_{2}\\,U_{3}}{U_{1}^2} & \\frac{\\left(2\\,U_{1}\\,U_{4}-3\\,U_{3}^2-U_{2}^2\\right)\\,\\gamma+3\\,U_{3}^2+U_{2}^2}{2\\,U_{1}^2} & \\frac{U_{3}\\,\\gamma}{U_{1}} \\\\ \\end{pmatrix}\\]"
      ],
      "text/plain": [
       "                [                        0                         ]\n",
       "                [                                                  ]\n",
       "                [                       U2 U3                      ]\n",
       "                [                     - -----                      ]\n",
       "                [                          2                       ]\n",
       "                [                        U1                        ]\n",
       "                [                                                  ]\n",
       "                [            2     2              2     2          ]\n",
       "(%o19)  Col 1 = [         (U3  + U2 ) gamma - 3 U3  - U2           ]\n",
       "                [         -------------------------------          ]\n",
       "                [                          2                       ]\n",
       "                [                      2 U1                        ]\n",
       "                [                                                  ]\n",
       "                [                 3     2               3     2    ]\n",
       "                [   (U1 U3 U4 - U3  - U2  U3) gamma + U3  + U2  U3 ]\n",
       "                [ - ---------------------------------------------- ]\n",
       "                [                          3                       ]\n",
       "                [                        U1                        ]\n",
       "         [           0           ]\n",
       "         [                       ]\n",
       "         [          U3           ]\n",
       "         [          --           ]\n",
       "         [          U1           ]\n",
       "         [                       ]\n",
       " Col 2 = [      U2 gamma - U2    ]\n",
       "         [    - -------------    ]\n",
       "         [           U1          ]\n",
       "         [                       ]\n",
       "         [   U2 U3 gamma - U2 U3 ]\n",
       "         [ - ------------------- ]\n",
       "         [             2         ]\n",
       "         [           U1          ]\n",
       "         [                      1                      ]\n",
       "         [                                             ]\n",
       "         [                     U2                      ]\n",
       "         [                     --                      ]         [     0     ]\n",
       "         [                     U1                      ]         [           ]\n",
       "         [                                             ]         [     0     ]\n",
       "         [                U3 gamma - 3 U3              ]         [           ]\n",
       " Col 3 = [              - ---------------              ] Col 4 = [ gamma - 1 ]\n",
       "         [                      U1                     ]         [           ]\n",
       "         [                                             ]         [ U3 gamma  ]\n",
       "         [                2     2              2     2 ]         [ --------  ]\n",
       "         [ (2 U1 U4 - 3 U3  - U2 ) gamma + 3 U3  + U2  ]         [    U1     ]\n",
       "         [ ------------------------------------------- ]\n",
       "         [                        2                    ]\n",
       "         [                    2 U1                     ]"
      ],
      "text/x-maxima": [
       "matrix([0,0,1,0],[-(U2*U3)/U1^2,U3/U1,U2/U1,0],\n",
       "       [((U3^2+U2^2)*gamma-3*U3^2-U2^2)/(2*U1^2),-(U2*gamma-U2)/U1,\n",
       "        -(U3*gamma-3*U3)/U1,gamma-1],\n",
       "       [-((U1*U3*U4-U3^3-U2^2*U3)*gamma+U3^3+U2^2*U3)/U1^3,\n",
       "        -(U2*U3*gamma-U2*U3)/U1^2,\n",
       "        ((2*U1*U4-3*U3^2-U2^2)*gamma+3*U3^2+U2^2)/(2*U1^2),(U3*gamma)/U1])"
      ]
     },
     "execution_count": 15,
     "metadata": {},
     "output_type": "execute_result"
    },
    {
     "data": {
      "text/latex": [
       "\\[\\tag{${\\it \\%o}_{20}$}\\begin{pmatrix}0 & 0 & 1 & 0 \\\\ -u\\,v & v & u & 0 \\\\ \\frac{\\left(v^2+u^2\\right)\\,\\gamma-3\\,v^2-u^2}{2} & u-u\\,\\gamma & 3\\,v-v\\,\\gamma & \\gamma-1 \\\\ \\left(v^3+\\left(u^2-E\\right)\\,v\\right)\\,\\gamma-v^3-u^2\\,v & u\\,v-u\\,v\\,\\gamma & -\\frac{\\left(3\\,v^2+u^2-2\\,E\\right)\\,\\gamma-3\\,v^2-u^2}{2} & v\\,\\gamma \\\\ \\end{pmatrix}\\]"
      ],
      "text/plain": [
       "                [                  0                  ]\n",
       "                [                                     ]\n",
       "                [                - u v                ]\n",
       "                [                                     ]\n",
       "                [       2    2             2    2     ]\n",
       "(%o20)  Col 1 = [     (v  + u ) gamma - 3 v  - u      ]\n",
       "                [     ---------------------------     ]\n",
       "                [                  2                  ]\n",
       "                [                                     ]\n",
       "                [   3     2                  3    2   ]\n",
       "                [ (v  + (u  - E) v) gamma - v  - u  v ]\n",
       "                                     [                   1                   ]\n",
       "         [        0        ]         [                                       ]\n",
       "         [                 ]         [                   u                   ]\n",
       "         [        v        ]         [                                       ]\n",
       " Col 2 = [                 ] Col 3 = [             3 v - v gamma             ]\n",
       "         [   u - u gamma   ]         [                                       ]\n",
       "         [                 ]         [       2    2                   2    2 ]\n",
       "         [ u v - u v gamma ]         [   (3 v  + u  - 2 E) gamma - 3 v  - u  ]\n",
       "                                     [ - ----------------------------------- ]\n",
       "                                     [                    2                  ]\n",
       "         [     0     ]\n",
       "         [           ]\n",
       "         [     0     ]\n",
       " Col 4 = [           ]\n",
       "         [ gamma - 1 ]\n",
       "         [           ]\n",
       "         [  v gamma  ]"
      ],
      "text/x-maxima": [
       "matrix([0,0,1,0],[-u*v,v,u,0],\n",
       "       [((v^2+u^2)*gamma-3*v^2-u^2)/2,u-u*gamma,3*v-v*gamma,gamma-1],\n",
       "       [(v^3+(u^2-E)*v)*gamma-v^3-u^2*v,u*v-u*v*gamma,\n",
       "        -((3*v^2+u^2-2*E)*gamma-3*v^2-u^2)/2,v*gamma])"
      ]
     },
     "execution_count": 15,
     "metadata": {},
     "output_type": "execute_result"
    },
    {
     "data": {
      "text/latex": [
       "\\[\\tag{${\\it \\%o}_{21}$}\\begin{pmatrix}0 & 0 & 1 & 0 \\\\ -u\\,v & v & u & 0 \\\\ \\frac{\\left(v^2+u^2\\right)\\,\\gamma-3\\,v^2-u^2}{2} & u-u\\,\\gamma & 3\\,v-v\\,\\gamma & \\gamma-1 \\\\ \\frac{\\left(v^3+u^2\\,v\\right)\\,\\gamma^2+\\left(-3\\,v^3-3\\,u^2\\,v\\right)\\,\\gamma+2\\,v^3+\\left(2\\,u^2-2\\,c^2\\right)\\,v}{2\\,\\gamma-2} & u\\,v-u\\,v\\,\\gamma & -\\frac{2\\,v^2\\,\\gamma^2+\\left(-5\\,v^2-u^2\\right)\\,\\gamma+3\\,v^2+u^2-2\\,c^2}{2\\,\\gamma-2} & v\\,\\gamma \\\\ \\end{pmatrix}\\]"
      ],
      "text/plain": [
       "(%o21) matrix([0, 0, 1, 0], [- u v, v, u, 0], \n",
       "   2    2             2    2\n",
       " (v  + u ) gamma - 3 v  - u\n",
       "[---------------------------, u - u gamma, 3 v - v gamma, gamma - 1], \n",
       "              2\n",
       "   3    2         2          3       2               3       2      2\n",
       " (v  + u  v) gamma  + ((- 3 v ) - 3 u  v) gamma + 2 v  + (2 u  - 2 c ) v\n",
       "[-----------------------------------------------------------------------, \n",
       "                               2 gamma - 2\n",
       "                      2      2          2     2             2    2      2\n",
       "                   2 v  gamma  + ((- 5 v ) - u ) gamma + 3 v  + u  - 2 c\n",
       "u v - u v gamma, - ------------------------------------------------------, \n",
       "                                        2 gamma - 2\n",
       "v gamma])"
      ],
      "text/x-maxima": [
       "matrix([0,0,1,0],[-u*v,v,u,0],\n",
       "       [((v^2+u^2)*gamma-3*v^2-u^2)/2,u-u*gamma,3*v-v*gamma,gamma-1],\n",
       "       [((v^3+u^2*v)*gamma^2+((-3*v^3)-3*u^2*v)*gamma+2*v^3+(2*u^2-2*c^2)*v)\n",
       "         /(2*gamma-2),u*v-u*v*gamma,\n",
       "        -(2*v^2*gamma^2+((-5*v^2)-u^2)*gamma+3*v^2+u^2-2*c^2)/(2*gamma-2),\n",
       "        v*gamma])"
      ]
     },
     "execution_count": 15,
     "metadata": {},
     "output_type": "execute_result"
    }
   ],
   "source": [
    "Gstar : ratexpand(ratsimp(ev(subst(mapping,G),nouns)));\n",
    "dGdU:ratsimp(jacobian(args(Gstar)[1],args(Utilde)[1]));\n",
    "B1:ratsimp(subst(consSystem,dGdU));\n",
    "B1 : ratsimp(subst([E = (e + q)],B1));"
   ]
  },
  {
   "cell_type": "markdown",
   "metadata": {},
   "source": [
    "    \n",
    "We now have the PDE in quasi-linear form:\n",
    "\n",
    "$$ \\frac{\\partial U}{\\partial t} + A \\cdot \\frac{\\partial U}{\\partial x} + B \\cdot \\frac{\\partial U}{\\partial y} = 0$$\n",
    "    \n"
   ]
  },
  {
   "cell_type": "markdown",
   "metadata": {},
   "source": [
    "\n",
    "***\n",
    "    We can now compute the eigenvalues, which should be $(u, u, u-c, u+c)$  \n",
    "\n",
    "***"
   ]
  },
  {
   "cell_type": "code",
   "execution_count": 16,
   "metadata": {},
   "outputs": [
    {
     "data": {
      "text/latex": [
       "\\[\\tag{${\\it \\%o}_{22}$}\\left[ \\left[ u , u-c , u+c \\right]  , \\left[ 2 , 1 , 1 \\right]  \\right] \\]"
      ],
      "text/plain": [
       "(%o22)                  [[u, u - c, u + c], [2, 1, 1]]"
      ],
      "text/x-maxima": [
       "[[u,u-c,u+c],[2,1,1]]"
      ]
     },
     "execution_count": 16,
     "metadata": {},
     "output_type": "execute_result"
    }
   ],
   "source": [
    "ratexpand(ratsimp(eigenvalues(A1)));"
   ]
  },
  {
   "cell_type": "code",
   "execution_count": 17,
   "metadata": {},
   "outputs": [
    {
     "data": {
      "text/latex": [
       "\\[\\tag{${\\it \\%o}_{23}$}\\left[ \\left[ v , v-c , v+c \\right]  , \\left[ 2 , 1 , 1 \\right]  \\right] \\]"
      ],
      "text/plain": [
       "(%o23)                  [[v, v - c, v + c], [2, 1, 1]]"
      ],
      "text/x-maxima": [
       "[[v,v-c,v+c],[2,1,1]]"
      ]
     },
     "execution_count": 17,
     "metadata": {},
     "output_type": "execute_result"
    }
   ],
   "source": [
    "ratexpand(ratsimp(eigenvalues(B1)));"
   ]
  },
  {
   "cell_type": "markdown",
   "metadata": {},
   "source": [
    "# 2. primitive form with $V=(\\rho,u,v,P)$\n",
    "\n",
    "The euler equation is now in quasilinear form with \n",
    "\n",
    "$$ \\frac{\\partial U}{\\partial t} + A \\cdot \\frac{\\partial U}{\\partial x} + B \\cdot \\frac{\\partial U}{\\partial y} = 0$$\n",
    "    \n",
    "We now write the equations in terms of the new primitive variables $V=(\\rho,u,v,p)$.\n"
   ]
  },
  {
   "cell_type": "markdown",
   "metadata": {},
   "source": [
    "    \n",
    "We have the relationships:\n",
    "    \n",
    "    \n",
    "    \n",
    "    $$\\frac{\\partial U(V)}{\\partial t} = \\frac{\\partial U}{\\partial V}\\frac{\\partial V}{\\partial t} = M \\frac{\\partial V}{\\partial t}$$\n",
    "    \n",
    "    \n",
    "    $$\\frac{\\partial U(V)}{\\partial x} = \\frac{\\partial U}{\\partial V}\\frac{\\partial V}{\\partial x} = M \\frac{\\partial V}{\\partial x}$$\n",
    "    \n",
    "the Euler equations in quasilinear form can now be written as: \n",
    "$$\\frac{dU(V)}{dt} + A\\frac{dU(V)}{dx}=M\\frac{\\partial V}{\\partial t} + A M \\frac{\\partial V}{\\partial x}=0$$\n",
    "    \n",
    "Or, when collecting the matrices:\n",
    "    \n",
    "$$\\frac{\\partial V}{\\partial t} + M^{-1} A M \\frac{\\partial V}{\\partial x}=0$$\n",
    "\n",
    "    \n",
    "\n"
   ]
  },
  {
   "cell_type": "code",
   "execution_count": 18,
   "metadata": {},
   "outputs": [
    {
     "data": {
      "text/latex": [
       "\\[\\tag{${\\it \\%o}_{24}$}U_{1}\\]"
      ],
      "text/plain": [
       "(%o24)                                U1"
      ],
      "text/x-maxima": [
       "U1"
      ]
     },
     "execution_count": 18,
     "metadata": {},
     "output_type": "execute_result"
    },
    {
     "data": {
      "text/latex": [
       "\\[\\tag{${\\it \\%o}_{25}$}\\frac{U_{2}}{U_{1}}\\]"
      ],
      "text/plain": [
       "                                      U2\n",
       "(%o25)                                --\n",
       "                                      U1"
      ],
      "text/x-maxima": [
       "U2/U1"
      ]
     },
     "execution_count": 18,
     "metadata": {},
     "output_type": "execute_result"
    },
    {
     "data": {
      "text/latex": [
       "\\[\\tag{${\\it \\%o}_{26}$}\\frac{U_{3}}{U_{1}}\\]"
      ],
      "text/plain": [
       "                                      U3\n",
       "(%o26)                                --\n",
       "                                      U1"
      ],
      "text/x-maxima": [
       "U3/U1"
      ]
     },
     "execution_count": 18,
     "metadata": {},
     "output_type": "execute_result"
    },
    {
     "data": {
      "text/latex": [
       "\\[\\tag{${\\it \\%o}_{27}$}U_{1}\\,\\left(\\frac{U_{4}}{U_{1}}-\\frac{\\frac{U_{3}^2}{U_{1}^2}+\\frac{U_{2}^2}{U_{1}^2}}{2}\\right)\\,\\left(\\gamma-1\\right)\\]"
      ],
      "text/plain": [
       "                                   2     2\n",
       "                                 U3    U2\n",
       "                                 --- + ---\n",
       "                                   2     2\n",
       "                            U4   U1    U1\n",
       "(%o27)                  U1 (-- - ---------) (gamma - 1)\n",
       "                            U1       2"
      ],
      "text/x-maxima": [
       "U1*(U4/U1-(U3^2/U1^2+U2^2/U1^2)/2)*(gamma-1)"
      ]
     },
     "execution_count": 18,
     "metadata": {},
     "output_type": "execute_result"
    }
   ],
   "source": [
    "/* compact representation of primitive variables rho, u, p*/\n",
    "\n",
    "RHO : U1;\n",
    "Up : U2/U1;\n",
    "Vp : U3/U1;\n",
    "P;"
   ]
  },
  {
   "cell_type": "code",
   "execution_count": 19,
   "metadata": {},
   "outputs": [
    {
     "data": {
      "text/latex": [
       "\\[\\tag{${\\it \\%o}_{28}$}\\begin{pmatrix}U_{1} & \\frac{U_{2}}{U_{1}} & \\frac{U_{3}}{U_{1}} & \\frac{\\left(2\\,U_{1}\\,U_{4}-U_{3}^2-U_{2}^2\\right)\\,\\gamma-2\\,U_{1}\\,U_{4}+U_{3}^2+U_{2}^2}{2\\,U_{1}} \\\\ \\end{pmatrix}\\]"
      ],
      "text/plain": [
       "       [                          2     2                      2     2 ]\n",
       "(%o28) [     U2  U3  (2 U1 U4 - U3  - U2 ) gamma - 2 U1 U4 + U3  + U2  ]\n",
       "       [ U1  --  --  ------------------------------------------------- ]\n",
       "       [     U1  U1                        2 U1                        ]"
      ],
      "text/x-maxima": [
       "matrix([U1,U2/U1,U3/U1,((2*U1*U4-U3^2-U2^2)*gamma-2*U1*U4+U3^2+U2^2)/(2*U1)])"
      ]
     },
     "execution_count": 19,
     "metadata": {},
     "output_type": "execute_result"
    }
   ],
   "source": [
    "Vtilde:ratsimp(matrix([RHO,Up,Vp, P]));"
   ]
  },
  {
   "cell_type": "code",
   "execution_count": 20,
   "metadata": {},
   "outputs": [
    {
     "data": {
      "text/latex": [
       "\\[\\tag{${\\it \\%o}_{29}$}\\begin{pmatrix}U_{1} & U_{2} & U_{3} & U_{4} \\\\ \\end{pmatrix}\\]"
      ],
      "text/plain": [
       "(%o29)                        [ U1  U2  U3  U4 ]"
      ],
      "text/x-maxima": [
       "matrix([U1,U2,U3,U4])"
      ]
     },
     "execution_count": 20,
     "metadata": {},
     "output_type": "execute_result"
    },
    {
     "data": {
      "text/latex": [
       "\\[\\tag{${\\it \\%o}_{30}$}\\begin{pmatrix}1 & 0 & 0 & 0 \\\\ -\\frac{U_{2}}{U_{1}^2} & \\frac{1}{U_{1}} & 0 & 0 \\\\ -\\frac{U_{3}}{U_{1}^2} & 0 & \\frac{1}{U_{1}} & 0 \\\\ \\frac{\\left(U_{3}^2+U_{2}^2\\right)\\,\\gamma-U_{3}^2-U_{2}^2}{2\\,U_{1}^2} & -\\frac{U_{2}\\,\\gamma-U_{2}}{U_{1}} & -\\frac{U_{3}\\,\\gamma-U_{3}}{U_{1}} & \\gamma-1 \\\\ \\end{pmatrix}\\]"
      ],
      "text/plain": [
       "(%o30) \n",
       " [               1                       0                0             0     ]\n",
       " [                                                                            ]\n",
       " [               U2                     1                                     ]\n",
       " [             - ---                    --                0             0     ]\n",
       " [                 2                    U1                                    ]\n",
       " [               U1                                                           ]\n",
       " [                                                                            ]\n",
       " [               U3                                      1                    ]\n",
       " [             - ---                     0               --             0     ]\n",
       " [                 2                                     U1                   ]\n",
       " [               U1                                                           ]\n",
       " [                                                                            ]\n",
       " [    2     2            2     2                                              ]\n",
       " [ (U3  + U2 ) gamma - U3  - U2     U2 gamma - U2    U3 gamma - U3            ]\n",
       " [ -----------------------------  - -------------  - -------------  gamma - 1 ]\n",
       " [                 2                     U1               U1                  ]\n",
       " [             2 U1                                                           ]"
      ],
      "text/x-maxima": [
       "matrix([1,0,0,0],[-U2/U1^2,1/U1,0,0],[-U3/U1^2,0,1/U1,0],\n",
       "       [((U3^2+U2^2)*gamma-U3^2-U2^2)/(2*U1^2),-(U2*gamma-U2)/U1,\n",
       "        -(U3*gamma-U3)/U1,gamma-1])"
      ]
     },
     "execution_count": 20,
     "metadata": {},
     "output_type": "execute_result"
    },
    {
     "data": {
      "text/latex": [
       "\\[\\tag{${\\it \\%o}_{31}$}\\begin{pmatrix}1 & 0 & 0 & 0 \\\\ \\frac{U_{2}}{U_{1}} & U_{1} & 0 & 0 \\\\ \\frac{U_{3}}{U_{1}} & 0 & U_{1} & 0 \\\\ \\frac{U_{3}^2+U_{2}^2}{2\\,U_{1}^2} & U_{2} & U_{3} & \\frac{1}{\\gamma-1} \\\\ \\end{pmatrix}\\]"
      ],
      "text/plain": [
       "                       [     1      0   0       0     ]\n",
       "                       [                              ]\n",
       "                       [    U2                        ]\n",
       "                       [    --      U1  0       0     ]\n",
       "                       [    U1                        ]\n",
       "                       [                              ]\n",
       "                       [    U3                        ]\n",
       "(%o31)                 [    --      0   U1      0     ]\n",
       "                       [    U1                        ]\n",
       "                       [                              ]\n",
       "                       [   2     2                    ]\n",
       "                       [ U3  + U2               1     ]\n",
       "                       [ ---------  U2  U3  --------- ]\n",
       "                       [       2            gamma - 1 ]\n",
       "                       [   2 U1                       ]"
      ],
      "text/x-maxima": [
       "matrix([1,0,0,0],[U2/U1,U1,0,0],[U3/U1,0,U1,0],\n",
       "       [(U3^2+U2^2)/(2*U1^2),U2,U3,1/(gamma-1)])"
      ]
     },
     "execution_count": 20,
     "metadata": {},
     "output_type": "execute_result"
    },
    {
     "data": {
      "text/latex": [
       "\\[\\tag{${\\it \\%o}_{32}$}\\begin{pmatrix}1 & 0 & 0 & 0 \\\\ u & \\rho & 0 & 0 \\\\ v & 0 & \\rho & 0 \\\\ \\frac{v^2+u^2}{2} & \\rho\\,u & \\rho\\,v & \\frac{1}{\\gamma-1} \\\\ \\end{pmatrix}\\]"
      ],
      "text/plain": [
       "                     [    1       0      0        0     ]\n",
       "                     [                                  ]\n",
       "                     [    u      rho     0        0     ]\n",
       "                     [                                  ]\n",
       "(%o32)               [    v       0     rho       0     ]\n",
       "                     [                                  ]\n",
       "                     [  2    2                          ]\n",
       "                     [ v  + u                     1     ]\n",
       "                     [ -------  rho u  rho v  --------- ]\n",
       "                     [    2                   gamma - 1 ]"
      ],
      "text/x-maxima": [
       "matrix([1,0,0,0],[u,rho,0,0],[v,0,rho,0],\n",
       "       [(v^2+u^2)/2,rho*u,rho*v,1/(gamma-1)])"
      ]
     },
     "execution_count": 20,
     "metadata": {},
     "output_type": "execute_result"
    },
    {
     "data": {
      "text/latex": [
       "\\[\\tag{${\\it \\%o}_{33}$}\\begin{pmatrix}1 & 0 & 0 & 0 \\\\ -\\frac{u}{\\rho} & \\frac{1}{\\rho} & 0 & 0 \\\\ -\\frac{v}{\\rho} & 0 & \\frac{1}{\\rho} & 0 \\\\ \\frac{\\left(v^2+u^2\\right)\\,\\gamma-v^2-u^2}{2} & u-u\\,\\gamma & v-v\\,\\gamma & \\gamma-1 \\\\ \\end{pmatrix}\\]"
      ],
      "text/plain": [
       "       [             1                   0            0           0     ]\n",
       "       [                                                                ]\n",
       "       [              u                  1                              ]\n",
       "       [           - ---                ---           0           0     ]\n",
       "       [             rho                rho                             ]\n",
       "       [                                                                ]\n",
       "(%o33) [              v                               1                 ]\n",
       "       [           - ---                 0           ---          0     ]\n",
       "       [             rho                             rho                ]\n",
       "       [                                                                ]\n",
       "       [   2    2           2    2                                      ]\n",
       "       [ (v  + u ) gamma - v  - u                                       ]\n",
       "       [ -------------------------  u - u gamma  v - v gamma  gamma - 1 ]\n",
       "       [             2                                                  ]"
      ],
      "text/x-maxima": [
       "matrix([1,0,0,0],[-u/rho,1/rho,0,0],[-v/rho,0,1/rho,0],\n",
       "       [((v^2+u^2)*gamma-v^2-u^2)/2,u-u*gamma,v-v*gamma,gamma-1])"
      ]
     },
     "execution_count": 20,
     "metadata": {},
     "output_type": "execute_result"
    },
    {
     "data": {
      "text/latex": [
       "\\[\\tag{${\\it \\%o}_{34}$}\\begin{pmatrix}u & \\rho & 0 & 0 \\\\ 0 & u & 0 & \\frac{1}{\\rho} \\\\ 0 & 0 & u & 0 \\\\ 0 & c^2\\,\\rho & 0 & u \\\\ \\end{pmatrix}\\]"
      ],
      "text/plain": [
       "                             [ u   rho    0   0  ]\n",
       "                             [                   ]\n",
       "                             [                1  ]\n",
       "                             [ 0    u     0  --- ]\n",
       "(%o34)                       [               rho ]\n",
       "                             [                   ]\n",
       "                             [ 0    0     u   0  ]\n",
       "                             [                   ]\n",
       "                             [     2             ]\n",
       "                             [ 0  c  rho  0   u  ]"
      ],
      "text/x-maxima": [
       "matrix([u,rho,0,0],[0,u,0,1/rho],[0,0,u,0],[0,c^2*rho,0,u])"
      ]
     },
     "execution_count": 20,
     "metadata": {},
     "output_type": "execute_result"
    },
    {
     "data": {
      "text/latex": [
       "\\[\\tag{${\\it \\%o}_{35}$}\\left[ \\left[ u-c , u+c , u \\right]  , \\left[ 1 , 1 , 2 \\right]  \\right] \\]"
      ],
      "text/plain": [
       "(%o35)                  [[u - c, u + c, u], [1, 1, 2]]"
      ],
      "text/x-maxima": [
       "[[u-c,u+c,u],[1,1,2]]"
      ]
     },
     "execution_count": 20,
     "metadata": {},
     "output_type": "execute_result"
    }
   ],
   "source": [
    "Utilde:matrix([U1,U2,U3,U4]);\n",
    "dVdU:ratsimp(jacobian(args(Vtilde)[1],args(Utilde)[1]));\n",
    "dUdV : ratsimp(invert(dVdU));\n",
    "M : ratsimp(subst(consSystem,dUdV));\n",
    "ratsimp(invert(M));\n",
    "Atilde : ratsimp(invert(M).A1.M);\n",
    "ratexpand(ratsimp(eigenvalues(Atilde)));"
   ]
  },
  {
   "cell_type": "markdown",
   "metadata": {},
   "source": [
    "Note that this corresponds (besides some typing errors) to the matrices in the lecture notes of Jameson AA215A, lecture 4, p 10"
   ]
  },
  {
   "cell_type": "markdown",
   "metadata": {},
   "source": [
    "# 3. primitive form with $V=(P,u,v,T)$\n"
   ]
  },
  {
   "cell_type": "markdown",
   "metadata": {},
   "source": [
    "\n",
    "We have \n",
    "\n",
    "$$E = c_pT + q - \\frac{p}{\\rho}$$\n",
    "\n",
    "$$ T = \\frac{\\rho E - \\rho q + p }{\\rho c_p}$$\n",
    "\n",
    "Now write $T$ in terms of the variables $U_1=\\rho$, $U_2=\\rho u$, $U_3 = \\rho v$, $U_4 = \\rho E$.\n",
    "We already have P in terms of U\n"
   ]
  },
  {
   "cell_type": "code",
   "execution_count": 21,
   "metadata": {},
   "outputs": [
    {
     "data": {
      "text/latex": [
       "\\[\\tag{${\\it \\%o}_{36}$}\\frac{\\frac{U_{3}^2}{U_{1}^2}+\\frac{U_{2}^2}{U_{1}^2}}{2}\\]"
      ],
      "text/plain": [
       "                                     2     2\n",
       "                                   U3    U2\n",
       "                                   --- + ---\n",
       "                                     2     2\n",
       "                                   U1    U1\n",
       "(%o36)                             ---------\n",
       "                                       2"
      ],
      "text/x-maxima": [
       "(U3^2/U1^2+U2^2/U1^2)/2"
      ]
     },
     "execution_count": 21,
     "metadata": {},
     "output_type": "execute_result"
    },
    {
     "data": {
      "text/latex": [
       "\\[\\tag{${\\it \\%o}_{37}$}\\frac{\\left(2\\,U_{1}\\,U_{4}-U_{3}^2-U_{2}^2\\right)\\,\\gamma}{2\\,U_{1}^2\\,{\\it cp}}\\]"
      ],
      "text/plain": [
       "                                       2     2\n",
       "                          (2 U1 U4 - U3  - U2 ) gamma\n",
       "(%o37)                    ---------------------------\n",
       "                                       2\n",
       "                                   2 U1  cp"
      ],
      "text/x-maxima": [
       "((2*U1*U4-U3^2-U2^2)*gamma)/(2*U1^2*cp)"
      ]
     },
     "execution_count": 21,
     "metadata": {},
     "output_type": "execute_result"
    }
   ],
   "source": [
    "Q : ((U2/U1)^2 + (U3/U1)^2)/2;\n",
    "T : ratsimp((U4 - U1*Q + P)/(U1*cp));"
   ]
  },
  {
   "cell_type": "code",
   "execution_count": 22,
   "metadata": {},
   "outputs": [
    {
     "data": {
      "text/latex": [
       "\\[\\tag{${\\it \\%o}_{38}$}\\begin{pmatrix}\\frac{\\left(2\\,U_{1}\\,U_{4}-U_{3}^2-U_{2}^2\\right)\\,\\gamma-2\\,U_{1}\\,U_{4}+U_{3}^2+U_{2}^2}{2\\,U_{1}} & \\frac{U_{2}}{U_{1}} & \\frac{U_{3}}{U_{1}} & \\frac{\\left(2\\,U_{1}\\,U_{4}-U_{3}^2-U_{2}^2\\right)\\,\\gamma}{2\\,U_{1}^2\\,{\\it cp}} \\\\ \\end{pmatrix}\\]"
      ],
      "text/plain": [
       "                [              2     2                      2     2 ]\n",
       "(%o38)  Col 1 = [ (2 U1 U4 - U3  - U2 ) gamma - 2 U1 U4 + U3  + U2  ]\n",
       "                [ ------------------------------------------------- ]\n",
       "                [                       2 U1                        ]\n",
       "                                                [              2     2        ]\n",
       "                  [ U2 ]         [ U3 ]         [ (2 U1 U4 - U3  - U2 ) gamma ]\n",
       "          Col 2 = [ -- ] Col 3 = [ -- ] Col 4 = [ --------------------------- ]\n",
       "                  [ U1 ]         [ U1 ]         [              2              ]\n",
       "                                                [          2 U1  cp           ]"
      ],
      "text/x-maxima": [
       "matrix([((2*U1*U4-U3^2-U2^2)*gamma-2*U1*U4+U3^2+U2^2)/(2*U1),U2/U1,U3/U1,\n",
       "        ((2*U1*U4-U3^2-U2^2)*gamma)/(2*U1^2*cp)])"
      ]
     },
     "execution_count": 22,
     "metadata": {},
     "output_type": "execute_result"
    }
   ],
   "source": [
    "/* this is the only thing that needs to be changed to switch to other primitive variables*/\n",
    "Vtilde:ratsimp(matrix([P,Up,Vp,T]));"
   ]
  },
  {
   "cell_type": "code",
   "execution_count": 23,
   "metadata": {},
   "outputs": [
    {
     "data": {
      "text/latex": [
       "\\[\\tag{${\\it \\%o}_{39}$}\\begin{pmatrix}U_{1} & U_{2} & U_{3} & U_{4} \\\\ \\end{pmatrix}\\]"
      ],
      "text/plain": [
       "(%o39)                        [ U1  U2  U3  U4 ]"
      ],
      "text/x-maxima": [
       "matrix([U1,U2,U3,U4])"
      ]
     },
     "execution_count": 23,
     "metadata": {},
     "output_type": "execute_result"
    },
    {
     "data": {
      "text/latex": [
       "\\[\\tag{${\\it \\%o}_{40}$}\\begin{pmatrix}\\frac{\\left(U_{3}^2+U_{2}^2\\right)\\,\\gamma-U_{3}^2-U_{2}^2}{2\\,U_{1}^2} & -\\frac{U_{2}\\,\\gamma-U_{2}}{U_{1}} & -\\frac{U_{3}\\,\\gamma-U_{3}}{U_{1}} & \\gamma-1 \\\\ -\\frac{U_{2}}{U_{1}^2} & \\frac{1}{U_{1}} & 0 & 0 \\\\ -\\frac{U_{3}}{U_{1}^2} & 0 & \\frac{1}{U_{1}} & 0 \\\\ -\\frac{\\left(U_{1}\\,U_{4}-U_{3}^2-U_{2}^2\\right)\\,\\gamma}{U_{1}^3\\,{\\it cp}} & -\\frac{U_{2}\\,\\gamma}{U_{1}^2\\,{\\it cp}} & -\\frac{U_{3}\\,\\gamma}{U_{1}^2\\,{\\it cp}} & \\frac{\\gamma}{U_{1}\\,{\\it cp}} \\\\ \\end{pmatrix}\\]"
      ],
      "text/plain": [
       "(%o40) \n",
       " [    2     2            2     2                                              ]\n",
       " [ (U3  + U2 ) gamma - U3  - U2     U2 gamma - U2    U3 gamma - U3            ]\n",
       " [ -----------------------------  - -------------  - -------------  gamma - 1 ]\n",
       " [                 2                     U1               U1                  ]\n",
       " [             2 U1                                                           ]\n",
       " [                                                                            ]\n",
       " [               U2                     1                                     ]\n",
       " [             - ---                    --                0             0     ]\n",
       " [                 2                    U1                                    ]\n",
       " [               U1                                                           ]\n",
       " [                                                                            ]\n",
       " [               U3                                      1                    ]\n",
       " [             - ---                     0               --             0     ]\n",
       " [                 2                                     U1                   ]\n",
       " [               U1                                                           ]\n",
       " [                                                                            ]\n",
       " [               2     2                                                      ]\n",
       " [    (U1 U4 - U3  - U2 ) gamma       U2 gamma         U3 gamma       gamma   ]\n",
       " [  - -------------------------     - --------       - --------       -----   ]\n",
       " [               3                       2                2           U1 cp   ]\n",
       " [             U1  cp                  U1  cp           U1  cp                ]"
      ],
      "text/x-maxima": [
       "matrix([((U3^2+U2^2)*gamma-U3^2-U2^2)/(2*U1^2),-(U2*gamma-U2)/U1,\n",
       "        -(U3*gamma-U3)/U1,gamma-1],[-U2/U1^2,1/U1,0,0],[-U3/U1^2,0,1/U1,0],\n",
       "       [-((U1*U4-U3^2-U2^2)*gamma)/(U1^3*cp),-(U2*gamma)/(U1^2*cp),\n",
       "        -(U3*gamma)/(U1^2*cp),gamma/(U1*cp)])"
      ]
     },
     "execution_count": 23,
     "metadata": {},
     "output_type": "execute_result"
    },
    {
     "data": {
      "text/latex": [
       "\\[\\tag{${\\it \\%o}_{41}$}\\begin{pmatrix}\\frac{2\\,U_{1}^2}{\\left(2\\,U_{1}\\,U_{4}-U_{3}^2-U_{2}^2\\right)\\,\\gamma-2\\,U_{1}\\,U_{4}+U_{3}^2+U_{2}^2} & 0 & 0 & -\\frac{2\\,U_{1}^3\\,{\\it cp}}{\\left(2\\,U_{1}\\,U_{4}-U_{3}^2-U_{2}^2\\right)\\,\\gamma} \\\\ \\frac{2\\,U_{1}\\,U_{2}}{\\left(2\\,U_{1}\\,U_{4}-U_{3}^2-U_{2}^2\\right)\\,\\gamma-2\\,U_{1}\\,U_{4}+U_{3}^2+U_{2}^2} & U_{1} & 0 & -\\frac{2\\,U_{1}^2\\,U_{2}\\,{\\it cp}}{\\left(2\\,U_{1}\\,U_{4}-U_{3}^2-U_{2}^2\\right)\\,\\gamma} \\\\ \\frac{2\\,U_{1}\\,U_{3}}{\\left(2\\,U_{1}\\,U_{4}-U_{3}^2-U_{2}^2\\right)\\,\\gamma-2\\,U_{1}\\,U_{4}+U_{3}^2+U_{2}^2} & 0 & U_{1} & -\\frac{2\\,U_{1}^2\\,U_{3}\\,{\\it cp}}{\\left(2\\,U_{1}\\,U_{4}-U_{3}^2-U_{2}^2\\right)\\,\\gamma} \\\\ \\frac{2\\,U_{1}\\,U_{4}}{\\left(2\\,U_{1}\\,U_{4}-U_{3}^2-U_{2}^2\\right)\\,\\gamma-2\\,U_{1}\\,U_{4}+U_{3}^2+U_{2}^2} & U_{2} & U_{3} & -\\frac{\\left(U_{1}\\,U_{3}^2+U_{1}\\,U_{2}^2\\right)\\,{\\it cp}}{\\left(2\\,U_{1}\\,U_{4}-U_{3}^2-U_{2}^2\\right)\\,\\gamma} \\\\ \\end{pmatrix}\\]"
      ],
      "text/plain": [
       "                [                           2                       ]\n",
       "                [                       2 U1                        ]\n",
       "                [ ------------------------------------------------- ]\n",
       "                [              2     2                      2     2 ]\n",
       "                [ (2 U1 U4 - U3  - U2 ) gamma - 2 U1 U4 + U3  + U2  ]\n",
       "                [                                                   ]\n",
       "                [                      2 U1 U2                      ]\n",
       "                [ ------------------------------------------------- ]\n",
       "                [              2     2                      2     2 ]\n",
       "(%o41)  Col 1 = [ (2 U1 U4 - U3  - U2 ) gamma - 2 U1 U4 + U3  + U2  ]\n",
       "                [                                                   ]\n",
       "                [                      2 U1 U3                      ]\n",
       "                [ ------------------------------------------------- ]\n",
       "                [              2     2                      2     2 ]\n",
       "                [ (2 U1 U4 - U3  - U2 ) gamma - 2 U1 U4 + U3  + U2  ]\n",
       "                [                                                   ]\n",
       "                [                      2 U1 U4                      ]\n",
       "                [ ------------------------------------------------- ]\n",
       "                [              2     2                      2     2 ]\n",
       "                [ (2 U1 U4 - U3  - U2 ) gamma - 2 U1 U4 + U3  + U2  ]\n",
       "                                              [                3              ]\n",
       "                                              [            2 U1  cp           ]\n",
       "                                              [ - --------------------------- ]\n",
       "                                              [                2     2        ]\n",
       "                                              [   (2 U1 U4 - U3  - U2 ) gamma ]\n",
       "                                              [                               ]\n",
       "                                              [               2               ]\n",
       "                                              [           2 U1  U2 cp         ]\n",
       "                [ 0  ]         [ 0  ]         [ - --------------------------- ]\n",
       "                [    ]         [    ]         [                2     2        ]\n",
       "                [ U1 ]         [ 0  ]         [   (2 U1 U4 - U3  - U2 ) gamma ]\n",
       "        Col 2 = [    ] Col 3 = [    ] Col 4 = [                               ]\n",
       "                [ 0  ]         [ U1 ]         [               2               ]\n",
       "                [    ]         [    ]         [           2 U1  U3 cp         ]\n",
       "                [ U2 ]         [ U3 ]         [ - --------------------------- ]\n",
       "                                              [                2     2        ]\n",
       "                                              [   (2 U1 U4 - U3  - U2 ) gamma ]\n",
       "                                              [                               ]\n",
       "                                              [            2        2         ]\n",
       "                                              [      (U1 U3  + U1 U2 ) cp     ]\n",
       "                                              [ - --------------------------- ]\n",
       "                                              [                2     2        ]\n",
       "                                              [   (2 U1 U4 - U3  - U2 ) gamma ]"
      ],
      "text/x-maxima": [
       "matrix([(2*U1^2)/((2*U1*U4-U3^2-U2^2)*gamma-2*U1*U4+U3^2+U2^2),0,0,\n",
       "        -(2*U1^3*cp)/((2*U1*U4-U3^2-U2^2)*gamma)],\n",
       "       [(2*U1*U2)/((2*U1*U4-U3^2-U2^2)*gamma-2*U1*U4+U3^2+U2^2),U1,0,\n",
       "        -(2*U1^2*U2*cp)/((2*U1*U4-U3^2-U2^2)*gamma)],\n",
       "       [(2*U1*U3)/((2*U1*U4-U3^2-U2^2)*gamma-2*U1*U4+U3^2+U2^2),0,U1,\n",
       "        -(2*U1^2*U3*cp)/((2*U1*U4-U3^2-U2^2)*gamma)],\n",
       "       [(2*U1*U4)/((2*U1*U4-U3^2-U2^2)*gamma-2*U1*U4+U3^2+U2^2),U2,U3,\n",
       "        -((U1*U3^2+U1*U2^2)*cp)/((2*U1*U4-U3^2-U2^2)*gamma)])"
      ]
     },
     "execution_count": 23,
     "metadata": {},
     "output_type": "execute_result"
    },
    {
     "data": {
      "text/latex": [
       "\\[\\tag{${\\it \\%o}_{42}$}\\left[ U_{1}=\\rho , U_{2}=\\rho\\,u , U_{3}=\\rho\\,v , U_{4}=E\\,\\rho \\right] \\]"
      ],
      "text/plain": [
       "(%o42)          [U1 = rho, U2 = rho u, U3 = rho v, U4 = E rho]"
      ],
      "text/x-maxima": [
       "[U1 = rho,U2 = rho*u,U3 = rho*v,U4 = E*rho]"
      ]
     },
     "execution_count": 23,
     "metadata": {},
     "output_type": "execute_result"
    },
    {
     "data": {
      "text/latex": [
       "\\[\\tag{${\\it \\%o}_{43}$}\\begin{pmatrix}-\\frac{2}{\\left(v^2+u^2-2\\,E\\right)\\,\\gamma-v^2-u^2+2\\,E} & 0 & 0 & \\frac{2\\,{\\it cp}\\,\\rho}{\\left(v^2+u^2-2\\,E\\right)\\,\\gamma} \\\\ -\\frac{2\\,u}{\\left(v^2+u^2-2\\,E\\right)\\,\\gamma-v^2-u^2+2\\,E} & \\rho & 0 & \\frac{2\\,{\\it cp}\\,\\rho\\,u}{\\left(v^2+u^2-2\\,E\\right)\\,\\gamma} \\\\ -\\frac{2\\,v}{\\left(v^2+u^2-2\\,E\\right)\\,\\gamma-v^2-u^2+2\\,E} & 0 & \\rho & \\frac{2\\,{\\it cp}\\,\\rho\\,v}{\\left(v^2+u^2-2\\,E\\right)\\,\\gamma} \\\\ -\\frac{2\\,E}{\\left(v^2+u^2-2\\,E\\right)\\,\\gamma-v^2-u^2+2\\,E} & \\rho\\,u & \\rho\\,v & \\frac{{\\it cp}\\,\\rho\\,v^2+{\\it cp}\\,\\rho\\,u^2}{\\left(v^2+u^2-2\\,E\\right)\\,\\gamma} \\\\ \\end{pmatrix}\\]"
      ],
      "text/plain": [
       "                [                     2                   ]\n",
       "                [ - ------------------------------------- ]\n",
       "                [     2    2                 2    2       ]\n",
       "                [   (v  + u  - 2 E) gamma - v  - u  + 2 E ]\n",
       "                [                                         ]\n",
       "                [                    2 u                  ]\n",
       "                [ - ------------------------------------- ]         [   0   ]\n",
       "                [     2    2                 2    2       ]         [       ]\n",
       "                [   (v  + u  - 2 E) gamma - v  - u  + 2 E ]         [  rho  ]\n",
       "(%o43)  Col 1 = [                                         ] Col 2 = [       ]\n",
       "                [                    2 v                  ]         [   0   ]\n",
       "                [ - ------------------------------------- ]         [       ]\n",
       "                [     2    2                 2    2       ]         [ rho u ]\n",
       "                [   (v  + u  - 2 E) gamma - v  - u  + 2 E ]\n",
       "                [                                         ]\n",
       "                [                    2 E                  ]\n",
       "                [ - ------------------------------------- ]\n",
       "                [     2    2                 2    2       ]\n",
       "                [   (v  + u  - 2 E) gamma - v  - u  + 2 E ]\n",
       "                                                      [       2 cp rho        ]\n",
       "                                                      [ --------------------- ]\n",
       "                                                      [   2    2              ]\n",
       "                                                      [ (v  + u  - 2 E) gamma ]\n",
       "                                                      [                       ]\n",
       "                                                      [      2 cp rho u       ]\n",
       "                                    [   0   ]         [ --------------------- ]\n",
       "                                    [       ]         [   2    2              ]\n",
       "                                    [   0   ]         [ (v  + u  - 2 E) gamma ]\n",
       "                            Col 3 = [       ] Col 4 = [                       ]\n",
       "                                    [  rho  ]         [      2 cp rho v       ]\n",
       "                                    [       ]         [ --------------------- ]\n",
       "                                    [ rho v ]         [   2    2              ]\n",
       "                                                      [ (v  + u  - 2 E) gamma ]\n",
       "                                                      [                       ]\n",
       "                                                      [         2           2 ]\n",
       "                                                      [ cp rho v  + cp rho u  ]\n",
       "                                                      [ --------------------- ]\n",
       "                                                      [   2    2              ]\n",
       "                                                      [ (v  + u  - 2 E) gamma ]"
      ],
      "text/x-maxima": [
       "matrix([-2/((v^2+u^2-2*E)*gamma-v^2-u^2+2*E),0,0,\n",
       "        (2*cp*rho)/((v^2+u^2-2*E)*gamma)],\n",
       "       [-(2*u)/((v^2+u^2-2*E)*gamma-v^2-u^2+2*E),rho,0,\n",
       "        (2*cp*rho*u)/((v^2+u^2-2*E)*gamma)],\n",
       "       [-(2*v)/((v^2+u^2-2*E)*gamma-v^2-u^2+2*E),0,rho,\n",
       "        (2*cp*rho*v)/((v^2+u^2-2*E)*gamma)],\n",
       "       [-(2*E)/((v^2+u^2-2*E)*gamma-v^2-u^2+2*E),rho*u,rho*v,\n",
       "        (cp*rho*v^2+cp*rho*u^2)/((v^2+u^2-2*E)*gamma)])"
      ]
     },
     "execution_count": 23,
     "metadata": {},
     "output_type": "execute_result"
    },
    {
     "data": {
      "text/latex": [
       "\\[\\tag{${\\it \\%o}_{44}$}\\begin{pmatrix}\\frac{\\gamma}{c^2} & 0 & 0 & -\\frac{{\\it cp}\\,\\rho\\,\\gamma-{\\it cp}\\,\\rho}{c^2} \\\\ \\frac{u\\,\\gamma}{c^2} & \\rho & 0 & -\\frac{{\\it cp}\\,\\rho\\,u\\,\\gamma-{\\it cp}\\,\\rho\\,u}{c^2} \\\\ \\frac{v\\,\\gamma}{c^2} & 0 & \\rho & -\\frac{{\\it cp}\\,\\rho\\,v\\,\\gamma-{\\it cp}\\,\\rho\\,v}{c^2} \\\\ \\frac{\\left(v^2+u^2\\right)\\,\\gamma^2+\\left(-v^2-u^2\\right)\\,\\gamma+2\\,c^2}{2\\,c^2\\,\\gamma-2\\,c^2} & \\rho\\,u & \\rho\\,v & -\\frac{\\left({\\it cp}\\,\\rho\\,v^2+{\\it cp}\\,\\rho\\,u^2\\right)\\,\\gamma-{\\it cp}\\,\\rho\\,v^2-{\\it cp}\\,\\rho\\,u^2}{2\\,c^2} \\\\ \\end{pmatrix}\\]"
      ],
      "text/plain": [
       "                [                     gamma                     ]\n",
       "                [                     -----                     ]\n",
       "                [                       2                       ]\n",
       "                [                      c                        ]\n",
       "                [                                               ]\n",
       "                [                    u gamma                    ]\n",
       "                [                    -------                    ]\n",
       "                [                       2                       ]\n",
       "                [                      c                        ]\n",
       "(%o44)  Col 1 = [                                               ]\n",
       "                [                    v gamma                    ]\n",
       "                [                    -------                    ]\n",
       "                [                       2                       ]\n",
       "                [                      c                        ]\n",
       "                [                                               ]\n",
       "                [   2    2       2        2     2             2 ]\n",
       "                [ (v  + u ) gamma  + ((- v ) - u ) gamma + 2 c  ]\n",
       "                [ --------------------------------------------- ]\n",
       "                [                  2            2               ]\n",
       "                [               2 c  gamma - 2 c                ]\n",
       "         [   0   ]         [   0   ]\n",
       "         [       ]         [       ]\n",
       "         [  rho  ]         [   0   ]\n",
       " Col 2 = [       ] Col 3 = [       ]\n",
       "         [   0   ]         [  rho  ]\n",
       "         [       ]         [       ]\n",
       "         [ rho u ]         [ rho v ]\n",
       "         [                   cp rho gamma - cp rho                 ]\n",
       "         [                 - ---------------------                 ]\n",
       "         [                             2                           ]\n",
       "         [                            c                            ]\n",
       "         [                                                         ]\n",
       "         [                 cp rho u gamma - cp rho u               ]\n",
       "         [               - -------------------------               ]\n",
       "         [                             2                           ]\n",
       "         [                            c                            ]\n",
       " Col 4 = [                                                         ]\n",
       "         [                 cp rho v gamma - cp rho v               ]\n",
       "         [               - -------------------------               ]\n",
       "         [                             2                           ]\n",
       "         [                            c                            ]\n",
       "         [                                                         ]\n",
       "         [            2           2                  2           2 ]\n",
       "         [   (cp rho v  + cp rho u ) gamma - cp rho v  - cp rho u  ]\n",
       "         [ - ----------------------------------------------------- ]\n",
       "         [                              2                          ]\n",
       "         [                           2 c                           ]"
      ],
      "text/x-maxima": [
       "matrix([gamma/c^2,0,0,-(cp*rho*gamma-cp*rho)/c^2],\n",
       "       [(u*gamma)/c^2,rho,0,-(cp*rho*u*gamma-cp*rho*u)/c^2],\n",
       "       [(v*gamma)/c^2,0,rho,-(cp*rho*v*gamma-cp*rho*v)/c^2],\n",
       "       [((v^2+u^2)*gamma^2+((-v^2)-u^2)*gamma+2*c^2)/(2*c^2*gamma-2*c^2),\n",
       "        rho*u,rho*v,\n",
       "        -((cp*rho*v^2+cp*rho*u^2)*gamma-cp*rho*v^2-cp*rho*u^2)/(2*c^2)])"
      ]
     },
     "execution_count": 23,
     "metadata": {},
     "output_type": "execute_result"
    },
    {
     "data": {
      "text/latex": [
       "\\[\\tag{${\\it \\%o}_{45}$}\\begin{pmatrix}0 & 1 & 0 & 0 \\\\ \\frac{\\left(v^2+u^2\\right)\\,\\gamma-v^2-3\\,u^2}{2} & 3\\,u-u\\,\\gamma & v-v\\,\\gamma & \\gamma-1 \\\\ -u\\,v & v & u & 0 \\\\ \\frac{\\left(u\\,v^2+u^3\\right)\\,\\gamma^2+\\left(-3\\,u\\,v^2-3\\,u^3\\right)\\,\\gamma+2\\,u\\,v^2+2\\,u^3-2\\,c^2\\,u}{2\\,\\gamma-2} & -\\frac{2\\,u^2\\,\\gamma^2+\\left(-v^2-5\\,u^2\\right)\\,\\gamma+v^2+3\\,u^2-2\\,c^2}{2\\,\\gamma-2} & u\\,v-u\\,v\\,\\gamma & u\\,\\gamma \\\\ \\end{pmatrix}\\]"
      ],
      "text/plain": [
       "                               2    2           2      2\n",
       "                             (v  + u ) gamma - v  - 3 u\n",
       "(%o45) matrix([0, 1, 0, 0], [---------------------------, 3 u - u gamma, \n",
       "                                          2\n",
       "v - v gamma, gamma - 1], [- u v, v, u, 0], \n",
       "     2    3       2            2       3               2      3      2\n",
       " (u v  + u ) gamma  + ((- 3 u v ) - 3 u ) gamma + 2 u v  + 2 u  - 2 c  u\n",
       "[-----------------------------------------------------------------------, \n",
       "                               2 gamma - 2\n",
       "     2      2        2       2           2      2      2\n",
       "  2 u  gamma  + ((- v ) - 5 u ) gamma + v  + 3 u  - 2 c\n",
       "- ------------------------------------------------------, u v - u v gamma, \n",
       "                       2 gamma - 2\n",
       "u gamma])"
      ],
      "text/x-maxima": [
       "matrix([0,1,0,0],\n",
       "       [((v^2+u^2)*gamma-v^2-3*u^2)/2,3*u-u*gamma,v-v*gamma,gamma-1],\n",
       "       [-u*v,v,u,0],\n",
       "       [((u*v^2+u^3)*gamma^2+((-3*u*v^2)-3*u^3)*gamma+2*u*v^2+2*u^3-2*c^2*u)\n",
       "         /(2*gamma-2),\n",
       "        -(2*u^2*gamma^2+((-v^2)-5*u^2)*gamma+v^2+3*u^2-2*c^2)/(2*gamma-2),\n",
       "        u*v-u*v*gamma,u*gamma])"
      ]
     },
     "execution_count": 23,
     "metadata": {},
     "output_type": "execute_result"
    },
    {
     "data": {
      "text/latex": [
       "\\[\\tag{${\\it \\%o}_{46}$}\\begin{pmatrix}u & c^2\\,\\rho & 0 & 0 \\\\ \\frac{1}{\\rho} & u & 0 & 0 \\\\ 0 & 0 & u & 0 \\\\ 0 & \\frac{c^2}{{\\it cp}} & 0 & u \\\\ \\end{pmatrix}\\]"
      ],
      "text/plain": [
       "                             [       2           ]\n",
       "                             [  u   c  rho  0  0 ]\n",
       "                             [                   ]\n",
       "                             [  1                ]\n",
       "                             [ ---    u     0  0 ]\n",
       "                             [ rho               ]\n",
       "(%o46)                       [                   ]\n",
       "                             [  0     0     u  0 ]\n",
       "                             [                   ]\n",
       "                             [         2         ]\n",
       "                             [        c          ]\n",
       "                             [  0     --    0  u ]\n",
       "                             [        cp         ]"
      ],
      "text/x-maxima": [
       "matrix([u,c^2*rho,0,0],[1/rho,u,0,0],[0,0,u,0],[0,c^2/cp,0,u])"
      ]
     },
     "execution_count": 23,
     "metadata": {},
     "output_type": "execute_result"
    },
    {
     "data": {
      "text/latex": [
       "\\[\\tag{${\\it \\%o}_{47}$}\\left[ \\left[ u-c , u+c , u \\right]  , \\left[ 1 , 1 , 2 \\right]  \\right] \\]"
      ],
      "text/plain": [
       "(%o47)                  [[u - c, u + c, u], [1, 1, 2]]"
      ],
      "text/x-maxima": [
       "[[u-c,u+c,u],[1,1,2]]"
      ]
     },
     "execution_count": 23,
     "metadata": {},
     "output_type": "execute_result"
    }
   ],
   "source": [
    "Utilde:matrix([U1,U2,U3,U4]);\n",
    "dVdU:ratsimp(jacobian(args(Vtilde)[1],args(Utilde)[1]));\n",
    "dUdV : ratsimp(invert(dVdU));\n",
    "consSystem;\n",
    "M : ratsimp(subst(consSystem,dUdV));\n",
    "/* substitute energy*/\n",
    "M : ratsimp(subst(E=e+q,M));\n",
    "A1;\n",
    "Atilde : ratsimp(invert(M).A1.M);\n",
    "ratexpand(ratsimp(eigenvalues(Atilde)));"
   ]
  },
  {
   "cell_type": "markdown",
   "metadata": {},
   "source": [
    "\n",
    "Note that the PDE is now written in terms of primitive variables as:\n",
    "\n",
    "$$\\frac{\\partial V}{\\partial t} + M^{-1} A M \\frac{\\partial V}{\\partial x}=0$$\n",
    "$$\\frac{\\partial V}{\\partial t} + \\tilde A \\frac{\\partial V}{\\partial x}=0$$\n",
    "    \n"
   ]
  },
  {
   "cell_type": "markdown",
   "metadata": {},
   "source": [
    "## 3.1 preconditioning\n",
    "And we can use a preconditioner matrix in front of the temporal derivative to influence the eigenvalues. The steady state solution will still be the same.\n",
    "    \n"
   ]
  },
  {
   "cell_type": "code",
   "execution_count": 24,
   "metadata": {},
   "outputs": [
    {
     "data": {
      "text/latex": [
       "\\[\\tag{${\\it \\%o}_{48}$}\\begin{pmatrix}\\vartheta & 0 & 0 & 0 \\\\ 0 & 1 & 0 & 0 \\\\ 0 & 0 & 1 & 0 \\\\ 0 & 0 & 0 & 1 \\\\ \\end{pmatrix}\\]"
      ],
      "text/plain": [
       "                              [ theta  0  0  0 ]\n",
       "                              [                ]\n",
       "                              [   0    1  0  0 ]\n",
       "(%o48)                        [                ]\n",
       "                              [   0    0  1  0 ]\n",
       "                              [                ]\n",
       "                              [   0    0  0  1 ]"
      ],
      "text/x-maxima": [
       "matrix([theta,0,0,0],[0,1,0,0],[0,0,1,0],[0,0,0,1])"
      ]
     },
     "execution_count": 24,
     "metadata": {},
     "output_type": "execute_result"
    }
   ],
   "source": [
    "Gamma : matrix([theta,0,0,0],[0,1,0,0],[0,0,1,0],[0,0,0,1]);"
   ]
  },
  {
   "cell_type": "code",
   "execution_count": 25,
   "metadata": {},
   "outputs": [
    {
     "data": {
      "text/latex": [
       "\\[\\tag{${\\it \\%o}_{49}$}\\begin{pmatrix}\\frac{u}{\\vartheta} & \\frac{c^2\\,\\rho}{\\vartheta} & 0 & 0 \\\\ \\frac{1}{\\rho} & u & 0 & 0 \\\\ 0 & 0 & u & 0 \\\\ 0 & \\frac{c^2}{{\\it cp}} & 0 & u \\\\ \\end{pmatrix}\\]"
      ],
      "text/plain": [
       "                            [         2           ]\n",
       "                            [   u    c  rho       ]\n",
       "                            [ -----  ------  0  0 ]\n",
       "                            [ theta  theta        ]\n",
       "                            [                     ]\n",
       "                            [   1                 ]\n",
       "                            [  ---     u     0  0 ]\n",
       "(%o49)                      [  rho                ]\n",
       "                            [                     ]\n",
       "                            [   0      0     u  0 ]\n",
       "                            [                     ]\n",
       "                            [           2         ]\n",
       "                            [          c          ]\n",
       "                            [   0      --    0  u ]\n",
       "                            [          cp         ]"
      ],
      "text/x-maxima": [
       "matrix([u/theta,(c^2*rho)/theta,0,0],[1/rho,u,0,0],[0,0,u,0],[0,c^2/cp,0,u])"
      ]
     },
     "execution_count": 25,
     "metadata": {},
     "output_type": "execute_result"
    }
   ],
   "source": [
    "invert(Gamma).Atilde;"
   ]
  },
  {
   "cell_type": "code",
   "execution_count": 26,
   "metadata": {},
   "outputs": [
    {
     "data": {
      "text/latex": [
       "\\[\\tag{${\\it \\%o}_{50}$}\\left[ \\left[ -\\frac{\\sqrt{\\left(\\vartheta^2-2\\,\\vartheta+1\\right)\\,u^2+4\\,c^2\\,\\vartheta}+\\left(-\\vartheta-1\\right)\\,u}{2\\,\\vartheta} , \\frac{\\sqrt{\\left(\\vartheta^2-2\\,\\vartheta+1\\right)\\,u^2+4\\,c^2\\,\\vartheta}+\\left(\\vartheta+1\\right)\\,u}{2\\,\\vartheta} , u \\right]  , \\left[ 1 , 1 , 2 \\right]  \\right] \\]"
      ],
      "text/plain": [
       "                      2                 2      2\n",
       "           sqrt((theta  - 2 theta + 1) u  + 4 c  theta) + ((- theta) - 1) u\n",
       "(%o50) [[- ----------------------------------------------------------------, \n",
       "                                       2 theta\n",
       "              2                 2      2\n",
       "   sqrt((theta  - 2 theta + 1) u  + 4 c  theta) + (theta + 1) u\n",
       "   ------------------------------------------------------------, u], [1, 1, 2]]\n",
       "                             2 theta"
      ],
      "text/x-maxima": [
       "[[-(sqrt((theta^2-2*theta+1)*u^2+4*c^2*theta)+((-theta)-1)*u)/(2*theta),\n",
       "  (sqrt((theta^2-2*theta+1)*u^2+4*c^2*theta)+(theta+1)*u)/(2*theta),u],\n",
       " [1,1,2]]"
      ]
     },
     "execution_count": 26,
     "metadata": {},
     "output_type": "execute_result"
    }
   ],
   "source": [
    "lambdas: eigenvalues(invert(Gamma).Atilde);"
   ]
  },
  {
   "cell_type": "code",
   "execution_count": 27,
   "metadata": {},
   "outputs": [
    {
     "data": {
      "text/latex": [
       "\\[\\tag{${\\it \\%o}_{51}$}-\\frac{\\sqrt{\\left(\\vartheta^2-2\\,\\vartheta+1\\right)\\,u^2+4\\,c^2\\,\\vartheta}+\\left(-\\vartheta-1\\right)\\,u}{\\sqrt{\\left(\\vartheta^2-2\\,\\vartheta+1\\right)\\,u^2+4\\,c^2\\,\\vartheta}+\\left(\\vartheta+1\\right)\\,u}\\]"
      ],
      "text/plain": [
       "                    2                 2      2\n",
       "         sqrt((theta  - 2 theta + 1) u  + 4 c  theta) + ((- theta) - 1) u\n",
       "(%o51) - ----------------------------------------------------------------\n",
       "                      2                 2      2\n",
       "           sqrt((theta  - 2 theta + 1) u  + 4 c  theta) + (theta + 1) u"
      ],
      "text/x-maxima": [
       "-(sqrt((theta^2-2*theta+1)*u^2+4*c^2*theta)+((-theta)-1)*u)\n",
       " /(sqrt((theta^2-2*theta+1)*u^2+4*c^2*theta)+(theta+1)*u)"
      ]
     },
     "execution_count": 27,
     "metadata": {},
     "output_type": "execute_result"
    }
   ],
   "source": [
    "ratsimp(lambdas[1][1]/lambdas[1][2]);"
   ]
  },
  {
   "cell_type": "markdown",
   "metadata": {},
   "source": [
    "# 4. Preconditioning matrix $\\Gamma$\n",
    "\n",
    "The above shows how the conversion from conservative to primitive variables work. Note that in the paper of Weiss and Smith, the derivatives of density with respect to temperature and pressure are kept.\n",
    "\n",
    "Note that $P=\\rho R T$, and $\\rho=\\frac{P}{RT}$, so the derivative is:\n",
    "\n",
    "$$ \\frac{\\partial \\rho}{\\partial p} = \\frac{1}{RT} $$\n",
    "\n",
    "And since $c^2 = \\gamma R T$, we have:\n",
    "\n",
    "$$ \\frac{\\partial \\rho}{\\partial p} = \\frac{\\gamma}{c^2} $$\n",
    "\n",
    "For derivative wrt temperarure we have :\n",
    "    \n"
   ]
  },
  {
   "cell_type": "code",
   "execution_count": 28,
   "metadata": {},
   "outputs": [
    {
     "data": {
      "text/latex": [
       "\\[\\tag{${\\it \\%o}_{52}$}\\mathbf{done}\\]"
      ],
      "text/plain": [
       "(%o52)                               done"
      ],
      "text/x-maxima": [
       "done"
      ]
     },
     "execution_count": 28,
     "metadata": {},
     "output_type": "execute_result"
    },
    {
     "data": {
      "text/latex": [
       "\\[\\tag{${\\it \\%o}_{53}$}\\mathbf{done}\\]"
      ],
      "text/plain": [
       "(%o53)                               done"
      ],
      "text/x-maxima": [
       "done"
      ]
     },
     "execution_count": 28,
     "metadata": {},
     "output_type": "execute_result"
    },
    {
     "data": {
      "text/latex": [
       "\\[\\tag{${\\it \\%o}_{54}$}-\\frac{\\rho}{T}\\]"
      ],
      "text/plain": [
       "                                       rho\n",
       "(%o54)                               - ---\n",
       "                                        T"
      ],
      "text/x-maxima": [
       "-rho/T"
      ]
     },
     "execution_count": 28,
     "metadata": {},
     "output_type": "execute_result"
    }
   ],
   "source": [
    "kill(T);\n",
    "kill(p);\n",
    "\n",
    "subst(p=rho*R*T,diff(p/(R*T),T));"
   ]
  },
  {
   "cell_type": "markdown",
   "metadata": {},
   "source": [
    "\n",
    "$$ \\frac{\\partial \\rho}{\\partial T} = -\\frac{\\rho}{T} $$\n",
    "\n",
    "We can substitute these into the matrix M above to get the result from Weiss and Smith:\n",
    "    \n"
   ]
  },
  {
   "cell_type": "code",
   "execution_count": 29,
   "metadata": {},
   "outputs": [
    {
     "data": {
      "text/latex": [
       "\\[\\tag{${\\it \\%o}_{55}$}\\left[ \\rho\\left(p , T\\right) \\right] \\]"
      ],
      "text/plain": [
       "(%o55)                            [rho(p, T)]"
      ],
      "text/x-maxima": [
       "[rho(p,T)]"
      ]
     },
     "execution_count": 29,
     "metadata": {},
     "output_type": "execute_result"
    }
   ],
   "source": [
    "depends(rho,[p,T]);"
   ]
  },
  {
   "cell_type": "markdown",
   "metadata": {},
   "source": [
    "\n",
    "Now we compute the transformation matrix $M = \\frac{\\partial U}{\\partial V}$, equation (7) in the paper of Economon, or below eq. 2 in Weiss and Smith:\n"
   ]
  },
  {
   "cell_type": "code",
   "execution_count": 30,
   "metadata": {},
   "outputs": [
    {
     "data": {
      "text/latex": [
       "\\[\\tag{${\\it \\%o}_{56}$}\\begin{pmatrix}p & u & v & T \\\\ \\end{pmatrix}\\]"
      ],
      "text/plain": [
       "(%o56)                          [ p  u  v  T ]"
      ],
      "text/x-maxima": [
       "matrix([p,u,v,T])"
      ]
     },
     "execution_count": 30,
     "metadata": {},
     "output_type": "execute_result"
    },
    {
     "data": {
      "text/latex": [
       "\\[\\tag{${\\it \\%o}_{57}$}H-\\frac{p}{\\rho}\\]"
      ],
      "text/plain": [
       "                                         p\n",
       "(%o57)                              H - ---\n",
       "                                        rho"
      ],
      "text/x-maxima": [
       "H-p/rho"
      ]
     },
     "execution_count": 30,
     "metadata": {},
     "output_type": "execute_result"
    },
    {
     "data": {
      "text/latex": [
       "\\[\\tag{${\\it \\%o}_{58}$}H\\]"
      ],
      "text/plain": [
       "(%o58)                                 H"
      ],
      "text/x-maxima": [
       "H"
      ]
     },
     "execution_count": 30,
     "metadata": {},
     "output_type": "execute_result"
    },
    {
     "data": {
      "text/latex": [
       "\\[\\tag{${\\it \\%o}_{59}$}H\\]"
      ],
      "text/plain": [
       "(%o59)                                 H"
      ],
      "text/x-maxima": [
       "H"
      ]
     },
     "execution_count": 30,
     "metadata": {},
     "output_type": "execute_result"
    },
    {
     "data": {
      "text/latex": [
       "\\[\\tag{${\\it \\%o}_{60}$}H\\]"
      ],
      "text/plain": [
       "(%o60)                                 H"
      ],
      "text/x-maxima": [
       "H"
      ]
     },
     "execution_count": 30,
     "metadata": {},
     "output_type": "execute_result"
    },
    {
     "data": {
      "text/latex": [
       "\\[\\tag{${\\it \\%o}_{61}$}H\\]"
      ],
      "text/plain": [
       "(%o61)                                 H"
      ],
      "text/x-maxima": [
       "H"
      ]
     },
     "execution_count": 30,
     "metadata": {},
     "output_type": "execute_result"
    },
    {
     "data": {
      "text/latex": [
       "\\[\\tag{${\\it \\%o}_{62}$}\\begin{pmatrix}\\rho & \\rho\\,u & \\rho\\,v & \\left(H-\\frac{p}{\\rho}\\right)\\,\\rho \\\\ \\end{pmatrix}\\]"
      ],
      "text/plain": [
       "                     [                          p       ]\n",
       "(%o62)               [ rho  rho u  rho v  (H - ---) rho ]\n",
       "                     [                         rho      ]"
      ],
      "text/x-maxima": [
       "matrix([rho,rho*u,rho*v,(H-p/rho)*rho])"
      ]
     },
     "execution_count": 30,
     "metadata": {},
     "output_type": "execute_result"
    },
    {
     "data": {
      "text/latex": [
       "\\[\\tag{${\\it \\%o}_{63}$}\\begin{pmatrix}p & u & v & T \\\\ \\end{pmatrix}\\]"
      ],
      "text/plain": [
       "(%o63)                          [ p  u  v  T ]"
      ],
      "text/x-maxima": [
       "matrix([p,u,v,T])"
      ]
     },
     "execution_count": 30,
     "metadata": {},
     "output_type": "execute_result"
    },
    {
     "data": {
      "text/latex": [
       "\\[\\tag{${\\it \\%o}_{64}$}\\begin{pmatrix}\\frac{d}{d\\,p}\\,\\rho & 0 & 0 & \\frac{d}{d\\,T}\\,\\rho \\\\ \\frac{d}{d\\,p}\\,\\rho\\,u & \\rho & 0 & \\frac{d}{d\\,T}\\,\\rho\\,u \\\\ \\frac{d}{d\\,p}\\,\\rho\\,v & 0 & \\rho & \\frac{d}{d\\,T}\\,\\rho\\,v \\\\ H\\,\\left(\\frac{d}{d\\,p}\\,\\rho\\right)-1 & \\rho\\,u & \\rho\\,v & H\\,\\left(\\frac{d}{d\\,T}\\,\\rho\\right)+{\\it cp}\\,\\rho \\\\ \\end{pmatrix}\\]"
      ],
      "text/plain": [
       "                 [    drho                        drho       ]\n",
       "                 [    ----       0      0         ----       ]\n",
       "                 [     dp                          dT        ]\n",
       "                 [                                           ]\n",
       "                 [   drho                        drho        ]\n",
       "                 [   ---- u     rho     0        ---- u      ]\n",
       "                 [    dp                          dT         ]\n",
       "(%o64)           [                                           ]\n",
       "                 [   drho                        drho        ]\n",
       "                 [   ---- v      0     rho       ---- v      ]\n",
       "                 [    dp                          dT         ]\n",
       "                 [                                           ]\n",
       "                 [   drho                      drho          ]\n",
       "                 [ H ---- - 1  rho u  rho v  H ---- + cp rho ]\n",
       "                 [    dp                        dT           ]"
      ],
      "text/x-maxima": [
       "matrix(['diff(rho,p,1),0,0,'diff(rho,T,1)],\n",
       "       ['diff(rho,p,1)*u,rho,0,'diff(rho,T,1)*u],\n",
       "       ['diff(rho,p,1)*v,0,rho,'diff(rho,T,1)*v],\n",
       "       [H*'diff(rho,p,1)-1,rho*u,rho*v,H*'diff(rho,T,1)+cp*rho])"
      ]
     },
     "execution_count": 30,
     "metadata": {},
     "output_type": "execute_result"
    }
   ],
   "source": [
    "\n",
    "V:matrix([p,u,v,T]);\n",
    "\n",
    "E:H - p/rho;\n",
    "\n",
    "gradef(H,T,cp);\n",
    "gradef(H,u,u);\n",
    "gradef(H,v,v);\n",
    "gradef(H,w,w);\n",
    "\n",
    "U:matrix([rho,rho*u,rho*v,rho*E]);\n",
    "V;\n",
    "/* *we directly convert from conservative variables to primitive variables */\n",
    "dWdQ : ratsimp(jacobian(args(U)[1],args(V)[1]));"
   ]
  },
  {
   "cell_type": "markdown",
   "metadata": {},
   "source": [
    "We see that we have recovered the result of Weiss and Smith, matrix $\\frac{\\partial W}{\\partial Q}$, below equation (2). Note that this should be the same as the matrix M defined above:"
   ]
  },
  {
   "cell_type": "code",
   "execution_count": 31,
   "metadata": {},
   "outputs": [
    {
     "data": {
      "text/latex": [
       "\\[\\tag{${\\it \\%o}_{65}$}\\begin{pmatrix}\\frac{\\gamma}{c^2} & 0 & 0 & -\\frac{{\\it cp}\\,\\rho\\,\\gamma-{\\it cp}\\,\\rho}{c^2} \\\\ \\frac{u\\,\\gamma}{c^2} & \\rho & 0 & -\\frac{{\\it cp}\\,\\rho\\,u\\,\\gamma-{\\it cp}\\,\\rho\\,u}{c^2} \\\\ \\frac{v\\,\\gamma}{c^2} & 0 & \\rho & -\\frac{{\\it cp}\\,\\rho\\,v\\,\\gamma-{\\it cp}\\,\\rho\\,v}{c^2} \\\\ \\frac{\\left(v^2+u^2\\right)\\,\\gamma^2+\\left(-v^2-u^2\\right)\\,\\gamma+2\\,c^2}{2\\,c^2\\,\\gamma-2\\,c^2} & \\rho\\,u & \\rho\\,v & -\\frac{\\left({\\it cp}\\,\\rho\\,v^2+{\\it cp}\\,\\rho\\,u^2\\right)\\,\\gamma-{\\it cp}\\,\\rho\\,v^2-{\\it cp}\\,\\rho\\,u^2}{2\\,c^2} \\\\ \\end{pmatrix}\\]"
      ],
      "text/plain": [
       "                [                     gamma                     ]\n",
       "                [                     -----                     ]\n",
       "                [                       2                       ]\n",
       "                [                      c                        ]\n",
       "                [                                               ]\n",
       "                [                    u gamma                    ]\n",
       "                [                    -------                    ]\n",
       "                [                       2                       ]\n",
       "                [                      c                        ]\n",
       "(%o65)  Col 1 = [                                               ]\n",
       "                [                    v gamma                    ]\n",
       "                [                    -------                    ]\n",
       "                [                       2                       ]\n",
       "                [                      c                        ]\n",
       "                [                                               ]\n",
       "                [   2    2       2        2     2             2 ]\n",
       "                [ (v  + u ) gamma  + ((- v ) - u ) gamma + 2 c  ]\n",
       "                [ --------------------------------------------- ]\n",
       "                [                  2            2               ]\n",
       "                [               2 c  gamma - 2 c                ]\n",
       "         [   0   ]         [   0   ]\n",
       "         [       ]         [       ]\n",
       "         [  rho  ]         [   0   ]\n",
       " Col 2 = [       ] Col 3 = [       ]\n",
       "         [   0   ]         [  rho  ]\n",
       "         [       ]         [       ]\n",
       "         [ rho u ]         [ rho v ]\n",
       "         [                   cp rho gamma - cp rho                 ]\n",
       "         [                 - ---------------------                 ]\n",
       "         [                             2                           ]\n",
       "         [                            c                            ]\n",
       "         [                                                         ]\n",
       "         [                 cp rho u gamma - cp rho u               ]\n",
       "         [               - -------------------------               ]\n",
       "         [                             2                           ]\n",
       "         [                            c                            ]\n",
       " Col 4 = [                                                         ]\n",
       "         [                 cp rho v gamma - cp rho v               ]\n",
       "         [               - -------------------------               ]\n",
       "         [                             2                           ]\n",
       "         [                            c                            ]\n",
       "         [                                                         ]\n",
       "         [            2           2                  2           2 ]\n",
       "         [   (cp rho v  + cp rho u ) gamma - cp rho v  - cp rho u  ]\n",
       "         [ - ----------------------------------------------------- ]\n",
       "         [                              2                          ]\n",
       "         [                           2 c                           ]"
      ],
      "text/x-maxima": [
       "matrix([gamma/c^2,0,0,-(cp*rho*gamma-cp*rho)/c^2],\n",
       "       [(u*gamma)/c^2,rho,0,-(cp*rho*u*gamma-cp*rho*u)/c^2],\n",
       "       [(v*gamma)/c^2,0,rho,-(cp*rho*v*gamma-cp*rho*v)/c^2],\n",
       "       [((v^2+u^2)*gamma^2+((-v^2)-u^2)*gamma+2*c^2)/(2*c^2*gamma-2*c^2),\n",
       "        rho*u,rho*v,\n",
       "        -((cp*rho*v^2+cp*rho*u^2)*gamma-cp*rho*v^2-cp*rho*u^2)/(2*c^2)])"
      ]
     },
     "execution_count": 31,
     "metadata": {},
     "output_type": "execute_result"
    }
   ],
   "source": [
    "M;"
   ]
  },
  {
   "cell_type": "markdown",
   "metadata": {},
   "source": [
    "Note that $p=\\rho R T$, and $\\frac{a^2}{\\gamma} = \\frac{p}{\\rho}$, so:\n",
    "$$RT = \\frac{a^2}{\\gamma}$$\n",
    "\n",
    "and with $\\frac{c_p}{c_v}=\\gamma$ and  $R = c_p - c_v = c_p(1-\\frac{1}{\\gamma})$:\n",
    "$$T = \\frac{a^2}{\\gamma}\\frac{1}{c_p(1-\\frac{1}{\\gamma})},$$\n",
    "and finally:\n",
    "\n",
    "$$ T = \\frac{a^2}{ c_p (\\gamma - 1)}$$"
   ]
  },
  {
   "cell_type": "code",
   "execution_count": 32,
   "metadata": {},
   "outputs": [
    {
     "data": {
      "text/latex": [
       "\\[\\tag{${\\it \\%o}_{66}$}\\begin{pmatrix}\\frac{\\gamma}{c^2} & 0 & 0 & -\\frac{\\rho}{T} \\\\ \\frac{u\\,\\gamma}{c^2} & \\rho & 0 & -\\frac{\\rho\\,u}{T} \\\\ \\frac{v\\,\\gamma}{c^2} & 0 & \\rho & -\\frac{\\rho\\,v}{T} \\\\ \\frac{\\left(\\frac{v^2+u^2}{2}+T\\,{\\it cp}\\right)\\,\\gamma}{c^2}-1 & \\rho\\,u & \\rho\\,v & {\\it cp}\\,\\rho-\\frac{\\rho\\,\\left(\\frac{v^2+u^2}{2}+T\\,{\\it cp}\\right)}{T} \\\\ \\end{pmatrix}\\]"
      ],
      "text/plain": [
       "(%o66) \n",
       "    [           gamma                                         rho             ]\n",
       "    [           -----               0      0                - ---             ]\n",
       "    [             2                                            T              ]\n",
       "    [            c                                                            ]\n",
       "    [                                                                         ]\n",
       "    [          u gamma                                       rho u            ]\n",
       "    [          -------             rho     0               - -----            ]\n",
       "    [             2                                            T              ]\n",
       "    [            c                                                            ]\n",
       "    [                                                                         ]\n",
       "    [          v gamma                                       rho v            ]\n",
       "    [          -------              0     rho              - -----            ]\n",
       "    [             2                                            T              ]\n",
       "    [            c                                                            ]\n",
       "    [                                                                         ]\n",
       "    [   2    2                                                 2    2         ]\n",
       "    [  v  + u                                                 v  + u          ]\n",
       "    [ (------- + T cp) gamma                             rho (------- + T cp) ]\n",
       "    [     2                                                      2            ]\n",
       "    [ ---------------------- - 1  rho u  rho v  cp rho - -------------------- ]\n",
       "    [            2                                                T           ]\n",
       "    [           c                                                             ]"
      ],
      "text/x-maxima": [
       "matrix([gamma/c^2,0,0,-rho/T],[(u*gamma)/c^2,rho,0,-(rho*u)/T],\n",
       "       [(v*gamma)/c^2,0,rho,-(rho*v)/T],\n",
       "       [(((v^2+u^2)/2+T*cp)*gamma)/c^2-1,rho*u,rho*v,\n",
       "        cp*rho-(rho*((v^2+u^2)/2+T*cp))/T])"
      ]
     },
     "execution_count": 32,
     "metadata": {},
     "output_type": "execute_result"
    },
    {
     "data": {
      "text/latex": [
       "\\[\\tag{${\\it \\%o}_{67}$}\\begin{pmatrix}\\frac{\\gamma}{c^2} & 0 & 0 & -\\frac{{\\it cp}\\,\\rho\\,\\gamma-{\\it cp}\\,\\rho}{c^2} \\\\ \\frac{u\\,\\gamma}{c^2} & \\rho & 0 & -\\frac{{\\it cp}\\,\\rho\\,u\\,\\gamma-{\\it cp}\\,\\rho\\,u}{c^2} \\\\ \\frac{v\\,\\gamma}{c^2} & 0 & \\rho & -\\frac{{\\it cp}\\,\\rho\\,v\\,\\gamma-{\\it cp}\\,\\rho\\,v}{c^2} \\\\ \\frac{\\left(v^2+u^2\\right)\\,\\gamma^2+\\left(-v^2-u^2\\right)\\,\\gamma+2\\,c^2}{2\\,c^2\\,\\gamma-2\\,c^2} & \\rho\\,u & \\rho\\,v & -\\frac{\\left({\\it cp}\\,\\rho\\,v^2+{\\it cp}\\,\\rho\\,u^2\\right)\\,\\gamma-{\\it cp}\\,\\rho\\,v^2-{\\it cp}\\,\\rho\\,u^2}{2\\,c^2} \\\\ \\end{pmatrix}\\]"
      ],
      "text/plain": [
       "                [                     gamma                     ]\n",
       "                [                     -----                     ]\n",
       "                [                       2                       ]\n",
       "                [                      c                        ]\n",
       "                [                                               ]\n",
       "                [                    u gamma                    ]\n",
       "                [                    -------                    ]\n",
       "                [                       2                       ]\n",
       "                [                      c                        ]\n",
       "(%o67)  Col 1 = [                                               ]\n",
       "                [                    v gamma                    ]\n",
       "                [                    -------                    ]\n",
       "                [                       2                       ]\n",
       "                [                      c                        ]\n",
       "                [                                               ]\n",
       "                [   2    2       2        2     2             2 ]\n",
       "                [ (v  + u ) gamma  + ((- v ) - u ) gamma + 2 c  ]\n",
       "                [ --------------------------------------------- ]\n",
       "                [                  2            2               ]\n",
       "                [               2 c  gamma - 2 c                ]\n",
       "         [   0   ]         [   0   ]\n",
       "         [       ]         [       ]\n",
       "         [  rho  ]         [   0   ]\n",
       " Col 2 = [       ] Col 3 = [       ]\n",
       "         [   0   ]         [  rho  ]\n",
       "         [       ]         [       ]\n",
       "         [ rho u ]         [ rho v ]\n",
       "         [                   cp rho gamma - cp rho                 ]\n",
       "         [                 - ---------------------                 ]\n",
       "         [                             2                           ]\n",
       "         [                            c                            ]\n",
       "         [                                                         ]\n",
       "         [                 cp rho u gamma - cp rho u               ]\n",
       "         [               - -------------------------               ]\n",
       "         [                             2                           ]\n",
       "         [                            c                            ]\n",
       " Col 4 = [                                                         ]\n",
       "         [                 cp rho v gamma - cp rho v               ]\n",
       "         [               - -------------------------               ]\n",
       "         [                             2                           ]\n",
       "         [                            c                            ]\n",
       "         [                                                         ]\n",
       "         [            2           2                  2           2 ]\n",
       "         [   (cp rho v  + cp rho u ) gamma - cp rho v  - cp rho u  ]\n",
       "         [ - ----------------------------------------------------- ]\n",
       "         [                              2                          ]\n",
       "         [                           2 c                           ]"
      ],
      "text/x-maxima": [
       "matrix([gamma/c^2,0,0,-(cp*rho*gamma-cp*rho)/c^2],\n",
       "       [(u*gamma)/c^2,rho,0,-(cp*rho*u*gamma-cp*rho*u)/c^2],\n",
       "       [(v*gamma)/c^2,0,rho,-(cp*rho*v*gamma-cp*rho*v)/c^2],\n",
       "       [((v^2+u^2)*gamma^2+((-v^2)-u^2)*gamma+2*c^2)/(2*c^2*gamma-2*c^2),\n",
       "        rho*u,rho*v,\n",
       "        -((cp*rho*v^2+cp*rho*u^2)*gamma-cp*rho*v^2-cp*rho*u^2)/(2*c^2)])"
      ]
     },
     "execution_count": 32,
     "metadata": {},
     "output_type": "execute_result"
    }
   ],
   "source": [
    "dWdQ2 : subst([diff(rho,T)=-rho/T,diff(rho,p)=gamma/c^2,H=cp*T+q],dWdQ);\n",
    "dWdQ2 : ratsimp(subst(T=c*c/(cp*(gamma-1)),dWdQ2));"
   ]
  },
  {
   "cell_type": "markdown",
   "metadata": {},
   "source": [
    "Notice that using the two different routes, we obtain the same result, as $\\frac{\\partial W}{\\partial Q} = M$"
   ]
  },
  {
   "cell_type": "code",
   "execution_count": 33,
   "metadata": {},
   "outputs": [
    {
     "data": {
      "text/latex": [
       "\\[\\tag{${\\it \\%o}_{68}$}\\begin{pmatrix}\\frac{d}{d\\,p}\\,\\rho & 0 & 0 & \\frac{d}{d\\,T}\\,\\rho \\\\ \\frac{d}{d\\,p}\\,\\rho\\,u & \\rho & 0 & \\frac{d}{d\\,T}\\,\\rho\\,u \\\\ \\frac{d}{d\\,p}\\,\\rho\\,v & 0 & \\rho & \\frac{d}{d\\,T}\\,\\rho\\,v \\\\ H\\,\\left(\\frac{d}{d\\,p}\\,\\rho\\right)-1 & \\rho\\,u & \\rho\\,v & H\\,\\left(\\frac{d}{d\\,T}\\,\\rho\\right)+{\\it cp}\\,\\rho \\\\ \\end{pmatrix}\\]"
      ],
      "text/plain": [
       "                 [    drho                        drho       ]\n",
       "                 [    ----       0      0         ----       ]\n",
       "                 [     dp                          dT        ]\n",
       "                 [                                           ]\n",
       "                 [   drho                        drho        ]\n",
       "                 [   ---- u     rho     0        ---- u      ]\n",
       "                 [    dp                          dT         ]\n",
       "(%o68)           [                                           ]\n",
       "                 [   drho                        drho        ]\n",
       "                 [   ---- v      0     rho       ---- v      ]\n",
       "                 [    dp                          dT         ]\n",
       "                 [                                           ]\n",
       "                 [   drho                      drho          ]\n",
       "                 [ H ---- - 1  rho u  rho v  H ---- + cp rho ]\n",
       "                 [    dp                        dT           ]"
      ],
      "text/x-maxima": [
       "matrix(['diff(rho,p,1),0,0,'diff(rho,T,1)],\n",
       "       ['diff(rho,p,1)*u,rho,0,'diff(rho,T,1)*u],\n",
       "       ['diff(rho,p,1)*v,0,rho,'diff(rho,T,1)*v],\n",
       "       [H*'diff(rho,p,1)-1,rho*u,rho*v,H*'diff(rho,T,1)+cp*rho])"
      ]
     },
     "execution_count": 33,
     "metadata": {},
     "output_type": "execute_result"
    }
   ],
   "source": [
    "dWdQ;"
   ]
  },
  {
   "cell_type": "markdown",
   "metadata": {},
   "source": [
    "Note that the flux is $\\frac{\\partial F(V)}{\\partial x}$, with $V=(p,u,v,T)$ and because we have defined the derivative of density with respect to pressure and temperarure, we can obtain the transformation into quasilinear form directly using:\n",
    "$$\\frac{\\partial F(V)}{\\partial x} = \\frac{\\partial F}{\\partial V}\\frac{\\partial V}{\\partial x}$$"
   ]
  },
  {
   "cell_type": "code",
   "execution_count": 34,
   "metadata": {},
   "outputs": [
    {
     "data": {
      "text/latex": [
       "\\[\\tag{${\\it \\%o}_{69}$}\\begin{pmatrix}\\rho\\,u & \\rho\\,u^2+p & \\rho\\,u\\,v & H\\,\\rho\\,u \\\\ \\end{pmatrix}\\]"
      ],
      "text/plain": [
       "(%o69)              [             2                       ]\n",
       "                    [ rho u  rho u  + p  rho u v  H rho u ]"
      ],
      "text/x-maxima": [
       "matrix([rho*u,rho*u^2+p,rho*u*v,H*rho*u])"
      ]
     },
     "execution_count": 34,
     "metadata": {},
     "output_type": "execute_result"
    }
   ],
   "source": [
    "\n",
    "F:ratsimp((matrix([rho*u,rho*u*u+p,rho*u*v,u*rho*E+p*u])));"
   ]
  },
  {
   "cell_type": "markdown",
   "metadata": {},
   "source": [
    "and its Jacobian with respect to $V=(\\rho, u,v, T)$ can be determined directly (because we also have the derivative of H(T) defined):"
   ]
  },
  {
   "cell_type": "code",
   "execution_count": 35,
   "metadata": {},
   "outputs": [
    {
     "data": {
      "text/latex": [
       "\\[\\tag{${\\it \\%o}_{70}$}\\begin{pmatrix}p & u & v & T \\\\ \\end{pmatrix}\\]"
      ],
      "text/plain": [
       "(%o70)                          [ p  u  v  T ]"
      ],
      "text/x-maxima": [
       "matrix([p,u,v,T])"
      ]
     },
     "execution_count": 35,
     "metadata": {},
     "output_type": "execute_result"
    }
   ],
   "source": [
    "V;"
   ]
  },
  {
   "cell_type": "code",
   "execution_count": 36,
   "metadata": {},
   "outputs": [
    {
     "data": {
      "text/latex": [
       "\\[\\tag{${\\it \\%o}_{71}$}\\begin{pmatrix}\\frac{d}{d\\,p}\\,\\rho\\,u & \\rho & 0 & \\frac{d}{d\\,T}\\,\\rho\\,u \\\\ \\frac{d}{d\\,p}\\,\\rho\\,u^2+1 & 2\\,\\rho\\,u & 0 & \\frac{d}{d\\,T}\\,\\rho\\,u^2 \\\\ \\frac{d}{d\\,p}\\,\\rho\\,u\\,v & \\rho\\,v & \\rho\\,u & \\frac{d}{d\\,T}\\,\\rho\\,u\\,v \\\\ H\\,\\left(\\frac{d}{d\\,p}\\,\\rho\\right)\\,u & \\rho\\,u^2+H\\,\\rho & \\rho\\,u\\,v & H\\,\\left(\\frac{d}{d\\,T}\\,\\rho\\right)\\,u+{\\it cp}\\,\\rho\\,u \\\\ \\end{pmatrix}\\]"
      ],
      "text/plain": [
       "         [   drho                                      drho          ]\n",
       "         [   ---- u          rho           0           ---- u        ]\n",
       "         [    dp                                        dT           ]\n",
       "         [                                                           ]\n",
       "         [ drho  2                                     drho  2       ]\n",
       "         [ ---- u  + 1     2 rho u         0           ---- u        ]\n",
       "         [  dp                                          dT           ]\n",
       "(%o71)   [                                                           ]\n",
       "         [  drho                                      drho           ]\n",
       "         [  ---- u v        rho v        rho u        ---- u v       ]\n",
       "         [   dp                                        dT            ]\n",
       "         [                                                           ]\n",
       "         [    drho           2                     drho              ]\n",
       "         [  H ---- u    rho u  + H rho  rho u v  H ---- u + cp rho u ]\n",
       "         [     dp                                   dT               ]"
      ],
      "text/x-maxima": [
       "matrix(['diff(rho,p,1)*u,rho,0,'diff(rho,T,1)*u],\n",
       "       ['diff(rho,p,1)*u^2+1,2*rho*u,0,'diff(rho,T,1)*u^2],\n",
       "       ['diff(rho,p,1)*u*v,rho*v,rho*u,'diff(rho,T,1)*u*v],\n",
       "       [H*'diff(rho,p,1)*u,rho*u^2+H*rho,rho*u*v,H*'diff(rho,T,1)*u+cp*rho*u])"
      ]
     },
     "execution_count": 36,
     "metadata": {},
     "output_type": "execute_result"
    }
   ],
   "source": [
    "dFdV : jacobian(args(F)[1],args(V)[1]);"
   ]
  },
  {
   "cell_type": "code",
   "execution_count": 37,
   "metadata": {},
   "outputs": [
    {
     "data": {
      "text/latex": [
       "\\[\\tag{${\\it \\%o}_{72}$}\\begin{pmatrix}\\frac{u\\,\\gamma}{c^2} & \\rho & 0 & -\\frac{\\rho\\,u}{T} \\\\ \\frac{u^2\\,\\gamma}{c^2}+1 & 2\\,\\rho\\,u & 0 & -\\frac{\\rho\\,u^2}{T} \\\\ \\frac{u\\,v\\,\\gamma}{c^2} & \\rho\\,v & \\rho\\,u & -\\frac{\\rho\\,u\\,v}{T} \\\\ \\frac{u\\,\\left(\\frac{v^2+u^2}{2}+T\\,{\\it cp}\\right)\\,\\gamma}{c^2} & \\rho\\,\\left(\\frac{v^2+u^2}{2}+T\\,{\\it cp}\\right)+\\rho\\,u^2 & \\rho\\,u\\,v & {\\it cp}\\,\\rho\\,u-\\frac{\\rho\\,u\\,\\left(\\frac{v^2+u^2}{2}+T\\,{\\it cp}\\right)}{T} \\\\ \\end{pmatrix}\\]"
      ],
      "text/plain": [
       "                [         u gamma          ]\n",
       "                [         -------          ]\n",
       "                [            2             ]\n",
       "                [           c              ]\n",
       "                [                          ]\n",
       "                [        2                 ]\n",
       "                [       u  gamma           ]\n",
       "                [       -------- + 1       ]\n",
       "                [           2              ]\n",
       "                [          c               ]\n",
       "                [                          ]\n",
       "(%o72)  Col 1 = [        u v gamma         ]\n",
       "                [        ---------         ]\n",
       "                [            2             ]\n",
       "                [           c              ]\n",
       "                [                          ]\n",
       "                [     2    2               ]\n",
       "                [    v  + u                ]\n",
       "                [ u (------- + T cp) gamma ]\n",
       "                [       2                  ]\n",
       "                [ ------------------------ ]\n",
       "                [             2            ]\n",
       "                [            c             ]\n",
       "         [              rho              ]\n",
       "         [                               ]         [    0    ]\n",
       "         [            2 rho u            ]         [         ]\n",
       "         [                               ]         [    0    ]\n",
       " Col 2 = [             rho v             ] Col 3 = [         ]\n",
       "         [                               ]         [  rho u  ]\n",
       "         [       2    2                  ]         [         ]\n",
       "         [      v  + u                 2 ]         [ rho u v ]\n",
       "         [ rho (------- + T cp) + rho u  ]\n",
       "         [         2                     ]\n",
       "         [                rho u              ]\n",
       "         [              - -----              ]\n",
       "         [                  T                ]\n",
       "         [                                   ]\n",
       "         [                    2              ]\n",
       "         [               rho u               ]\n",
       "         [             - ------              ]\n",
       "         [                 T                 ]\n",
       "         [                                   ]\n",
       " Col 4 = [               rho u v             ]\n",
       "         [             - -------             ]\n",
       "         [                  T                ]\n",
       "         [                                   ]\n",
       "         [                    2    2         ]\n",
       "         [                   v  + u          ]\n",
       "         [            rho u (------- + T cp) ]\n",
       "         [                      2            ]\n",
       "         [ cp rho u - ---------------------- ]\n",
       "         [                      T            ]"
      ],
      "text/x-maxima": [
       "matrix([(u*gamma)/c^2,rho,0,-(rho*u)/T],\n",
       "       [(u^2*gamma)/c^2+1,2*rho*u,0,-(rho*u^2)/T],\n",
       "       [(u*v*gamma)/c^2,rho*v,rho*u,-(rho*u*v)/T],\n",
       "       [(u*((v^2+u^2)/2+T*cp)*gamma)/c^2,rho*((v^2+u^2)/2+T*cp)+rho*u^2,\n",
       "        rho*u*v,cp*rho*u-(rho*u*((v^2+u^2)/2+T*cp))/T])"
      ]
     },
     "execution_count": 37,
     "metadata": {},
     "output_type": "execute_result"
    },
    {
     "data": {
      "text/latex": [
       "\\[\\tag{${\\it \\%o}_{73}$}\\begin{pmatrix}\\frac{u\\,\\gamma}{c^2} & \\rho & 0 & -\\frac{{\\it cp}\\,\\rho\\,u\\,\\gamma-{\\it cp}\\,\\rho\\,u}{c^2} \\\\ \\frac{u^2\\,\\gamma+c^2}{c^2} & 2\\,\\rho\\,u & 0 & -\\frac{{\\it cp}\\,\\rho\\,u^2\\,\\gamma-{\\it cp}\\,\\rho\\,u^2}{c^2} \\\\ \\frac{u\\,v\\,\\gamma}{c^2} & \\rho\\,v & \\rho\\,u & -\\frac{{\\it cp}\\,\\rho\\,u\\,v\\,\\gamma-{\\it cp}\\,\\rho\\,u\\,v}{c^2} \\\\ \\frac{\\left(u\\,v^2+u^3\\right)\\,\\gamma^2+\\left(-u\\,v^2-u^3+2\\,c^2\\,u\\right)\\,\\gamma}{2\\,c^2\\,\\gamma-2\\,c^2} & \\frac{\\left(\\rho\\,v^2+3\\,\\rho\\,u^2\\right)\\,\\gamma-\\rho\\,v^2-3\\,\\rho\\,u^2+2\\,c^2\\,\\rho}{2\\,\\gamma-2} & \\rho\\,u\\,v & -\\frac{\\left({\\it cp}\\,\\rho\\,u\\,v^2+{\\it cp}\\,\\rho\\,u^3\\right)\\,\\gamma-{\\it cp}\\,\\rho\\,u\\,v^2-{\\it cp}\\,\\rho\\,u^3}{2\\,c^2} \\\\ \\end{pmatrix}\\]"
      ],
      "text/plain": [
       "                [                       u gamma                       ]\n",
       "                [                       -------                       ]\n",
       "                [                          2                          ]\n",
       "                [                         c                           ]\n",
       "                [                                                     ]\n",
       "                [                     2          2                    ]\n",
       "                [                    u  gamma + c                     ]\n",
       "                [                    -------------                    ]\n",
       "                [                          2                          ]\n",
       "                [                         c                           ]\n",
       "(%o73)  Col 1 = [                                                     ]\n",
       "                [                      u v gamma                      ]\n",
       "                [                      ---------                      ]\n",
       "                [                          2                          ]\n",
       "                [                         c                           ]\n",
       "                [                                                     ]\n",
       "                [     2    3       2          2     3      2          ]\n",
       "                [ (u v  + u ) gamma  + ((- u v ) - u  + 2 c  u) gamma ]\n",
       "                [ --------------------------------------------------- ]\n",
       "                [                     2            2                  ]\n",
       "                [                  2 c  gamma - 2 c                   ]\n",
       "         [                           rho                            ]\n",
       "         [                                                          ]\n",
       "         [                         2 rho u                          ]\n",
       "         [                                                          ]\n",
       " Col 2 = [                          rho v                           ]\n",
       "         [                                                          ]\n",
       "         [       2          2               2          2      2     ]\n",
       "         [ (rho v  + 3 rho u ) gamma - rho v  - 3 rho u  + 2 c  rho ]\n",
       "         [ -------------------------------------------------------- ]\n",
       "         [                       2 gamma - 2                        ]\n",
       "         [    0    ]\n",
       "         [         ]\n",
       "         [    0    ]\n",
       " Col 3 = [         ]\n",
       "         [  rho u  ]\n",
       "         [         ]\n",
       "         [ rho u v ]\n",
       "         [                   cp rho u gamma - cp rho u                 ]\n",
       "         [                 - -------------------------                 ]\n",
       "         [                               2                             ]\n",
       "         [                              c                              ]\n",
       "         [                                                             ]\n",
       "         [                          2                 2                ]\n",
       "         [                  cp rho u  gamma - cp rho u                 ]\n",
       "         [                - ---------------------------                ]\n",
       "         [                               2                             ]\n",
       "         [                              c                              ]\n",
       " Col 4 = [                                                             ]\n",
       "         [                 cp rho u v gamma - cp rho u v               ]\n",
       "         [               - -----------------------------               ]\n",
       "         [                               2                             ]\n",
       "         [                              c                              ]\n",
       "         [                                                             ]\n",
       "         [              2           3                    2           3 ]\n",
       "         [   (cp rho u v  + cp rho u ) gamma - cp rho u v  - cp rho u  ]\n",
       "         [ - --------------------------------------------------------- ]\n",
       "         [                                2                            ]\n",
       "         [                             2 c                             ]"
      ],
      "text/x-maxima": [
       "matrix([(u*gamma)/c^2,rho,0,-(cp*rho*u*gamma-cp*rho*u)/c^2],\n",
       "       [(u^2*gamma+c^2)/c^2,2*rho*u,0,-(cp*rho*u^2*gamma-cp*rho*u^2)/c^2],\n",
       "       [(u*v*gamma)/c^2,rho*v,rho*u,-(cp*rho*u*v*gamma-cp*rho*u*v)/c^2],\n",
       "       [((u*v^2+u^3)*gamma^2+((-u*v^2)-u^3+2*c^2*u)*gamma)\n",
       "         /(2*c^2*gamma-2*c^2),\n",
       "        ((rho*v^2+3*rho*u^2)*gamma-rho*v^2-3*rho*u^2+2*c^2*rho)/(2*gamma-2),\n",
       "        rho*u*v,\n",
       "        -((cp*rho*u*v^2+cp*rho*u^3)*gamma-cp*rho*u*v^2-cp*rho*u^3)/(2*c^2)])"
      ]
     },
     "execution_count": 37,
     "metadata": {},
     "output_type": "execute_result"
    }
   ],
   "source": [
    "dFdV2 : subst([diff(rho,T)=-rho/T,diff(rho,p)=gamma/c^2,H=cp*T+q],dFdV);\n",
    "dFdV2 : ratsimp(subst(T=c*c/(cp*(gamma-1)),dFdV2));"
   ]
  },
  {
   "cell_type": "markdown",
   "metadata": {},
   "source": [
    "We can now write the pde in primitive variables $V$ as:\n",
    "$$\\frac{\\partial U}{\\partial t} + \\frac{\\partial F}{\\partial x}=0$$\n",
    "$$\\frac{\\partial U}{\\partial V} \\frac{\\partial V}{\\partial t} + \\frac{\\partial F}{\\partial V}\\frac{\\partial V}{\\partial x}=0$$\n",
    "$$ \\frac{\\partial V}{\\partial t} + [\\frac{\\partial U}{\\partial V}]^{-1} \\frac{\\partial F}{\\partial V}\\frac{\\partial V}{\\partial x}=0$$\n"
   ]
  },
  {
   "cell_type": "code",
   "execution_count": 38,
   "metadata": {},
   "outputs": [
    {
     "data": {
      "text/latex": [
       "\\[\\tag{${\\it \\%o}_{74}$}\\begin{pmatrix}\\frac{\\left(v^2+u^2\\right)\\,\\gamma-v^2-u^2}{2} & u-u\\,\\gamma & v-v\\,\\gamma & \\gamma-1 \\\\ -\\frac{u}{\\rho} & \\frac{1}{\\rho} & 0 & 0 \\\\ -\\frac{v}{\\rho} & 0 & \\frac{1}{\\rho} & 0 \\\\ \\frac{\\left(v^2+u^2\\right)\\,\\gamma^2+\\left(-v^2-u^2\\right)\\,\\gamma-2\\,c^2}{2\\,{\\it cp}\\,\\rho\\,\\gamma-2\\,{\\it cp}\\,\\rho} & -\\frac{u\\,\\gamma}{{\\it cp}\\,\\rho} & -\\frac{v\\,\\gamma}{{\\it cp}\\,\\rho} & \\frac{\\gamma}{{\\it cp}\\,\\rho} \\\\ \\end{pmatrix}\\]"
      ],
      "text/plain": [
       "                [             2    2           2    2           ]\n",
       "                [           (v  + u ) gamma - v  - u            ]\n",
       "                [           -------------------------           ]\n",
       "                [                       2                       ]\n",
       "                [                                               ]\n",
       "                [                        u                      ]\n",
       "                [                     - ---                     ]\n",
       "                [                       rho                     ]\n",
       "(%o74)  Col 1 = [                                               ]\n",
       "                [                        v                      ]\n",
       "                [                     - ---                     ]\n",
       "                [                       rho                     ]\n",
       "                [                                               ]\n",
       "                [   2    2       2        2     2             2 ]\n",
       "                [ (v  + u ) gamma  + ((- v ) - u ) gamma - 2 c  ]\n",
       "                [ --------------------------------------------- ]\n",
       "                [           2 cp rho gamma - 2 cp rho           ]\n",
       "                  [ u - u gamma ]         [ v - v gamma ]\n",
       "                  [             ]         [             ]         [ gamma - 1 ]\n",
       "                  [      1      ]         [      0      ]         [           ]\n",
       "                  [     ---     ]         [             ]         [     0     ]\n",
       "                  [     rho     ]         [      1      ]         [           ]\n",
       "          Col 2 = [             ] Col 3 = [     ---     ] Col 4 = [     0     ]\n",
       "                  [      0      ]         [     rho     ]         [           ]\n",
       "                  [             ]         [             ]         [  gamma    ]\n",
       "                  [    u gamma  ]         [    v gamma  ]         [  ------   ]\n",
       "                  [  - -------  ]         [  - -------  ]         [  cp rho   ]\n",
       "                  [    cp rho   ]         [    cp rho   ]"
      ],
      "text/x-maxima": [
       "matrix([((v^2+u^2)*gamma-v^2-u^2)/2,u-u*gamma,v-v*gamma,gamma-1],\n",
       "       [-u/rho,1/rho,0,0],[-v/rho,0,1/rho,0],\n",
       "       [((v^2+u^2)*gamma^2+((-v^2)-u^2)*gamma-2*c^2)\n",
       "         /(2*cp*rho*gamma-2*cp*rho),-(u*gamma)/(cp*rho),-(v*gamma)/(cp*rho),\n",
       "        gamma/(cp*rho)])"
      ]
     },
     "execution_count": 38,
     "metadata": {},
     "output_type": "execute_result"
    }
   ],
   "source": [
    "ratsimp(invert(dWdQ2));"
   ]
  },
  {
   "cell_type": "code",
   "execution_count": 39,
   "metadata": {},
   "outputs": [
    {
     "data": {
      "text/latex": [
       "\\[\\tag{${\\it \\%o}_{75}$}\\begin{pmatrix}u & c^2\\,\\rho & 0 & 0 \\\\ \\frac{1}{\\rho} & u & 0 & 0 \\\\ 0 & 0 & u & 0 \\\\ 0 & \\frac{c^2}{{\\it cp}} & 0 & u \\\\ \\end{pmatrix}\\]"
      ],
      "text/plain": [
       "                             [       2           ]\n",
       "                             [  u   c  rho  0  0 ]\n",
       "                             [                   ]\n",
       "                             [  1                ]\n",
       "                             [ ---    u     0  0 ]\n",
       "                             [ rho               ]\n",
       "(%o75)                       [                   ]\n",
       "                             [  0     0     u  0 ]\n",
       "                             [                   ]\n",
       "                             [         2         ]\n",
       "                             [        c          ]\n",
       "                             [  0     --    0  u ]\n",
       "                             [        cp         ]"
      ],
      "text/x-maxima": [
       "matrix([u,c^2*rho,0,0],[1/rho,u,0,0],[0,0,u,0],[0,c^2/cp,0,u])"
      ]
     },
     "execution_count": 39,
     "metadata": {},
     "output_type": "execute_result"
    }
   ],
   "source": [
    "ratsimp(invert(dWdQ2).dFdV2);"
   ]
  },
  {
   "cell_type": "code",
   "execution_count": 40,
   "metadata": {},
   "outputs": [
    {
     "data": {
      "text/latex": [
       "\\[\\tag{${\\it \\%o}_{76}$}\\left[ \\left[ u-c , u+c , u \\right]  , \\left[ 1 , 1 , 2 \\right]  \\right] \\]"
      ],
      "text/plain": [
       "(%o76)                  [[u - c, u + c, u], [1, 1, 2]]"
      ],
      "text/x-maxima": [
       "[[u-c,u+c,u],[1,1,2]]"
      ]
     },
     "execution_count": 40,
     "metadata": {},
     "output_type": "execute_result"
    }
   ],
   "source": [
    "eigenvalues(ratsimp(invert(dWdQ2).dFdV2));"
   ]
  },
  {
   "cell_type": "markdown",
   "metadata": {},
   "source": [
    "...And we see again that we retrieve the same matrix...\n",
    "We now introduce a preconditioning matrix and see whether we can modify the eigenvalues in a beneficial way:\n",
    "We use the Weiss and Smith approach that $\\frac{\\partial \\rho}{\\partial p} = \\beta$"
   ]
  },
  {
   "cell_type": "code",
   "execution_count": 41,
   "metadata": {},
   "outputs": [
    {
     "data": {
      "text/latex": [
       "\\[\\tag{${\\it \\%o}_{77}$}\\begin{pmatrix}1 & 0 & 0 & 0 \\\\ -u & 1 & 0 & 0 \\\\ -v & 0 & 1 & 0 \\\\ v^2+u^2-H & -u & -v & 1 \\\\ \\end{pmatrix}\\]"
      ],
      "text/plain": [
       "                         [      1        0    0   0 ]\n",
       "                         [                          ]\n",
       "                         [     - u       1    0   0 ]\n",
       "(%o77)                   [                          ]\n",
       "                         [     - v       0    1   0 ]\n",
       "                         [                          ]\n",
       "                         [  2    2                  ]\n",
       "                         [ v  + u  - H  - u  - v  1 ]"
      ],
      "text/x-maxima": [
       "matrix([1,0,0,0],[-u,1,0,0],[-v,0,1,0],[v^2+u^2-H,-u,-v,1])"
      ]
     },
     "execution_count": 41,
     "metadata": {},
     "output_type": "execute_result"
    },
    {
     "data": {
      "text/latex": [
       "\\[\\tag{${\\it \\%o}_{78}$}\\begin{pmatrix}1 & 0 & 0 & 0 \\\\ -u & 1 & 0 & 0 \\\\ -v & 0 & 1 & 0 \\\\ -\\frac{v^2+u^2}{2}+v^2+u^2-T\\,{\\it cp} & -u & -v & 1 \\\\ \\end{pmatrix}\\]"
      ],
      "text/plain": [
       "                 [              1                 0    0   0 ]\n",
       "                 [                                           ]\n",
       "                 [             - u                1    0   0 ]\n",
       "                 [                                           ]\n",
       "(%o78)           [             - v                0    1   0 ]\n",
       "                 [                                           ]\n",
       "                 [     2    2                                ]\n",
       "                 [    v  + u      2    2                     ]\n",
       "                 [ (- -------) + v  + u  - T cp  - u  - v  1 ]\n",
       "                 [       2                                   ]"
      ],
      "text/x-maxima": [
       "matrix([1,0,0,0],[-u,1,0,0],[-v,0,1,0],[(-(v^2+u^2)/2)+v^2+u^2-T*cp,-u,-v,1])"
      ]
     },
     "execution_count": 41,
     "metadata": {},
     "output_type": "execute_result"
    },
    {
     "data": {
      "text/latex": [
       "\\[\\tag{${\\it \\%o}_{79}$}\\begin{pmatrix}1 & 0 & 0 & 0 \\\\ -u & 1 & 0 & 0 \\\\ -v & 0 & 1 & 0 \\\\ \\frac{\\left(v^2+u^2\\right)\\,\\gamma-v^2-u^2-2\\,c^2}{2\\,\\gamma-2} & -u & -v & 1 \\\\ \\end{pmatrix}\\]"
      ],
      "text/plain": [
       "               [                1                   0    0   0 ]\n",
       "               [                                               ]\n",
       "               [               - u                  1    0   0 ]\n",
       "               [                                               ]\n",
       "(%o79)         [               - v                  0    1   0 ]\n",
       "               [                                               ]\n",
       "               [   2    2           2    2      2              ]\n",
       "               [ (v  + u ) gamma - v  - u  - 2 c               ]\n",
       "               [ --------------------------------  - u  - v  1 ]\n",
       "               [           2 gamma - 2                         ]"
      ],
      "text/x-maxima": [
       "matrix([1,0,0,0],[-u,1,0,0],[-v,0,1,0],\n",
       "       [((v^2+u^2)*gamma-v^2-u^2-2*c^2)/(2*gamma-2),-u,-v,1])"
      ]
     },
     "execution_count": 41,
     "metadata": {},
     "output_type": "execute_result"
    }
   ],
   "source": [
    "/* note that it is 2*q */\n",
    "K:matrix([1,0,0,0],[-u,1,0,0],[-v,0,1,0],[-(H-2*q),-u,-v,1]);\n",
    "K2 : subst([diff(rho,T)=-rho/T,diff(rho,p)=gamma/c^2,H=cp*T+q],K);\n",
    "K2 : ratsimp(subst(T=c*c/(cp*(gamma-1)),K2));"
   ]
  },
  {
   "cell_type": "code",
   "execution_count": 42,
   "metadata": {},
   "outputs": [
    {
     "data": {
      "text/latex": [
       "\\[\\tag{${\\it \\%o}_{80}$}\\begin{pmatrix}\\frac{d}{d\\,p}\\,\\rho & 0 & 0 & \\frac{d}{d\\,T}\\,\\rho \\\\ \\frac{d}{d\\,p}\\,\\rho\\,u & \\rho & 0 & \\frac{d}{d\\,T}\\,\\rho\\,u \\\\ \\frac{d}{d\\,p}\\,\\rho\\,v & 0 & \\rho & \\frac{d}{d\\,T}\\,\\rho\\,v \\\\ H\\,\\left(\\frac{d}{d\\,p}\\,\\rho\\right)-1 & \\rho\\,u & \\rho\\,v & H\\,\\left(\\frac{d}{d\\,T}\\,\\rho\\right)+{\\it cp}\\,\\rho \\\\ \\end{pmatrix}\\]"
      ],
      "text/plain": [
       "                 [    drho                        drho       ]\n",
       "                 [    ----       0      0         ----       ]\n",
       "                 [     dp                          dT        ]\n",
       "                 [                                           ]\n",
       "                 [   drho                        drho        ]\n",
       "                 [   ---- u     rho     0        ---- u      ]\n",
       "                 [    dp                          dT         ]\n",
       "(%o80)           [                                           ]\n",
       "                 [   drho                        drho        ]\n",
       "                 [   ---- v      0     rho       ---- v      ]\n",
       "                 [    dp                          dT         ]\n",
       "                 [                                           ]\n",
       "                 [   drho                      drho          ]\n",
       "                 [ H ---- - 1  rho u  rho v  H ---- + cp rho ]\n",
       "                 [    dp                        dT           ]"
      ],
      "text/x-maxima": [
       "matrix(['diff(rho,p,1),0,0,'diff(rho,T,1)],\n",
       "       ['diff(rho,p,1)*u,rho,0,'diff(rho,T,1)*u],\n",
       "       ['diff(rho,p,1)*v,0,rho,'diff(rho,T,1)*v],\n",
       "       [H*'diff(rho,p,1)-1,rho*u,rho*v,H*'diff(rho,T,1)+cp*rho])"
      ]
     },
     "execution_count": 42,
     "metadata": {},
     "output_type": "execute_result"
    }
   ],
   "source": [
    "dWdQ;"
   ]
  },
  {
   "cell_type": "code",
   "execution_count": 43,
   "metadata": {},
   "outputs": [
    {
     "data": {
      "text/latex": [
       "\\[\\tag{${\\it \\%o}_{81}$}\\begin{pmatrix}\\frac{d}{d\\,p}\\,\\rho & 0 & 0 & \\frac{d}{d\\,T}\\,\\rho \\\\ 0 & \\rho & 0 & 0 \\\\ 0 & 0 & \\rho & 0 \\\\ -1 & 0 & 0 & {\\it cp}\\,\\rho \\\\ \\end{pmatrix}\\]"
      ],
      "text/plain": [
       "                          [ drho             drho  ]\n",
       "                          [ ----   0    0    ----  ]\n",
       "                          [  dp               dT   ]\n",
       "                          [                        ]\n",
       "(%o81)                    [  0    rho   0     0    ]\n",
       "                          [                        ]\n",
       "                          [  0     0   rho    0    ]\n",
       "                          [                        ]\n",
       "                          [ - 1    0    0   cp rho ]"
      ],
      "text/x-maxima": [
       "matrix(['diff(rho,p,1),0,0,'diff(rho,T,1)],[0,rho,0,0],[0,0,rho,0],\n",
       "       [-1,0,0,cp*rho])"
      ]
     },
     "execution_count": 43,
     "metadata": {},
     "output_type": "execute_result"
    }
   ],
   "source": [
    "ratsimp(K.dWdQ);"
   ]
  },
  {
   "cell_type": "code",
   "execution_count": 44,
   "metadata": {},
   "outputs": [
    {
     "data": {
      "text/latex": [
       "\\[\\tag{${\\it \\%o}_{82}$}\\left[ \\left[ -\\frac{c\\,\\sqrt{\\left(c^2\\,\\rho^2-4\\,\\rho\\right)\\,u^2+4}+\\left(c^2\\,\\rho-2\\right)\\,u}{2} , \\frac{c\\,\\sqrt{\\left(c^2\\,\\rho^2-4\\,\\rho\\right)\\,u^2+4}+\\left(2-c^2\\,\\rho\\right)\\,u}{2} , u \\right]  , \\left[ 1 , 1 , 2 \\right]  \\right] \\]"
      ],
      "text/plain": [
       "                    2    2           2          2\n",
       "           c sqrt((c  rho  - 4 rho) u  + 4) + (c  rho - 2) u\n",
       "(%o82) [[- -------------------------------------------------, \n",
       "                                   2\n",
       "                       2    2           2              2\n",
       "              c sqrt((c  rho  - 4 rho) u  + 4) + (2 - c  rho) u\n",
       "              -------------------------------------------------, u], [1, 1, 2]]\n",
       "                                      2"
      ],
      "text/x-maxima": [
       "[[-(c*sqrt((c^2*rho^2-4*rho)*u^2+4)+(c^2*rho-2)*u)/2,\n",
       "  (c*sqrt((c^2*rho^2-4*rho)*u^2+4)+(2-c^2*rho)*u)/2,u],[1,1,2]]"
      ]
     },
     "execution_count": 44,
     "metadata": {},
     "output_type": "execute_result"
    }
   ],
   "source": [
    "eigenvalues(ratsimp(K.(ratsimp(invert(dWdQ2).dFdV2))));"
   ]
  },
  {
   "cell_type": "code",
   "execution_count": null,
   "metadata": {},
   "outputs": [],
   "source": []
  },
  {
   "cell_type": "code",
   "execution_count": null,
   "metadata": {},
   "outputs": [],
   "source": []
  },
  {
   "cell_type": "code",
   "execution_count": null,
   "metadata": {},
   "outputs": [],
   "source": []
  },
  {
   "cell_type": "code",
   "execution_count": null,
   "metadata": {},
   "outputs": [],
   "source": []
  },
  {
   "cell_type": "code",
   "execution_count": null,
   "metadata": {},
   "outputs": [],
   "source": []
  },
  {
   "cell_type": "code",
   "execution_count": 45,
   "metadata": {},
   "outputs": [
    {
     "data": {
      "text/latex": [
       "\\[\\tag{${\\it \\%o}_{83}$}\\begin{pmatrix}\\vartheta & 0 & 0 & \\frac{d}{d\\,T}\\,\\rho \\\\ \\vartheta\\,u & \\rho & 0 & \\frac{d}{d\\,T}\\,\\rho\\,u \\\\ \\vartheta\\,v & 0 & \\rho & \\frac{d}{d\\,T}\\,\\rho\\,v \\\\ H\\,\\vartheta-1 & \\rho\\,u & \\rho\\,v & H\\,\\left(\\frac{d}{d\\,T}\\,\\rho\\right)+{\\it cp}\\,\\rho \\\\ \\end{pmatrix}\\]"
      ],
      "text/plain": [
       "                [                                 drho       ]\n",
       "                [    theta       0      0         ----       ]\n",
       "                [                                  dT        ]\n",
       "                [                                            ]\n",
       "                [                                drho        ]\n",
       "                [   theta u     rho     0        ---- u      ]\n",
       "                [                                 dT         ]\n",
       "(%o83)          [                                            ]\n",
       "                [                                drho        ]\n",
       "                [   theta v      0     rho       ---- v      ]\n",
       "                [                                 dT         ]\n",
       "                [                                            ]\n",
       "                [                              drho          ]\n",
       "                [ H theta - 1  rho u  rho v  H ---- + cp rho ]\n",
       "                [                               dT           ]"
      ],
      "text/x-maxima": [
       "matrix([theta,0,0,'diff(rho,T,1)],[theta*u,rho,0,'diff(rho,T,1)*u],\n",
       "       [theta*v,0,rho,'diff(rho,T,1)*v],\n",
       "       [H*theta-1,rho*u,rho*v,H*'diff(rho,T,1)+cp*rho])"
      ]
     },
     "execution_count": 45,
     "metadata": {},
     "output_type": "execute_result"
    }
   ],
   "source": [
    "Gamma : subst(diff(rho,p)=theta,dWdQ);"
   ]
  },
  {
   "cell_type": "markdown",
   "metadata": {},
   "source": [
    "This is the convective matrix for the quasilinear system with primitive variables $V$."
   ]
  },
  {
   "cell_type": "code",
   "execution_count": 46,
   "metadata": {},
   "outputs": [
    {
     "data": {
      "text/latex": [
       "\\[\\tag{${\\it \\%o}_{84}$}\\begin{pmatrix}\\frac{\\left(v^2+u^2\\right)\\,\\gamma-v^2-u^2}{2} & u-u\\,\\gamma & v-v\\,\\gamma & \\gamma-1 \\\\ -\\frac{u}{\\rho} & \\frac{1}{\\rho} & 0 & 0 \\\\ -\\frac{v}{\\rho} & 0 & \\frac{1}{\\rho} & 0 \\\\ \\frac{\\left(v^2+u^2\\right)\\,\\gamma^2+\\left(-v^2-u^2\\right)\\,\\gamma-2\\,c^2}{2\\,{\\it cp}\\,\\rho\\,\\gamma-2\\,{\\it cp}\\,\\rho} & -\\frac{u\\,\\gamma}{{\\it cp}\\,\\rho} & -\\frac{v\\,\\gamma}{{\\it cp}\\,\\rho} & \\frac{\\gamma}{{\\it cp}\\,\\rho} \\\\ \\end{pmatrix}\\]"
      ],
      "text/plain": [
       "                [             2    2           2    2           ]\n",
       "                [           (v  + u ) gamma - v  - u            ]\n",
       "                [           -------------------------           ]\n",
       "                [                       2                       ]\n",
       "                [                                               ]\n",
       "                [                        u                      ]\n",
       "                [                     - ---                     ]\n",
       "                [                       rho                     ]\n",
       "(%o84)  Col 1 = [                                               ]\n",
       "                [                        v                      ]\n",
       "                [                     - ---                     ]\n",
       "                [                       rho                     ]\n",
       "                [                                               ]\n",
       "                [   2    2       2        2     2             2 ]\n",
       "                [ (v  + u ) gamma  + ((- v ) - u ) gamma - 2 c  ]\n",
       "                [ --------------------------------------------- ]\n",
       "                [           2 cp rho gamma - 2 cp rho           ]\n",
       "                  [ u - u gamma ]         [ v - v gamma ]\n",
       "                  [             ]         [             ]         [ gamma - 1 ]\n",
       "                  [      1      ]         [      0      ]         [           ]\n",
       "                  [     ---     ]         [             ]         [     0     ]\n",
       "                  [     rho     ]         [      1      ]         [           ]\n",
       "          Col 2 = [             ] Col 3 = [     ---     ] Col 4 = [     0     ]\n",
       "                  [      0      ]         [     rho     ]         [           ]\n",
       "                  [             ]         [             ]         [  gamma    ]\n",
       "                  [    u gamma  ]         [    v gamma  ]         [  ------   ]\n",
       "                  [  - -------  ]         [  - -------  ]         [  cp rho   ]\n",
       "                  [    cp rho   ]         [    cp rho   ]"
      ],
      "text/x-maxima": [
       "matrix([((v^2+u^2)*gamma-v^2-u^2)/2,u-u*gamma,v-v*gamma,gamma-1],\n",
       "       [-u/rho,1/rho,0,0],[-v/rho,0,1/rho,0],\n",
       "       [((v^2+u^2)*gamma^2+((-v^2)-u^2)*gamma-2*c^2)\n",
       "         /(2*cp*rho*gamma-2*cp*rho),-(u*gamma)/(cp*rho),-(v*gamma)/(cp*rho),\n",
       "        gamma/(cp*rho)])"
      ]
     },
     "execution_count": 46,
     "metadata": {},
     "output_type": "execute_result"
    }
   ],
   "source": [
    "inv_dUdV : ratsimp(invert(M));"
   ]
  },
  {
   "cell_type": "code",
   "execution_count": 47,
   "metadata": {},
   "outputs": [
    {
     "data": {
      "text/latex": [
       "\\[\\tag{${\\it \\%o}_{85}$}\\begin{pmatrix}-\\frac{\\left(\\frac{d}{d\\,p}\\,\\rho\\,u\\,v^2+\\frac{d}{d\\,p}\\,\\rho\\,u^3+\\left(2-2\\,H\\,\\left(\\frac{d}{d\\,p}\\,\\rho\\right)\\right)\\,u\\right)\\,\\gamma-\\frac{d}{d\\,p}\\,\\rho\\,u\\,v^2-\\frac{d}{d\\,p}\\,\\rho\\,u^3+\\left(2\\,H\\,\\left(\\frac{d}{d\\,p}\\,\\rho\\right)-2\\right)\\,u}{2} & -\\frac{\\left(\\rho\\,v^2+\\rho\\,u^2-2\\,H\\,\\rho\\right)\\,\\gamma-\\rho\\,v^2-\\rho\\,u^2+2\\,H\\,\\rho}{2} & 0 & -\\frac{\\left(\\frac{d}{d\\,T}\\,\\rho\\,u\\,v^2+\\frac{d}{d\\,T}\\,\\rho\\,u^3+\\left(-2\\,H\\,\\left(\\frac{d}{d\\,T}\\,\\rho\\right)-2\\,{\\it cp}\\,\\rho\\right)\\,u\\right)\\,\\gamma-\\frac{d}{d\\,T}\\,\\rho\\,u\\,v^2-\\frac{d}{d\\,T}\\,\\rho\\,u^3+\\left(2\\,H\\,\\left(\\frac{d}{d\\,T}\\,\\rho\\right)+2\\,{\\it cp}\\,\\rho\\right)\\,u}{2} \\\\ \\frac{1}{\\rho} & u & 0 & 0 \\\\ 0 & 0 & u & 0 \\\\ -\\frac{\\left(\\frac{d}{d\\,p}\\,\\rho\\,u\\,v^2+\\frac{d}{d\\,p}\\,\\rho\\,u^3+\\left(2-2\\,H\\,\\left(\\frac{d}{d\\,p}\\,\\rho\\right)\\right)\\,u\\right)\\,\\gamma^2+\\left(-\\frac{d}{d\\,p}\\,\\rho\\,u\\,v^2-\\frac{d}{d\\,p}\\,\\rho\\,u^3+\\left(2\\,H\\,\\left(\\frac{d}{d\\,p}\\,\\rho\\right)-2\\right)\\,u\\right)\\,\\gamma+2\\,c^2\\,\\left(\\frac{d}{d\\,p}\\,\\rho\\right)\\,u}{2\\,{\\it cp}\\,\\rho\\,\\gamma-2\\,{\\it cp}\\,\\rho} & -\\frac{\\left(v^2+u^2-2\\,H\\right)\\,\\gamma^2+\\left(-v^2-u^2+2\\,H\\right)\\,\\gamma+2\\,c^2}{2\\,{\\it cp}\\,\\gamma-2\\,{\\it cp}} & 0 & -\\frac{\\left(\\frac{d}{d\\,T}\\,\\rho\\,u\\,v^2+\\frac{d}{d\\,T}\\,\\rho\\,u^3+\\left(-2\\,H\\,\\left(\\frac{d}{d\\,T}\\,\\rho\\right)-2\\,{\\it cp}\\,\\rho\\right)\\,u\\right)\\,\\gamma^2+\\left(-\\frac{d}{d\\,T}\\,\\rho\\,u\\,v^2-\\frac{d}{d\\,T}\\,\\rho\\,u^3+\\left(2\\,H\\,\\left(\\frac{d}{d\\,T}\\,\\rho\\right)+2\\,{\\it cp}\\,\\rho\\right)\\,u\\right)\\,\\gamma+2\\,c^2\\,\\left(\\frac{d}{d\\,T}\\,\\rho\\right)\\,u}{2\\,{\\it cp}\\,\\rho\\,\\gamma-2\\,{\\it cp}\\,\\rho} \\\\ \\end{pmatrix}\\]"
      ],
      "text/plain": [
       "                   drho    2   drho  3            drho             drho    2\n",
       "(%o85) matrix([- ((---- u v  + ---- u  + (2 - 2 H ----) u) gamma - ---- u v\n",
       "                    dp          dp                 dp               dp\n",
       "   drho  3        drho\n",
       " - ---- u  + (2 H ---- - 2) u)/2, \n",
       "    dp             dp\n",
       "        2        2                         2        2\n",
       "  (rho v  + rho u  - 2 H rho) gamma - rho v  - rho u  + 2 H rho\n",
       "- -------------------------------------------------------------, 0, \n",
       "                                2\n",
       "    drho    2   drho  3           drho                         drho    2\n",
       "- ((---- u v  + ---- u  + ((- 2 H ----) - 2 cp rho) u) gamma - ---- u v\n",
       "     dT          dT                dT                           dT\n",
       "   drho  3        drho                      1\n",
       " - ---- u  + (2 H ---- + 2 cp rho) u)/2], [---, u, 0, 0], [0, 0, u, 0], \n",
       "    dT             dT                      rho\n",
       "     drho    2   drho  3            drho          2\n",
       "[- ((---- u v  + ---- u  + (2 - 2 H ----) u) gamma\n",
       "      dp          dp                 dp\n",
       "       drho    2    drho  3        drho                    2 drho\n",
       " + ((- ---- u v ) - ---- u  + (2 H ---- - 2) u) gamma + 2 c  ---- u)\n",
       "        dp           dp             dp                        dp\n",
       "/(2 cp rho gamma - 2 cp rho), \n",
       "    2    2             2        2     2                   2\n",
       "  (v  + u  - 2 H) gamma  + ((- v ) - u  + 2 H) gamma + 2 c\n",
       "- ---------------------------------------------------------, 0, \n",
       "                      2 cp gamma - 2 cp\n",
       "    drho    2   drho  3           drho                      2\n",
       "- ((---- u v  + ---- u  + ((- 2 H ----) - 2 cp rho) u) gamma\n",
       "     dT          dT                dT\n",
       "       drho    2    drho  3        drho                           2 drho\n",
       " + ((- ---- u v ) - ---- u  + (2 H ---- + 2 cp rho) u) gamma + 2 c  ---- u)\n",
       "        dT           dT             dT                               dT\n",
       "/(2 cp rho gamma - 2 cp rho)])"
      ],
      "text/x-maxima": [
       "matrix([-(('diff(rho,p,1)*u*v^2+'diff(rho,p,1)*u^3+(2-2*H*'diff(rho,p,1))*u)\n",
       "         *gamma\n",
       "         -'diff(rho,p,1)*u*v^2-'diff(rho,p,1)*u^3+(2*H*'diff(rho,p,1)-2)*u)\n",
       "         /2,-((rho*v^2+rho*u^2-2*H*rho)*gamma-rho*v^2-rho*u^2+2*H*rho)/2,0,\n",
       "        -(('diff(rho,T,1)*u*v^2+'diff(rho,T,1)*u^3\n",
       "                               +((-2*H*'diff(rho,T,1))-2*cp*rho)*u)\n",
       "         *gamma\n",
       "         -'diff(rho,T,1)*u*v^2-'diff(rho,T,1)*u^3\n",
       "         +(2*H*'diff(rho,T,1)+2*cp*rho)*u)\n",
       "         /2],[1/rho,u,0,0],[0,0,u,0],\n",
       "       [-(('diff(rho,p,1)*u*v^2+'diff(rho,p,1)*u^3+(2-2*H*'diff(rho,p,1))*u)\n",
       "         *gamma^2\n",
       "         +((-'diff(rho,p,1)*u*v^2)-'diff(rho,p,1)*u^3\n",
       "                                  +(2*H*'diff(rho,p,1)-2)*u)\n",
       "          *gamma+2*c^2*'diff(rho,p,1)*u)\n",
       "         /(2*cp*rho*gamma-2*cp*rho),\n",
       "        -((v^2+u^2-2*H)*gamma^2+((-v^2)-u^2+2*H)*gamma+2*c^2)\n",
       "         /(2*cp*gamma-2*cp),0,\n",
       "        -(('diff(rho,T,1)*u*v^2+'diff(rho,T,1)*u^3\n",
       "                               +((-2*H*'diff(rho,T,1))-2*cp*rho)*u)\n",
       "         *gamma^2\n",
       "         +((-'diff(rho,T,1)*u*v^2)-'diff(rho,T,1)*u^3\n",
       "                                  +(2*H*'diff(rho,T,1)+2*cp*rho)*u)\n",
       "          *gamma+2*c^2*'diff(rho,T,1)*u)\n",
       "         /(2*cp*rho*gamma-2*cp*rho)])"
      ]
     },
     "execution_count": 47,
     "metadata": {},
     "output_type": "execute_result"
    }
   ],
   "source": [
    "A2:ratsimp(inv_dUdV.dFdV);"
   ]
  },
  {
   "cell_type": "code",
   "execution_count": 48,
   "metadata": {},
   "outputs": [
    {
     "data": {
      "text/latex": [
       "\\[\\tag{${\\it \\%o}_{86}$}\\begin{pmatrix}-\\frac{\\left(\\frac{d}{d\\,p}\\,\\rho\\,u\\,v^2+\\frac{d}{d\\,p}\\,\\rho\\,u^3+\\left(2-2\\,H\\,\\left(\\frac{d}{d\\,p}\\,\\rho\\right)\\right)\\,u\\right)\\,\\gamma-\\frac{d}{d\\,p}\\,\\rho\\,u\\,v^2-\\frac{d}{d\\,p}\\,\\rho\\,u^3+\\left(2\\,H\\,\\left(\\frac{d}{d\\,p}\\,\\rho\\right)-2\\right)\\,u}{2} & -\\frac{\\left(\\rho\\,v^2+\\rho\\,u^2-2\\,H\\,\\rho\\right)\\,\\gamma-\\rho\\,v^2-\\rho\\,u^2+2\\,H\\,\\rho}{2} & 0 & \\frac{\\left(\\rho\\,u\\,v^2+\\rho\\,u^3+\\left(2\\,T\\,{\\it cp}-2\\,H\\right)\\,\\rho\\,u\\right)\\,\\gamma-\\rho\\,u\\,v^2-\\rho\\,u^3+\\left(2\\,H-2\\,T\\,{\\it cp}\\right)\\,\\rho\\,u}{2\\,T} \\\\ \\frac{1}{\\rho} & u & 0 & 0 \\\\ 0 & 0 & u & 0 \\\\ -\\frac{\\left(\\frac{d}{d\\,p}\\,\\rho\\,u\\,v^2+\\frac{d}{d\\,p}\\,\\rho\\,u^3+\\left(2-2\\,H\\,\\left(\\frac{d}{d\\,p}\\,\\rho\\right)\\right)\\,u\\right)\\,\\gamma^2+\\left(-\\frac{d}{d\\,p}\\,\\rho\\,u\\,v^2-\\frac{d}{d\\,p}\\,\\rho\\,u^3+\\left(2\\,H\\,\\left(\\frac{d}{d\\,p}\\,\\rho\\right)-2\\right)\\,u\\right)\\,\\gamma+2\\,c^2\\,\\left(\\frac{d}{d\\,p}\\,\\rho\\right)\\,u}{2\\,{\\it cp}\\,\\rho\\,\\gamma-2\\,{\\it cp}\\,\\rho} & -\\frac{\\left(v^2+u^2-2\\,H\\right)\\,\\gamma^2+\\left(-v^2-u^2+2\\,H\\right)\\,\\gamma+2\\,c^2}{2\\,{\\it cp}\\,\\gamma-2\\,{\\it cp}} & 0 & \\frac{\\left(u\\,v^2+u^3+\\left(2\\,T\\,{\\it cp}-2\\,H\\right)\\,u\\right)\\,\\gamma^2+\\left(-u\\,v^2-u^3+\\left(2\\,H-2\\,T\\,{\\it cp}\\right)\\,u\\right)\\,\\gamma+2\\,c^2\\,u}{2\\,T\\,{\\it cp}\\,\\gamma-2\\,T\\,{\\it cp}} \\\\ \\end{pmatrix}\\]"
      ],
      "text/plain": [
       "                   drho    2   drho  3            drho             drho    2\n",
       "(%o86) matrix([- ((---- u v  + ---- u  + (2 - 2 H ----) u) gamma - ---- u v\n",
       "                    dp          dp                 dp               dp\n",
       "   drho  3        drho\n",
       " - ---- u  + (2 H ---- - 2) u)/2, \n",
       "    dp             dp\n",
       "        2        2                         2        2\n",
       "  (rho v  + rho u  - 2 H rho) gamma - rho v  - rho u  + 2 H rho\n",
       "- -------------------------------------------------------------, 0, \n",
       "                                2\n",
       "         2        3                                        2        3\n",
       "((rho u v  + rho u  + (2 T cp - 2 H) rho u) gamma - rho u v  - rho u\n",
       "                                   1\n",
       " + (2 H - 2 T cp) rho u)/(2 T)], [---, u, 0, 0], [0, 0, u, 0], \n",
       "                                  rho\n",
       "     drho    2   drho  3            drho          2\n",
       "[- ((---- u v  + ---- u  + (2 - 2 H ----) u) gamma\n",
       "      dp          dp                 dp\n",
       "       drho    2    drho  3        drho                    2 drho\n",
       " + ((- ---- u v ) - ---- u  + (2 H ---- - 2) u) gamma + 2 c  ---- u)\n",
       "        dp           dp             dp                        dp\n",
       "/(2 cp rho gamma - 2 cp rho), \n",
       "    2    2             2        2     2                   2\n",
       "  (v  + u  - 2 H) gamma  + ((- v ) - u  + 2 H) gamma + 2 c\n",
       "- ---------------------------------------------------------, 0, \n",
       "                      2 cp gamma - 2 cp\n",
       "     2    3                          2          2     3\n",
       "((u v  + u  + (2 T cp - 2 H) u) gamma  + ((- u v ) - u  + (2 H - 2 T cp) u)\n",
       "            2\n",
       " gamma + 2 c  u)/(2 T cp gamma - 2 T cp)])"
      ],
      "text/x-maxima": [
       "matrix([-(('diff(rho,p,1)*u*v^2+'diff(rho,p,1)*u^3+(2-2*H*'diff(rho,p,1))*u)\n",
       "         *gamma\n",
       "         -'diff(rho,p,1)*u*v^2-'diff(rho,p,1)*u^3+(2*H*'diff(rho,p,1)-2)*u)\n",
       "         /2,-((rho*v^2+rho*u^2-2*H*rho)*gamma-rho*v^2-rho*u^2+2*H*rho)/2,0,\n",
       "        ((rho*u*v^2+rho*u^3+(2*T*cp-2*H)*rho*u)*gamma\n",
       "         -rho*u*v^2-rho*u^3+(2*H-2*T*cp)*rho*u)\n",
       "         /(2*T)],[1/rho,u,0,0],[0,0,u,0],\n",
       "       [-(('diff(rho,p,1)*u*v^2+'diff(rho,p,1)*u^3+(2-2*H*'diff(rho,p,1))*u)\n",
       "         *gamma^2\n",
       "         +((-'diff(rho,p,1)*u*v^2)-'diff(rho,p,1)*u^3\n",
       "                                  +(2*H*'diff(rho,p,1)-2)*u)\n",
       "          *gamma+2*c^2*'diff(rho,p,1)*u)\n",
       "         /(2*cp*rho*gamma-2*cp*rho),\n",
       "        -((v^2+u^2-2*H)*gamma^2+((-v^2)-u^2+2*H)*gamma+2*c^2)\n",
       "         /(2*cp*gamma-2*cp),0,\n",
       "        ((u*v^2+u^3+(2*T*cp-2*H)*u)*gamma^2\n",
       "         +((-u*v^2)-u^3+(2*H-2*T*cp)*u)*gamma+2*c^2*u)\n",
       "         /(2*T*cp*gamma-2*T*cp)])"
      ]
     },
     "execution_count": 48,
     "metadata": {},
     "output_type": "execute_result"
    },
    {
     "data": {
      "text/latex": [
       "\\[\\tag{${\\it \\%o}_{87}$}\\begin{pmatrix}-\\frac{\\left(u\\,v^2+u^3-2\\,H\\,u\\right)\\,\\gamma^2+\\left(-u\\,v^2-u^3+\\left(2\\,c^2+2\\,H\\right)\\,u\\right)\\,\\gamma-2\\,c^2\\,u}{2\\,c^2} & -\\frac{\\left(\\rho\\,v^2+\\rho\\,u^2-2\\,H\\,\\rho\\right)\\,\\gamma-\\rho\\,v^2-\\rho\\,u^2+2\\,H\\,\\rho}{2} & 0 & \\frac{\\left(\\rho\\,u\\,v^2+\\rho\\,u^3+\\left(2\\,T\\,{\\it cp}-2\\,H\\right)\\,\\rho\\,u\\right)\\,\\gamma-\\rho\\,u\\,v^2-\\rho\\,u^3+\\left(2\\,H-2\\,T\\,{\\it cp}\\right)\\,\\rho\\,u}{2\\,T} \\\\ \\frac{1}{\\rho} & u & 0 & 0 \\\\ 0 & 0 & u & 0 \\\\ -\\frac{\\left(u\\,v^2+u^3-2\\,H\\,u\\right)\\,\\gamma^3+\\left(-u\\,v^2-u^3+\\left(2\\,c^2+2\\,H\\right)\\,u\\right)\\,\\gamma^2}{2\\,c^2\\,{\\it cp}\\,\\rho\\,\\gamma-2\\,c^2\\,{\\it cp}\\,\\rho} & -\\frac{\\left(v^2+u^2-2\\,H\\right)\\,\\gamma^2+\\left(-v^2-u^2+2\\,H\\right)\\,\\gamma+2\\,c^2}{2\\,{\\it cp}\\,\\gamma-2\\,{\\it cp}} & 0 & \\frac{\\left(u\\,v^2+u^3+\\left(2\\,T\\,{\\it cp}-2\\,H\\right)\\,u\\right)\\,\\gamma^2+\\left(-u\\,v^2-u^3+\\left(2\\,H-2\\,T\\,{\\it cp}\\right)\\,u\\right)\\,\\gamma+2\\,c^2\\,u}{2\\,T\\,{\\it cp}\\,\\gamma-2\\,T\\,{\\it cp}} \\\\ \\end{pmatrix}\\]"
      ],
      "text/plain": [
       "                      2    3               2\n",
       "(%o87) matrix([- ((u v  + u  - 2 H u) gamma\n",
       "          2     3       2                      2        2\n",
       " + ((- u v ) - u  + (2 c  + 2 H) u) gamma - 2 c  u)/(2 c ), \n",
       "        2        2                         2        2\n",
       "  (rho v  + rho u  - 2 H rho) gamma - rho v  - rho u  + 2 H rho\n",
       "- -------------------------------------------------------------, 0, \n",
       "                                2\n",
       "         2        3                                        2        3\n",
       "((rho u v  + rho u  + (2 T cp - 2 H) rho u) gamma - rho u v  - rho u\n",
       "                                   1\n",
       " + (2 H - 2 T cp) rho u)/(2 T)], [---, u, 0, 0], [0, 0, u, 0], \n",
       "                                  rho\n",
       "       2    3               3          2     3       2                2\n",
       "   (u v  + u  - 2 H u) gamma  + ((- u v ) - u  + (2 c  + 2 H) u) gamma\n",
       "[- --------------------------------------------------------------------, \n",
       "                        2                   2\n",
       "                     2 c  cp rho gamma - 2 c  cp rho\n",
       "    2    2             2        2     2                   2\n",
       "  (v  + u  - 2 H) gamma  + ((- v ) - u  + 2 H) gamma + 2 c\n",
       "- ---------------------------------------------------------, 0, \n",
       "                      2 cp gamma - 2 cp\n",
       "     2    3                          2          2     3\n",
       "((u v  + u  + (2 T cp - 2 H) u) gamma  + ((- u v ) - u  + (2 H - 2 T cp) u)\n",
       "            2\n",
       " gamma + 2 c  u)/(2 T cp gamma - 2 T cp)])"
      ],
      "text/x-maxima": [
       "matrix([-((u*v^2+u^3-2*H*u)*gamma^2+((-u*v^2)-u^3+(2*c^2+2*H)*u)*gamma\n",
       "                                   -2*c^2*u)\n",
       "         /(2*c^2),\n",
       "        -((rho*v^2+rho*u^2-2*H*rho)*gamma-rho*v^2-rho*u^2+2*H*rho)/2,0,\n",
       "        ((rho*u*v^2+rho*u^3+(2*T*cp-2*H)*rho*u)*gamma\n",
       "         -rho*u*v^2-rho*u^3+(2*H-2*T*cp)*rho*u)\n",
       "         /(2*T)],[1/rho,u,0,0],[0,0,u,0],\n",
       "       [-((u*v^2+u^3-2*H*u)*gamma^3+((-u*v^2)-u^3+(2*c^2+2*H)*u)*gamma^2)\n",
       "         /(2*c^2*cp*rho*gamma-2*c^2*cp*rho),\n",
       "        -((v^2+u^2-2*H)*gamma^2+((-v^2)-u^2+2*H)*gamma+2*c^2)\n",
       "         /(2*cp*gamma-2*cp),0,\n",
       "        ((u*v^2+u^3+(2*T*cp-2*H)*u)*gamma^2\n",
       "         +((-u*v^2)-u^3+(2*H-2*T*cp)*u)*gamma+2*c^2*u)\n",
       "         /(2*T*cp*gamma-2*T*cp)])"
      ]
     },
     "execution_count": 48,
     "metadata": {},
     "output_type": "execute_result"
    }
   ],
   "source": [
    "A3:ratsimp(subst(diff(rho,T)=-rho/T,A2));\n",
    "A3:ratsimp(subst(diff(rho,p)=gamma/c^2,A3));"
   ]
  },
  {
   "cell_type": "markdown",
   "metadata": {},
   "source": [
    "We also see that the matrix $\\tilde A$ actually should also depend on the derivatives of the density:"
   ]
  },
  {
   "cell_type": "code",
   "execution_count": 49,
   "metadata": {},
   "outputs": [
    {
     "data": {
      "text/latex": [
       "\\[\\tag{${\\it \\%o}_{88}$}\\begin{pmatrix}u & c^2\\,\\rho & 0 & 0 \\\\ \\frac{1}{\\rho} & u & 0 & 0 \\\\ 0 & 0 & u & 0 \\\\ 0 & \\frac{c^2}{{\\it cp}} & 0 & u \\\\ \\end{pmatrix}\\]"
      ],
      "text/plain": [
       "                             [       2           ]\n",
       "                             [  u   c  rho  0  0 ]\n",
       "                             [                   ]\n",
       "                             [  1                ]\n",
       "                             [ ---    u     0  0 ]\n",
       "                             [ rho               ]\n",
       "(%o88)                       [                   ]\n",
       "                             [  0     0     u  0 ]\n",
       "                             [                   ]\n",
       "                             [         2         ]\n",
       "                             [        c          ]\n",
       "                             [  0     --    0  u ]\n",
       "                             [        cp         ]"
      ],
      "text/x-maxima": [
       "matrix([u,c^2*rho,0,0],[1/rho,u,0,0],[0,0,u,0],[0,c^2/cp,0,u])"
      ]
     },
     "execution_count": 49,
     "metadata": {},
     "output_type": "execute_result"
    }
   ],
   "source": [
    "Atilde;"
   ]
  },
  {
   "cell_type": "markdown",
   "metadata": {},
   "source": [
    "The matrix M is the transformation matrix to go from conservative to primitive variables. We should now also go from conservative form to quasilinear (nonconservative) form. For this, we need to write F in terms of the primitive variables and find $A = \\frac{\\partial F}{\\partial U}$"
   ]
  },
  {
   "cell_type": "markdown",
   "metadata": {},
   "source": [
    "First, F in terms of the primitive variables:"
   ]
  },
  {
   "cell_type": "code",
   "execution_count": 50,
   "metadata": {},
   "outputs": [
    {
     "data": {
      "text/latex": [
       "\\[\\tag{${\\it \\%o}_{89}$}\\begin{pmatrix}u & c^2\\,\\rho & 0 & 0 \\\\ \\frac{1}{\\rho} & u & 0 & 0 \\\\ 0 & 0 & u & 0 \\\\ 0 & \\frac{c^2}{{\\it cp}} & 0 & u \\\\ \\end{pmatrix}\\]"
      ],
      "text/plain": [
       "                             [       2           ]\n",
       "                             [  u   c  rho  0  0 ]\n",
       "                             [                   ]\n",
       "                             [  1                ]\n",
       "                             [ ---    u     0  0 ]\n",
       "                             [ rho               ]\n",
       "(%o89)                       [                   ]\n",
       "                             [  0     0     u  0 ]\n",
       "                             [                   ]\n",
       "                             [         2         ]\n",
       "                             [        c          ]\n",
       "                             [  0     --    0  u ]\n",
       "                             [        cp         ]"
      ],
      "text/x-maxima": [
       "matrix([u,c^2*rho,0,0],[1/rho,u,0,0],[0,0,u,0],[0,c^2/cp,0,u])"
      ]
     },
     "execution_count": 50,
     "metadata": {},
     "output_type": "execute_result"
    }
   ],
   "source": [
    "Atilde2 : ratsimp(invert(M).A1.M);"
   ]
  },
  {
   "cell_type": "markdown",
   "metadata": {},
   "source": [
    "with this form, we can still retrieve the eigenvalues in their most simplified form:"
   ]
  },
  {
   "cell_type": "code",
   "execution_count": 51,
   "metadata": {},
   "outputs": [
    {
     "data": {
      "text/latex": [
       "\\[\\tag{${\\it \\%o}_{90}$}\\left[ \\left[ u-c , u+c , u \\right]  , \\left[ 1 , 1 , 2 \\right]  \\right] \\]"
      ],
      "text/plain": [
       "(%o90)                  [[u - c, u + c, u], [1, 1, 2]]"
      ],
      "text/x-maxima": [
       "[[u-c,u+c,u],[1,1,2]]"
      ]
     },
     "execution_count": 51,
     "metadata": {},
     "output_type": "execute_result"
    }
   ],
   "source": [
    "ratexpand(ratsimp(eigenvalues(Atilde2)));"
   ]
  },
  {
   "cell_type": "markdown",
   "metadata": {},
   "source": [
    "Note that we can now get the preconditioning matrix by simply replacing $\\frac{\\partial \\rho}{\\partial p}$ by the preconditioning constant $\\beta$. This is because this is the only term that determines the eigenvalues $u+c$ and $u-c$. So if we want to modify the condition number, we need to modify this term.\n"
   ]
  },
  {
   "cell_type": "code",
   "execution_count": 52,
   "metadata": {},
   "outputs": [
    {
     "data": {
      "text/latex": [
       "\\[\\tag{${\\it \\%o}_{91}$}\\begin{pmatrix}\\frac{\\gamma}{c^2} & 0 & 0 & -\\frac{{\\it cp}\\,\\rho\\,\\gamma-{\\it cp}\\,\\rho}{c^2} \\\\ \\frac{u\\,\\gamma}{c^2} & \\rho & 0 & -\\frac{{\\it cp}\\,\\rho\\,u\\,\\gamma-{\\it cp}\\,\\rho\\,u}{c^2} \\\\ \\frac{v\\,\\gamma}{c^2} & 0 & \\rho & -\\frac{{\\it cp}\\,\\rho\\,v\\,\\gamma-{\\it cp}\\,\\rho\\,v}{c^2} \\\\ \\frac{\\left(v^2+u^2\\right)\\,\\gamma^2+\\left(-v^2-u^2\\right)\\,\\gamma+2\\,c^2}{2\\,c^2\\,\\gamma-2\\,c^2} & \\rho\\,u & \\rho\\,v & -\\frac{\\left({\\it cp}\\,\\rho\\,v^2+{\\it cp}\\,\\rho\\,u^2\\right)\\,\\gamma-{\\it cp}\\,\\rho\\,v^2-{\\it cp}\\,\\rho\\,u^2}{2\\,c^2} \\\\ \\end{pmatrix}\\]"
      ],
      "text/plain": [
       "                [                     gamma                     ]\n",
       "                [                     -----                     ]\n",
       "                [                       2                       ]\n",
       "                [                      c                        ]\n",
       "                [                                               ]\n",
       "                [                    u gamma                    ]\n",
       "                [                    -------                    ]\n",
       "                [                       2                       ]\n",
       "                [                      c                        ]\n",
       "(%o91)  Col 1 = [                                               ]\n",
       "                [                    v gamma                    ]\n",
       "                [                    -------                    ]\n",
       "                [                       2                       ]\n",
       "                [                      c                        ]\n",
       "                [                                               ]\n",
       "                [   2    2       2        2     2             2 ]\n",
       "                [ (v  + u ) gamma  + ((- v ) - u ) gamma + 2 c  ]\n",
       "                [ --------------------------------------------- ]\n",
       "                [                  2            2               ]\n",
       "                [               2 c  gamma - 2 c                ]\n",
       "         [   0   ]         [   0   ]\n",
       "         [       ]         [       ]\n",
       "         [  rho  ]         [   0   ]\n",
       " Col 2 = [       ] Col 3 = [       ]\n",
       "         [   0   ]         [  rho  ]\n",
       "         [       ]         [       ]\n",
       "         [ rho u ]         [ rho v ]\n",
       "         [                   cp rho gamma - cp rho                 ]\n",
       "         [                 - ---------------------                 ]\n",
       "         [                             2                           ]\n",
       "         [                            c                            ]\n",
       "         [                                                         ]\n",
       "         [                 cp rho u gamma - cp rho u               ]\n",
       "         [               - -------------------------               ]\n",
       "         [                             2                           ]\n",
       "         [                            c                            ]\n",
       " Col 4 = [                                                         ]\n",
       "         [                 cp rho v gamma - cp rho v               ]\n",
       "         [               - -------------------------               ]\n",
       "         [                             2                           ]\n",
       "         [                            c                            ]\n",
       "         [                                                         ]\n",
       "         [            2           2                  2           2 ]\n",
       "         [   (cp rho v  + cp rho u ) gamma - cp rho v  - cp rho u  ]\n",
       "         [ - ----------------------------------------------------- ]\n",
       "         [                              2                          ]\n",
       "         [                           2 c                           ]"
      ],
      "text/x-maxima": [
       "matrix([gamma/c^2,0,0,-(cp*rho*gamma-cp*rho)/c^2],\n",
       "       [(u*gamma)/c^2,rho,0,-(cp*rho*u*gamma-cp*rho*u)/c^2],\n",
       "       [(v*gamma)/c^2,0,rho,-(cp*rho*v*gamma-cp*rho*v)/c^2],\n",
       "       [((v^2+u^2)*gamma^2+((-v^2)-u^2)*gamma+2*c^2)/(2*c^2*gamma-2*c^2),\n",
       "        rho*u,rho*v,\n",
       "        -((cp*rho*v^2+cp*rho*u^2)*gamma-cp*rho*v^2-cp*rho*u^2)/(2*c^2)])"
      ]
     },
     "execution_count": 52,
     "metadata": {},
     "output_type": "execute_result"
    }
   ],
   "source": [
    "Mp : subst(diff(rho,p)=beta,M);"
   ]
  },
  {
   "cell_type": "code",
   "execution_count": 53,
   "metadata": {},
   "outputs": [
    {
     "data": {
      "text/latex": [
       "\\[\\tag{${\\it \\%o}_{92}$}\\begin{pmatrix}\\frac{\\gamma}{c^2} & 0 & 0 & -\\frac{{\\it cp}\\,\\rho\\,\\gamma-{\\it cp}\\,\\rho}{c^2} \\\\ \\frac{u\\,\\gamma}{c^2} & \\rho & 0 & -\\frac{{\\it cp}\\,\\rho\\,u\\,\\gamma-{\\it cp}\\,\\rho\\,u}{c^2} \\\\ \\frac{v\\,\\gamma}{c^2} & 0 & \\rho & -\\frac{{\\it cp}\\,\\rho\\,v\\,\\gamma-{\\it cp}\\,\\rho\\,v}{c^2} \\\\ \\frac{\\left(v^2+u^2\\right)\\,\\gamma^2+\\left(-v^2-u^2\\right)\\,\\gamma+2\\,c^2}{2\\,c^2\\,\\gamma-2\\,c^2} & \\rho\\,u & \\rho\\,v & -\\frac{\\left({\\it cp}\\,\\rho\\,v^2+{\\it cp}\\,\\rho\\,u^2\\right)\\,\\gamma-{\\it cp}\\,\\rho\\,v^2-{\\it cp}\\,\\rho\\,u^2}{2\\,c^2} \\\\ \\end{pmatrix}\\]"
      ],
      "text/plain": [
       "                [                     gamma                     ]\n",
       "                [                     -----                     ]\n",
       "                [                       2                       ]\n",
       "                [                      c                        ]\n",
       "                [                                               ]\n",
       "                [                    u gamma                    ]\n",
       "                [                    -------                    ]\n",
       "                [                       2                       ]\n",
       "                [                      c                        ]\n",
       "(%o92)  Col 1 = [                                               ]\n",
       "                [                    v gamma                    ]\n",
       "                [                    -------                    ]\n",
       "                [                       2                       ]\n",
       "                [                      c                        ]\n",
       "                [                                               ]\n",
       "                [   2    2       2        2     2             2 ]\n",
       "                [ (v  + u ) gamma  + ((- v ) - u ) gamma + 2 c  ]\n",
       "                [ --------------------------------------------- ]\n",
       "                [                  2            2               ]\n",
       "                [               2 c  gamma - 2 c                ]\n",
       "         [   0   ]         [   0   ]\n",
       "         [       ]         [       ]\n",
       "         [  rho  ]         [   0   ]\n",
       " Col 2 = [       ] Col 3 = [       ]\n",
       "         [   0   ]         [  rho  ]\n",
       "         [       ]         [       ]\n",
       "         [ rho u ]         [ rho v ]\n",
       "         [                   cp rho gamma - cp rho                 ]\n",
       "         [                 - ---------------------                 ]\n",
       "         [                             2                           ]\n",
       "         [                            c                            ]\n",
       "         [                                                         ]\n",
       "         [                 cp rho u gamma - cp rho u               ]\n",
       "         [               - -------------------------               ]\n",
       "         [                             2                           ]\n",
       "         [                            c                            ]\n",
       " Col 4 = [                                                         ]\n",
       "         [                 cp rho v gamma - cp rho v               ]\n",
       "         [               - -------------------------               ]\n",
       "         [                             2                           ]\n",
       "         [                            c                            ]\n",
       "         [                                                         ]\n",
       "         [            2           2                  2           2 ]\n",
       "         [   (cp rho v  + cp rho u ) gamma - cp rho v  - cp rho u  ]\n",
       "         [ - ----------------------------------------------------- ]\n",
       "         [                              2                          ]\n",
       "         [                           2 c                           ]"
      ],
      "text/x-maxima": [
       "matrix([gamma/c^2,0,0,-(cp*rho*gamma-cp*rho)/c^2],\n",
       "       [(u*gamma)/c^2,rho,0,-(cp*rho*u*gamma-cp*rho*u)/c^2],\n",
       "       [(v*gamma)/c^2,0,rho,-(cp*rho*v*gamma-cp*rho*v)/c^2],\n",
       "       [((v^2+u^2)*gamma^2+((-v^2)-u^2)*gamma+2*c^2)/(2*c^2*gamma-2*c^2),\n",
       "        rho*u,rho*v,\n",
       "        -((cp*rho*v^2+cp*rho*u^2)*gamma-cp*rho*v^2-cp*rho*u^2)/(2*c^2)])"
      ]
     },
     "execution_count": 53,
     "metadata": {},
     "output_type": "execute_result"
    }
   ],
   "source": [
    "Mp : subst(diff(rho,T)=-rho/T,Mp);"
   ]
  },
  {
   "cell_type": "code",
   "execution_count": 54,
   "metadata": {},
   "outputs": [
    {
     "data": {
      "text/latex": [
       "\\[\\tag{${\\it \\%o}_{93}$}\\begin{pmatrix}\\frac{\\gamma}{c^2} & 0 & 0 & -\\frac{{\\it cp}\\,\\rho\\,\\gamma-{\\it cp}\\,\\rho}{c^2} \\\\ \\frac{u\\,\\gamma}{c^2} & \\rho & 0 & -\\frac{{\\it cp}\\,\\rho\\,u\\,\\gamma-{\\it cp}\\,\\rho\\,u}{c^2} \\\\ \\frac{v\\,\\gamma}{c^2} & 0 & \\rho & -\\frac{{\\it cp}\\,\\rho\\,v\\,\\gamma-{\\it cp}\\,\\rho\\,v}{c^2} \\\\ \\frac{\\left(v^2+u^2\\right)\\,\\gamma^2+\\left(-v^2-u^2\\right)\\,\\gamma+2\\,c^2}{2\\,c^2\\,\\gamma-2\\,c^2} & \\rho\\,u & \\rho\\,v & -\\frac{\\left({\\it cp}\\,\\rho\\,v^2+{\\it cp}\\,\\rho\\,u^2\\right)\\,\\gamma-{\\it cp}\\,\\rho\\,v^2-{\\it cp}\\,\\rho\\,u^2}{2\\,c^2} \\\\ \\end{pmatrix}\\]"
      ],
      "text/plain": [
       "                [                     gamma                     ]\n",
       "                [                     -----                     ]\n",
       "                [                       2                       ]\n",
       "                [                      c                        ]\n",
       "                [                                               ]\n",
       "                [                    u gamma                    ]\n",
       "                [                    -------                    ]\n",
       "                [                       2                       ]\n",
       "                [                      c                        ]\n",
       "(%o93)  Col 1 = [                                               ]\n",
       "                [                    v gamma                    ]\n",
       "                [                    -------                    ]\n",
       "                [                       2                       ]\n",
       "                [                      c                        ]\n",
       "                [                                               ]\n",
       "                [   2    2       2        2     2             2 ]\n",
       "                [ (v  + u ) gamma  + ((- v ) - u ) gamma + 2 c  ]\n",
       "                [ --------------------------------------------- ]\n",
       "                [                  2            2               ]\n",
       "                [               2 c  gamma - 2 c                ]\n",
       "         [   0   ]         [   0   ]\n",
       "         [       ]         [       ]\n",
       "         [  rho  ]         [   0   ]\n",
       " Col 2 = [       ] Col 3 = [       ]\n",
       "         [   0   ]         [  rho  ]\n",
       "         [       ]         [       ]\n",
       "         [ rho u ]         [ rho v ]\n",
       "         [                   cp rho gamma - cp rho                 ]\n",
       "         [                 - ---------------------                 ]\n",
       "         [                             2                           ]\n",
       "         [                            c                            ]\n",
       "         [                                                         ]\n",
       "         [                 cp rho u gamma - cp rho u               ]\n",
       "         [               - -------------------------               ]\n",
       "         [                             2                           ]\n",
       "         [                            c                            ]\n",
       " Col 4 = [                                                         ]\n",
       "         [                 cp rho v gamma - cp rho v               ]\n",
       "         [               - -------------------------               ]\n",
       "         [                             2                           ]\n",
       "         [                            c                            ]\n",
       "         [                                                         ]\n",
       "         [            2           2                  2           2 ]\n",
       "         [   (cp rho v  + cp rho u ) gamma - cp rho v  - cp rho u  ]\n",
       "         [ - ----------------------------------------------------- ]\n",
       "         [                              2                          ]\n",
       "         [                           2 c                           ]"
      ],
      "text/x-maxima": [
       "matrix([gamma/c^2,0,0,-(cp*rho*gamma-cp*rho)/c^2],\n",
       "       [(u*gamma)/c^2,rho,0,-(cp*rho*u*gamma-cp*rho*u)/c^2],\n",
       "       [(v*gamma)/c^2,0,rho,-(cp*rho*v*gamma-cp*rho*v)/c^2],\n",
       "       [((v^2+u^2)*gamma^2+((-v^2)-u^2)*gamma+2*c^2)/(2*c^2*gamma-2*c^2),\n",
       "        rho*u,rho*v,\n",
       "        -((cp*rho*v^2+cp*rho*u^2)*gamma-cp*rho*v^2-cp*rho*u^2)/(2*c^2)])"
      ]
     },
     "execution_count": 54,
     "metadata": {},
     "output_type": "execute_result"
    }
   ],
   "source": [
    "Mp : subst(H = cp*T +q,Mp);"
   ]
  },
  {
   "cell_type": "markdown",
   "metadata": {},
   "source": [
    "What are the eigenvalues of the new system:"
   ]
  },
  {
   "cell_type": "code",
   "execution_count": null,
   "metadata": {},
   "outputs": [
    {
     "data": {
      "text/latex": [
       "\\[\\tag{${\\it \\%o}_{94}$}\\begin{pmatrix}\\frac{\\left(\\rho\\,u\\,v^2+\\rho\\,u^3-2\\,u\\right)\\,\\gamma-\\rho\\,u\\,v^2-\\rho\\,u^3+2\\,u}{2\\,\\rho} & \\frac{\\left(c^2\\,{\\it cp}\\,\\rho\\,v^2+\\left(c^2\\,{\\it cp}\\,\\rho-2\\,{\\it cp}\\right)\\,u^2+2\\,c^2\\right)\\,\\gamma-c^2\\,{\\it cp}\\,\\rho\\,v^2+\\left(2\\,{\\it cp}-c^2\\,{\\it cp}\\,\\rho\\right)\\,u^2-2\\,c^2}{2\\,{\\it cp}} & u\\,v-u\\,v\\,\\gamma & u\\,\\gamma-u \\\\ -\\frac{\\rho\\,u^2-1}{\\rho^2} & -\\frac{\\left(c^2\\,\\rho-1\\right)\\,u}{\\rho} & 0 & 0 \\\\ -\\frac{u\\,v}{\\rho} & -c^2\\,v & \\frac{u}{\\rho} & 0 \\\\ \\frac{\\left(\\rho\\,u\\,v^2+\\rho\\,u^3-2\\,u\\right)\\,\\gamma^2+\\left(-\\rho\\,u\\,v^2-\\rho\\,u^3+2\\,u\\right)\\,\\gamma-2\\,c^2\\,\\rho\\,u}{2\\,{\\it cp}\\,\\rho^2\\,\\gamma-2\\,{\\it cp}\\,\\rho^2} & \\frac{\\left(c^2\\,{\\it cp}\\,\\rho\\,v^2+\\left(c^2\\,{\\it cp}\\,\\rho-2\\,{\\it cp}\\right)\\,u^2+2\\,c^2\\right)\\,\\gamma^2+\\left(-c^2\\,{\\it cp}\\,\\rho\\,v^2+\\left(2\\,{\\it cp}-c^2\\,{\\it cp}\\,\\rho\\right)\\,u^2-2\\,c^2\\right)\\,\\gamma-2\\,c^4\\,{\\it cp}\\,\\rho}{2\\,{\\it cp}^2\\,\\rho\\,\\gamma-2\\,{\\it cp}^2\\,\\rho} & -\\frac{u\\,v\\,\\gamma}{{\\it cp}\\,\\rho} & \\frac{u\\,\\gamma}{{\\it cp}\\,\\rho} \\\\ \\end{pmatrix}\\]"
      ],
      "text/plain": [
       "                       2        3                       2        3\n",
       "               (rho u v  + rho u  - 2 u) gamma - rho u v  - rho u  + 2 u\n",
       "(%o94) matrix([---------------------------------------------------------, \n",
       "                                         2 rho\n",
       "   2         2     2                 2      2           2         2\n",
       "((c  cp rho v  + (c  cp rho - 2 cp) u  + 2 c ) gamma - c  cp rho v\n",
       "            2          2      2\n",
       " + (2 cp - c  cp rho) u  - 2 c )/(2 cp), u v - u v gamma, u gamma - u], \n",
       "        2          2\n",
       "   rho u  - 1    (c  rho - 1) u            u v     2     u\n",
       "[- ----------, - --------------, 0, 0], [- ---, - c  v, ---, 0], \n",
       "         2            rho                  rho          rho\n",
       "      rho\n",
       "          2        3             2              2         3\n",
       "[((rho u v  + rho u  - 2 u) gamma  + ((- rho u v ) - rho u  + 2 u) gamma\n",
       "      2                 2                 2\n",
       " - 2 c  rho u)/(2 cp rho  gamma - 2 cp rho ), \n",
       "   2         2     2                 2      2       2\n",
       "((c  cp rho v  + (c  cp rho - 2 cp) u  + 2 c ) gamma\n",
       "        2         2             2          2      2             4\n",
       " + ((- c  cp rho v ) + (2 cp - c  cp rho) u  - 2 c ) gamma - 2 c  cp rho)\n",
       "      2                 2         u v gamma  u gamma\n",
       "/(2 cp  rho gamma - 2 cp  rho), - ---------, -------])\n",
       "                                   cp rho    cp rho"
      ],
      "text/x-maxima": [
       "matrix([((rho*u*v^2+rho*u^3-2*u)*gamma-rho*u*v^2-rho*u^3+2*u)/(2*rho),\n",
       "        ((c^2*cp*rho*v^2+(c^2*cp*rho-2*cp)*u^2+2*c^2)*gamma\n",
       "         -c^2*cp*rho*v^2+(2*cp-c^2*cp*rho)*u^2-2*c^2)\n",
       "         /(2*cp),u*v-u*v*gamma,u*gamma-u],\n",
       "       [-(rho*u^2-1)/rho^2,-((c^2*rho-1)*u)/rho,0,0],\n",
       "       [-(u*v)/rho,-c^2*v,u/rho,0],\n",
       "       [((rho*u*v^2+rho*u^3-2*u)*gamma^2+((-rho*u*v^2)-rho*u^3+2*u)*gamma\n",
       "                                        -2*c^2*rho*u)\n",
       "         /(2*cp*rho^2*gamma-2*cp*rho^2),\n",
       "        ((c^2*cp*rho*v^2+(c^2*cp*rho-2*cp)*u^2+2*c^2)*gamma^2\n",
       "         +((-c^2*cp*rho*v^2)+(2*cp-c^2*cp*rho)*u^2-2*c^2)*gamma-2*c^4*cp*rho)\n",
       "         /(2*cp^2*rho*gamma-2*cp^2*rho),-(u*v*gamma)/(cp*rho),\n",
       "        (u*gamma)/(cp*rho)])"
      ]
     },
     "execution_count": 55,
     "metadata": {},
     "output_type": "execute_result"
    }
   ],
   "source": [
    "Ap : ratsimp(invert(Mp).Atilde);\n",
    "ratexpand(ratsimp(eigenvalues(Ap)));"
   ]
  },
  {
   "cell_type": "markdown",
   "metadata": {},
   "source": [
    "Note that in Weiss and Smith, "
   ]
  },
  {
   "cell_type": "markdown",
   "metadata": {},
   "source": [
    "For the matrix K we still need to derive it, for now we just give the matrix:"
   ]
  },
  {
   "cell_type": "code",
   "execution_count": null,
   "metadata": {},
   "outputs": [],
   "source": [
    "K:matrix([1,0,0,0],[-u,1,0,0],[-v,0,1,0],[-cp*T,0,0,1]);"
   ]
  },
  {
   "cell_type": "code",
   "execution_count": null,
   "metadata": {},
   "outputs": [],
   "source": [
    "invert(K);"
   ]
  },
  {
   "cell_type": "code",
   "execution_count": null,
   "metadata": {},
   "outputs": [],
   "source": [
    "Gnc:matrix([1/b^2,0,0,diff(rho,T)],[0,rho,0,0],[0,0,rho,0],[0,0,0,rho*cp]);"
   ]
  },
  {
   "cell_type": "code",
   "execution_count": null,
   "metadata": {},
   "outputs": [],
   "source": [
    "invert(Gnc);"
   ]
  },
  {
   "cell_type": "code",
   "execution_count": null,
   "metadata": {},
   "outputs": [],
   "source": [
    "eigenvalues(invert(Gnc));"
   ]
  },
  {
   "cell_type": "code",
   "execution_count": null,
   "metadata": {},
   "outputs": [],
   "source": [
    "Atilde;"
   ]
  },
  {
   "cell_type": "markdown",
   "metadata": {},
   "source": [
    "preconditioning matrix, which can then be derived from K.M:\n",
    "IN the end, this is the matrix in fron of the temporal termf of the equations in conservation form with primitive variables:"
   ]
  },
  {
   "cell_type": "code",
   "execution_count": null,
   "metadata": {},
   "outputs": [],
   "source": [
    "G:matrix([1/b^2,0,0,diff(rho,T)],[u/b^2,rho,0,diff(rho,T)*u],[v/b^2,0,rho,diff(rho,T)*v],[cp*T/b^2,0,0,rho*cp+diff(rho,T)*cp*T]);"
   ]
  },
  {
   "cell_type": "code",
   "execution_count": null,
   "metadata": {},
   "outputs": [],
   "source": [
    "Ginv : ratsimp(invert(G));"
   ]
  },
  {
   "cell_type": "code",
   "execution_count": null,
   "metadata": {},
   "outputs": [],
   "source": [
    "L:eigenvalues(subst(diff(rho,T)=1/(R*T),Ginv));\n",
    "ratsimp(L);"
   ]
  },
  {
   "cell_type": "code",
   "execution_count": null,
   "metadata": {},
   "outputs": [],
   "source": []
  },
  {
   "cell_type": "code",
   "execution_count": null,
   "metadata": {},
   "outputs": [],
   "source": [
    "(ratsimp(Ginv.Atilde));"
   ]
  },
  {
   "cell_type": "markdown",
   "metadata": {},
   "source": [
    "note that $p=(\\gamma-1)*(E-\\frac{1}{2}\\rho u^2)$"
   ]
  },
  {
   "cell_type": "code",
   "execution_count": null,
   "metadata": {},
   "outputs": [],
   "source": [
    "kill(E);\n",
    "Ftilde : subst([E=p/(gamma-1)+rho*u*u/2],F);\n",
    "Ftilde: transpose(subst([rho=U1,u=U2,p=U3],Ftilde));"
   ]
  },
  {
   "cell_type": "code",
   "execution_count": null,
   "metadata": {},
   "outputs": [],
   "source": [
    "Utilde;"
   ]
  },
  {
   "cell_type": "code",
   "execution_count": null,
   "metadata": {},
   "outputs": [],
   "source": [
    "Vtilde;"
   ]
  },
  {
   "cell_type": "code",
   "execution_count": null,
   "metadata": {},
   "outputs": [],
   "source": [
    "jacobian(args(Ftilde)[1],args(Utilde)[1]);"
   ]
  },
  {
   "cell_type": "markdown",
   "metadata": {},
   "source": [
    "We now try to go to directly to primitive variables (p,u,T)"
   ]
  },
  {
   "cell_type": "code",
   "execution_count": null,
   "metadata": {},
   "outputs": [],
   "source": [
    "F;\n",
    "Ftilde : subst([E=rho*H-p],F);\n",
    "Ftilde : transpose(subst(H=cp*T+u*u/2,Ftilde));"
   ]
  },
  {
   "cell_type": "markdown",
   "metadata": {},
   "source": [
    "now replace all densities with pressures:"
   ]
  },
  {
   "cell_type": "code",
   "execution_count": null,
   "metadata": {},
   "outputs": [],
   "source": [
    "Ftilde : subst(rho=gamma*p/(c*c),Ftilde);"
   ]
  },
  {
   "cell_type": "code",
   "execution_count": null,
   "metadata": {},
   "outputs": [],
   "source": [
    "V;"
   ]
  },
  {
   "cell_type": "code",
   "execution_count": null,
   "metadata": {},
   "outputs": [],
   "source": [
    "dfdv : (jacobian(args(Ftilde)[1],args(V)[1]));"
   ]
  },
  {
   "cell_type": "code",
   "execution_count": null,
   "metadata": {},
   "outputs": [],
   "source": [
    "eigenvalues(dfdv);"
   ]
  },
  {
   "cell_type": "code",
   "execution_count": null,
   "metadata": {},
   "outputs": [],
   "source": [
    "Ginv;"
   ]
  },
  {
   "cell_type": "code",
   "execution_count": null,
   "metadata": {},
   "outputs": [],
   "source": [
    "Ginv : subst(diff(rho,T)=-rho/T,Ginv);"
   ]
  },
  {
   "cell_type": "code",
   "execution_count": null,
   "metadata": {},
   "outputs": [],
   "source": [
    "dfdv : subst(c^2=gamma*p/rho,dfdv);"
   ]
  },
  {
   "cell_type": "code",
   "execution_count": null,
   "metadata": {},
   "outputs": [],
   "source": [
    "dfdv : subst(p=rho*R*T,dfdv);"
   ]
  },
  {
   "cell_type": "code",
   "execution_count": null,
   "metadata": {},
   "outputs": [],
   "source": [
    "Gdfdv : ratsimp(Ginv.dfdv);"
   ]
  },
  {
   "cell_type": "code",
   "execution_count": null,
   "metadata": {},
   "outputs": [],
   "source": [
    "eigenvalues(dfdv);"
   ]
  },
  {
   "cell_type": "markdown",
   "metadata": {},
   "source": [
    "We now need to construct the matrix $\\Gamma^{-1} \\frac{\\partial F}{\\partial V}$\n",
    "\n",
    "Note that this is simply the matrix in front of the convective flux.\n",
    "\n",
    "With $\\frac{\\partial F}{\\partial V} = \\frac{\\partial F}{\\partial U} \\cdot \\frac{\\partial U}{\\partial V}$\n"
   ]
  },
  {
   "cell_type": "code",
   "execution_count": null,
   "metadata": {},
   "outputs": [],
   "source": [
    "dFdV : ratsimp(dFdU*dUdV);\n",
    "dFdV : ratsimp(subst(consSystem,dFdV));\n",
    "dFdV : ratsimp(subst(E=rho*e+rho*(u*u+v*v)/2,dFdV));\n",
    "ratsimp(eigenvalues(dFdV));\n",
    "ratsimp(eigenvalues(ratsimp(Ginv*dFdV)));"
   ]
  },
  {
   "cell_type": "markdown",
   "metadata": {},
   "source": [
    "H=cpT+(u^2+v^2+w^2)/2; \n",
    "\n",
    "so:\n",
    "$$\\frac{dH}{du}=u $$\n",
    "$$\\frac{dH}{dv}=v $$\n",
    "$$\\frac{dH}{dw}=w $$\n",
    "$$\\frac{dH}{dT}=cp $$\n"
   ]
  },
  {
   "cell_type": "markdown",
   "metadata": {},
   "source": [
    "weiss and smith eq. 2"
   ]
  },
  {
   "cell_type": "code",
   "execution_count": null,
   "metadata": {},
   "outputs": [],
   "source": [
    "gradef(H,T,cp);\n",
    "gradef(H,u,u);\n",
    "gradef(H,v,v);\n",
    "gradef(H,w,w);"
   ]
  },
  {
   "cell_type": "code",
   "execution_count": null,
   "metadata": {},
   "outputs": [],
   "source": [
    "dWdQ : ratsimp(jacobian(args(W)[1],args(Q)[1]));"
   ]
  },
  {
   "cell_type": "code",
   "execution_count": null,
   "metadata": {},
   "outputs": [],
   "source": [
    "G : ratsubst(1/b^2,diff(rho,p),dWdQ);"
   ]
  },
  {
   "cell_type": "code",
   "execution_count": null,
   "metadata": {},
   "outputs": [],
   "source": [
    "G : ratsimp(ratsubst(cp*T+u^2/2,H,G));"
   ]
  },
  {
   "cell_type": "code",
   "execution_count": null,
   "metadata": {},
   "outputs": [],
   "source": [
    "Ginv : ratsimp(invert(G));"
   ]
  },
  {
   "cell_type": "code",
   "execution_count": null,
   "metadata": {},
   "outputs": [],
   "source": [
    "B : ratsimp(Ginv.A1.G);"
   ]
  },
  {
   "cell_type": "code",
   "execution_count": null,
   "metadata": {},
   "outputs": [],
   "source": [
    "eigenvalues(B);"
   ]
  },
  {
   "cell_type": "code",
   "execution_count": null,
   "metadata": {},
   "outputs": [],
   "source": [
    "/*remove(rho,dependency);*/\n",
    "dUdV : ratsimp(jacobian(args(U)[1],args(V)[1]));"
   ]
  },
  {
   "cell_type": "code",
   "execution_count": null,
   "metadata": {},
   "outputs": [],
   "source": [
    "M : dUdV;\n",
    "Minv : ratsimp(invert(M));\n",
    "A1;\n",
    "Atilde : ratsimp(Minv.A1.M);\n",
    "eigenvalues(Atilde);"
   ]
  },
  {
   "cell_type": "code",
   "execution_count": null,
   "metadata": {},
   "outputs": [],
   "source": [
    "M1 : ratsimp(ratsubst(cp*T+u^2/2,H,M));"
   ]
  },
  {
   "cell_type": "code",
   "execution_count": null,
   "metadata": {},
   "outputs": [],
   "source": [
    "M1inv : ratsimp(invert(M1));"
   ]
  },
  {
   "cell_type": "code",
   "execution_count": null,
   "metadata": {},
   "outputs": [],
   "source": [
    "A : ratsimp(u,U,A);\n",
    "Atilde : A;"
   ]
  },
  {
   "cell_type": "markdown",
   "metadata": {},
   "source": [
    "weiss and smith Eq.3"
   ]
  },
  {
   "cell_type": "code",
   "execution_count": null,
   "metadata": {},
   "outputs": [],
   "source": [
    "/*K:matrix([1,0,0,0,0],[-u,1,0,0,0],[-v,0,1,0,0],[-w,0,0,1,0],[-(H-(u^2+v^2+w^2)),-u,-v,-w,1]);*/\n",
    "K:matrix([1,0,0],[-u,1,0],[-(H-(u^2)),-u,1]);"
   ]
  },
  {
   "cell_type": "markdown",
   "metadata": {},
   "source": [
    "weiss and smith eq.4"
   ]
  },
  {
   "cell_type": "code",
   "execution_count": null,
   "metadata": {},
   "outputs": [],
   "source": [
    "Gp:ratsimp(K.dWdQ);"
   ]
  },
  {
   "cell_type": "markdown",
   "metadata": {},
   "source": [
    "weiss and smith, eq. 10"
   ]
  },
  {
   "cell_type": "code",
   "execution_count": null,
   "metadata": {},
   "outputs": [],
   "source": [
    "G : ratsimp(invert(K).Gp);"
   ]
  },
  {
   "cell_type": "code",
   "execution_count": null,
   "metadata": {},
   "outputs": [],
   "source": [
    "ratsimp(jacobian(args(Ftilde)[1],args(Q)[1]));"
   ]
  },
  {
   "cell_type": "code",
   "execution_count": null,
   "metadata": {},
   "outputs": [],
   "source": []
  }
 ],
 "metadata": {
  "kernelspec": {
   "display_name": "Maxima",
   "language": "maxima",
   "name": "maxima"
  },
  "language_info": {
   "codemirror_mode": "maxima",
   "file_extension": ".mac",
   "mimetype": "text/x-maxima",
   "name": "maxima",
   "pygments_lexer": "maxima",
   "version": "5.45.1"
  }
 },
 "nbformat": 4,
 "nbformat_minor": 4
}
